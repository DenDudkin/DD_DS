{
 "cells": [
  {
   "cell_type": "code",
   "execution_count": null,
   "metadata": {},
   "outputs": [
    {
     "name": "stdout",
     "output_type": "stream",
     "text": [
      "Hello, World!\n"
     ]
    }
   ],
   "source": [
    "print('Hello, World!')"
   ]
  },
  {
   "cell_type": "code",
   "execution_count": null,
   "metadata": {},
   "outputs": [
    {
     "name": "stdout",
     "output_type": "stream",
     "text": [
      "Hello,  !\n"
     ]
    }
   ],
   "source": [
    "name = input('Enter your name:')\n",
    "print('Hello,', name, '!')"
   ]
  },
  {
   "cell_type": "code",
   "execution_count": null,
   "metadata": {},
   "outputs": [
    {
     "name": "stdout",
     "output_type": "stream",
     "text": [
      "\n",
      "Hello   !\n",
      "your profile:\n",
      "age:  years\n",
      "city \n"
     ]
    }
   ],
   "source": [
    "name = input('enter your name:')\n",
    "last_name = input('enter your last name:')\n",
    "age = input('enter your age:')\n",
    "city = input('enter your city:')\n",
    "\n",
    "print()\n",
    "\n",
    "print('Hello', name, last_name, '!')\n",
    "print('your profile:')\n",
    "print('age:', age, 'years')\n",
    "print('city', city)"
   ]
  },
  {
   "cell_type": "code",
   "execution_count": null,
   "metadata": {},
   "outputs": [
    {
     "name": "stdout",
     "output_type": "stream",
     "text": [
      "9.17\n"
     ]
    }
   ],
   "source": [
    "print(round(11*2.5/3, 2))"
   ]
  },
  {
   "cell_type": "code",
   "execution_count": null,
   "metadata": {},
   "outputs": [
    {
     "name": "stdout",
     "output_type": "stream",
     "text": [
      "5\n"
     ]
    }
   ],
   "source": [
    "pi = 3.14159\n",
    "print(round(pi**2/2))"
   ]
  },
  {
   "cell_type": "code",
   "execution_count": null,
   "metadata": {},
   "outputs": [
    {
     "name": "stdout",
     "output_type": "stream",
     "text": [
      "Perfect\n"
     ]
    }
   ],
   "source": [
    "s1 = \"Per\"\n",
    "s2 = \"fec\"\n",
    "s3 = \"fe\"\n",
    "s4 = \"ct\"\n",
    "new_string = s1 + s3 + s4\n",
    "print(new_string)"
   ]
  },
  {
   "cell_type": "code",
   "execution_count": null,
   "metadata": {},
   "outputs": [
    {
     "name": "stdout",
     "output_type": "stream",
     "text": [
      "1 \n",
      " 2 \n",
      " 3 \n",
      " 4 \n",
      " 5 \n",
      " 6 \n",
      " 7\n"
     ]
    }
   ],
   "source": [
    "#Напишите небольшую программу, которая каждое число из строки numbers, состоящую из чисел и пробелов, \n",
    "# выводит построчно. Пример: #входные данные: numbers = '1 2 3 4 5 6 7'\n",
    "#вывод:\n",
    "#1\n",
    "#2\n",
    "#3\n",
    "#4\n",
    "#5\n",
    "#6\n",
    "#7\"\n",
    "\n",
    "numbers = '1 2 3 4 5 6 7'\n",
    "numbers_split = numbers.split()\n",
    "numbers_joined = ' \\n '.join(numbers_split)\n",
    "print(numbers_joined)"
   ]
  },
  {
   "cell_type": "code",
   "execution_count": null,
   "metadata": {},
   "outputs": [
    {
     "name": "stdout",
     "output_type": "stream",
     "text": [
      "Hello, John! Today is Friday. Have a nice day!\n"
     ]
    }
   ],
   "source": [
    "#Напишите программу, которая выводит на экран фразу в формате: Hello, <name>! Today is <dayofweek>. \n",
    "# Have a nice day!.\n",
    "##Пример: \"Hello, John! Today is Friday. Have a nice day!\"\n",
    "#Информация о пользователе содержится в следующих переменных: * name - имя пользователя, * dayofweek - \n",
    "# название дня недели\n",
    "#! обязательное условие - задача должна быть решена с использованием метода format\n",
    "\n",
    "name = 'John'\n",
    "dayofweek = 'Friday'\n",
    "\n",
    "print(\"Hello, {}! Today is {}. Have a nice day!\".format(name, dayofweek))\n"
   ]
  },
  {
   "cell_type": "code",
   "execution_count": null,
   "metadata": {},
   "outputs": [
    {
     "name": "stdout",
     "output_type": "stream",
     "text": [
      "[]\n"
     ]
    }
   ],
   "source": [
    "my_list = list()\n",
    "print(my_list)"
   ]
  },
  {
   "cell_type": "code",
   "execution_count": null,
   "metadata": {},
   "outputs": [
    {
     "name": "stdout",
     "output_type": "stream",
     "text": [
      "[]\n"
     ]
    }
   ],
   "source": [
    "my_list = []\n",
    "print(my_list)"
   ]
  },
  {
   "cell_type": "code",
   "execution_count": null,
   "metadata": {},
   "outputs": [
    {
     "name": "stdout",
     "output_type": "stream",
     "text": [
      "range(1, 10)\n",
      "[1, 2, 3, 4, 5, 6, 7, 8, 9]\n",
      "range(0, 10)\n",
      "[10, 8, 6, 4, 2]\n"
     ]
    }
   ],
   "source": [
    "a = range(1,10)\n",
    "print(a)\n",
    "a_list = list(a)\n",
    "print(a_list)\n",
    "b = range(10)\n",
    "print(b)\n",
    "c = list(range(10,1,-2))\n",
    "print(c)"
   ]
  },
  {
   "cell_type": "code",
   "execution_count": null,
   "metadata": {},
   "outputs": [
    {
     "name": "stdout",
     "output_type": "stream",
     "text": [
      "[10, 11, 12, 13, 14, 15, 16, 17, 18, 19, 20, 21, 22, 23, 24, 25, 26, 27, 28, 29, 30, 31, 32, 33, 34, 35, 36, 37, 38, 39, 40, 41, 42, 43, 44, 45, 46, 47, 48, 49, 50, 51, 52, 53, 54, 55, 56, 57, 58, 59, 60, 61, 62, 63, 64, 65, 66, 67, 68, 69, 70, 71, 72, 73, 74, 75, 76, 77, 78, 79, 80, 81, 82, 83, 84, 85, 86, 87, 88, 89, 90, 91, 92, 93, 94, 95, 96, 97, 98, 99]\n",
      "[50, 48, 46, 44, 42, 40, 38, 36, 34, 32, 30, 28, 26, 24, 22]\n"
     ]
    }
   ],
   "source": [
    "#С помощью функции range() создайте список и занесите его в переменную a. В качестве левой границы \n",
    "# укажите -10, а в качестве правой — 100. Шаг не задавайте.\n",
    "#Не забывайте о преобразовании типа переменной в список - list()\n",
    "a = list(range(10, 100))\n",
    "print(a)\n",
    "b = list(range(50, 20, -2))\n",
    "print(b)"
   ]
  },
  {
   "cell_type": "code",
   "execution_count": null,
   "metadata": {},
   "outputs": [
    {
     "name": "stdout",
     "output_type": "stream",
     "text": [
      "[1, 2]\n"
     ]
    }
   ],
   "source": [
    "#Создайте список a из чисел от 1 до 10 (включительно). Затем сделайте срез из двух первых элементов.\n",
    "#Результат среза занесите в переменную a_slice.\n",
    "#Не забудьте, что нумерация в Python начинается с 0.\n",
    "\n",
    "a = list(range(1, 11))\n",
    "a_slice = a[:2]\n",
    "print(a_slice)"
   ]
  },
  {
   "cell_type": "code",
   "execution_count": null,
   "metadata": {},
   "outputs": [
    {
     "name": "stdout",
     "output_type": "stream",
     "text": [
      "[6, 5, 4, 3, 2, 1, 0, -1, -2, -3]\n"
     ]
    }
   ],
   "source": [
    "#Создайте список из элементов от -3 до 6 и, используя срез [::-1], инвертируйте список. Выведите полученный \n",
    "# результат. В качестве ответа запишите результат вывода.\n",
    "\n",
    "a = list(range(-3,7))\n",
    "b = a[::-1]\n",
    "print(b)"
   ]
  },
  {
   "cell_type": "code",
   "execution_count": null,
   "metadata": {},
   "outputs": [
    {
     "name": "stdout",
     "output_type": "stream",
     "text": [
      "['hello', 'kitty']\n",
      "['hello', 'kitty']\n"
     ]
    }
   ],
   "source": [
    "#С помощью функции .split() получите список из строки 'hello kitty' и возьмите два последних элемента. \n",
    "# В качестве ответа введите результат вывода.\n",
    "\n",
    "my_str = 'hello kitty'\n",
    "str_split = my_str.split()\n",
    "print(str_split)\n",
    "el_2 = str_split[-2:]\n",
    "print(el_2)"
   ]
  },
  {
   "cell_type": "code",
   "execution_count": null,
   "metadata": {},
   "outputs": [
    {
     "name": "stdout",
     "output_type": "stream",
     "text": [
      "['order_1', 'order_2', 'order_3']\n"
     ]
    }
   ],
   "source": [
    "#Создайте три переменные: a, b, c.\n",
    "#Положите в них следующие строковые значения: 'order1', 'order2', 'order3'.\n",
    "#Создайте пустой список orders, используя квадратные скобки.\n",
    "#Последовательно положите все три созданные переменные в список.\n",
    "a = 'order_1'\n",
    "b = 'order_2'\n",
    "c = 'order_3'\n",
    "orders = []\n",
    "orders.append(a)\n",
    "orders.append(b)\n",
    "orders.append(c)\n",
    "print(orders)"
   ]
  },
  {
   "cell_type": "code",
   "execution_count": null,
   "metadata": {},
   "outputs": [
    {
     "name": "stdout",
     "output_type": "stream",
     "text": [
      "['all_books']\n",
      "['all_books', 'my book', 'your book']\n"
     ]
    }
   ],
   "source": [
    "#Создайте две переменные: book1, book2.\n",
    "#Положите в них следующие строковые значения: 'my book', 'your book'.\n",
    "#Создайте список books, используя квадратные скобки. В нём уже должно лежать значение 'all_books'.\n",
    "#Последовательно положите две созданные переменные в список.\n",
    "\n",
    "book1 = 'my book'\n",
    "book2 = 'your book'\n",
    "books = ['all_books']\n",
    "print(books)\n",
    "books.append(book1)\n",
    "books.append(book2)\n",
    "print(books)\n"
   ]
  },
  {
   "cell_type": "code",
   "execution_count": null,
   "metadata": {},
   "outputs": [
    {
     "name": "stdout",
     "output_type": "stream",
     "text": [
      "[]\n"
     ]
    }
   ],
   "source": [
    "#Создайте список letters из первых пяти букв английского алфавита. Выведите его. Затем примените к списку \n",
    "# letters метод .clear(). Снова выведите результат. В качестве ответа запишите результат последнего вывода.\n",
    "\n",
    "letters = ['a', 'b', 'c', 'd', 'e']\n",
    "letters.clear()\n",
    "print(letters)"
   ]
  },
  {
   "cell_type": "code",
   "execution_count": null,
   "metadata": {},
   "outputs": [
    {
     "name": "stdout",
     "output_type": "stream",
     "text": [
      "3\n",
      "[1, 1, 5, 6, 8, 5, 5, 2, 0, 9]\n"
     ]
    }
   ],
   "source": [
    "#Создайте список numbers из десяти произвольных элементов, но числа 5 и 1 в нём должны повторяться 3 и 2 \n",
    "# раза соответственно. Примените к полученному списку метод .count(). В качестве аргумента возьмите \n",
    "# число 5. Выведите полученный результат.\n",
    "\n",
    "numbers = [1, 1, 5, 6, 8, 5, 5, 2, 0, 9]\n",
    "print(numbers.count(5))\n",
    "print(numbers)\n"
   ]
  },
  {
   "cell_type": "code",
   "execution_count": null,
   "metadata": {},
   "outputs": [
    {
     "name": "stdout",
     "output_type": "stream",
     "text": [
      "['book1', 'book2', 'book3', 'book4', 'book5']\n",
      "['book1', 'book2', 'book3', 'book4', 'book5']\n"
     ]
    }
   ],
   "source": [
    "#Создайте список my_books из пяти элементов: 'book1', 'book2', 'book3', 'book4', 'book5'. Затем \n",
    "# используйте метод .copy() для копирования содержимого вашего списка в список tom_books. Выведите два \n",
    "# полученных списка.\n",
    "\n",
    "my_books = ['book1', 'book2', 'book3', 'book4', 'book5']\n",
    "tom_books = my_books.copy()\n",
    "print(my_books)\n",
    "print(tom_books)"
   ]
  },
  {
   "cell_type": "code",
   "execution_count": null,
   "metadata": {},
   "outputs": [
    {
     "name": "stdout",
     "output_type": "stream",
     "text": [
      "['order1', 'order2', 'order3', 'order4', 'order5']\n"
     ]
    }
   ],
   "source": [
    "#Создайте список my_orders из пяти элементов: 'order1', 'order2', 'order3', 'order4', 'order5'. \n",
    "# Затем используйте квадратные скобки и двоеточие внутри для копирования содержимого вашего списка в \n",
    "# список anne_orders. \n",
    "\n",
    "my_orders = ['order1', 'order2', 'order3', 'order4', 'order5']\n",
    "anne_orders = my_orders[:]\n",
    "print(anne_orders)\n",
    "\n"
   ]
  },
  {
   "cell_type": "code",
   "execution_count": null,
   "metadata": {},
   "outputs": [
    {
     "name": "stdout",
     "output_type": "stream",
     "text": [
      "['order1', 'order2', 'order3', 'book1', 'book2']\n"
     ]
    }
   ],
   "source": [
    "#Создайте список all_things, в котором будет лежать три элемента: 'order1', 'order2', 'order3'.\n",
    "#Затем создайте список only_books, в котором будет лежать два элемента: 'book1', 'book2'.\n",
    "#Используя метод .extend(), обогатите переменную all_things.\n",
    "\n",
    "all_things = ['order1', 'order2', 'order3']\n",
    "only_books = ['book1', 'book2']\n",
    "all_things.extend(only_books)\n",
    "print(all_things)"
   ]
  },
  {
   "cell_type": "code",
   "execution_count": null,
   "metadata": {},
   "outputs": [
    {
     "name": "stdout",
     "output_type": "stream",
     "text": [
      "[1, 2, 3, 4, 5, 6, 7, 8, 9, 10]\n",
      "[10, 9, 8, 7, 6, 5, 4, 3, 2, 1]\n",
      "[1, 2, 3, 4, 5, 6, 7, 8, 9, 10]\n"
     ]
    }
   ],
   "source": [
    "#Создайте список nums с числами от 1 до 10. Примените к нему метод .reverse(). Выведите переменную nums.\n",
    "\n",
    "nums = list(range(1, 11))\n",
    "print(nums)\n",
    "nums.reverse()\n",
    "print(nums)\n",
    "print(nums[::-1])\n"
   ]
  },
  {
   "cell_type": "code",
   "execution_count": null,
   "metadata": {},
   "outputs": [
    {
     "name": "stdout",
     "output_type": "stream",
     "text": [
      "[-5, -1, 0, 2, 3, 5, 10, 15]\n"
     ]
    }
   ],
   "source": [
    "#Создайте список random_values = [3, 5, 0, -1, 2, 10, 15, -5]. Вызовите метод .sort() на этом списке. \n",
    "# Выведите список random_values.\n",
    "\n",
    "random_values = [3, 5, 0, -1, 2, 10, 15, -5]\n",
    "random_values.sort()\n",
    "print(random_values) "
   ]
  },
  {
   "cell_type": "code",
   "execution_count": null,
   "metadata": {},
   "outputs": [
    {
     "name": "stdout",
     "output_type": "stream",
     "text": [
      "[5, 0.2, 'hello there', [1, 2, 3, 4], 'bye']\n"
     ]
    }
   ],
   "source": [
    "#Создайте список list1. Запишите в него последовательно:\n",
    "#число 5;\n",
    "#число 0.2;\n",
    "#строку 'hello there';\n",
    "#список [1,2,3,4];\n",
    "#строку 'bye'.\n",
    "\n",
    "list1 = []\n",
    "list1.append(5)\n",
    "list1.append(0.2)\n",
    "list1.append('hello there')\n",
    "list1.append([1,2,3,4])\n",
    "list1.append('bye')\n",
    "print(list1)"
   ]
  },
  {
   "cell_type": "code",
   "execution_count": null,
   "metadata": {},
   "outputs": [
    {
     "name": "stdout",
     "output_type": "stream",
     "text": [
      "()\n"
     ]
    }
   ],
   "source": [
    "#Создайте пустой кортеж tpl, используя конструктор типов tuple(). Выведите полученный результат.\n",
    "tpl = tuple()\n",
    "print(tpl)"
   ]
  },
  {
   "cell_type": "code",
   "execution_count": null,
   "metadata": {},
   "outputs": [
    {
     "name": "stdout",
     "output_type": "stream",
     "text": [
      "(255,)\n"
     ]
    }
   ],
   "source": [
    "#Создайте кортеж tpl2 c одним числом, равным 255. Выведите результат.\n",
    "tpl2 = (255,)\n",
    "print(tpl2)"
   ]
  },
  {
   "cell_type": "code",
   "execution_count": null,
   "metadata": {},
   "outputs": [
    {
     "name": "stdout",
     "output_type": "stream",
     "text": [
      "(15, 22, 0)\n"
     ]
    }
   ],
   "source": [
    "#Создайте кортеж tpl3 c тремя числами: 15, 22 и 0. \n",
    "tpl3 = (15, 22, 0)\n",
    "print(tpl3)"
   ]
  },
  {
   "cell_type": "code",
   "execution_count": null,
   "metadata": {},
   "outputs": [
    {
     "name": "stdout",
     "output_type": "stream",
     "text": [
      "4\n"
     ]
    }
   ],
   "source": [
    "#Создайте словарь alphabet_dict, в котором в качестве ключей будут пять первых букв английского языка, \n",
    "# а в качестве значений для этих ключей будут числа от 1 до 5. Верните значение для буквы d:\n",
    "\n",
    "alphabet_dict = {'a':1, 'b':2, 'c':3, 'd':4, 'e':5}\n",
    "print(alphabet_dict['d'])"
   ]
  },
  {
   "cell_type": "code",
   "execution_count": null,
   "metadata": {},
   "outputs": [
    {
     "name": "stdout",
     "output_type": "stream",
     "text": [
      "50\n"
     ]
    }
   ],
   "source": [
    "#Создайте словарь place_and_money, в котором в качестве ключей будут числа от 1 до 3, а в качестве \n",
    "# значений — числа 100, 50, 10. Выведите денежный приз для второго места:\n",
    "\n",
    "place_and_money = {1:100, 2:50, 3:10}\n",
    "print(place_and_money[2])"
   ]
  },
  {
   "cell_type": "code",
   "execution_count": null,
   "metadata": {},
   "outputs": [
    {
     "name": "stdout",
     "output_type": "stream",
     "text": [
      "{1: 100, 2: 50, 3: 10, 4: 5}\n"
     ]
    }
   ],
   "source": [
    "#В словарь place_and_money = {1: 100, 2: 50, 3: 10} добавьте четвёртое место с призом, равным 5.\n",
    "\n",
    "place_and_money = {1:100, 2:50, 3:10}\n",
    "place_and_money[4] = 5\n",
    "print(place_and_money)"
   ]
  },
  {
   "cell_type": "code",
   "execution_count": null,
   "metadata": {},
   "outputs": [
    {
     "name": "stdout",
     "output_type": "stream",
     "text": [
      "{1: 100, 2: 50, 3: 25}\n"
     ]
    }
   ],
   "source": [
    "#В словаре place_and_money = {1: 100, 2: 50, 3: 10} измените призовое значение для третьего места с 10 на 25.\n",
    "\n",
    "place_and_money = {1:100, 2:50, 3:10}\n",
    "place_and_money[3] = 25\n",
    "print(place_and_money)"
   ]
  },
  {
   "cell_type": "code",
   "execution_count": null,
   "metadata": {},
   "outputs": [
    {
     "name": "stdout",
     "output_type": "stream",
     "text": [
      "{}\n"
     ]
    }
   ],
   "source": [
    "#Создайте словарь place_and_money = {1: 100, 2: 50, 3: 10}. Очистите этот словарь.\n",
    "place_and_money = {1:100, 2:50, 3:10}\n",
    "place_and_money.clear()\n",
    "print(place_and_money)"
   ]
  },
  {
   "cell_type": "code",
   "execution_count": null,
   "metadata": {},
   "outputs": [
    {
     "name": "stdout",
     "output_type": "stream",
     "text": [
      "[1, 2, 3]\n"
     ]
    }
   ],
   "source": [
    "#Создайте словарь place_and_money = {1: 100, 2: 50, 3: 10}. Воспользуйтесь методом .keys() и \n",
    "# выведите результат.\n",
    "place_and_money = {1:100, 2:50, 3:10}\n",
    "a = place_and_money.keys()\n",
    "b = list(a)\n",
    "print(b)\n",
    "\n",
    " "
   ]
  },
  {
   "cell_type": "code",
   "execution_count": null,
   "metadata": {},
   "outputs": [
    {
     "name": "stdout",
     "output_type": "stream",
     "text": [
      "dict_keys(['Anne', 'Anton', 'Phillip'])\n",
      "dict_values([22, 27, 30])\n"
     ]
    }
   ],
   "source": [
    "#Создайте словарь name_to_age = {'Anne': 22, 'Anton': 27, 'Phillip': 30}. \n",
    "# Воспользуйтесь методом .keys() и выведите результат. \n",
    "name_to_age = {'Anne': 22, 'Anton': 27, 'Phillip': 30}\n",
    "print(name_to_age.keys())\n",
    "print(name_to_age.values())"
   ]
  },
  {
   "cell_type": "code",
   "execution_count": null,
   "metadata": {},
   "outputs": [
    {
     "name": "stdout",
     "output_type": "stream",
     "text": [
      "0\n",
      "{1: 100, 2: 50, 3: 10}\n"
     ]
    }
   ],
   "source": [
    "#Создайте словарь place_and_money = {1: 100, 2: 50, 3: 10}. Попробуйте вывести приз для 20 места через \n",
    "# метод .get(). В качестве значения по умолчанию поставьте число 0.\n",
    "\n",
    "place_and_money = {1: 100, 2: 50, 3: 10}\n",
    "print(place_and_money.get(20, 0))\n",
    "print(place_and_money)"
   ]
  },
  {
   "cell_type": "code",
   "execution_count": null,
   "metadata": {},
   "outputs": [
    {
     "name": "stdout",
     "output_type": "stream",
     "text": [
      "{1: 100, 2: 50, 3: 10, 4: 5, 5: 1}\n"
     ]
    }
   ],
   "source": [
    "#Создайте словарь place_and_money = {1: 100, 2: 50, 3: 10}. Затем добавьте в него следующие места и \n",
    "# значения: четвёртое место с призом 5, пятое место с призом 1. Используйте метод update().\n",
    "\n",
    "place_and_money = {1: 100, 2: 50, 3: 10}\n",
    "place_and_money.update({4:5, 5:1})\n",
    "print(place_and_money)"
   ]
  },
  {
   "cell_type": "code",
   "execution_count": null,
   "metadata": {},
   "outputs": [
    {
     "name": "stdout",
     "output_type": "stream",
     "text": [
      "{'Anne': 23, 'Anton': 27, 'Phillip': 29}\n"
     ]
    }
   ],
   "source": [
    "#Создайте словарь name_to_age = {'Anne': 22, 'Anton': 27, 'Phillip': 30}. Измените у Анны возраст на 23, \n",
    "# а у Филиппа — на 29. Используйте метод update(). \n",
    "\n",
    "name_to_age = {'Anne': 22, 'Anton': 27, 'Phillip': 30}\n",
    "name_to_age.update({'Anne': 23, 'Phillip': 29})\n",
    "print(name_to_age)"
   ]
  },
  {
   "cell_type": "code",
   "execution_count": null,
   "metadata": {},
   "outputs": [
    {
     "name": "stdout",
     "output_type": "stream",
     "text": [
      "10\n",
      "{1: 100, 2: 50}\n"
     ]
    }
   ],
   "source": [
    "#Создайте словарь place_and_money = {1: 100, 2: 50, 3: 10}. Используя метод .pop(), удалите элемент \n",
    "# словаря со значением приза за третье место. Результат работы метода запишите в переменную result и \n",
    "# выведите её на экран. \n",
    "place_and_money = {1: 100, 2: 50, 3: 10}\n",
    "result = place_and_money.pop(3)\n",
    "print(result)\n",
    "print(place_and_money)"
   ]
  },
  {
   "cell_type": "code",
   "execution_count": null,
   "metadata": {},
   "outputs": [
    {
     "name": "stdout",
     "output_type": "stream",
     "text": [
      "27\n"
     ]
    }
   ],
   "source": [
    "#Создайте словарь name_to_age = {'Anne': 22, 'Anton': 27, 'Phillip': 30}. С помощью метода .pop() \n",
    "# удалите из словаря данные для Антона. Результат запишите в переменную result и выведите её на экран.\n",
    "name_to_age = {'Anne': 22, 'Anton': 27, 'Phillip': 30}\n",
    "result = name_to_age.pop('Anton')\n",
    "print(result)"
   ]
  },
  {
   "cell_type": "code",
   "execution_count": null,
   "metadata": {},
   "outputs": [
    {
     "name": "stdout",
     "output_type": "stream",
     "text": [
      "{1: 100, 2: 50, 3: 10, 10: 1}\n"
     ]
    }
   ],
   "source": [
    "#Создайте словарь place_and_money = {1: 100, 2: 50, 3: 10}. Через метод .setdefault() установите значение, \n",
    "# равное 1, для десятого места. Выведите результат. \n",
    "\n",
    "place_and_money = {1: 100, 2: 50, 3: 10}\n",
    "place_and_money.setdefault(10, 1)\n",
    "print(place_and_money)"
   ]
  },
  {
   "cell_type": "code",
   "execution_count": null,
   "metadata": {},
   "outputs": [
    {
     "name": "stdout",
     "output_type": "stream",
     "text": [
      "{'Anne': 22, 'Anton': 27, 'Phillip': 30}\n"
     ]
    }
   ],
   "source": [
    "#Создайте словарь name_to_age = {'Anne': 22, 'Anton': 27, 'Phillip': 30}. Через метод .setdefault() \n",
    "# обновите возраст у Анны с 22 до 32. Выведите результат — он не должен измениться.\n",
    "\n",
    "name_to_age = {'Anne': 22, 'Anton': 27, 'Phillip': 30}\n",
    "name_to_age.setdefault('Anne', 32)\n",
    "print(name_to_age) "
   ]
  },
  {
   "cell_type": "code",
   "execution_count": null,
   "metadata": {},
   "outputs": [
    {
     "name": "stdout",
     "output_type": "stream",
     "text": [
      "{5: [3, 4, 5], (3, 4, 5): 'strong man'}\n"
     ]
    }
   ],
   "source": [
    "#Создайте пустой словарь test_dict. Затем вставьте в него в качестве ключа число 5, а в качестве значения \n",
    "# — список [3,4,5]. Затем в тот же словарь в качестве ключа добавьте кортеж (3,4,5), а его значением \n",
    "# укажите строку 'strong man'. Выведите результат.\n",
    "\n",
    "test_dict = dict()\n",
    "test_dict[5] = [3,4,5]\n",
    "test_dict[(3,4,5)] = 'strong man'\n",
    "print(test_dict)"
   ]
  },
  {
   "cell_type": "code",
   "execution_count": null,
   "metadata": {},
   "outputs": [
    {
     "name": "stdout",
     "output_type": "stream",
     "text": [
      "{'name': 'Sancho', 'surname': 'Panso', 'info': {'age': 35, 'country': 'Mexico'}}\n"
     ]
    }
   ],
   "source": [
    "#Создайте пустой словарь test_dict2. По ключу 'name' поставьте строку 'Sancho'. В качестве значения \n",
    "# для ключа 'surname' поставьте 'Panso'. А для ключа 'info' добавьте словарь {'age': 35, 'country': 'Mexico'}. \n",
    "# Выведите результат. \n",
    "test_dict2 = {}\n",
    "test_dict2['name'] = 'Sancho'\n",
    "test_dict2['surname'] = 'Panso'\n",
    "test_dict2.setdefault('info', {'age': 35, 'country': 'Mexico'})\n",
    "print(test_dict2)"
   ]
  },
  {
   "cell_type": "code",
   "execution_count": null,
   "metadata": {},
   "outputs": [
    {
     "name": "stdout",
     "output_type": "stream",
     "text": [
      "{'info': [10, 15, 27], 'about': {'game': 'football', 'period': 5}}\n",
      "{'info': [10, 15, 27], 'about': 'dont know'}\n"
     ]
    }
   ],
   "source": [
    "#Создайте пустой словарь test_dict3. По ключу 'info' добавьте список [10, 15, 27]. А ключу 'about' \n",
    "# поставьте словарь {'game': 'football', 'period': 5}. Затем измените значение по ключу 'about' \n",
    "# на 'dont know'. Выведите результат.\n",
    "test_dict3 = dict()\n",
    "test_dict3.update({'info':[10, 15, 27], 'about':{'game': 'football', 'period': 5}})\n",
    "print(test_dict3)\n",
    "test_dict3['about'] = 'dont know'\n",
    "print(test_dict3)"
   ]
  },
  {
   "cell_type": "code",
   "execution_count": null,
   "metadata": {},
   "outputs": [
    {
     "name": "stdout",
     "output_type": "stream",
     "text": [
      "<class 'set'>\n",
      "{1, 2, 3}\n"
     ]
    }
   ],
   "source": [
    "s1 = set()\n",
    "print(type(s1))\n",
    "s2 = {1,2,3}\n",
    "print(s2)"
   ]
  },
  {
   "cell_type": "code",
   "execution_count": null,
   "metadata": {},
   "outputs": [
    {
     "name": "stdout",
     "output_type": "stream",
     "text": [
      "{'h', 's', 'w', 'c', 'l', 'o', 'a', 't', ' '}\n"
     ]
    }
   ],
   "source": [
    "#Создайте множество s3 с помощью конструктора типов из строки 'wow thats cool'.\n",
    "s3 = set('wow thats cool')\n",
    "print(s3)"
   ]
  },
  {
   "cell_type": "code",
   "execution_count": null,
   "metadata": {},
   "outputs": [
    {
     "name": "stdout",
     "output_type": "stream",
     "text": [
      "{'e', 'b', 'd', 'hello', 'a', 'c'}\n"
     ]
    }
   ],
   "source": [
    "#Создайте множество s1 из первых пяти строчных букв английского языка. Затем с помощью метода .add() \n",
    "# добавьте новый элемент со значением 'hello'.\n",
    "s1 = {'a', 'b', 'c', 'd', 'e'}\n",
    "s1.add('hello')\n",
    "print(s1)"
   ]
  },
  {
   "cell_type": "code",
   "execution_count": null,
   "metadata": {},
   "outputs": [
    {
     "name": "stdout",
     "output_type": "stream",
     "text": [
      "{'e', 'b', 'a', 'c'}\n"
     ]
    }
   ],
   "source": [
    "#Создайте множество s1 из первых пяти строчных букв английского языка. Затем с помощью метода .remove() \n",
    "# удалите элемент 'd'. Выведите s1.\n",
    "s1 = {'a', 'b', 'c', 'd', 'e'}\n",
    "s1.remove('d')\n",
    "print(s1)"
   ]
  },
  {
   "cell_type": "code",
   "execution_count": null,
   "metadata": {},
   "outputs": [
    {
     "name": "stdout",
     "output_type": "stream",
     "text": [
      "{'e', 'b', 'd', 'c', 'a'}\n"
     ]
    }
   ],
   "source": [
    "#Создайте множество s1 из первых шести строчных букв английского языка. Вызовите метод .discard() \n",
    "# на элементе 'f'. \n",
    "s1 = {'a', 'b', 'c', 'd', 'e', 'f'}\n",
    "s1.discard('f')\n",
    "print(s1)"
   ]
  },
  {
   "cell_type": "code",
   "execution_count": null,
   "metadata": {},
   "outputs": [
    {
     "name": "stdout",
     "output_type": "stream",
     "text": [
      "{'e', 'b', 'd', 'c', 'a'}\n"
     ]
    }
   ],
   "source": [
    "#Создайте множество s1 из первых шести строчных букв английского языка. Вызовите метод .remove() \n",
    "# на элементе 'f'.\n",
    "s1 = {'a', 'b', 'c', 'd', 'e', 'f'}\n",
    "s1.remove('f')\n",
    "print(s1)"
   ]
  },
  {
   "cell_type": "code",
   "execution_count": null,
   "metadata": {},
   "outputs": [
    {
     "name": "stdout",
     "output_type": "stream",
     "text": [
      "{' ', 'y', 'b', 'e', 'o', 'd', 'a', 'c'}\n"
     ]
    }
   ],
   "source": [
    "#Создайте множество alpha_set из первых пяти строчных букв английского алфавита. Затем создайте \n",
    "# множество name из строки 'bad boy' (преобразуйте строку в множество с помощью функции set()). \n",
    "# Примените метод .union() к созданным множествам.\n",
    "alpha_set = {'a', 'b', 'c', 'd', 'e'}\n",
    "name = set('bad boy')\n",
    "print(alpha_set.union(name))\n",
    "\n"
   ]
  },
  {
   "cell_type": "code",
   "execution_count": null,
   "metadata": {},
   "outputs": [
    {
     "name": "stdout",
     "output_type": "stream",
     "text": [
      "{0, 1, 2, 3, 4, 5, 6, 7, 8, 9, 10}\n",
      "{8, 1, 4, 9}\n",
      "{0, 1, 2, 3, 4, 5, 6, 7, 8, 9, 10}\n"
     ]
    }
   ],
   "source": [
    "#Создайте множество num_set из чисел от 0 до 10 (включительно). Затем создайте множество date_num из \n",
    "# списка [1,9,4,8]. Примените метод .union() к созданным множествам.\n",
    "num_set = set(range(0, 11))\n",
    "print(num_set)\n",
    "date = set([1,9,4,8])\n",
    "print(date)\n",
    "print(num_set.union(date))"
   ]
  },
  {
   "cell_type": "code",
   "execution_count": null,
   "metadata": {},
   "outputs": [
    {
     "name": "stdout",
     "output_type": "stream",
     "text": [
      "{'a', 'b', 'd'}\n"
     ]
    }
   ],
   "source": [
    "#Создайте множество alpha_set из первых пяти строчных букв английского алфавита. Затем создайте множество \n",
    "# name из строки 'bad boy'. Примените метод .intersection() к созданным множествам.\n",
    "alpha_set = {'a', 'b', 'c', 'd', 'e'}\n",
    "name = set('bad boy')\n",
    "print(alpha_set.intersection(name))"
   ]
  },
  {
   "cell_type": "code",
   "execution_count": null,
   "metadata": {},
   "outputs": [
    {
     "name": "stdout",
     "output_type": "stream",
     "text": [
      "{8, 1, 4, 9}\n"
     ]
    }
   ],
   "source": [
    "#Создайте множество num_set из чисел от 0 до 10 (включительно). Затем создайте множество date_num из \n",
    "# списка [1,9,4,8]. Примените метод .intersection() к созданным множествам.\n",
    "num_set = set(range(11))\n",
    "date_num = set([1,9,4,8])\n",
    "print(num_set.intersection(date_num))"
   ]
  },
  {
   "cell_type": "code",
   "execution_count": null,
   "metadata": {},
   "outputs": [
    {
     "name": "stdout",
     "output_type": "stream",
     "text": [
      "{'e', 'c'}\n"
     ]
    }
   ],
   "source": [
    "#Создайте множество alpha_set из первых пяти строчных букв английского алфавита. Затем создайте множество\n",
    "# name из строки 'bad boy'. Примените метод .difference() к созданным множествам. В качестве базового \n",
    "# множества используйте alpha_set.\n",
    "alpha_set = {'a', 'b', 'c', 'd', 'e'}\n",
    "name = set('bad boy')\n",
    "print(alpha_set.difference(name))"
   ]
  },
  {
   "cell_type": "code",
   "execution_count": null,
   "metadata": {},
   "outputs": [
    {
     "name": "stdout",
     "output_type": "stream",
     "text": [
      "{0, 2, 3, 5, 6, 7, 10}\n"
     ]
    }
   ],
   "source": [
    "#Создайте множество num_set из чисел от 0 до 10 (включительно). Затем создайте множество date_num из \n",
    "# списка [1,9,4,8]. Примените метод .difference() к созданным множествам. Метод нужно применить к первому \n",
    "# множеству.\n",
    "num_set = set(range(11))\n",
    "date_num = set([1,9,4,8])\n",
    "print(num_set.difference(date_num))"
   ]
  },
  {
   "cell_type": "code",
   "execution_count": null,
   "metadata": {},
   "outputs": [
    {
     "name": "stdout",
     "output_type": "stream",
     "text": [
      "3.0\n"
     ]
    }
   ],
   "source": [
    "#Создайте переменную a. Запишите в неё целое число 3. Сделайте преобразование типа в вещественный и\n",
    "# сохраните результат в переменную b\n",
    "a = 3\n",
    "b = float(a)\n",
    "print(b)"
   ]
  },
  {
   "cell_type": "code",
   "execution_count": null,
   "metadata": {},
   "outputs": [
    {
     "name": "stdout",
     "output_type": "stream",
     "text": [
      "6.5 6.5\n"
     ]
    }
   ],
   "source": [
    "#Создайте переменную num1, равную 3.\n",
    "#Создайте переменную num2, равную 3.5.\n",
    "#Сложите эти два числа и присвойте результат переменной sum1.\n",
    "#Преобразуйте тип переменной num1 в вещественный и вновь произведите сложение с переменной num2.\n",
    "#Сохраните результат в переменную sum2.\n",
    "#Выведите результат переменных sum1 и sum2.\n",
    "num1 = 3\n",
    "num2 = 3.5\n",
    "sum1 = num1 + num2\n",
    "sum2 = float(num1) + num2\n",
    "print(sum1, sum2)\n"
   ]
  },
  {
   "cell_type": "code",
   "execution_count": null,
   "metadata": {},
   "outputs": [
    {
     "name": "stdout",
     "output_type": "stream",
     "text": [
      "<class 'str'>\n"
     ]
    }
   ],
   "source": [
    "#Создайте переменную int_one, равную 1. Преобразуйте её в строку и сохраните результат в переменную \n",
    "# str_one. Выведите переменную str_one.\n",
    "int_one = 1\n",
    "str_one = str(int_one)\n",
    "print(type(str_one))"
   ]
  },
  {
   "cell_type": "code",
   "execution_count": null,
   "metadata": {},
   "outputs": [
    {
     "name": "stdout",
     "output_type": "stream",
     "text": [
      "my age is 18\n"
     ]
    }
   ],
   "source": [
    "#Создайте переменную str_age_begin, равную 'my age is ' (в конце строки есть пробел).\n",
    "#Создайте переменную int_age, равную 18.\n",
    "#Преобразуйте переменную int_age в строку и сложите с переменной str_age_begin.\n",
    "#Сохраните результат в переменную result_string.\n",
    "str_age_begin = 'my age is '\n",
    "int_age = 18\n",
    "result_string = str_age_begin + str(int_age)\n",
    "print(result_string)"
   ]
  },
  {
   "cell_type": "code",
   "execution_count": null,
   "metadata": {},
   "outputs": [
    {
     "name": "stdout",
     "output_type": "stream",
     "text": [
      "I have 5 brothers\n"
     ]
    }
   ],
   "source": [
    "#Создайте переменную str_brothers_begin, равную 'I have ' (в конце строки есть пробел).\n",
    "#Создайте переменную count, равную 5, и переменную str_brothers_end, равную ' brothers' \n",
    "#(в начале строки есть пробел).\n",
    "#Преобразуйте переменную count в строку и сложите с остальными переменными:\n",
    "# str_brothers_begin + count + str_brothers_end.\n",
    "#Сохраните результат в переменную result_sentence.\n",
    "str_brothers_begin = 'I have '\n",
    "count = 5\n",
    "str_brothers_end = ' brothers'\n",
    "result_sentence = str_brothers_begin + str(count) + str_brothers_end\n",
    "print(result_sentence)"
   ]
  },
  {
   "cell_type": "code",
   "execution_count": null,
   "metadata": {},
   "outputs": [
    {
     "name": "stdout",
     "output_type": "stream",
     "text": [
      "(1, 2, 3, 4, 5)\n"
     ]
    }
   ],
   "source": [
    "#Создайте список list1 из цифр от 1 до 5 (включительно). Преобразуйте список в кортеж tpl1 с помощью \n",
    "# конструктора типов tuple(). Выведите результат. В качестве ответа запишите результат вывода.\n",
    "\n",
    "list1 = list(range(1,6))\n",
    "tpl1 = tuple(list1)\n",
    "print(tpl1)"
   ]
  },
  {
   "cell_type": "code",
   "execution_count": null,
   "metadata": {},
   "outputs": [
    {
     "name": "stdout",
     "output_type": "stream",
     "text": [
      "['a', 'b', 'c', 'd', 'e']\n"
     ]
    }
   ],
   "source": [
    "#Создайте кортеж tpl1 из первых пяти букв английского языка. Преобразуйте кортеж в список list2 с помощью \n",
    "# конструктора типов list(). Выведите результат. В качестве ответа запишите результат вывода.\n",
    "\n",
    "tpl1 = ('a', 'b', 'c', 'd', 'e')\n",
    "list2 = list(tpl1)\n",
    "print(list2)"
   ]
  },
  {
   "cell_type": "code",
   "execution_count": null,
   "metadata": {},
   "outputs": [
    {
     "name": "stdout",
     "output_type": "stream",
     "text": [
      "[1, 2, 3]\n"
     ]
    }
   ],
   "source": [
    "#Создайте пустой список list1. Добавьте в него последовательно числа 1, 2, 3 с помощью метода .append(). \n",
    "# Выведите результат.\n",
    "\n",
    "list1 = []\n",
    "list1.append(1)\n",
    "list1.append(2)\n",
    "list1.append(3)\n",
    "print(list1)"
   ]
  },
  {
   "cell_type": "code",
   "execution_count": null,
   "metadata": {},
   "outputs": [
    {
     "name": "stdout",
     "output_type": "stream",
     "text": [
      "[1, 2, 3, 4, -5, -3, -1, 1, 3, 5, 7, 9, 11, 13]\n"
     ]
    }
   ],
   "source": [
    "#Создайте список list2, используя метод range().\n",
    "#В качестве левой границы списка установите число -5 (минус пять), в качестве правой — число 15.\n",
    "#Задайте шаг, равный 2.\n",
    "#Создайте переменную list3, в которой будут числа 1,2,3,4.\n",
    "#Используя метод .extend() у списка list3, добавьте list2.\n",
    "#Выведите список list3.\n",
    "\n",
    "list2 = list(range(-5,15,2))\n",
    "list3 = list(range(1,5))\n",
    "list3.extend(list2)\n",
    "print(list3)"
   ]
  },
  {
   "cell_type": "code",
   "execution_count": null,
   "metadata": {},
   "outputs": [
    {
     "name": "stdout",
     "output_type": "stream",
     "text": [
      "[3, 1, -10, 5, 11, 20, 1, -10] [20, 11, 5, 3, 1, 1, -10, -10]\n"
     ]
    }
   ],
   "source": [
    "#Создайте список list6. В этом списке должны быть цифры в следующем порядке: 3, 1, -10, 5, 11, 20, 1, -10.\n",
    "#Скопируйте содержимое списка в переменную list7.\n",
    "#Произведите сортировку списка list6, а затем инвертируйте полученный список.\n",
    "#Сохраните результат в переменную list_result.\n",
    "#Выведите списки в переменных list7 и list_result.\n",
    "\n",
    "list6 = [3, 1, -10, 5, 11, 20, 1, -10]\n",
    "list7 = list6[:]\n",
    "list6.sort()\n",
    "list_result = list6[::-1]\n",
    "print(list7, list_result)\n"
   ]
  },
  {
   "cell_type": "code",
   "execution_count": null,
   "metadata": {},
   "outputs": [
    {
     "name": "stdout",
     "output_type": "stream",
     "text": [
      "{(10, 15): 'hello'}\n"
     ]
    }
   ],
   "source": [
    "#Создайте список list1. Положите в него два значения: 10, 15.\n",
    "#Преобразуйте список в кортеж и сохраните результат в tpl1.\n",
    "#Создайте словарь dict1.\n",
    "#По ключу, который соответствует кортежу tpl1, положите значение 'hello'.\n",
    "#Выведите полученный словарь dict1.\n",
    "\n",
    "list1 = [10, 15]\n",
    "tpl1 = tuple(list1)\n",
    "dict1 = {}\n",
    "dict1[tpl1] = 'hello'\n",
    "print(dict1)\n"
   ]
  },
  {
   "cell_type": "code",
   "execution_count": null,
   "metadata": {},
   "outputs": [
    {
     "name": "stdout",
     "output_type": "stream",
     "text": [
      "{'name': 'unknown'} {'name': 'Tom'}\n",
      "dict_keys(['name']) dict_values(['unknown'])\n"
     ]
    }
   ],
   "source": [
    "#Создайте два словаря: dict1 и dict2. Положите в первый словарь по ключу 'name' значение 'unknown', а во\n",
    "#второй по ключу 'name' положите значение 'Tom'.\n",
    "#Выведите dict1 и dict2.\n",
    "#Выведите ключи и значения из dict1. Для этого используйте методы dict.keys() и dict.values().\n",
    "#В качестве ответа запишите общий результат двух выводов.\n",
    "\n",
    "dict1 = {}\n",
    "dict2 = dict()\n",
    "dict1['name'] = 'unknown'\n",
    "dict2['name'] = 'Tom'\n",
    "print(dict1, dict2)\n",
    "print(dict1.keys(), dict1.values())"
   ]
  },
  {
   "cell_type": "code",
   "execution_count": null,
   "metadata": {},
   "outputs": [
    {
     "name": "stdout",
     "output_type": "stream",
     "text": [
      "{'h', 'l', 'e', 'o', 'w'}\n",
      "{'h', 'l', 'e', 'o', 'w'}\n",
      "{'o'}\n",
      "{'o'}\n",
      "{'h', 'l', 'e'}\n",
      "{'h', 'l', 'e'}\n"
     ]
    }
   ],
   "source": [
    "#Создайте два множества: s1 и s2, положив в первое множество значения из строки 'hello', а во второе \n",
    "#множество - значения из списка ['w', 'o', 'w']. Выведите результаты объединения, пересечения, вычитания \n",
    "#этих двух множеств. В качестве ответа запишите результат вывода (обязательно соблюдайте порядок вывода).\n",
    "\n",
    "s1 = set('hello')\n",
    "s2 = set(['w', 'o', 'w'])\n",
    "print(s1 | s2)\n",
    "print(s1.union(s2))\n",
    "print(s1 & s2)\n",
    "print(s1.intersection(s2))\n",
    "print(s1 - s2)\n",
    "print(s1.difference(s2))\n",
    "\n"
   ]
  },
  {
   "cell_type": "code",
   "execution_count": null,
   "metadata": {},
   "outputs": [
    {
     "name": "stdout",
     "output_type": "stream",
     "text": [
      "age is 15\n"
     ]
    }
   ],
   "source": [
    "#Выведите переменную result, которая является сложением строки 'age is ' (в конце строки есть пробел) \n",
    "# и числа 15. Воспользуйтесь преобразованием типов.\n",
    "\n",
    "result = 'age is ' + str(15)\n",
    "print(result)"
   ]
  },
  {
   "cell_type": "code",
   "execution_count": null,
   "metadata": {},
   "outputs": [
    {
     "name": "stdout",
     "output_type": "stream",
     "text": [
      "['id', 'name', 'color', 'speed']\n",
      "32\n"
     ]
    }
   ],
   "source": [
    "d = {'id':7, 'name':'Shiba', 'color':'brown', 'speed':'very slow'}\n",
    "print(list(d))\n",
    "print(ord(' '))"
   ]
  },
  {
   "cell_type": "code",
   "execution_count": null,
   "metadata": {},
   "outputs": [
    {
     "data": {
      "text/plain": [
       "False"
      ]
     },
     "execution_count": 77,
     "metadata": {},
     "output_type": "execute_result"
    }
   ],
   "source": [
    "diagnosis_1 = 'no'\n",
    "diagnosis_2 = 'no'\n",
    "diagnosis_3 = 'no'\n",
    "result = 'True'\n",
    "\n",
    "(diagnosis_1 or diagnosis_2 or diagnosis_3) == 'yes'"
   ]
  },
  {
   "cell_type": "code",
   "execution_count": null,
   "metadata": {},
   "outputs": [
    {
     "name": "stdout",
     "output_type": "stream",
     "text": [
      "False\n"
     ]
    }
   ],
   "source": [
    "#Дано n-значное целое число N. Напишите условие для проверки того, входят ли в заданное число цифры 3 и 7.\n",
    "#Результатом выполнения условия должно стать значение True или False. Занесите этот результат в переменную \n",
    "# contains.\n",
    "N = 25683\n",
    "contains = '3' in str(N) and '7' in str(N)\n",
    "print(contains)\n"
   ]
  },
  {
   "cell_type": "code",
   "execution_count": null,
   "metadata": {},
   "outputs": [
    {
     "name": "stdout",
     "output_type": "stream",
     "text": [
      "True\n"
     ]
    }
   ],
   "source": [
    "#Шахматная фигура передвигается по доске 8x8 клеток. Нумерация клеток по горизонтальной ведётся с помощью \n",
    "# первых 8 латинских букв, а по вертикальной — с помощью цифр от 1 до 8.\n",
    "#Координатам по горизонтальной и вертикальной осям шахматной доски, в которые должна переместиться фигура, \n",
    "#соответствуют переменные x и y:\n",
    "#x, y = 'F', 7\n",
    "#Напишите условие проверки корректности хода. Ход считается корректным, если новые координаты фигуры не \n",
    "#выходят за пределы шахматной доски.\n",
    "#Результат работы условия присвойте переменной move_is_correct, в котором должно содержаться значение \n",
    "# True или False в зависимости от того, является ли ход корректным.\n",
    "x, y = 'A', 5\n",
    "move_is_correct = str(y) in '12345678' and x in 'ABCDEFG'\n",
    "print(move_is_correct)"
   ]
  },
  {
   "cell_type": "code",
   "execution_count": null,
   "metadata": {},
   "outputs": [
    {
     "name": "stdout",
     "output_type": "stream",
     "text": [
      "False\n"
     ]
    }
   ],
   "source": [
    "#В одной упаковке карандашей содержится 13 карандашей. Количество упаковок в наличии на складе хранится \n",
    "#в переменной available_packages. Количество произведённых карандашей хранится в переменной total_count.\n",
    "#Необходимо реализовать условие, которое проверяет, удастся ли распределить все карандаши по упаковкам \n",
    "#без остатка и хватит ли упаковок вообще.\n",
    "available_packages = 105\n",
    "total_count = 1677\n",
    "condition_1 = total_count % 13 == 0\n",
    "condition_2 = total_count // 13 <= available_packages\n",
    "total_cond = condition_1 and condition_2\n",
    "print(total_cond)       "
   ]
  },
  {
   "cell_type": "code",
   "execution_count": null,
   "metadata": {},
   "outputs": [
    {
     "name": "stdout",
     "output_type": "stream",
     "text": [
      "True\n"
     ]
    }
   ],
   "source": [
    "#Дано n-значное целое число N. Реализуйте условие для проверки того, начинается ли число N с четной цифры.\n",
    "#Результатом работы условия должно стать булево значение True или False. Занесите этот результат в \n",
    "#переменную first_is_even.\n",
    "N = 85222\n",
    "first_is_even = int(str(N)[0]) % 2 == 0 \n",
    "print(first_is_even)"
   ]
  },
  {
   "cell_type": "code",
   "execution_count": null,
   "metadata": {},
   "outputs": [
    {
     "name": "stdout",
     "output_type": "stream",
     "text": [
      "True\n"
     ]
    }
   ],
   "source": [
    "#Напишите условие, которое проверяет, что год является високосным.\n",
    "#Известно, что год является високосным при выполнении хотя бы одного из следующих условий:\n",
    "#Номер года делится (без остатка) на 400.\n",
    "#Номер года делится (без остатка) на 4 и не делится на 100 одновременно.\n",
    "#Номер года находится в переменной year.\n",
    "#Результат выполнения условия занесите в переменную year_is_leap. Её значение должно быть равно \n",
    "#True или False, в зависимости от того, является ли заданный год високосным.\n",
    "year = 2000\n",
    "\n",
    "year_is_leap = year % 400 == 0 or year % 4 == 0 and year % 100 != 0\n",
    "print(year_is_leap) "
   ]
  },
  {
   "cell_type": "code",
   "execution_count": null,
   "metadata": {},
   "outputs": [
    {
     "name": "stdout",
     "output_type": "stream",
     "text": [
      "False\n"
     ]
    }
   ],
   "source": [
    "#Шоколадка имеет вид прямоугольника размером n*m долек. Шоколадку можно один раз разломить по прямой на \n",
    "#две части. Необходимо реализовать условие, проверяющее, можно ли таким образом отломить от шоколадки часть,\n",
    "#состоящую ровно из k долек. Два примера таких разделений — по горизонтали и вертикали — приведены на \n",
    "#рисунке.Информация о количестве долек в ширину и длину шоколадки, а также количество долек, которое должно \n",
    "#получиться после разделения, содержится в переменных n, m и k соответственно. Не забудьте также учесть, \n",
    "#что количество долек, получаемое в остатке, должно быть строго меньше, чем общее количество долек, из \n",
    "#которых состоит шоколадка. Результат работы условия занесите в переменную result, значение которой \n",
    "# равно True или False в зависимости от выполнения условия.\n",
    "\n",
    "m, n, k = 5, 4, 11\n",
    "condition_1 = k % m == 0 and k < m*n\n",
    "condition_2 = k % n == 0 and k < m*n \n",
    "result = condition_1 or condition_2\n",
    "print(result)"
   ]
  },
  {
   "cell_type": "code",
   "execution_count": null,
   "metadata": {},
   "outputs": [
    {
     "name": "stdout",
     "output_type": "stream",
     "text": [
      "True\n"
     ]
    }
   ],
   "source": [
    "#Представьте, что вы обрабатываете заполненные пользователями онлайн-заявки. Переменная phone в виде строки \n",
    "#хранит указанный пользователем номер телефона и None, если соответствующее поле в анкете заполнено не было.\n",
    "#Реализуйте условие, которое проверит, оставил ли пользователь номер телефона. Результатом работы условия \n",
    "#должно стать булево значение True или False в зависимости от того, заполнено ли поле с номером телефона.\n",
    "#Результат занесите в переменную phone_is_defined.\n",
    "phone = '+7 927 124 42 12'\n",
    "phone_is_defined = phone is not None\n",
    "print(phone_is_defined)\n"
   ]
  },
  {
   "cell_type": "code",
   "execution_count": null,
   "metadata": {},
   "outputs": [
    {
     "name": "stdout",
     "output_type": "stream",
     "text": [
      "False\n"
     ]
    }
   ],
   "source": [
    "#В словаре arrival_of_goods хранится информация о приходах товара на склад интернет-магазина. Ключами этого\n",
    "#словаря являются номера накладных, а значениями — словари, в которых содержится информация о товаре и его \n",
    "# количестве в каждой из накладной.\n",
    "#Мы проводим аналитику прихода товара на склад. В переменной invoice_number содержится номер накладной, \n",
    "#который мы хотим найти.\n",
    "#С помощью метода словарей get() и проверки на None реализуйте условие, которое проверяет, есть ли в \n",
    "#истории прихода накладная с указанным в переменной invoice_number номером.\n",
    "#Результатом работы условия должна стать булева переменная со значением True или False в зависимости от \n",
    "# того, существует ли в системе указанная накладная. Результат занесите в переменную invoice_exists.\n",
    "arrival_of_goods = {\n",
    "    '148902': {\n",
    "        'Футболка с принтом': 180,\n",
    "        'Свитшот черный': 245,\n",
    "        'Джинсы серые': 252\n",
    "    },\n",
    "    '893516': {\n",
    "        'Футболка с принтом': 43,\n",
    "        'Свитшот черный': 64,\n",
    "        'Джинсы черные': 102\n",
    "    },\n",
    "    '893481': {\n",
    "        'Кружка керамическая': 35,\n",
    "        'Свитшот черный': 10,\n",
    "        'Джинсы сервые': 14\n",
    "    }\n",
    "}\n",
    "\n",
    "invoice_number = '893488'\n",
    "invoice_exists = arrival_of_goods.get(invoice_number) is not None\n",
    "print(invoice_exists)"
   ]
  },
  {
   "cell_type": "code",
   "execution_count": null,
   "metadata": {},
   "outputs": [
    {
     "name": "stdout",
     "output_type": "stream",
     "text": [
      "-5\n",
      "0\n"
     ]
    }
   ],
   "source": [
    "#Начинающий программист торопился и допустил в своей программе несколько синтаксических ошибок. \n",
    "#Ваша задача — исправить код так, чтобы он отработал без синтаксических ошибок\n",
    "\n",
    "mx = 0\n",
    "s = 0\n",
    "x = -5\n",
    "if x < 0:\n",
    "    s = x\n",
    "\n",
    "if x > mx:\n",
    "    mx = x\n",
    "\n",
    "print(s)\n",
    "print(mx)"
   ]
  },
  {
   "cell_type": "code",
   "execution_count": null,
   "metadata": {},
   "outputs": [
    {
     "name": "stdout",
     "output_type": "stream",
     "text": [
      "Всё занято. Подождите!\n"
     ]
    }
   ],
   "source": [
    "#Вам необходимо запрограммировать сенсор в общественном помещении, который определяет количество человек.\n",
    "#Если людей в помещении меньше 10, то на табло должно гореть сообщение «Добро пожаловать!», а в противном \n",
    "#случае — «Всё занято. Подождите!».\n",
    "#Kоличество человек в помещении хранится в переменной people_count. Организуйте вывод на табло с помощью \n",
    "#функции print().\n",
    "#Примеры работы программы:\n",
    "#people_count = 5\n",
    "#Добро пожаловать!\n",
    "#people_count = 10\n",
    "#Всё занято. Подождите!\n",
    "people_count = 10\n",
    "if people_count < 10:\n",
    "    print('Добро пожаловать!')\n",
    "else:\n",
    "    print('Всё занято. Подождите!')    "
   ]
  },
  {
   "cell_type": "code",
   "execution_count": null,
   "metadata": {},
   "outputs": [
    {
     "name": "stdout",
     "output_type": "stream",
     "text": [
      "Вы ввели неверный пароль!\n"
     ]
    }
   ],
   "source": [
    "#Представьте, что вам нужно написать программу, которая запрашивает у пользователя пароль для входа и \n",
    "#проверяет, верен ли он. Верный пароль хранится в переменной password. Пароль, который вводит пользователь,\n",
    "#хранится в переменной answer.\n",
    "#Напишите часть кода, которая отвечает за проверку ввода пароля: если верный, то выводится информация \n",
    "#«Добро пожаловать!», если неверный, то «Вы ввели неверный пароль!».\n",
    "#Примеры работы программы:\n",
    "#password = '879f2aabS'\n",
    "#answer = '879f2aabS'\n",
    "#Добро пожаловать!\n",
    "#password = '879f2aabS'\n",
    "#answer = '879f2aabs'\n",
    "#Вы ввели неверный пароль!\n",
    "password = 'Den' \n",
    "answer = input('Enter password:')\n",
    "if password == answer:\n",
    "    print('Добро пожаловать!')\n",
    "else:\n",
    "    print('Вы ввели неверный пароль!')    \n",
    "    "
   ]
  },
  {
   "cell_type": "code",
   "execution_count": null,
   "metadata": {},
   "outputs": [
    {
     "ename": "ValueError",
     "evalue": "invalid literal for int() with base 10: ''",
     "output_type": "error",
     "traceback": [
      "\u001b[1;31m---------------------------------------------------------------------------\u001b[0m",
      "\u001b[1;31mValueError\u001b[0m                                Traceback (most recent call last)",
      "\u001b[1;32md:\\Data Science\\IDE\\train_2.ipynb Cell 85\u001b[0m line \u001b[0;36m<cell line: 12>\u001b[1;34m()\u001b[0m\n\u001b[0;32m      <a href='vscode-notebook-cell:/d%3A/Data%20Science/IDE/train_2.ipynb#Y150sZmlsZQ%3D%3D?line=0'>1</a>\u001b[0m \u001b[39m#Пользователь вводит своё имя и возраст, их значения хранятся в переменных name и age соответственно.\u001b[39;00m\n\u001b[0;32m      <a href='vscode-notebook-cell:/d%3A/Data%20Science/IDE/train_2.ipynb#Y150sZmlsZQ%3D%3D?line=1'>2</a>\u001b[0m \u001b[39m#Если возраст пользователя больше либо равен 18, то программа должна вывести строку \"Добрый вечер, <name>!\",\u001b[39;00m\n\u001b[0;32m      <a href='vscode-notebook-cell:/d%3A/Data%20Science/IDE/train_2.ipynb#Y150sZmlsZQ%3D%3D?line=2'>3</a>\u001b[0m \u001b[39m#меньше — \"Привет, <name>! Приносим свои извинения, но вы не можете гулять после 22:00\".\u001b[39;00m\n\u001b[1;32m   (...)\u001b[0m\n\u001b[0;32m      <a href='vscode-notebook-cell:/d%3A/Data%20Science/IDE/train_2.ipynb#Y150sZmlsZQ%3D%3D?line=8'>9</a>\u001b[0m \u001b[39m#age = 17\u001b[39;00m\n\u001b[0;32m     <a href='vscode-notebook-cell:/d%3A/Data%20Science/IDE/train_2.ipynb#Y150sZmlsZQ%3D%3D?line=9'>10</a>\u001b[0m \u001b[39m# Привет, Павел! Приносим свои извинения, но вы не можете гулять после \u001b[39;00m\n\u001b[0;32m     <a href='vscode-notebook-cell:/d%3A/Data%20Science/IDE/train_2.ipynb#Y150sZmlsZQ%3D%3D?line=10'>11</a>\u001b[0m name \u001b[39m=\u001b[39m \u001b[39minput\u001b[39m(\u001b[39m'\u001b[39m\u001b[39mEnter your name:\u001b[39m\u001b[39m'\u001b[39m)\n\u001b[1;32m---> <a href='vscode-notebook-cell:/d%3A/Data%20Science/IDE/train_2.ipynb#Y150sZmlsZQ%3D%3D?line=11'>12</a>\u001b[0m age \u001b[39m=\u001b[39m \u001b[39mint\u001b[39;49m(\u001b[39minput\u001b[39;49m(\u001b[39m'\u001b[39;49m\u001b[39mEnter your age:\u001b[39;49m\u001b[39m'\u001b[39;49m))\n\u001b[0;32m     <a href='vscode-notebook-cell:/d%3A/Data%20Science/IDE/train_2.ipynb#Y150sZmlsZQ%3D%3D?line=12'>13</a>\u001b[0m \u001b[39mif\u001b[39;00m age \u001b[39m>\u001b[39m\u001b[39m=\u001b[39m \u001b[39m18\u001b[39m:\n\u001b[0;32m     <a href='vscode-notebook-cell:/d%3A/Data%20Science/IDE/train_2.ipynb#Y150sZmlsZQ%3D%3D?line=13'>14</a>\u001b[0m     \u001b[39mprint\u001b[39m(\u001b[39mf\u001b[39m\u001b[39m'\u001b[39m\u001b[39mДобрый вечер, \u001b[39m\u001b[39m{\u001b[39;00mname\u001b[39m}\u001b[39;00m\u001b[39m!\u001b[39m\u001b[39m'\u001b[39m)\n",
      "\u001b[1;31mValueError\u001b[0m: invalid literal for int() with base 10: ''"
     ]
    }
   ],
   "source": [
    "#Пользователь вводит своё имя и возраст, их значения хранятся в переменных name и age соответственно.\n",
    "#Если возраст пользователя больше либо равен 18, то программа должна вывести строку \"Добрый вечер, <name>!\",\n",
    "#меньше — \"Привет, <name>! Приносим свои извинения, но вы не можете гулять после 22:00\".\n",
    "#Примеры работы программы:\n",
    "#name = 'Андрей'\n",
    "#age = 21\n",
    "#\"Добрый вечер, Андрей!\"\n",
    "#name = 'Павел'\n",
    "#age = 17\n",
    "# Привет, Павел! Приносим свои извинения, но вы не можете гулять после \n",
    "name = input('Enter your name:')\n",
    "age = int(input('Enter your age:'))\n",
    "if age >= 18:\n",
    "    print(f'Добрый вечер, {name}!')\n",
    "else:\n",
    "    print(f'Привет, {name}! Приносим свои извинения, но вы не можете гулять после 22:00')"
   ]
  },
  {
   "cell_type": "code",
   "execution_count": null,
   "metadata": {},
   "outputs": [
    {
     "name": "stdout",
     "output_type": "stream",
     "text": [
      "27 не делится ни на 2, ни на 5\n"
     ]
    }
   ],
   "source": [
    "#Используя вложенный условный оператор, напишите программу, которая проверяет, что число number делится\n",
    "#на 2 и на 5 без остатка.\n",
    "#Если число делится на 2 и на 5, программа должна выводить на экран фразу \"<число> делится на 2 и на 5\".\n",
    "#Если число делится на 2, но не делится на 5 — программа должна выводить на экран фразу \"<число> делится \n",
    "#на 2, но не делится на 5\".\n",
    "#Если число не делится на 2, но делится на 5 — программа должна выводить на экран фразу \"<число> не делится \n",
    "#на 2, но делится на 5\".\n",
    "#Если число не делится ни на 2, ни на 5 — программа должна выводить на экран фразу \"<число> не делится ни \n",
    "#на 2, ни на 5\".\n",
    "number = 27\n",
    "if number % 2 == 0:\n",
    "    if number % 5 == 0:\n",
    "        print(f'{number} делится на 2 и на 5')\n",
    "    else:\n",
    "        print(f'{number} делится на 2, но не делится на 5')    \n",
    "else:\n",
    "    if number % 5 == 0:\n",
    "        print(f'{number} не делится на 2, но делится на 5')    \n",
    "    else:\n",
    "        print(f'{number} не делится ни на 2, ни на 5')        "
   ]
  },
  {
   "cell_type": "code",
   "execution_count": null,
   "metadata": {},
   "outputs": [
    {
     "name": "stdout",
     "output_type": "stream",
     "text": [
      "10\n"
     ]
    }
   ],
   "source": [
    "#Нам нужно установить конкретную ставку скидки в зависимости от того, соответствует ли клиент критериям.\n",
    "#По умолчанию наше приложение для бронирования мероприятий предоставляет всем клиентам скидку 10%; \n",
    "#однако клиенты в возрасте 60 лет и старше имеют право на скидку 20%.\n",
    "#С помощью тернарного оператора напишите программу, которая определяет скидку клиента. Возраст клиента \n",
    "#хранится в переменной cust_age.\n",
    "#Значение скидки занесите в переменную cust_discount.\n",
    "cust_age = 45\n",
    "cust_discount = 20 if cust_age >= 60 else 10\n",
    "print(cust_discount) "
   ]
  },
  {
   "cell_type": "code",
   "execution_count": null,
   "metadata": {},
   "outputs": [
    {
     "name": "stdout",
     "output_type": "stream",
     "text": [
      "morning!\n",
      "morning!\n",
      "morning!\n"
     ]
    }
   ],
   "source": [
    "#Написать программу, определяющую, является ли данное время суток утром, и вывести соответствующее \n",
    "#сообщение. \n",
    "#Утром считается временной промежуток с 6 (включительно) и до 12 часов (невключительно).\n",
    "#Текущее время (в часах) находится в переменной now и представлено в формате 'hour:minute:second'. Например:\n",
    "now = '11:24:39'\n",
    "hours, minutes, seconds = now.split(':')\n",
    "hours, minutes, seconds = int(hours), int(minutes), int(seconds)\n",
    "if hours >= 6 and hours < 12:\n",
    "    print('morning!')\n",
    "# или:   \n",
    "if 6 <= hours < 12:\n",
    "    print('morning!')\n",
    "# или:    \n",
    "if hours in range(6, 12):\n",
    "    print('morning!')"
   ]
  },
  {
   "cell_type": "code",
   "execution_count": null,
   "metadata": {},
   "outputs": [
    {
     "name": "stdout",
     "output_type": "stream",
     "text": [
      "IV quarter\n",
      "IV quarter\n"
     ]
    }
   ],
   "source": [
    "#Нам необходимо написать программу, которая определяет, к какой четверти принадлежит точка. Координаты \n",
    "#точки хранятся в переменных x и y. Так, точка со следующими координатами:\n",
    "#x, y = (6.3, -5.3)\n",
    "#принадлежит четвёртой четверти (IV) координатной плоскости.\n",
    "x, y = (6.3, -5.3)\n",
    "if x > 0:\n",
    "    if y > 0:\n",
    "        print('I quarter')\n",
    "    else:\n",
    "        print('IV quarter')    \n",
    "else:\n",
    "    if y > 0:\n",
    "        print('II quarter')        \n",
    "    else:\n",
    "        print('III quarter')    \n",
    "# or:\n",
    "if x > 0 and y > 0:\n",
    "    print('I quarter')\n",
    "if x > 0 and y < 0:\n",
    "    print('IV quarter')\n",
    "if x < 0 and y > 0:\n",
    "    print('II quarter')\n",
    "if x < 0 and y < 0:\n",
    "    print('III quarter')\n",
    "                        "
   ]
  },
  {
   "cell_type": "code",
   "execution_count": null,
   "metadata": {},
   "outputs": [
    {
     "name": "stdout",
     "output_type": "stream",
     "text": [
      "Ты проспал!\n",
      "Ты проспал!\n"
     ]
    }
   ],
   "source": [
    "#Пользователь вводит целое число — текущее время в часах, значение которого хранится в переменной time. \n",
    "#Если количество часов находится между 7 и 10 (включая обе границы), то программа должна вывести строку \n",
    "#«Пора вставать!», иначе выведется строка «Ты проспал!».\n",
    "#time = 8\n",
    "#Пора вставать!\n",
    "#time = 12\n",
    "# Ты проспал!\n",
    "time = 11\n",
    "if 7 <= time <= 10:\n",
    "    print('Пора вставать!')\n",
    "else:\n",
    "    print('Ты проспал!')    \n",
    "# or:\n",
    "if time in range(7, 11):\n",
    "    print('Пора вставать!')\n",
    "else:\n",
    "    print('Ты проспал!')       "
   ]
  },
  {
   "cell_type": "code",
   "execution_count": null,
   "metadata": {},
   "outputs": [
    {
     "name": "stdout",
     "output_type": "stream",
     "text": [
      "Это не очень редкое слово...\n"
     ]
    }
   ],
   "source": [
    "#Считается, что буквы q и z встречается в английском языке реже остальных букв. Вы решили написать \n",
    "#программу, которая позволяет пользователям вводить слова и проверяет, можно считать это слово редким или \n",
    "#нет. Интересующее вас слово содержится в переменной target_word.\n",
    "#Пусть эта программа выводит на экран одну из двух фраз: «Ух ты! Вы ввели редкое слово!», если в слове есть \n",
    "#буква q или букву z, или «Это не очень редкое слово...», если в нём этих букв нет.\n",
    "#Примеры:\n",
    "#target_word = \"quantity\"\n",
    "# Ух ты! Вы ввели редкое слово!\n",
    "#target_word = \"apply\"\n",
    "# Это не очень редкое слово...\n",
    "target_word = \"apple\"\n",
    "if 'q' in target_word or 'z' in target_word:\n",
    "    print('Ух ты! Вы ввели редкое слово!')\n",
    "else:\n",
    "    print('Это не очень редкое слово...')\n",
    "        "
   ]
  },
  {
   "cell_type": "code",
   "execution_count": null,
   "metadata": {},
   "outputs": [
    {
     "name": "stdout",
     "output_type": "stream",
     "text": [
      "Ваша половинка нашлась!\n"
     ]
    }
   ],
   "source": [
    "#Вы работаете в агентстве знакомств. К вам обратилась некая Алла, которая ищет мужчину ростом строго выше \n",
    "#180 см, весом строго менее 80 кг. Также Алла верит в гороскопы и согласно гороскопу ей подходят только \n",
    "#весы, дева, овен и козерог.\n",
    "#Напишите условие, которое позволит определить, подходит ли Алле тот или иной кандидат. В результате работы \n",
    "#программы на экран должно быть введено:\n",
    "#«Ваша половинка нашлась!» — если кандидат подходит Алле по параметрам.\n",
    "#«Попробуем поискать еще!» — если кандидат не подходит Алле по параметрам.\n",
    "#Примеры работы программы:\n",
    "#height = 183\n",
    "#weight = 78\n",
    "#zodiac_sign = 'козерог'\n",
    "# \"Ваша половинка нашлась!\"\n",
    "\n",
    "#height = 171\n",
    "#weight = 75\n",
    "#zodiac_sign = 'весы'\n",
    "# \"Попробуем поискать еще!\"\n",
    "\n",
    "#Подсказка: Для проверки того, что знак зодиака подходит Алле, создайте дополнительный список из нужных \n",
    "#знаков зодиака и проверяйте, содержится ли в нём знак, соответствуюищй переменной zodiac_sign.\n",
    "\n",
    "height = 183\n",
    "weight = 78\n",
    "zodiac_sign = 'козерог'\n",
    "\n",
    "zodiac_list = ['весы', 'дева', 'овен', 'козерог']\n",
    "if (height > 180) and (weight < 80) and (zodiac_sign in zodiac_list):\n",
    "    print('Ваша половинка нашлась!')\n",
    "else:\n",
    "    print('Попробуем поискать еще!')    \n",
    "    "
   ]
  },
  {
   "cell_type": "code",
   "execution_count": null,
   "metadata": {},
   "outputs": [
    {
     "name": "stdout",
     "output_type": "stream",
     "text": [
      "Spring\n"
     ]
    }
   ],
   "source": [
    "#В переменной month находится номер месяца. Необходимо определить сезон в зависимости от номера месяца и\n",
    "#вывести сообщение:\n",
    "#\"Spring\" для 3, 4, 5 месяцев;\n",
    "#\"Summer\" для 6, 7, 8 месяцев;\n",
    "#\"Autumn\" для 9, 10, 11 месяцев;\n",
    "#\"Winter\" для 12, 1, 2 месяцев;\n",
    "#\"Incorrect month number\" для всех остальных значений.\n",
    "month = 3\n",
    "\n",
    "if month in [3, 4, 5]:\n",
    "    print('Spring')\n",
    "elif month in [6, 7, 8]:\n",
    "    print('Summer')    \n",
    "elif month in [9, 10, 11]:\n",
    "    print('Autumn')\n",
    "elif month in [12, 1, 2]:\n",
    "    print('Winter')        \n",
    "else:\n",
    "    print('Incorrect month number')    \n",
    "    "
   ]
  },
  {
   "cell_type": "code",
   "execution_count": null,
   "metadata": {},
   "outputs": [
    {
     "name": "stdout",
     "output_type": "stream",
     "text": [
      "hurricane [4]\n"
     ]
    }
   ],
   "source": [
    "#Необходимо реализовать условный оператор, который печатает на экран характеристику ветра и его \n",
    "#класс (от 1 до 4) в зависимости от его характера:\n",
    "#\"weak [1]\" — от 1 до 4 м/с\n",
    "#\"moderate [2]\" — от 5 до 10 м/c\n",
    "#\"strong [3]\" — от 11 до 18 м/c\n",
    "#\"hurricane [4]\" — от 19 м/c\n",
    "#Скорость ветра хранится в переменной speed.\n",
    "#speed = 4\n",
    "# \"weak [1]\"\n",
    "#speed = 10\n",
    "#  \"moderate [2]\" \n",
    "#speed = 14\n",
    "# \"strong [3]\"\n",
    "#speed = 25\n",
    "# \"hurricane [4]\" \n",
    "speed = 22\n",
    "if speed in range(1, 5):\n",
    "    print('weak [1]')\n",
    "elif speed in range(5, 11):\n",
    "    print('moderate [2]')\n",
    "elif speed in range(11, 19):\n",
    "    print('strong [3]')\n",
    "else:\n",
    "    print('hurricane [4]')\n",
    "    "
   ]
  },
  {
   "cell_type": "code",
   "execution_count": null,
   "metadata": {},
   "outputs": [
    {
     "name": "stdout",
     "output_type": "stream",
     "text": [
      "Второй игрок — победитель!\n"
     ]
    }
   ],
   "source": [
    "#Друг, зная, что вы отличный программист, попросил вас запрограммировать игру «Камень, ножницы, бумага» \n",
    "#для своего младшего брата. Правила игры всем известны: камень побеждает ножницы; ножницы — бумагу; \n",
    "#бумага — камень.\n",
    "#Жесты, выполняемые первым и вторым игроками находятся в переменных player_1 и player_2 соответственно. \n",
    "#Обратите внимание, что названия жестов должны быть написаны строчными буквами.\n",
    "#Напишите программу, которая определяет победителя. Если побеждает первый игрок, то выводится сообщение \n",
    "#«Первый игрок — победитель!». Если второй — «Второй игрок — победитель!». Если ничья — выводится «Ничья!».\n",
    "#Примеры работы программы:\n",
    "#player_1 = 'камень'\n",
    "#player_2 = 'камень'\n",
    "# Ничья!\n",
    "\n",
    "#player_1 = 'ножницы'\n",
    "#player_2 = 'бумага'\n",
    "# Первый игрок — победитель!\n",
    "\n",
    "#player_1 = 'камень'\n",
    "#player_2 = 'бумага'\n",
    "# Второй игрок — победитель!\n",
    "player_1 = 'ножницы'\n",
    "player_2 = 'камень'\n",
    "if player_1 == player_2:\n",
    "    print('Ничья!')\n",
    "elif player_1 == 'камень' and player_2 == 'ножницы' or \\\n",
    "     player_1 == 'ножницы' and player_2 == 'бумага' or \\\n",
    "     player_1 == 'бумага' and player_2 == 'камень':\n",
    "    print('Первый игрок — победитель!')    \n",
    "else:\n",
    "    print('Второй игрок — победитель!')\n",
    "            "
   ]
  },
  {
   "cell_type": "code",
   "execution_count": null,
   "metadata": {},
   "outputs": [
    {
     "name": "stdout",
     "output_type": "stream",
     "text": [
      "время приготовления блюда Суши - 18 минут\n",
      "время доставки на Гагаринский - 43 минут\n",
      "Заказ будет доставлен с задержкой 1 минут\n"
     ]
    }
   ],
   "source": [
    "#Мы занимаемся разработкой сервиса доставки еды из нашего ресторана. В словаре dish_time_dict представлены \n",
    "#блюда, которые в данный момент ресторан может приготовить и среднее время их приготовления (в минутах).\n",
    "\n",
    "dish_time_dict = {\n",
    "    'Рамен с говядиной': 15,\n",
    "    'Суши': 18,\n",
    "    'Лагман с курицей': 20,\n",
    "    'Лагман с говядиной': 24,\n",
    "    'Плов с курицей': 28\n",
    "}\n",
    "#В словаре street_time_dict указаны районы города и среднее время доставки в эти районы (в минутах).\n",
    "\n",
    "street_time_dict  = {\n",
    "    'Дзержинский': 39,\n",
    "    'Солнечный': 40,\n",
    "    'Заводской': 27,\n",
    "    'Гагаринский': 43,\n",
    "    'Кировский': 37,\n",
    "    'Октябрьский': 34\n",
    "}\n",
    "#Блюдо, заказанное пользователем, и район, в котором он живёт, хранятся в переменных dish и street \n",
    "#соответственно.\n",
    "#Пример:\n",
    "dish, street = 'Суши', 'Гагаринский'\n",
    "#Необходимо реализовать программу, которая проверяет, успеет курьер доставить заказ за 60 (включительно) \n",
    "#минут с момента его принятия или нет.\n",
    "#Также необходимо реализовать проверку, что блюдо, заказанное клиентом, в данный момент доступно в \n",
    "#ресторане, а район, в котором находится клиент, доступен для доставки.\n",
    "\n",
    "if dish not in dish_time_dict:\n",
    "    print('Блюдо недоступно для заказа!')\n",
    "elif street not in street_time_dict:\n",
    "    print('Адрес недоступен для заказа!')\n",
    "else:\n",
    "    dish_time = dish_time_dict[dish]    \n",
    "    print(f'время приготовления блюда {dish} - {dish_time} минут')\n",
    "    street_time = street_time_dict[street]\n",
    "    print(f'время доставки на {street} - {street_time} минут')\n",
    "    full_time = dish_time + street_time #общее время доставки\n",
    "    delay = full_time - 60 # задержка\n",
    "    if delay <= 0:\n",
    "        print('Курьер доставит заказ в течении часа!')\n",
    "    else:\n",
    "        print(f'Заказ будет доставлен с задержкой {delay} минут')\n",
    "                "
   ]
  },
  {
   "cell_type": "code",
   "execution_count": null,
   "metadata": {},
   "outputs": [
    {
     "name": "stdout",
     "output_type": "stream",
     "text": [
      "Пароль идеален!!!\n"
     ]
    }
   ],
   "source": [
    "#Представим ситуацию. В последний месяц удача перестала вам улыбаться. У вас 3 раза взломали пароль от \n",
    "#вашего профиля в соцсетях. Вы задумались над тем, что неправильно подходите к вопросу безопасности. \n",
    "#И решаете написать программу на Python, которая будет проверять ваш пароль на надёжность. Немного \n",
    "#погуглив, вы смогли составить список рекомендаций к паролю:\n",
    "#Длина – 8 символов (если меньше – то проще взломать, а если длиннее – то сложно запомнить).\n",
    "#Пароль не должен состоять только из цифр.\n",
    "#Пароль не должен состоять только из букв.\n",
    "#В пароле должны быть заглавные буквы.\n",
    "#В пароле должны быть строчные символы.\n",
    "#В пароле должен быть хотя бы один из специальных символов ('*', '-', '#'), но каждый из символов должен \n",
    "#входить в пароль не более 1 раза.\n",
    "#Другие спецсимволы недопустимы, так как вы их не можете запомнить. Вот список «плохих» символов: \n",
    "# '!', '@', '$', '%', '^', '`', '&', '(', ')', '+', '=', '_', '~'.\n",
    "#В случае надёжного пароля программа должна выводить фразу «Пароль идеален!», а в остальных случаях будут \n",
    "# перечислены все ошибки, которые вы допустили.\n",
    "#РЕШЕНИЕ:\n",
    "#соберем перечень всех ошибок, которые могут возникнуть при создании пароля, присвоим каждлой ошибке кодовое\n",
    "#название, которые будет ключом в словаре, а ошибка - значением...\n",
    "errors_dict = {\n",
    "    'length': 'Длина пароля не равна 8 символам',\n",
    "    'digits': 'Пароль состоит только из цифр',\n",
    "    'letters': 'Пароль состоит только из букв',\n",
    "    'upper': 'Отсутствуют заглавные буквы',\n",
    "    'lower': 'Отсутствуют строчные буквы',\n",
    "    'spec': 'Отсутствуют спецсимволы в пароле',\n",
    "    'bad_symbols': 'В пароле использованы непредусмотренные символы'\n",
    "}\n",
    "#Создадим список «плохих» символов bad_symbols:\n",
    "bad_symbols = ['!', '@', '$', '%', '^', '`', '&', '(', ')', '+', '=', '_', '~']\n",
    "#наш пароль запишем в переменную password:\n",
    "\n",
    "password = 'Aafaf*al'\n",
    "#Обсудим общую идею: наша программа будет последовательно проверять каждое из ограничений, наложенных на \n",
    "#пароль, и если это ограничение соблюдено, мы будем удалять из словаря соответствующий ключ и значение, \n",
    "#соответствующее ему. В конце работы программы мы проверим, сколько ошибок осталось в словаре. Если ни \n",
    "#одной — значит, всё получилось. В противном случае мы просто выведем на экран все оставшиеся ошибки.\n",
    "#проверяем, что количество символов в пароле 8\n",
    "if len(password) == 8:\n",
    "    errors_dict.pop('length') #если усл-е выполняется, то удаляем из словаря ключ 'length'\n",
    "#проверяем, что пароль не состоит только из цифр:\n",
    "if not password.isdigit():\n",
    "    errors_dict.pop('digits')\n",
    "#проверяем, что пароль не состоит только из букв:    \n",
    "if not password.isalpha():\n",
    "    errors_dict.pop('letters')    \n",
    "#проверяем, что пароль не состоит только из строчных (заглавных) букв. Приведем наш пароль к строчным \n",
    "#буквам и сравним с исходником. Если равны, то значит наш пароль состоиь только из строчных (заглавных)\n",
    "#букв.\n",
    "if password.lower() != password:\n",
    "    errors_dict.pop('upper')\n",
    "if password.upper() != password:\n",
    "    errors_dict.pop('lower')\n",
    "#проверяем наличие спецсимволов в пароле:    \n",
    "if '*' in password or '-'  in password or '#' in password:\n",
    "    errors_dict.pop('spec')\n",
    "#если хотя бы один из символов есть, то проверяем, что наличем вхождений не более 1    \n",
    "    if password.count('*') > 1 or password.count('-') > 1 or password.count('#') > 1:\n",
    "        errors_dict['spec_count'] = 'Какой-то из спецсимволов в пароле использован более одного раза' #если\n",
    "#символ повторяется более 1 раза - добавляем в словарь новую ошибку 'spec_count'\n",
    "#Теперь проверим, есть ли в пароле \"плохие символы\". Для этого приведем пароль и список плохих символов\n",
    "#к множествам и сравним, есть ли у них общие символы\n",
    "if not set(password).intersection(set(bad_symbols)):\n",
    "    errors_dict.pop('bad_symbols')\n",
    "if errors_dict:\n",
    "    print(list(errors_dict.values()))\n",
    "else:\n",
    "    print('Пароль идеален!!!')    \n",
    "    "
   ]
  },
  {
   "cell_type": "code",
   "execution_count": null,
   "metadata": {},
   "outputs": [
    {
     "name": "stdout",
     "output_type": "stream",
     "text": [
      "Ваша корзина пуста\n"
     ]
    }
   ],
   "source": [
    "#Обдумывая акцию для распродажи, владелец компании пришёл к выводу, что продавать все кроссовки по акции \n",
    "#на сайте компании невыгодно. Поэтому была придумана новая схема: если клиент покупает одновременно \n",
    "#кроссовки двух разных брендов, то его общая скидка составит 5 %, если две пары от одного бренда — то 10 %.\n",
    "#Для упрощения задачи будем считать, что покупатель в любом случае купит не более двух пар кроссовок. \n",
    "#Список товаров в корзине хранится в переменной purchases и может быть пустым.\n",
    "#Также будем считать, что для всех товаров бренда действует одна и та же цена. Расценки товаров хранятся \n",
    "#в словаре prices:\n",
    "#prices = {'Adidas': 4298, 'Nike': 6550, 'Puma': 4490, 'Asics': 3879}\n",
    "#Напишите программу, которая:\n",
    "#Выводит на экран информацию об ошибке, если список покупок пуст в виде строки: Ваша корзина пуста\n",
    "#Выводит на экран информацию об общей стоимости товара, если куплен только один товар Стоимость заказа \n",
    "#составила: <стоимость заказа>\n",
    "#Выводит на экран информацию о полученной скидке, сумме оплаты без скидки и сумму со скидкой в следующем \n",
    "#формате:\n",
    "#Стоимость заказа составила: <стоимость заказа без скидки>. С учетом скидки в <размер скидки>% — \n",
    "#<стоимость заказа со скидкой>\n",
    "#Примеры работы программы:\n",
    "#purchases = [\"Adidas\", \"Nike\"]\n",
    "# Стоимость заказа составила: 10848. С учетом скидки в 5% — 10305.6\n",
    "#purchases = [\"Nike\", \"Nike\"]\n",
    "# Стоимость заказа составила: 13100. С учетом скидки в 10% — 11790.0\n",
    "#purchases = []\n",
    "# Ваша корзина пуста\n",
    "\n",
    "prices = {'Adidas': 4298, 'Nike': 6550, 'Puma': 4490, 'Asics': 3879}\n",
    "purchases = []\n",
    "if not purchases:\n",
    "    print('Ваша корзина пуста')\n",
    "elif len(purchases) == 1:\n",
    "    print(f'Стоимость заказа: {prices[purchases[0]]}')\n",
    "elif purchases[0] != purchases[1]:\n",
    "    coast = prices[purchases[0]] + prices[purchases[1]] #стоимость заказа\n",
    "    print(f'Стоимость заказа составила: {coast}. С учетом скидки в 5% - {coast*0.95}')\n",
    "else:\n",
    "    coast = prices[purchases[0]] + prices[purchases[1]] #стоимость заказа\n",
    "    print(f'Стоимость заказа составила: {coast}. С учетом скидки в 10% - {coast*0.90}')\n",
    "            "
   ]
  },
  {
   "cell_type": "code",
   "execution_count": null,
   "metadata": {},
   "outputs": [
    {
     "name": "stdout",
     "output_type": "stream",
     "text": [
      "Стоимость заказа составила: 11040. С учетом скидки в 5% — 10488.0\n"
     ]
    }
   ],
   "source": [
    "prices = {'Adidas': 4298, 'Nike': 6550, 'Puma': 4490, 'Asics': 3879}\n",
    "purchases = ['Puma', 'Nike']\n",
    "# Проверяем, что корзина не пустая\n",
    "if purchases:\n",
    "    # Проверяем, что в корзине 1 товар\n",
    "    if len(purchases) == 1:\n",
    "        # Достаем значение по ключу и определяем стоимость\n",
    "        cost = prices[purchases[0]]\n",
    "        print(f\"Стоимость заказа составила: {cost}\")\n",
    "    # Проверяем, что в корзине 2 товара\n",
    "    elif len(purchases) == 2:\n",
    "        # Проверяем, что товары одинаковых брендов\n",
    "        if len(set(purchases)) == 1:\n",
    "            discount = 10\n",
    "        else:\n",
    "            discount = 5\n",
    "        # Достаем значение по ключам и определяем стоимость\n",
    "        cost = prices[purchases[0]] + prices[purchases[1]] \n",
    "        # Рассчитываем стоимость с учетом скидки\n",
    "        discount_cost = cost * (1 - discount/100) \n",
    "        print(f\"Стоимость заказа составила: {cost}. С учетом скидки в {discount}% — {discount_cost}\")"
   ]
  },
  {
   "cell_type": "code",
   "execution_count": null,
   "metadata": {},
   "outputs": [
    {
     "name": "stdout",
     "output_type": "stream",
     "text": [
      "category = 1\n"
     ]
    }
   ],
   "source": [
    "#При составлении резюме на платформе поиска работы автоматически указывается дата обновления этого резюме.\n",
    "#Дата содержится в поле date.\n",
    "#Примеры:\n",
    "#date = '16.04.2019 15:59'\n",
    "#date = '12.05.2019 08:42'\n",
    "#date = '05.07.2018 20:15'\n",
    "#Мы распределяем резюме по категориям:\n",
    "#Категория 1 — резюме, обновленные в мае 2019\n",
    "#Категория 2 — резюме, обновленные в период с января по май (не включая май) 2019 года\n",
    "#Категория 3 — резюме, составленные раньше, чем 1 января 2019 года\n",
    "#Напишите программу, которая определяет категорию резюме. Категорию занесите целым числом в переменную \n",
    "# category.\n",
    "#Известно, что в базе нет резюме, обновлённых после 1 июня 2019 года. Формат строки date одинаков для всех \n",
    "#записей из базы данных, вы можете воспользоваться им.\n",
    "#Примеры работы программы:\n",
    "#date = '16.04.2019 15:59'\n",
    "# category = 2\n",
    "#date = '12.05.2019 08:42'\n",
    "# category = 1\n",
    "#date = '05.07.2018 20:15'\n",
    "# category = 3\n",
    "\n",
    "date = '12.05.2019 08:42'\n",
    "date = date.replace('.', ' ') #заменяем все точки в строке пробелами\n",
    "split_date = date.split() #разбиваем строку на подстроки (по пробелам)\n",
    "\n",
    "if int(split_date[2]) == 2019:\n",
    "    if int(split_date[1]) == 5:\n",
    "        category = 1\n",
    "    else:\n",
    "        category = 2\n",
    "else:\n",
    "    category = 3\n",
    "            \n",
    "print(f'category = {category}') "
   ]
  },
  {
   "cell_type": "code",
   "execution_count": null,
   "metadata": {},
   "outputs": [
    {
     "name": "stdout",
     "output_type": "stream",
     "text": [
      "3\n"
     ]
    }
   ],
   "source": [
    "# 2-й способ решения задачи выше:\n",
    "#При составлении резюме на платформе поиска работы автоматически указывается дата обновления этого резюме.\n",
    "#Дата содержится в поле date.\n",
    "#Примеры:\n",
    "#date = '16.04.2019 15:59'\n",
    "#date = '12.05.2019 08:42'\n",
    "#date = '05.07.2018 20:15'\n",
    "#Мы распределяем резюме по категориям:\n",
    "#Категория 1 — резюме, обновленные в мае 2019\n",
    "#Категория 2 — резюме, обновленные в период с января по май (не включая май) 2019 года\n",
    "#Категория 3 — резюме, составленные раньше, чем 1 января 2019 года\n",
    "#Напишите программу, которая определяет категорию резюме. Категорию занесите целым числом в переменную \n",
    "# category.\n",
    "#Известно, что в базе нет резюме, обновлённых после 1 июня 2019 года. Формат строки date одинаков для всех \n",
    "#записей из базы данных, вы можете воспользоваться им.\n",
    "#Примеры работы программы:\n",
    "#date = '16.04.2019 15:59'\n",
    "# category = 2\n",
    "#date = '12.05.2019 08:42'\n",
    "# category = 1\n",
    "#date = '05.07.2018 20:15'\n",
    "# category = 3\n",
    "\n",
    "date = '05.07.2018 20:15'\n",
    "\n",
    "day_month_year = date.split()\n",
    "day, month, year = day_month_year[0].split('.')\n",
    "\n",
    "if int(year) == 2019:\n",
    "    if int(month) == 5:\n",
    "        category = 1\n",
    "    else:\n",
    "        category = 2\n",
    "else:\n",
    "    category = 3            \n",
    "print(category)    "
   ]
  },
  {
   "cell_type": "code",
   "execution_count": null,
   "metadata": {},
   "outputs": [
    {
     "name": "stdout",
     "output_type": "stream",
     "text": [
      "Другое\n"
     ]
    }
   ],
   "source": [
    "#Мы занимаемся обработкой и анализом базы данных, содержащей резюме соискателей. Напишем скрипт для \n",
    "#автоматического извлечение информации о городе, в котором проживает соискатель.\n",
    "#В поле city_info содержится информация о городе, а также о готовности соискателя к переезду и \n",
    "#командировкам.\n",
    "#Примеры переменной city_info:\n",
    "#city_info = \"Москва , не готов к переезду , готов к командировкам\"\n",
    "#city_info = \"Москва , м. Беломорская , не готов к переезду, не готов к командировкам\"\n",
    "#city_info = \"Санкт-Петербург , готов к переезду (Сочи, Москва) , готов к командировкам\"\n",
    "#city_info = \"Новосибирск , готов к переезду, не готов к командировкам\"\n",
    "#Нас интересует только город. Причём мы не хотим учитывать все города. Разделим их на 4 категории:\n",
    "#\"Москва\"\n",
    "#\"Санкт-Петербург\"\n",
    "#\"Город миллионник\"\n",
    "#\"Другое\"\n",
    "#Напишите программу, которая в переменную city записывает одну из четырёх категорий городов, приведённых \n",
    "#выше (в точности как указано в задании) на основе информации, содержащейся в переменной city_info.\n",
    "#Чтобы отделить город от ненужной информации обратите внимание на структуру строки: город, готовность к \n",
    "#командировкам и переезду разделены последовательностью символов ' , '.\n",
    "#Также вам понадобится список городов-миллионников:\n",
    "\n",
    "#million_cities = ['Новосибирск', 'Екатеринбург', 'Нижний Новгород', 'Казань', 'Челябинск', 'Омск', \n",
    "#'Самара','Ростов-на-Дону', 'Уфа', 'Красноярск', 'Пермь', 'Воронеж', 'Волгоград']\n",
    "\n",
    "#Примеры работы программы:\n",
    "#city_info = \"Москва , не готов к переезду , готов к командировкам\"\n",
    "# city = 'Москва'\n",
    "\n",
    "#city_info = \"Иваново , готов к переезду (Сочи, Москва, Санкт-Петербург) , готов к командировкам\"\n",
    "# city = 'Другое'\n",
    "\n",
    "#city_info = \"Санкт-Петербург , готов к переезду (Сочи, Москва) , готов к командировкам\"\n",
    "# city = 'Санкт-Петербург'\n",
    "\n",
    "#city_info = \"Новосибирск , готов к переезду, не готов к командировкам\"\n",
    "# city = 'Город миллионник'\n",
    "\n",
    "million_cities = ['Новосибирск', 'Екатеринбург', 'Нижний Новгород', 'Казань', 'Челябинск', 'Омск', \n",
    "'Самара','Ростов-на-Дону', 'Уфа', 'Красноярск', 'Пермь', 'Воронеж', 'Волгоград']\n",
    "\n",
    "city_info = \"Иваново , готов к переезду (Сочи, Москва, Санкт-Петербург) , готов к командировкам\"\n",
    "\n",
    "city_info_splited = city_info.split(' , ')\n",
    "city = city_info_splited[0]\n",
    "if city == 'Москва':\n",
    "    city = 'Москва'\n",
    "elif city == 'Санкт-Петербург':\n",
    "    city = 'Санкт-Петербург'\n",
    "elif city in million_cities:\n",
    "    city = 'Город миллионник'\n",
    "else:\n",
    "    city = 'Другое'    \n",
    "print(city)    "
   ]
  },
  {
   "cell_type": "code",
   "execution_count": null,
   "metadata": {},
   "outputs": [
    {
     "ename": "IndexError",
     "evalue": "list index out of range",
     "output_type": "error",
     "traceback": [
      "\u001b[1;31m---------------------------------------------------------------------------\u001b[0m",
      "\u001b[1;31mIndexError\u001b[0m                                Traceback (most recent call last)",
      "\u001b[1;32md:\\Data Science\\IDE\\train_2.ipynb Cell 103\u001b[0m in \u001b[0;36m<cell line: 3>\u001b[1;34m()\u001b[0m\n\u001b[0;32m      <a href='vscode-notebook-cell:/d%3A/Data%20Science/IDE/train_2.ipynb#Y204sZmlsZQ%3D%3D?line=0'>1</a>\u001b[0m index \u001b[39m=\u001b[39m \u001b[39m10\u001b[39m\n\u001b[0;32m      <a href='vscode-notebook-cell:/d%3A/Data%20Science/IDE/train_2.ipynb#Y204sZmlsZQ%3D%3D?line=1'>2</a>\u001b[0m images_db \u001b[39m=\u001b[39m [\u001b[39m101252\u001b[39m, \u001b[39m521929\u001b[39m, \u001b[39m215251\u001b[39m]\n\u001b[1;32m----> <a href='vscode-notebook-cell:/d%3A/Data%20Science/IDE/train_2.ipynb#Y204sZmlsZQ%3D%3D?line=2'>3</a>\u001b[0m img_id \u001b[39m=\u001b[39m images_db[index]\n\u001b[0;32m      <a href='vscode-notebook-cell:/d%3A/Data%20Science/IDE/train_2.ipynb#Y204sZmlsZQ%3D%3D?line=4'>5</a>\u001b[0m \u001b[39mprint\u001b[39m(\u001b[39mf\u001b[39m\u001b[39m'\u001b[39m\u001b[39mImage id: \u001b[39m\u001b[39m{\u001b[39;00mimg_id\u001b[39m}\u001b[39;00m\u001b[39m'\u001b[39m)\n",
      "\u001b[1;31mIndexError\u001b[0m: list index out of range"
     ]
    }
   ],
   "source": [
    "index = 10\n",
    "images_db = [101252, 521929, 215251]\n",
    "img_id = images_db[index]\n",
    "\n",
    "print(f'Image id: {img_id}')"
   ]
  },
  {
   "cell_type": "code",
   "execution_count": null,
   "metadata": {},
   "outputs": [
    {
     "name": "stdout",
     "output_type": "stream",
     "text": [
      "Thats OK!\n",
      "Image id: 521929\n"
     ]
    }
   ],
   "source": [
    "index = 1\n",
    "images_db = [101252, 521929, 215251]\n",
    "try:\n",
    "    img_id = images_db[index]\n",
    "except:\n",
    "    img_id = images_db[-1]\n",
    "else:\n",
    "    print('Thats OK!')    \n",
    "print(f'Image id: {img_id}')"
   ]
  },
  {
   "cell_type": "code",
   "execution_count": null,
   "metadata": {},
   "outputs": [
    {
     "name": "stdout",
     "output_type": "stream",
     "text": [
      "Такого ключа в словаре нет\n"
     ]
    }
   ],
   "source": [
    "#Задан словарь medicines с ценами на лекарства в онлайн-аптеке и строка name.\n",
    "#С помощью конструкции try-except реализуйте программу, которая печатает на экран значение, хранящееся \n",
    "#по ключу из переменной name. Если строка name не является ключом словаря, то на экран через print \n",
    "#выводится сообщение «Такого ключа в словаре нет».\n",
    "#Примеры работы программы:\n",
    "\n",
    "#medicines = {'Ибупрофен': 99, 'Эспумизан': 279, 'Пенталгин': 119}\n",
    "#name = 'Визин'\n",
    "# Такого ключа в словаре нет\n",
    "\n",
    "#medicines = {'Ибупрофен': 99, 'Эспумизан': 279, 'Пенталгин': 119}\n",
    "#name = 'Ибупрофен'\n",
    "# 99\n",
    "medicines = {'Ибупрофен': 99, 'Эспумизан': 279, 'Пенталгин': 119}\n",
    "name = 'Йод'\n",
    "try:\n",
    "    print(medicines[name])\n",
    "except KeyError:\n",
    "    print('Такого ключа в словаре нет')"
   ]
  },
  {
   "cell_type": "code",
   "execution_count": null,
   "metadata": {},
   "outputs": [
    {
     "name": "stdout",
     "output_type": "stream",
     "text": [
      "Wrong age!\n"
     ]
    }
   ],
   "source": [
    "try:\n",
    "    age = int(input('Enter your age:'))\n",
    "    if age > 100 or age <= 0:\n",
    "        raise ValueError ('This age is impossible!!!')\n",
    "except ValueError as e:\n",
    "    print('Wrong age!')\n",
    "else:\n",
    "    print(f'You age is {age}')    \n",
    "    "
   ]
  },
  {
   "cell_type": "code",
   "execution_count": null,
   "metadata": {},
   "outputs": [
    {
     "ename": "ZeroDivisionError",
     "evalue": "Вы собираетесь делить на 0",
     "output_type": "error",
     "traceback": [
      "\u001b[1;31m---------------------------------------------------------------------------\u001b[0m",
      "\u001b[1;31mZeroDivisionError\u001b[0m                         Traceback (most recent call last)",
      "\u001b[1;32md:\\Data Science\\IDE\\train_2.ipynb Cell 107\u001b[0m in \u001b[0;36m<cell line: 19>\u001b[1;34m()\u001b[0m\n\u001b[0;32m     <a href='vscode-notebook-cell:/d%3A/Data%20Science/IDE/train_2.ipynb#Y211sZmlsZQ%3D%3D?line=16'>17</a>\u001b[0m number \u001b[39m=\u001b[39m \u001b[39m0\u001b[39m\n\u001b[0;32m     <a href='vscode-notebook-cell:/d%3A/Data%20Science/IDE/train_2.ipynb#Y211sZmlsZQ%3D%3D?line=18'>19</a>\u001b[0m \u001b[39mif\u001b[39;00m number \u001b[39m==\u001b[39m \u001b[39m0\u001b[39m:\n\u001b[1;32m---> <a href='vscode-notebook-cell:/d%3A/Data%20Science/IDE/train_2.ipynb#Y211sZmlsZQ%3D%3D?line=19'>20</a>\u001b[0m     \u001b[39mraise\u001b[39;00m \u001b[39mZeroDivisionError\u001b[39;00m(\u001b[39m'\u001b[39m\u001b[39mВы собираетесь делить на 0\u001b[39m\u001b[39m'\u001b[39m)\n\u001b[0;32m     <a href='vscode-notebook-cell:/d%3A/Data%20Science/IDE/train_2.ipynb#Y211sZmlsZQ%3D%3D?line=20'>21</a>\u001b[0m \u001b[39melse\u001b[39;00m:\n\u001b[0;32m     <a href='vscode-notebook-cell:/d%3A/Data%20Science/IDE/train_2.ipynb#Y211sZmlsZQ%3D%3D?line=21'>22</a>\u001b[0m     result \u001b[39m=\u001b[39m \u001b[39mround\u001b[39m(\u001b[39m10\u001b[39m \u001b[39m/\u001b[39m number, \u001b[39m3\u001b[39m)\n",
      "\u001b[1;31mZeroDivisionError\u001b[0m: Вы собираетесь делить на 0"
     ]
    }
   ],
   "source": [
    "#В переменной number хранится некоторое число.\n",
    "#Напишите программу со следующим условием: если число number не ноль, делит 10 на введённое число и \n",
    "#записывает результат, округлённый до трёх знаков после запятой, в переменную result. Если же в \n",
    "#переменной number хранится ноль, то программа должна выбросить исключение ZeroDivisionError с фразой \n",
    "#\"Вы собираетесь делить на 0\" с помощью ключевого слова raise.\n",
    "\n",
    "#Примеры работы программы:\n",
    "#number = 20\n",
    "# result = 0.5\n",
    "\n",
    "#number = 7\n",
    "# result = 1.429\n",
    "\n",
    "#number = 0\n",
    "# ZeroDivisionError: Вы собираетесь делить на 0\n",
    "\n",
    "number = 0\n",
    "\n",
    "if number == 0:\n",
    "    raise ZeroDivisionError('Вы собираетесь делить на 0')\n",
    "else:\n",
    "    result = round(10 / number, 3)\n",
    "    print(result)   \n"
   ]
  },
  {
   "cell_type": "code",
   "execution_count": null,
   "metadata": {},
   "outputs": [
    {
     "name": "stdout",
     "output_type": "stream",
     "text": [
      "Element 5\n",
      "Element 9\n",
      "Element 19\n"
     ]
    }
   ],
   "source": [
    "my_list = [5, 9, 19]\n",
    "for element in my_list:\n",
    "    print(f'Element {element}')\n",
    "    "
   ]
  },
  {
   "cell_type": "code",
   "execution_count": null,
   "metadata": {},
   "outputs": [
    {
     "name": "stdout",
     "output_type": "stream",
     "text": [
      "count_income: 120\n",
      "count_income: 158.5\n",
      "count_income: 199.0\n",
      "count_income: 279.0\n",
      "Общий доход семьи Быковых: 279.0 тыс. руб.\n"
     ]
    }
   ],
   "source": [
    "#Условие задачи. Дан список доходов членов семьи Быковых (в тысячах рублей).\n",
    "#incomes = [120, 38.5, 40.5, 80]\n",
    "#Необходимо найти общий доход семьи.\n",
    "incomes = [120, 38.5, 40.5, 80]\n",
    "count_income = 0 # до начала работы цикла создадим накопительную переменную, которая изначально равна 0. \n",
    "#В цикле будем поэтапно прибавлять доход каждого члена семьи к нашей переменной. По завершению цикла, это\n",
    "#и будет общим доходом семьи.\n",
    "for income in incomes:\n",
    "    count_income += income\n",
    "    print(f'count_income: {count_income}')\n",
    "print(f'Общий доход семьи Быковых: {count_income} тыс. руб.')    \n",
    "    \n"
   ]
  },
  {
   "cell_type": "code",
   "execution_count": null,
   "metadata": {},
   "outputs": [
    {
     "name": "stdout",
     "output_type": "stream",
     "text": [
      "279.0\n"
     ]
    }
   ],
   "source": [
    "#Вариант решения 2:\n",
    "#Условие задачи. Дан список доходов членов семьи Быковых (в тысячах рублей).\n",
    "#incomes = [120, 38.5, 40.5, 80]\n",
    "#Необходимо найти общий доход семьи.\n",
    "incomes = [120, 38.5, 40.5, 80]\n",
    "count_income = sum(incomes) #общий доход семьи\n",
    "print(count_income)"
   ]
  },
  {
   "cell_type": "code",
   "execution_count": null,
   "metadata": {},
   "outputs": [
    {
     "name": "stdout",
     "output_type": "stream",
     "text": [
      "13.65\n"
     ]
    }
   ],
   "source": [
    "#Напишите программу, которая находит произведение элементов списка num_list. В качестве начального \n",
    "#значения произведения задайте 1. Далее в цикле перебирайте элементы списка num_list и умножайте \n",
    "#значение произведения на элемент списка.\n",
    "#Результирующее произведение занесите в переменную p.\n",
    "#Примеры работы программы:\n",
    "#num_list = [98, 24, 23, 12, 3]\n",
    "## p = 1947456\n",
    "#num_list = [1, 10, 0.5, 21, 0.13]\n",
    "## p = 13.65\n",
    "num_list = [1, 10, 0.5, 21, 0.13]\n",
    "p = 1 # результирующее произведение (на начальном этапе равно 1)\n",
    "for num in num_list:\n",
    "    p *= num\n",
    "print(p)    \n"
   ]
  },
  {
   "cell_type": "code",
   "execution_count": null,
   "metadata": {},
   "outputs": [
    {
     "name": "stdout",
     "output_type": "stream",
     "text": [
      "i: 1\n",
      "current S: 1\n",
      "i: 2\n",
      "current S: 3\n",
      "i: 3\n",
      "current S: 6\n",
      "i: 4\n",
      "current S: 10\n",
      "S: 10\n"
     ]
    }
   ],
   "source": [
    "#Условие задачи. Найти сумму всех натуральных чисел от 1 до N включительно.\n",
    "#Натуральные числа — это числа 1, 2, 3, 4 и т. д.\n",
    "S = 0 #сумма \n",
    "N = 4\n",
    "for i in range(1, N + 1):\n",
    "    print('i:', i)\n",
    "    S += i\n",
    "    print('current S:', S)\n",
    "print(f'S: {S}')    "
   ]
  },
  {
   "cell_type": "code",
   "execution_count": null,
   "metadata": {},
   "outputs": [
    {
     "name": "stdout",
     "output_type": "stream",
     "text": [
      "5! = 120\n"
     ]
    }
   ],
   "source": [
    "#В математике факториал числа n — это произведение чисел от 1 до n включительно. Это записывается как:\n",
    "#n! = 1 · 2 · 3 · ... · (n-1) · n\n",
    "#Например:\n",
    "# 3! = 1 · 2 · 3 = 6\n",
    "# 5! = 1 · 2 · 3 · 4 · 5 = 120\n",
    "#Факториал часто применяется в высшей математике, например в комбинаторике, теории вероятностей и \n",
    "#дифференциальном исчислении.\n",
    "#В переменной n хранится натуральное число. Напишите программу для вычисления факториала числа n. \n",
    "#Результат запишите в переменную p.\n",
    "#Пример работы программы:\n",
    "\n",
    "# n = 3\n",
    "# # p = 6\n",
    "# n = 5\n",
    "# #p = 120\n",
    "# n = 10\n",
    "# # p = 3628800\n",
    "\n",
    "n = 5\n",
    "p = 1 #произведение чисел (изначально задаем 1)\n",
    "for i in range(1, n + 1):\n",
    "    p *= i\n",
    "print(f'{n}! = {p}')    \n"
   ]
  },
  {
   "cell_type": "code",
   "execution_count": null,
   "metadata": {},
   "outputs": [
    {
     "name": "stdout",
     "output_type": "stream",
     "text": [
      "*\n",
      "**\n",
      "***\n",
      "****\n",
      "*****\n"
     ]
    }
   ],
   "source": [
    "#Напишите программу, которая будет печатать «лесенку» из символов '*' в зависимости от значения \n",
    "#переменной n. Число n может быть любым натуральным числом (1, 2, 3…) и задаётся внешней программой \n",
    "#при тестировании.\n",
    "#Примеры работы программы:\n",
    "#n = 3\n",
    "#*\n",
    "#**\n",
    "#***\n",
    "\n",
    "#n = 4\n",
    "#*\n",
    "#**\n",
    "#***\n",
    "#****\n",
    "\n",
    "n = 5\n",
    "for i in range(1, n + 1):\n",
    "    result = i * '*'\n",
    "    print(result)\n"
   ]
  },
  {
   "cell_type": "code",
   "execution_count": null,
   "metadata": {},
   "outputs": [
    {
     "name": "stdout",
     "output_type": "stream",
     "text": [
      "products_to_truck -  [240.1, 101.5]\n",
      "products_to_car -  [10, 42.4, 98, 0.4, 0.3, 15]\n"
     ]
    }
   ],
   "source": [
    "#Условие задачи. Представим, что мы пишем программу для компании, занимающейся грузоперевозками.\n",
    "#В нашем распоряжении есть список масс товаров, предназначенных для перевозки (в килограммах).\n",
    "#Согласно нашим данным, товары, которые весят больше 100 килограммов, необходимо перевозить на грузовой \n",
    "#машине, а товары меньшей массы можно перевезти на легковой.\n",
    "#→ Необходимо написать алгоритм, который распределял бы товары по типам машин.\n",
    "#Пример списка товаров (грузов):\n",
    "# weight_of_products= [10, 42.4, 240.1, 101.5, 98, 0.4, 0.3, 15]\n",
    "\n",
    "weight_of_products = [10, 42.4, 240.1, 101.5, 98, 0.4, 0.3, 15]\n",
    "products_to_truck = [] #списко товаров для грузовика\n",
    "products_to_car = [] #список товаров для легковой машины\n",
    "\n",
    "for weight in weight_of_products:\n",
    "    if weight > 100:\n",
    "        products_to_truck.append(weight)\n",
    "    else:\n",
    "        products_to_car.append(weight)\n",
    "print('products_to_truck - ', products_to_truck)        \n",
    "print('products_to_car - ', products_to_car)        \n",
    "            "
   ]
  },
  {
   "cell_type": "code",
   "execution_count": null,
   "metadata": {},
   "outputs": [
    {
     "name": "stdout",
     "output_type": "stream",
     "text": [
      "Product N:1, Weight:10 - passenger car\n",
      "Product N:2, Weight:42.4 - passenger car\n",
      "Product N:3, Weight:240.1 - truck\n",
      "Product N:4, Weight:101.5 - truck\n",
      "Product N:5, Weight:98 - passenger car\n",
      "Product N:6, Weight:0.4 - passenger car\n",
      "Product N:7, Weight:0.3 - passenger car\n",
      "Product N:8, Weight:15 - passenger car\n"
     ]
    }
   ],
   "source": [
    "weight_of_products = [10, 42.4, 240.1, 101.5, 98, 0.4, 0.3, 15]\n",
    "number = 1\n",
    "for weight in weight_of_products:\n",
    "    if weight > 100:\n",
    "        print(f'Product N:{number}, Weight:{weight} - truck')\n",
    "        number += 1\n",
    "    else:\n",
    "        print(f'Product N:{number}, Weight:{weight} - passenger car')\n",
    "        number += 1\n",
    "            "
   ]
  },
  {
   "cell_type": "code",
   "execution_count": null,
   "metadata": {},
   "outputs": [
    {
     "name": "stdout",
     "output_type": "stream",
     "text": [
      "Product 1, Weight: 10 - passenger car\n",
      "Product 2, Weight: 42.4 - passenger car\n",
      "Product 3, Weight: 240.1 - truck\n",
      "Product 4, Weight: 101.5 - truck\n",
      "Product 5, Weight: 98 - passenger car\n",
      "Product 6, Weight: 0.4 - passenger car\n",
      "Product 7, Weight: 0.3 - passenger car\n",
      "Product 8, Weight: 15 - passenger car\n"
     ]
    }
   ],
   "source": [
    "#Условие задачи. Представим, что мы пишем программу для компании, занимающейся грузоперевозками.\n",
    "#В нашем распоряжении есть список масс товаров, предназначенных для перевозки (в килограммах).\n",
    "#Согласно нашим данным, товары, которые весят больше 100 килограммов, необходимо перевозить на грузовой \n",
    "#машине, а товары меньшей массы можно перевезти на легковой.\n",
    "#→ Необходимо написать алгоритм, который распределял бы товары по типам машин.\n",
    "#Пример списка товаров (грузов):\n",
    "# weight_of_products= [10, 42.4, 240.1, 101.5, 98, 0.4, 0.3, 15]\n",
    "\n",
    "weight_of_products = [10, 42.4, 240.1, 101.5, 98, 0.4, 0.3, 15]\n",
    "N = len(weight_of_products)\n",
    "\n",
    "for i in range(N):\n",
    "    if weight_of_products[i] > 100:\n",
    "        print(f'Product {i + 1}, Weight: {weight_of_products[i]} - truck')\n",
    "    else:\n",
    "        print(f'Product {i + 1}, Weight: {weight_of_products[i]} - passenger car')\n",
    "        number += 1\n",
    "            \n",
    "            "
   ]
  },
  {
   "cell_type": "code",
   "execution_count": null,
   "metadata": {},
   "outputs": [
    {
     "name": "stdout",
     "output_type": "stream",
     "text": [
      "['Red Square', 'Swallow Nest', 'Unavailable', 'Unavailable', 'Unavailable', 'Hermitage']\n"
     ]
    }
   ],
   "source": [
    "#Условие задачи. Мы разрабатываем новый функционал приложения для туристического агентства «Ковёр-самолёт».\n",
    "#В нашем распоряжении есть список мест places, которые пользователь хотел бы посетить.\n",
    "\n",
    "places = [\n",
    "    'Red Square',\n",
    "    'Swallow Nest',\n",
    "    'Niagara Falls',\n",
    "    'Grand Canyon',\n",
    "    'Louvre',\n",
    "    'Hermitage'\n",
    "]\n",
    "#Также есть словарь location, ключи которого — места, которые пользователь хочет посетить, а значения — \n",
    "#названия стран, где находятся эти места.\n",
    "\n",
    "location = {\n",
    "    'Red Square': 'Russia',\n",
    "    'Swallow Nest': 'Russia',\n",
    "    'Niagara Falls': 'USA',\n",
    "    'Grand Canyon': 'USA',\n",
    "    'Louvre': 'France',\n",
    "    'Hermitage': 'Russia'\n",
    "}\n",
    "#По эпидемиологическим причинам пользователь не может посетить места, которые находятся вне территории \n",
    "#России. Наша задача — заменить заграничные места в списке places на значение 'Unavailable'.\n",
    "\n",
    "N = len(places)\n",
    "for i in range(N):\n",
    "    if location[places[i]] != 'Russia':\n",
    "        places[i] = 'Unavailable'\n",
    "print(places)        "
   ]
  },
  {
   "cell_type": "code",
   "execution_count": null,
   "metadata": {},
   "outputs": [
    {
     "name": "stdout",
     "output_type": "stream",
     "text": [
      "element 0: -5\n",
      "element 1: 1\n",
      "element 2: 3\n",
      "element 3: 10\n"
     ]
    }
   ],
   "source": [
    "#Вам задан список num_list, состоящий из чисел (int и float) например:\n",
    "#num_list = [1, 10, 3, -5].\n",
    "#Отсортируйте его с помощью метода sort() для списков, а затем последовательно выведите на экран элементы \n",
    "#этого списка с помощью цикла for в следующем формате: \"element {i}: {elem}\", где i - индекс элемента в \n",
    "#списке, elem - элемент.\n",
    "#Пример работы программы:\n",
    "#num_list = [1, 10, 3, -5]\n",
    "# # element 0: -5\n",
    "# # element 1: 1\n",
    "# # element 2: 3\n",
    "# # element 3: 10\n",
    "\n",
    "num_list = [1, 10, 3, -5]\n",
    "num_list.sort()\n",
    "N = len(num_list)\n",
    "\n",
    "for i in range(N):\n",
    "    print(f'element {i}: {num_list[i]}')\n",
    "    "
   ]
  },
  {
   "cell_type": "code",
   "execution_count": null,
   "metadata": {},
   "outputs": [
    {
     "name": "stdout",
     "output_type": "stream",
     "text": [
      "9\n"
     ]
    }
   ],
   "source": [
    "#Дан список num_list, состоящий из целых чисел (int). Например:\n",
    "#num_list = list(range(0, 100, 3)) \n",
    "#С помощью цикла for посчитайте количество чётных элементов в списке. Результат запишите в переменную \n",
    "# count_even.\n",
    "#Примеры работы программы:\n",
    "#num_list = list(range(0, 100, 3)) \n",
    "## count_even = 17\n",
    "\n",
    "#num_list = [10, 4, 4, 21, 2, 0, -10]\n",
    "## count_even = 6\n",
    "\n",
    "#num_list = list(range(0, 81, 5)) \n",
    "## count_even = 9\n",
    "\n",
    "num_list = list(range(0, 81, 5)) \n",
    "count_even = 0\n",
    "\n",
    "for num in num_list:\n",
    "    if num % 2 == 0:\n",
    "        count_even += 1\n",
    "print(count_even)        "
   ]
  },
  {
   "cell_type": "code",
   "execution_count": null,
   "metadata": {},
   "outputs": [
    {
     "name": "stdout",
     "output_type": "stream",
     "text": [
      "5\n"
     ]
    }
   ],
   "source": [
    "#Дан список mixture_list, элементами которого могут являться любые типы данных Python. Например:\n",
    "#mixture_list = [True, 1, -10, 'hello', False, 'string_1', 123, 2.5, [1, 2], 'another'] \n",
    "#С помощью цикла for посчитайте количество элементов типа str в списке. Результат запишите в переменную \n",
    "# count_str.\n",
    "#Примеры работы программы:\n",
    "#mixture_list = [True, 1, -10, 'hello', False, 'string_1', 123, 2.5, [1, 2], 'another'] \n",
    "## count_str = 3\n",
    "\n",
    "#mixture_list = ['My', 'Simple', -10, True, 'False', 'string_1', False, 2.5, [1, 2], 'True'] \n",
    "## count_str = 5\n",
    "\n",
    "mixture_list = ['My', 'Simple', -10, True, 'False', 'string_1', False, 2.5, [1, 2], 'True'] \n",
    "count_str = 0\n",
    "\n",
    "for element in mixture_list:\n",
    "    if type(element) == str:\n",
    "        count_str += 1\n",
    "print(count_str)        "
   ]
  },
  {
   "cell_type": "code",
   "execution_count": null,
   "metadata": {},
   "outputs": [
    {
     "name": "stdout",
     "output_type": "stream",
     "text": [
      "My name is Sergei. I'm from Moscow. \n"
     ]
    }
   ],
   "source": [
    "#Мы генерируем текст с помощью нейронной сети. В списке word_list в виде строк задана сгенерированная \n",
    "#нейронной сетью последовательность слов. Например:\n",
    "#word_list = [\"My\", \"name\", \"is\", \"Sergei\", \"EOS\", \"I'm\", \"from\", \"Moscow\", \"EOS\"] \n",
    "#Напишите программу для объединения строк из списка word_list в предложения.\n",
    "#Гарантируется, что конец каждого предложения обозначается специальной последовательностью символов — \"EOS\" \n",
    "# (End Of Sentence). Вместо этого символа в предложении ставится точка — \".\". Для простоты условимся, что \n",
    "#другие знаки препинания (запятые, восклицательные знаки и т. д.) нейронная сеть генерировать не умеет.\n",
    "#Для решения задачи воспользуйтесь циклом for. Результирующий текст запишите в переменную text.\n",
    "#Примеры работы программы:\n",
    "#word_list = [\"My\", \"name\", \"is\", \"Sergei\", \"EOS\", \"I'm\", \"from\", \"Moscow\", \"EOS\"]\n",
    "## text = \"My name is Sergei. I'm from Moscow.\"\n",
    "\n",
    "#word_list = [\"Человек\", \"он\", \"умный\", \"EOS\", \"Но\", \"чтоб\", \"умно\", \"поступать\", \"одного\", \"ума\", \"мало\", \n",
    "# \"EOS\"]\n",
    "## \"Человек он умный. Но чтоб умно поступать одного ума мало.\"\n",
    "#Примечание: При составлении строки обратите внимание на то, как добавляется символ точки в конец \n",
    "# предложения: пробел ставится только после точки, перед точкой пробела нет. Например, из строк \"My name \n",
    "# is Sergei. I'm \n",
    "# from Moscow.\" и \"My name is Sergei . I'm from Moscow .\" правильным будет первый вариант. Подумайте, как \n",
    "# реализовать это в коде. В решении задачи вам помочь метод strip(), который удаляет лишние пробелы с левой \n",
    "# и правой стороны от строки. Например:\n",
    "# string = \"     I'm from Moscow.   \"\n",
    "# string = string.strip()\n",
    "## string = \"I'm from Moscow.\"\n",
    "\n",
    "word_list = [\"My\", \"name\", \"is\", \"Sergei\", \"EOS\", \"I'm\", \"from\", \"Moscow\", \"EOS\"]\n",
    "text = ''\n",
    "\n",
    "for word in word_list:\n",
    "    text += word + ' '\n",
    "text = text.replace(' EOS', '.')\n",
    "print(text)"
   ]
  },
  {
   "cell_type": "code",
   "execution_count": null,
   "metadata": {},
   "outputs": [
    {
     "name": "stdout",
     "output_type": "stream",
     "text": [
      "['b', 'c', 'd', 'e']\n",
      "['c', 'd', 'e']\n",
      "['d', 'e']\n",
      "['d', 'e']\n"
     ]
    }
   ],
   "source": [
    "lst = ['a', 'b', 'c', 'd', 'e']\n",
    "while len(lst) > 2:\n",
    "    lst.pop(0)\n",
    "    print(lst)\n",
    "print(lst)    "
   ]
  },
  {
   "cell_type": "code",
   "execution_count": null,
   "metadata": {},
   "outputs": [
    {
     "name": "stdout",
     "output_type": "stream",
     "text": [
      "17\n"
     ]
    }
   ],
   "source": [
    "#Пусть в нашем распоряжении есть два числа x = 21 и y = 55. Мы хотим посчитать, сколько раз надо прибавить \n",
    "# к x число 2, чтобы x стало больше или равно y.\n",
    "x, y = 21, 55\n",
    "y = 55\n",
    "count = 0\n",
    "\n",
    "while x < y:\n",
    "    x += 2\n",
    "    count += 1\n",
    "    \n",
    "print(count)    "
   ]
  },
  {
   "cell_type": "code",
   "execution_count": null,
   "metadata": {},
   "outputs": [
    {
     "name": "stdout",
     "output_type": "stream",
     "text": [
      "67\n",
      "134\n",
      "201\n",
      "268\n",
      "335\n",
      "402\n",
      "Overweight 2 kg\n"
     ]
    }
   ],
   "source": [
    "#Условие задачи. Пассажирский лифт имеет ограничение на перевозку — не более 400 кг единовременно. Пусть \n",
    "#входящие в лифт люди имеют одинаковый вес (weight).\n",
    "#Необходимо написать программу, которая должна следить за изменением нагрузки на лифт, сравнивать её с \n",
    "#грузоподъёмностью и в случае перевеса выдавать предупреждение 'Overweight N kg'). Например, при перевесе \n",
    "#в 15 кг должно быть выведено сообщение 'Overweight 15 kg').\n",
    "#Для данного примера вес заходящих людей зададим как weight = 67).    \n",
    "\n",
    "weight = 67 #вес одного пассажира\n",
    "max_weight = 400 #грузоподъемность лифта\n",
    "count_weight = 0 #суммарный вес\n",
    "\n",
    "while count_weight < max_weight:\n",
    "    count_weight += weight\n",
    "    print(count_weight)\n",
    "print(f'Overweight {count_weight - max_weight} kg')    "
   ]
  },
  {
   "cell_type": "code",
   "execution_count": null,
   "metadata": {},
   "outputs": [
    {
     "name": "stdout",
     "output_type": "stream",
     "text": [
      "3.3\n",
      "6.6\n",
      "9.899999999999999\n",
      "13.2\n",
      "16.5\n",
      "1.5\n"
     ]
    }
   ],
   "source": [
    "#Сосуд вмещает в себя ровно volume литров жидкости. Каждый раз в него вливается 0.0033 кубических метра \n",
    "# жидкости. Понятно, что в какой-то момент сосуд наполнится до краёв, и жидкость начнёт выливаться из него.\n",
    "# В тот момент, когда жидкость начинает выливаться (заполненный объём становится больше, чем вместимость \n",
    "# сосуда), наполнение сосуда прекращается.\n",
    "#С помощью цикла while опишите данный процесс и найдите, сколько литров жидкости выльется из сосуда. \n",
    "# Результат запишите в переменную cost.\n",
    "#Учтите, что 1 кубический метр равен 1 000 литрам (0.0033 * 1000 = 3.3).\n",
    "#Примеры работы программы:\n",
    "#volume = 10\n",
    "## cost = 3.1999999999999993\n",
    "\n",
    "#volume = 15\n",
    "## cost = 1.542454\n",
    "\n",
    "volume = 15\n",
    "S = 0\n",
    "\n",
    "while S < volume:\n",
    "    S += 3.3\n",
    "    print(S)\n",
    "print(S - volume)"
   ]
  },
  {
   "cell_type": "code",
   "execution_count": null,
   "metadata": {},
   "outputs": [
    {
     "name": "stdout",
     "output_type": "stream",
     "text": [
      "number: 32 summa: 528\n"
     ]
    }
   ],
   "source": [
    "#Условие задачи. Написать цикл, который будет складывать натуральные числа, пока их сумма не превысит 500.\n",
    "#Натуральные числа — это числа 1, 2, 3, 4 и т. д.\n",
    "\n",
    "number = 1 # задаем первое чивло из последовательности\n",
    "summa = 0\n",
    "while summa <= 500:\n",
    "    summa += number\n",
    "    number += 1\n",
    "print('number:', number - 1, 'summa:', summa)    "
   ]
  },
  {
   "cell_type": "code",
   "execution_count": null,
   "metadata": {},
   "outputs": [
    {
     "name": "stdout",
     "output_type": "stream",
     "text": [
      "4\n"
     ]
    }
   ],
   "source": [
    "#Напишите цикл while, который находит минимальное натуральное число number, квадрат которого больше \n",
    "# некоторого заданного value.\n",
    "#Результирующий ответ запишите в переменную number.\n",
    "#Примеры работы программы:\n",
    "#\n",
    "#value = 10\n",
    "## number = 4\n",
    "\n",
    "#value = 159\n",
    "## number = 13\n",
    "\n",
    "#value = 1000\n",
    "## number = 32\n",
    "\n",
    "value = 10\n",
    "number  = 0\n",
    "\n",
    "while number ** 2 <= value:\n",
    "    number += 1\n",
    "    \n",
    "print(number)    "
   ]
  },
  {
   "cell_type": "code",
   "execution_count": null,
   "metadata": {},
   "outputs": [
    {
     "name": "stdout",
     "output_type": "stream",
     "text": [
      "Wrong password!\n",
      "Welcome!!!\n"
     ]
    }
   ],
   "source": [
    "#Условие задачи. Представьте себя администратором тайного интернет-сообщества «Три Слепые Мыши» с \n",
    "# ограниченным членством. У каждого участника сообщества есть свой позывной и пароль. Позывные и пароли \n",
    "# представлены в словаре secret_passwords. Ключи данного словаря — позывные, а значения — пароли.\n",
    "\n",
    "secret_passwords = {\n",
    "    'Enot': 'ulybaka',\n",
    "    'Agent12': '1password1',\n",
    "    'MouseLulu': 'myshkanaruhka'\n",
    "}\n",
    "#Необходимо создать бесконечный цикл, который будет проверять, что пользователь, посетивший \n",
    "# интернет-сообщество, является его членом. Пользователь вводит свои позывной и пароль с клавиатуры.\n",
    "\n",
    "while True:\n",
    "    name = input('Enter your name:')\n",
    "    if name in secret_passwords:\n",
    "        password = input('Enter your password:')\n",
    "        if password == secret_passwords[name]:\n",
    "            print('Welcome!!!')\n",
    "            break\n",
    "        else:\n",
    "            print('Wrong password!')\n",
    "    else:\n",
    "        print('Wrong name!') \n"
   ]
  },
  {
   "cell_type": "code",
   "execution_count": null,
   "metadata": {},
   "outputs": [
    {
     "name": "stdout",
     "output_type": "stream",
     "text": [
      "number = 4\n"
     ]
    }
   ],
   "source": [
    "#Напишите бесконечный цикл while с условием выхода внутри цикла, который находит минимальное натуральное \n",
    "# число, квадрат которого больше value.\n",
    "#Запишите результат в переменную number.\n",
    "#Примеры работы программы:\n",
    "#value = 10\n",
    "## number = 4\n",
    "\n",
    "#value = 159\n",
    "## number = 13\n",
    "\n",
    "#value = 1000\n",
    "## number = 32\n",
    "\n",
    "value = 10\n",
    "number = 0 \n",
    "\n",
    "while True:\n",
    "    number += 1\n",
    "    if number ** 2 > value:\n",
    "        break\n",
    "print('number =', number)    "
   ]
  },
  {
   "cell_type": "code",
   "execution_count": null,
   "metadata": {},
   "outputs": [
    {
     "name": "stdout",
     "output_type": "stream",
     "text": [
      "Hello\n",
      "Hello\n",
      "Hello\n"
     ]
    }
   ],
   "source": [
    "#Перед вами программа, которая должна вывести слово 'Hello' n раз. Переменная n задаётся извне и может \n",
    "# быть любым числом:\n",
    "#i = 0\n",
    "#while i < n:\n",
    "    #print('Hello')\n",
    "#Однако сейчас эта программа работает некорректно: она бесконечно выводит слово 'Hello' на экран. \n",
    "# Исправьте программу, добавив в неё недостающую строку.\n",
    "#Примеры работы программы:\n",
    "#n = 3\n",
    "## Hello\n",
    "## Hello\n",
    "## Hello\n",
    "\n",
    "#n = 5\n",
    "## Hello\n",
    "## Hello\n",
    "## Hello\n",
    "## Hello\n",
    "## Hello\n",
    "\n",
    "n = 3\n",
    "i = 0\n",
    "while i < n:\n",
    "    print('Hello')\n",
    "    i += 1\n",
    "\n"
   ]
  },
  {
   "cell_type": "code",
   "execution_count": null,
   "metadata": {},
   "outputs": [
    {
     "name": "stdout",
     "output_type": "stream",
     "text": [
      "10\n"
     ]
    }
   ],
   "source": [
    "#Начинающий программист написал программу, которая находит наименьшее натуральное число x, квадрат \n",
    "#которого нацело делится на число n, и выводит его на экран. Значение переменной n задаётся внешней \n",
    "#программой, поэтому может быть любым.\n",
    "#Однако код содержит ряд ошибок. Найдите и исправьте их:\n",
    "#x = 1\n",
    "#while x ** 2 % n == 0\n",
    "#x += 1\n",
    "#print(x)\n",
    "#Примеры работы программы:\n",
    "#n = 10\n",
    "## 10\n",
    "#n = 156  \n",
    "## 78\n",
    "#n = 12\n",
    "## 6\n",
    "\n",
    "n = 10\n",
    "x = 1\n",
    "while x ** 2 % n != 0:\n",
    "    x += 1\n",
    "print(x)"
   ]
  },
  {
   "cell_type": "code",
   "execution_count": null,
   "metadata": {},
   "outputs": [
    {
     "name": "stdout",
     "output_type": "stream",
     "text": [
      "p = 5040\n"
     ]
    }
   ],
   "source": [
    "#Напишите цикл while, который вычисляет произведение натуральных чисел (1 * 2 * 3 * 4 * ...). \n",
    "#Цикл должен выполняться до тех пор, пока значение произведения не превысит число value.\n",
    "#Результирующее произведение запишите в переменную p.\n",
    "#Примеры работы программы:\n",
    "#value = 1000\n",
    "## p = 5040\n",
    "#value = 178\n",
    "## p = 720\n",
    "#value = 10\n",
    "## 24\n",
    "value = 1000\n",
    "p = 1 #результирующее произведение\n",
    "n = 1 #первое натуральное число\n",
    "\n",
    "while p <= value:\n",
    "    p = p * n\n",
    "    n += 1\n",
    "print(p)    "
   ]
  },
  {
   "cell_type": "code",
   "execution_count": null,
   "metadata": {},
   "outputs": [
    {
     "name": "stdout",
     "output_type": "stream",
     "text": [
      "15\n"
     ]
    }
   ],
   "source": [
    "#Олег положил money рублей в банк под 8 % годовых с ежегодной капитализацией процентов. Через сколько лет \n",
    "#у него на счету будет не менее target_money рублей?\n",
    "#Запишите ответ в переменную year_count.\n",
    "#Для моделирования процесса увеличения денежной суммы на счёте воспользуйтесь циклом while. В случае, когда \n",
    "#значение target_money < money, в переменной year_count должен содержаться 0.\n",
    "#Примеры работы программы:\n",
    "#money = 1000\n",
    "#target_money = 3000\n",
    "## year_count = 15\n",
    "\n",
    "#money = 8000\n",
    "#target_money = 15000\n",
    "## year_count = 9\n",
    "\n",
    "#money = 1500\n",
    "#target_money = 300\n",
    "## year_count = 0 \n",
    "\n",
    "money = 1000 \n",
    "target_money = 3000\n",
    "year_count = 0\n",
    "\n",
    "while money < target_money:\n",
    "    money *= 1.08\n",
    "    year_count += 1\n",
    "print(year_count)    "
   ]
  },
  {
   "cell_type": "code",
   "execution_count": null,
   "metadata": {},
   "outputs": [
    {
     "name": "stdout",
     "output_type": "stream",
     "text": [
      "18\n"
     ]
    }
   ],
   "source": [
    "#Вы играете в компьютерную игру, дошли до схватки с финальным боссом, но вот незадача: ваш компьютер \n",
    "#«заглючил», и вы не можете управлять вашим персонажем. Босс атакует и каждую секунду наносит один удар, \n",
    "#который отнимает у персонажа damage единиц здоровья. На схватку с боссом ваш персонаж вышел с health \n",
    "#единиц здоровья.\n",
    "#Создайте цикл, позволяющий понять, через сколько секунд босс убьёт вашего персонажа. В результате работы \n",
    "#вашей программы в переменной seconds_num должно быть сохранено количество секунд, в течение которых будет \n",
    "#длиться схватка.\n",
    "#Примеры работы программы:\n",
    "#health = 500\n",
    "#damage = 80\n",
    "## seconds_num = 7\n",
    "\n",
    "#health = 3014\n",
    "#damage = 174\n",
    "## seconds_num = 18\n",
    "\n",
    "health = 3014\n",
    "damage = 174\n",
    "seconds_num = 0\n",
    "\n",
    "while True:\n",
    "    health -= damage\n",
    "    seconds_num += 1\n",
    "    if health <= 0:\n",
    "        break\n",
    "print(seconds_num)    \n"
   ]
  },
  {
   "cell_type": "code",
   "execution_count": null,
   "metadata": {},
   "outputs": [
    {
     "name": "stdout",
     "output_type": "stream",
     "text": [
      "[1, 1, 2, 3, 5, 8, 13, 21, 34]\n"
     ]
    }
   ],
   "source": [
    "#Числа Фибоначчи — это бесконечная последовательность чисел, которую можно получить рекурсивно. Каждое \n",
    "#число из последовательности является суммой двух предыдущих.\n",
    "#Последовательность Фибоначчи активно применяется в комбинаторике и аналитике. О значении и вариантах \n",
    "#применения чисел Фибоначчи вы можете прочитать в блоге Skillfactory.\n",
    "#Напишите программу, которая выводит первые n чисел Фибоначчи. Значение n может быть любым.\n",
    "#Для решения воспользуйтесь следующим алгоритмом:\n",
    "#Инициализируем начальные значения последовательности: a = 1, b = 1 , i = 2.\n",
    "#Пока i ≤ n:\n",
    "#Вычислить новое значение b по формуле: b = a + b.\n",
    "#Заменить значение a = b.\n",
    "#Увеличить i на 1.\n",
    "#Добавить элемент b в последовательность.\n",
    "#Результирующую последовательность чисел сохраните в списке fibonacci_list.\n",
    "#Примеры работы программы:\n",
    "#n = 3\n",
    "## fibonacci_list = [1, 1, 2]\n",
    "\n",
    "#n = 5\n",
    "## fibonacci_list = [1, 1, 2, 3, 5]\n",
    "\n",
    "#n = 9\n",
    "## fibonacci_list =[1, 1, 2, 3, 5, 8, 13, 21, 34]\n",
    "\n",
    "n = 9 # n-е значение последовательности (может назначаться произвольно)\n",
    "a = 1 #первое значение последовательности\n",
    "b = 1 #второе значение последовательности\n",
    "i = 2 #i-й элемент последовательности\n",
    "fibonacci_list = [1, 1]\n",
    "\n",
    "while i < n:\n",
    "    a, b = b, b + a\n",
    "    \n",
    "    fibonacci_list.append(b)\n",
    "    i += 1\n",
    "print(fibonacci_list)    "
   ]
  },
  {
   "cell_type": "code",
   "execution_count": null,
   "metadata": {},
   "outputs": [
    {
     "name": "stdout",
     "output_type": "stream",
     "text": [
      "current row:[1, 2]\n",
      "current element:1\n",
      "current element:2\n",
      "\n",
      "current row:[3, 4]\n",
      "current element:3\n",
      "current element:4\n",
      "\n",
      "current row:[5, 6]\n",
      "current element:5\n",
      "current element:6\n",
      "\n"
     ]
    }
   ],
   "source": [
    "matrix = [\n",
    "    [1, 2], \n",
    "    [3, 4], \n",
    "    [5, 6]\n",
    "]\n",
    "\n",
    "for row in matrix:\n",
    "    print(f'current row:{row}')\n",
    "    for elem in row:\n",
    "        print(f'current element:{elem}')\n",
    "    print()\n",
    "        "
   ]
  },
  {
   "cell_type": "code",
   "execution_count": null,
   "metadata": {},
   "outputs": [
    {
     "name": "stdout",
     "output_type": "stream",
     "text": [
      "row 1:[1, 2]\n",
      "element 1:1\n",
      "element 2:2\n",
      "\n",
      "row 2:[3, 4]\n",
      "element 1:3\n",
      "element 2:4\n",
      "\n",
      "row 3:[5, 6]\n",
      "element 1:5\n",
      "element 2:6\n",
      "\n"
     ]
    }
   ],
   "source": [
    "matrix = [\n",
    "    [1, 2], \n",
    "    [3, 4], \n",
    "    [5, 6]\n",
    "]\n",
    "\n",
    "N = len(matrix)\n",
    "M = len(matrix[0])\n",
    "\n",
    "for i in range(N):\n",
    "    print(f'row {i + 1}:{matrix[i]}')\n",
    "    for j in range(M):\n",
    "        print(f'element {j + 1}:{matrix[i][j]}')\n",
    "    print()    "
   ]
  },
  {
   "cell_type": "code",
   "execution_count": null,
   "metadata": {},
   "outputs": [
    {
     "name": "stdout",
     "output_type": "stream",
     "text": [
      "alarm 10:0\n",
      "alarm 10:30\n",
      "alarm 15:0\n",
      "alarm 15:30\n",
      "alarm 20:0\n",
      "alarm 20:30\n"
     ]
    }
   ],
   "source": [
    "#Условие задачи. Пользователь даёт нашей умной колонке «Алевтина» задание: поставить будильники особым \n",
    "# образом. Будильники должны звонить каждые пять часов, начиная с 10 часов утра. Причём будильник должен\n",
    "# прозвенеть дважды в час с перерывом в полчаса. Например, в 15:00 и 15:30.\n",
    "#Необходимо вывести на экран время в которое прозвенят будильники.\n",
    "\n",
    "for hour in range(10, 24, 5):\n",
    "    for minute in range(0, 60, 30):\n",
    "        print(f'alarm {hour}:{minute}')"
   ]
  },
  {
   "cell_type": "code",
   "execution_count": null,
   "metadata": {},
   "outputs": [
    {
     "name": "stdout",
     "output_type": "stream",
     "text": [
      "alarm 9:0\n",
      "alarm 9:15\n",
      "alarm 9:30\n",
      "alarm 9:45\n",
      "alarm 11:0\n",
      "alarm 11:15\n",
      "alarm 11:30\n",
      "alarm 11:45\n",
      "alarm 13:0\n",
      "alarm 13:15\n",
      "alarm 13:30\n",
      "alarm 13:45\n",
      "alarm 15:0\n",
      "alarm 15:15\n",
      "alarm 15:30\n",
      "alarm 15:45\n",
      "alarm 17:0\n",
      "alarm 17:15\n",
      "alarm 17:30\n",
      "alarm 17:45\n",
      "alarm 19:0\n",
      "alarm 19:15\n",
      "alarm 19:30\n",
      "alarm 19:45\n",
      "alarm 21:0\n",
      "alarm 21:15\n",
      "alarm 21:30\n",
      "alarm 21:45\n",
      "alarm 23:0\n",
      "alarm 23:15\n",
      "alarm 23:30\n",
      "alarm 23:45\n"
     ]
    }
   ],
   "source": [
    "#Пусть пользователь заводит будильники на каждые два часа, начиная с 9 часов утра. Причём будильники \n",
    "#должны звонить четырежды в указанный час (интервал 15 минут), например в 11:00, 11:15, 11:30 и 11:45.\n",
    "#Напишите вложенный цикл, который будет выводить на экран время, в которое прозвенят будильники.\n",
    "\n",
    "for hour in range(9, 24, 2):\n",
    "    for minute in range(0, 60, 15):\n",
    "        print(f'alarm {hour}:{minute}')"
   ]
  },
  {
   "cell_type": "code",
   "execution_count": null,
   "metadata": {},
   "outputs": [
    {
     "name": "stdout",
     "output_type": "stream",
     "text": [
      "5\n"
     ]
    }
   ],
   "source": [
    "#Условие задачи. Дан список строк str_list = ['text', 'morning', 'notepad', 'television', 'ornament']. \n",
    "#Необходимо подсчитать, сколько всего раз во всех строках списка встречается буква 'e'.\n",
    "\n",
    "str_list = ['text', 'morning', 'notepad', 'television', 'ornament']\n",
    "count = 0\n",
    "for word in str_list:\n",
    "    for symbol in word:\n",
    "        if symbol == 'e':\n",
    "            count += 1\n",
    "print(count)            "
   ]
  },
  {
   "cell_type": "code",
   "execution_count": null,
   "metadata": {},
   "outputs": [
    {
     "name": "stdout",
     "output_type": "stream",
     "text": [
      "5\n"
     ]
    }
   ],
   "source": [
    "# вариант решения 2:\n",
    "str_list = ['text', 'morning', 'notepad', 'television', 'ornament']\n",
    "str_list_joined = ''.join(str_list)\n",
    "count = str_list_joined.count('e')\n",
    "print(count)"
   ]
  },
  {
   "cell_type": "code",
   "execution_count": null,
   "metadata": {},
   "outputs": [
    {
     "name": "stdout",
     "output_type": "stream",
     "text": [
      "5\n"
     ]
    }
   ],
   "source": [
    "# вариант решения 3:\n",
    "str_list = ['text', 'morning', 'notepad', 'television', 'ornament']\n",
    "count = 0\n",
    "for word in str_list:\n",
    "    count += word.count('e')\n",
    "print(count)    "
   ]
  },
  {
   "cell_type": "code",
   "execution_count": null,
   "metadata": {},
   "outputs": [
    {
     "name": "stdout",
     "output_type": "stream",
     "text": [
      "10\n"
     ]
    }
   ],
   "source": [
    "#Дан список строк text_list. Посчитайте, сколько раз во всех строках списка встречается буква 'a'.\n",
    "\n",
    "text_list = [\n",
    "    'afbaad',\n",
    "    'faaf',\n",
    "    'afaga',\n",
    "    'agag'\n",
    "]\n",
    "#В работе кода используйте вложенные списки: внешний список — по элементам списка text_list, внутренний — \n",
    "#по символам в строках.\n",
    "\n",
    "count = 0\n",
    "for text in text_list:\n",
    "    for symbol in text:\n",
    "        if symbol == 'a':\n",
    "            count += 1\n",
    "print(count)            \n"
   ]
  },
  {
   "cell_type": "code",
   "execution_count": null,
   "metadata": {},
   "outputs": [
    {
     "name": "stdout",
     "output_type": "stream",
     "text": [
      "в строке [9, 2, 1] минимальное значение равно:1\n",
      "в строке [2, 5, 3] минимальное значение равно:2\n",
      "в строке [4, 8, 5] минимальное значение равно:4\n"
     ]
    }
   ],
   "source": [
    "#Условие задачи. В теории оптимизации, которую мы с вами будем изучать дальше в курсе, работа с матрицами —\n",
    "#привычное явление. Так, в симплекс-методе для решения оптимизационных задач необходимо находить \n",
    "#минимальные и максимальные элементы в каждой строке матрицы.\n",
    "#Давайте попробуем реализовать такой алгоритм для поиска минимумов.\n",
    "#Дана двумерная матрица 3x3 (список списков). Необходимо определить минимумы в каждой её строке.\n",
    "\n",
    "random_matrix = [\n",
    "    [9, 2, 1],\n",
    "    [2, 5, 3],\n",
    "    [4, 8, 5]\n",
    "]\n",
    "\n",
    "for row in random_matrix:\n",
    "    min_number = row[0] #пусть минимальное значение принимает 1-й элемент строки\n",
    "    # сравним его с каждым элементом строки и перезапишем 'min_number', если она окажется больше\n",
    "    for number in row:\n",
    "        if number < min_number:\n",
    "            min_number = number\n",
    "    print(f'в строке {row} минимальное значение равно:{min_number}')        "
   ]
  },
  {
   "cell_type": "code",
   "execution_count": null,
   "metadata": {},
   "outputs": [
    {
     "name": "stdout",
     "output_type": "stream",
     "text": [
      "[1, 2, 4]\n"
     ]
    }
   ],
   "source": [
    "# вариант решения 2 (используем встроенную функцию 'min'):\n",
    "random_matrix = [\n",
    "    [9, 2, 1],\n",
    "    [2, 5, 3],\n",
    "    [4, 8, 5]\n",
    "]\n",
    "min_numbers_list = [] #создадим список, куда запишем минимальные числа в строках\n",
    "for row in random_matrix:\n",
    "    min_number = min(row)\n",
    "    min_numbers_list.append(min_number)\n",
    "print(min_numbers_list)    \n",
    "    "
   ]
  },
  {
   "cell_type": "code",
   "execution_count": null,
   "metadata": {},
   "outputs": [
    {
     "name": "stdout",
     "output_type": "stream",
     "text": [
      "[9, 5, 8]\n"
     ]
    }
   ],
   "source": [
    "#Дана двумерная матрица random_matrix размера n x n (список списков). Напишите программу, которая \n",
    "#определяет максимумы в каждой строке исходной матрицы.\n",
    "#Максимумы должны быть представлены в виде списка. Запишите результат в переменную max_value_rows.\n",
    "#Примеры работы программы:\n",
    "#random_matrix = [\n",
    "#    [9, 2, 1],\n",
    "#    [2, 5, 3],\n",
    "#    [4, 8, 5]\n",
    "#]\n",
    "## max_value_rows = [9, 5, 8]\n",
    "random_matrix = [\n",
    "    [9, 2, 1],\n",
    "    [2, 5, 3],\n",
    "    [4, 8, 5]\n",
    "]\n",
    "max_value_rows = []\n",
    "for row in random_matrix:\n",
    "    max_value = row[0] #назначаем первый элемент строки максимальным\n",
    "    for value in row:\n",
    "        if value > max_value:\n",
    "            max_value = value\n",
    "    max_value_rows.append(max_value)\n",
    "print(max_value_rows)    "
   ]
  },
  {
   "cell_type": "code",
   "execution_count": null,
   "metadata": {},
   "outputs": [
    {
     "name": "stdout",
     "output_type": "stream",
     "text": [
      "[9, 5, 8]\n"
     ]
    }
   ],
   "source": [
    "# вариант решения 2 (использумем встроенную функцию 'max'):\n",
    "random_matrix = [\n",
    "    [9, 2, 1],\n",
    "    [2, 5, 3],\n",
    "    [4, 8, 5]\n",
    "]\n",
    "max_value_rows = []\n",
    "for row in random_matrix:\n",
    "    max_value_rows.append(max(row))\n",
    "print(max_value_rows)    "
   ]
  },
  {
   "cell_type": "code",
   "execution_count": null,
   "metadata": {},
   "outputs": [
    {
     "name": "stdout",
     "output_type": "stream",
     "text": [
      "средний балл всех студентов по математике:76.6\n",
      "средний балл всех студентов по информатике:64.8\n",
      "средний балл всех студентов по русскому языку:82.2\n",
      "средний балл всех студентов по всем предметам:74.5\n"
     ]
    }
   ],
   "source": [
    "#Условие задачи. Нам предоставлены данные о баллах пяти студентов по трём экзаменам. Данные находятся во \n",
    "#вложенном списке student_scores.\n",
    "\n",
    "student_scores = [\n",
    "    [56, 90, 80],\n",
    "    [80, 86, 92],\n",
    "    [91, 76, 89],\n",
    "    [91, 42, 60],\n",
    "    [65, 30, 90]\n",
    "]\n",
    "#Каждая строка таблицы соответствует номеру студента, а каждый из трёх столбцов соответствует номеру \n",
    "#экзамена (первый — математика, второй — информатика, третий — русский язык).\n",
    "#Необходимо найти средний балл студентов по каждому из экзаменов и общий средний балл по всем экзаменам.\n",
    "\n",
    "N = len(student_scores) #количество студентов\n",
    "M = len(student_scores[0]) #количество экзаменов\n",
    "summ_math = 0 #сумма баллов всех студентов по математике\n",
    "summ_inf = 0 #сумма баллов всех студентов по информатике\n",
    "summ_rus = 0 #сумма баллов всех студентов по русскому языку\n",
    "count_student_summ = 0 #сумма баллов каждого студента по всем экзаменам\n",
    "for i in range(N):\n",
    "    summ_math += student_scores[i][0] \n",
    "    summ_inf += student_scores[i][1]\n",
    "    summ_rus += student_scores[i][2]\n",
    "    for j in range(M):\n",
    "        count_student_summ += student_scores[i][j]\n",
    "print(f'средний балл всех студентов по математике:{summ_math / N}')         \n",
    "print(f'средний балл всех студентов по информатике:{summ_inf / N}')\n",
    "print(f'средний балл всех студентов по русскому языку:{summ_rus / N}')        \n",
    "print(f'средний балл всех студентов по всем предметам:{round(count_student_summ / (N * M), 1)}')"
   ]
  },
  {
   "cell_type": "code",
   "execution_count": null,
   "metadata": {},
   "outputs": [
    {
     "name": "stdout",
     "output_type": "stream",
     "text": [
      "2\n"
     ]
    }
   ],
   "source": [
    "#функция нахождения среднего значения в списке:\n",
    "from statistics import mean\n",
    "simple_list = [1, 2, 3]\n",
    "mean_value = mean(simple_list)\n",
    "print(mean_value)"
   ]
  },
  {
   "cell_type": "code",
   "execution_count": null,
   "metadata": {},
   "outputs": [
    {
     "name": "stdout",
     "output_type": "stream",
     "text": [
      "False\n"
     ]
    }
   ],
   "source": [
    "#Напишите код, который определяет, является ли вложенный список test_matrix квадратной матрицей \n",
    "#(то есть матрицей, у которой количество строк равно количеству столбцов).\n",
    "#Примеры квадратной и неквадратной (прямоугольной) матрицы: слева — квадратная, справа — неквадратная.\n",
    "#В результате работы программы в переменной is_square должно лежать булево значение — True или False — \n",
    "#в зависимости от заданного вложенного списка.\n",
    "#Примеры работы программы:\n",
    "#test_matrix = [\n",
    "#    [1, 2, 3],\n",
    "#    [7, -1, 2],\n",
    "#    [123, 2, -1]\n",
    "#]\n",
    "## is_square = True\n",
    "\n",
    "#test_matrix = [\n",
    "#    [1, 2, 3],\n",
    "#    [7, -1, 2],\n",
    "#    [123, 2, -1],\n",
    "#    [123, 5, 1]\n",
    "#]\n",
    "## is_square = False\n",
    "\n",
    "#test_matrix = [\n",
    "#    [1, 2, 3,  4],\n",
    "#    [7, -1, 2, 5],\n",
    "#    [123, 2, -1, 3],\n",
    "#    [123, 5, 1]\n",
    "#]\n",
    "## is_square = False\n",
    "\n",
    "test_matrix = [\n",
    "    [1, 2, 3],\n",
    "    [7, -1, 2],\n",
    "    [123, 2, -1],\n",
    "    [123, 5, 1]\n",
    "]\n",
    "\n",
    "N = len(test_matrix)\n",
    "M = len(test_matrix[0])\n",
    "is_square = (N == M)\n",
    "print(is_square)"
   ]
  },
  {
   "cell_type": "code",
   "execution_count": null,
   "metadata": {},
   "outputs": [
    {
     "name": "stdout",
     "output_type": "stream",
     "text": [
      "[[25, 27, 28, 26, 27, 26, 25, 2, 26], [21, 22, 28, 27, 28, 26, 25, 19, 26], [19, 21, 25, 27, 28, 25, 21, 20, 26]]\n"
     ]
    }
   ],
   "source": [
    "#При формировании данных о температуре за три летних месяца допустили ошибку: некоторые значения \n",
    "#оказались отрицательными. Вам необходимо заменить все отрицательные значения на положительные.\n",
    "#Список со значениями температуры задан в переменной temp. Необходимо перезаписать значения этого\n",
    "#списка.\n",
    "#Пример работы программы:\n",
    "#temp = [[25, 27, 28, 26, 27, -26, -25, -2, 26], [21, 22, 28, 27, 28, 26, 25, 19, 26], \n",
    "# [-19, 21, 25, -27, 28, 25, 21, 20, 26]]\n",
    "\n",
    "# После обработки\n",
    "## temp = [[25, 27, 28, 26, 27, 26, 25, 2, 26], [21, 22, 28, 27, 28, 26, 25, 19, 26], \n",
    "# [19, 21, 25, 27, 28, 25, 21, 20, 26]]\n",
    "\n",
    "temp = [[25, 27, 28, 26, 27, -26, -25, -2, 26], [21, 22, 28, 27, 28, 26, 25, 19, 26], \n",
    "        [-19, 21, 25, -27, 28, 25, 21, 20, 26]]\n",
    "\n",
    "N = len(temp)\n",
    "M = len(temp[0])\n",
    "\n",
    "for i in range(N):\n",
    "    for j in range(M):\n",
    "        if temp[i][j] < 0:\n",
    "            temp[i][j] *= (-1)\n",
    "print(temp)             "
   ]
  },
  {
   "cell_type": "code",
   "execution_count": null,
   "metadata": {},
   "outputs": [
    {
     "name": "stdout",
     "output_type": "stream",
     "text": [
      "[0.73, 0.62, 0.52, 0.76]\n",
      "0.76\n"
     ]
    }
   ],
   "source": [
    "#Дан список customer_satisfaction, состоящий из вложенных списков с показателями \n",
    "#удовлетворённости клиентов компании по месяцам. Удовлетворённость измеряется от 0 до 1.\n",
    "#Пример такого списка:\n",
    "\n",
    "customer_satisfaction = [\n",
    "    [0.87, 0.56, 0.77],\n",
    "    [0.22, 0.46, 0.56, 0.89, 0.95],\n",
    "    [0.45, 0.44, 0.68],\n",
    "    [0.73, 0.88, 0.95, 0.49]\n",
    "]\n",
    "#Напишите программу, которая вычисляет средние значения удовлетворённости клиентов за каждый \n",
    "#месяц (среднее значение в каждом из вложенных списков), округлённые до двух знаков после \n",
    "#точки-разделителя, а также максимальное из этих средних значений.\n",
    "#Средняя удовлетворённость по месяцам должна быть представлена в виде списка month_satisfaction. \n",
    "#Максимальная удовлетворённость должна быть представлена в виде float-числа и записана в \n",
    "#переменную max_satisfaction.\n",
    "#Пример работы программы:\n",
    "#customer_satisfaction = [\n",
    "#    [0.87, 0.56, 0.77],\n",
    "#    [0.22, 0.46, 0.56, 0.89, 0.95],\n",
    "#    [0.45, 0.44, 0.68],\n",
    "#    [0.73, 0.88, 0.95, 0.49]\n",
    "#]\n",
    "\n",
    "## month_satisfaction = [0.73, 0.62, 0.52, 0.76]\n",
    "## max_satisfaction = 0.76\n",
    "#При решении задачи постарайтесь обойтись без использования встроенных функций для вычисления \n",
    "# суммы списка (sum), длины списка (len), а также максимального значения в списке (max). Решите \n",
    "# задачу, используя вложенные циклы, и опишите весь алгоритм самостоятельно.\n",
    "\n",
    "month_satisfaction = []\n",
    "#находим среднее значение каждого месяца и добавляем в список\n",
    "for month in customer_satisfaction:\n",
    "    summ_month = 0 #накопительная переменная для суммы значений месяца\n",
    "    count_iter = 0 #создаем счетчик итераций внутреннего цикла\n",
    "    for value in month:\n",
    "        summ_month += value\n",
    "        count_iter += 1\n",
    "    mean_value = round(summ_month / count_iter, 2)\n",
    "    month_satisfaction.append(mean_value)\n",
    "print(month_satisfaction)         \n",
    "#находим максимальное значение в списке\n",
    "max_satisfaction = month_satisfaction[0] #назначаем максимальным значением 1-й элемент списка     \n",
    "for value in month_satisfaction:\n",
    "    if value > max_satisfaction:\n",
    "        max_satisfaction = value #max_value присваиваем значение value, если value больше\n",
    "print(round(max_satisfaction, 2))        \n",
    "        "
   ]
  },
  {
   "cell_type": "code",
   "execution_count": null,
   "metadata": {},
   "outputs": [
    {
     "name": "stdout",
     "output_type": "stream",
     "text": [
      "Day 1:-5\n",
      "Day 2:2\n",
      "Day 3:4\n",
      "Day 4:8\n",
      "Day 5:12\n",
      "Day 6:-7\n",
      "Day 7:5\n"
     ]
    }
   ],
   "source": [
    "user_dynamics = [-5, 2, 4, 8, 12, -7, 5]\n",
    "number = 1\n",
    "for value in user_dynamics:\n",
    "    print(f'Day {number}:{value}')\n",
    "    number += 1\n",
    "    "
   ]
  },
  {
   "cell_type": "code",
   "execution_count": null,
   "metadata": {},
   "outputs": [
    {
     "name": "stdout",
     "output_type": "stream",
     "text": [
      "Day 1: -5\n",
      "Day 2: 2\n",
      "Day 3: 4\n",
      "Day 4: 8\n",
      "Day 5: 12\n",
      "Day 6: -7\n",
      "Day 7: 5\n"
     ]
    }
   ],
   "source": [
    "user_dynamics = [-5, 2, 4, 8, 12, -7, 5]\n",
    "N = len(user_dynamics)\n",
    "for i in range(N):\n",
    "    print(f'Day {i + 1}: {user_dynamics[i]}')\n",
    "    "
   ]
  },
  {
   "cell_type": "code",
   "execution_count": null,
   "metadata": {},
   "outputs": [
    {
     "name": "stdout",
     "output_type": "stream",
     "text": [
      "day 1: -5\n",
      "day 2: 2\n",
      "day 3: 4\n",
      "day 4: 8\n",
      "day 5: 12\n",
      "day 6: -7\n",
      "day 7: 5\n"
     ]
    }
   ],
   "source": [
    "user_dynamics = [-5, 2, 4, 8, 12, -7, 5]\n",
    "for i, value in enumerate(user_dynamics):\n",
    "    print(f'day {i + 1}: {value}')"
   ]
  },
  {
   "cell_type": "code",
   "execution_count": null,
   "metadata": {},
   "outputs": [
    {
     "name": "stdout",
     "output_type": "stream",
     "text": [
      "Churn value:  -5\n",
      "Number day:  1\n",
      "Churn value:  -7\n",
      "Number day:  6\n"
     ]
    }
   ],
   "source": [
    "#В нашем распоряжении всё та же информация о динамике пользователей user_dynamics в нашем \n",
    "#приложении. Мы дали начинающему программисту задание написать программу, которая находит номер\n",
    "#всех дней, когда наблюдался отток клиентов (динамика была отрицательной), а также находит \n",
    "#количество ушедших в эти дни клиентов. Он написал следующий код:\n",
    "\n",
    "user_dynamics = [-5, 2, 4, 8, 12, -7, 5]\n",
    "number_negative = None #объявляем переменную, в которой будем хранить номер последнего дня \n",
    "#оттока, изначально она пустая (None)\n",
    "N = len(user_dynamics) #вычисляем длину списка\n",
    "#создаём цикл по элементам последовательности от 0 до N (не включая N)\n",
    "for i in range(N): # i — индекс текущего элемента\n",
    "    #проверяем условие оттока — текущий элемент отрицательный\n",
    "    if user_dynamics[i] < 0: #если условие истинно,\n",
    "        number_negative = i+1  #перезаписываем значение номера дня\n",
    "        print(\"Churn value: \", user_dynamics[i]) # выводим количество ушедших в этот день \n",
    "        #пользователей\n",
    "        print(\"Number day: \", number_negative) # выводим номер дня\n",
    "#Но он не знал, что есть функция enumerate().\n",
    "#Ваша задача — переписать код так, чтобы он работал с помощью функции enumerate(). \n",
    "#Таким образом, вам необходимо создать цикл по индексам и элементам списка user_dynamics."
   ]
  },
  {
   "cell_type": "code",
   "execution_count": null,
   "metadata": {},
   "outputs": [
    {
     "name": "stdout",
     "output_type": "stream",
     "text": [
      "Day number 1, churn value: 5\n",
      "Day number 6, churn value: 7\n"
     ]
    }
   ],
   "source": [
    "user_dynamics = [-5, 2, 4, 8, 12, -7, 5]\n",
    "for number, dynamic in enumerate(user_dynamics):\n",
    "    if dynamic < 0:\n",
    "        print(f'Day number {number + 1}, churn value: {dynamic * (-1)}')"
   ]
  },
  {
   "cell_type": "code",
   "execution_count": null,
   "metadata": {},
   "outputs": [
    {
     "name": "stdout",
     "output_type": "stream",
     "text": [
      "[[0, 'Hel'], [1, 'my'], [2, 'nam'], [3, 'is'], [4, 'Eze'], [5, 'I'], [6, 'lik'], [7, 'kni']]\n"
     ]
    }
   ],
   "source": [
    "#Дан список, состоящий из строк. Список хранится в переменной str_list. Создайте новый список \n",
    "# cut_str_list.\n",
    "#В цикле добавляйте в список cut_str_list списки, состоящие из порядкового номера строки из \n",
    "# списка str_list (номер в рамках данной задачи начинается с 0) и трёх первых символов из \n",
    "# каждой строки. Если длина строки меньше трёх символов, то добавляется вся строка целиком.\n",
    "#Пример работы программы:\n",
    "\n",
    "#str_list = ['Hello', 'my', 'name', 'is', 'Ezeikel', 'I', 'like', 'knitting']\n",
    "\n",
    "## cut_str_list = [[0, 'Hel'], [1, 'my'], [2, 'nam'], [3, 'is'], [4, 'Eze'], [5, 'I'], \n",
    "# [6, 'lik'], [7, 'kni']]\n",
    "#При решении задачи воспользуйтесь функцией enumerate().\n",
    "\n",
    "str_list = ['Hello', 'my', 'name', 'is', 'Ezeikel', 'I', 'like', 'knitting']\n",
    "cut_str_list = []\n",
    "for number, word in enumerate(str_list):\n",
    "    curent_list = []\n",
    "    if len(word) > 3: \n",
    "        curent_list.extend((number, str_list[number][:3]))\n",
    "    else:\n",
    "         curent_list.extend((number, str_list[number]))\n",
    "    cut_str_list.append(curent_list)                \n",
    "print(cut_str_list)    "
   ]
  },
  {
   "cell_type": "code",
   "execution_count": null,
   "metadata": {},
   "outputs": [
    {
     "name": "stdout",
     "output_type": "stream",
     "text": [
      "Inventory is full!\n",
      "['Blood Moon Sword', 'Sunset-colored sword', 'Bow of Stars']\n"
     ]
    }
   ],
   "source": [
    "#Условие задачи. Мы разрабатываем игру, и в ней предусмотрен инвентарь с ограниченным числом \n",
    "#ячеек. Переменная inventory описывает список вещей, которые хранятся у игрока в инвентаре. \n",
    "#Пусть изначально инвентарь пуст. У игрока есть только три свободные ячейки инвентаря.\n",
    "#Список вещей, которые он хочет положить, хранится в переменной to_inventory.\n",
    "\n",
    "to_inventory = ['Blood Moon Sword', 'Sunset-colored sword', 'Bow of Stars', 'Gain Stone']\n",
    "#Необходимо написать программу, которая переносит вещи из списка to_inventory в список inventory,\n",
    "#но если количество этих вещей превысит 3, то выводится предупреждение и перенос вещей \n",
    "# заканчивается.\n",
    "\n",
    "inventory = []\n",
    "for item in to_inventory:\n",
    "    if len(inventory) == 3:\n",
    "        print('Inventory is full!')\n",
    "        break\n",
    "    else:\n",
    "        inventory.append(item)\n",
    "print(inventory)        "
   ]
  },
  {
   "cell_type": "code",
   "execution_count": null,
   "metadata": {},
   "outputs": [
    {
     "name": "stdout",
     "output_type": "stream",
     "text": [
      "['Blood Moon Sword', 'Sunset-colored sword', 'Bow of Stars']\n"
     ]
    }
   ],
   "source": [
    "to_inventory = ['Blood Moon Sword', 'Sunset-colored sword', 'Bow of Stars', 'Gain Stone']\n",
    "inventory = []\n",
    "n = 0\n",
    "while len(inventory) < 3:\n",
    "    inventory.append(to_inventory[n])\n",
    "    n += 1\n",
    "print(inventory)    "
   ]
  },
  {
   "cell_type": "code",
   "execution_count": null,
   "metadata": {},
   "outputs": [
    {
     "name": "stdout",
     "output_type": "stream",
     "text": [
      "Inventory is full!\n",
      "['Blood Moon Sword', 'Sunset-colored sword', 'Bow of Stars']\n"
     ]
    }
   ],
   "source": [
    "to_inventory = ['Blood Moon Sword', 'Sunset-colored sword', 'Bow of Stars', 'Gain Stone']\n",
    "inventory = []\n",
    "n = 0\n",
    "while True:\n",
    "    inventory.append(to_inventory[n])\n",
    "    n += 1\n",
    "    if len(inventory) == 3:\n",
    "        print('Inventory is full!')\n",
    "        break\n",
    "print(inventory)        "
   ]
  },
  {
   "cell_type": "code",
   "execution_count": null,
   "metadata": {},
   "outputs": [
    {
     "name": "stdout",
     "output_type": "stream",
     "text": [
      "n - степень числа 3\n"
     ]
    }
   ],
   "source": [
    "#Условие задачи. В теории шифрования очень активно используются степени числа. Берётся число и\n",
    "#несколько раз возводится в некоторую степень. Для дешифрации нужно определить, какое число было\n",
    "#задано изначально.\n",
    "#Например, изначально задано простое число 3, его возвели в степень 4 и получили число 81.\n",
    "#Необходимо написать программу, которая проверяет, что число n является степенью числа 3.\n",
    "\n",
    "n = 81\n",
    "while True:\n",
    "    if n % 3 == 0:\n",
    "        n //= 3\n",
    "        if n == 1:\n",
    "            print('n - степень числа 3')\n",
    "            break\n",
    "    else:\n",
    "        print('n не является степенью числа 3')\n",
    "        break\n",
    "           "
   ]
  },
  {
   "cell_type": "code",
   "execution_count": null,
   "metadata": {},
   "outputs": [
    {
     "name": "stdout",
     "output_type": "stream",
     "text": [
      "Syracuse hypothesis holds for number 89\n"
     ]
    }
   ],
   "source": [
    "#Допишите программу, которая проверяет гипотезу Сиракуз.\n",
    "#Гипотеза Сиракуз заключается в том, что любое натуральное число n можно свести к 1, если \n",
    "#повторять над ним следующие действия:\n",
    "#если число чётное, разделить его нацело пополам, т. е. n = n // 2;\n",
    "#если нечётное — умножить на 3, прибавить 1 и результат нацело разделить на 2, т. е. \n",
    "#n = (n * 3 + 1) // 2. Мы тестируем только целые числа!\n",
    "#Пример работы программы:\n",
    "#n = 19\n",
    "## Syracuse hypothesis holds for number 19\n",
    "\n",
    "#n = 25921\n",
    "## Syracuse hypothesis holds for number 25921\n",
    "\n",
    "n = 89\n",
    "origin = n\n",
    "# Создаём бесконечный цикл\n",
    "while True:\n",
    "    if n % 2 == 0:\n",
    "        n //= 2\n",
    "    else:\n",
    "        n = (n * 3 + 1) // 2        \n",
    "    # Проверяем, что результат равен 1\n",
    "    if n == 1: \n",
    "        # Если условие выполняется, выводим утвердительное сообщение.\n",
    "        print(f'Syracuse hypothesis holds for number {origin}')\n",
    "        break\n",
    "    "
   ]
  },
  {
   "cell_type": "code",
   "execution_count": null,
   "metadata": {},
   "outputs": [
    {
     "name": "stdout",
     "output_type": "stream",
     "text": [
      "send present to 103303\n",
      "send present to 100423\n"
     ]
    }
   ],
   "source": [
    "client_status = {\n",
    "    103303: 'yes', \n",
    "    103044: 'no',\n",
    "    100423: 'yes',\n",
    "    103032: 'no',\n",
    "    103902: 'no'\n",
    "}\n",
    "for user_id in client_status:\n",
    "    if client_status[user_id] == 'no':\n",
    "        continue\n",
    "    else:\n",
    "        print(f'send present to {user_id}')"
   ]
  },
  {
   "cell_type": "code",
   "execution_count": null,
   "metadata": {},
   "outputs": [
    {
     "name": "stdout",
     "output_type": "stream",
     "text": [
      "5\n"
     ]
    }
   ],
   "source": [
    "#Дан словарь mixture_dict. Значения в нём могут быть трёх типов: строки (str) или числа \n",
    "# (int и float).\n",
    "#Посчитайте, сколько значений в словаре mixture_dict являются числами. Результат занесите в \n",
    "# переменную count_numbers. Используйте в своём коде оператор continue.\n",
    "#Примеры работы программы:\n",
    "#mixture_dict = {'a': 15, 'b': 10.5, 'c': '15', 'd': 50, 'e': 15, 'f': '15'}\n",
    "## count_numbers = 4\n",
    "\n",
    "#mixture_dict = {'key1': 24, 'key2': '1.4', 'key3': 14, 'key4': 16.24, 'key6': 124.2414, \n",
    "# 'key7': 12.2}\n",
    "## count_numbers = 5\n",
    "\n",
    "mixture_dict = {'key1': 24, 'key2': '1.4', 'key3': 14, 'key4': 16.24, 'key6': 124.2414, 'key7': 12.2}\n",
    "count_numbers = 0\n",
    "for key in mixture_dict:\n",
    "    if type(mixture_dict[key]) == str:\n",
    "        continue\n",
    "    else:\n",
    "        count_numbers += 1\n",
    "print(count_numbers)        "
   ]
  },
  {
   "cell_type": "code",
   "execution_count": null,
   "metadata": {},
   "outputs": [
    {
     "name": "stdout",
     "output_type": "stream",
     "text": [
      "{'t': 88, 'h': 63, 'e': 112, 'r': 39, 'a': 70, 'b': 15, 'i': 47, '-': 2, 'o': 80, 'l': 55, 'w': 31, 'n': 57, 's': 60, 'g': 17, 'k': 14, 'u': 22, 'f': 28, 'm': 17, 'y': 18, ',': 13, 'd': 43, 'p': 23, 'c': 9, 'v': 8, '.': 5, 'x': 1, ';': 3, 'j': 2, '`': 3, \"'\": 5, ':': 1, '!': 4, '(': 1, ')': 1}\n"
     ]
    }
   ],
   "source": [
    "#Условие задачи. Подсчитать количество вхождений каждого символа в заданном тексте. В результате \n",
    "#работы программы должен быть сформирован словарь, ключи которого — символы текста, а значения — \n",
    "#количество вхождений символа в тексте.\n",
    "\n",
    "text = \"\"\"\n",
    "The rabbit-hole went straight on like a tunnel for some way, and then dipped suddenly down, so \n",
    "suddenly that Alice had not a moment to think about stopping herself before she found herself \n",
    "falling down a very deep well.\n",
    "Either the well was very deep, or she fell very slowly, for she had plenty of time as she went \n",
    "down to look about her and to wonder what was going to happen next. First, she tried to look \n",
    "down and make out what she was coming to, but it was too dark to see anything; then she looked \n",
    "at the sides of the well, and noticed that they were filled with cupboards and book-shelves; \n",
    "here and there she saw maps and pictures hung upon pegs. She took down a jar from one of the \n",
    "shelves as she passed; it was labelled `ORANGE MARMALADE', but to her great disappointment it \n",
    "was empty: she did not like to drop the jar for fear of killing somebody, so managed to put it \n",
    "into one of the cupboards as she fell past it.\n",
    "`Well!' thought Alice to herself, `after such a fall as this, I shall think nothing of tumbling \n",
    "down stairs! How brave they'll all think me at home! Why, I wouldn't say anything about it, even \n",
    "if I fell off the top of the house!' (Which was very likely true.)\n",
    "\"\"\"\n",
    "text = text.lower()\n",
    "text = text.replace(' ', '')\n",
    "text = text.replace('\\n', '')\n",
    "\n",
    "count_dict = {}\n",
    "for symbol in text:\n",
    "    if symbol not in count_dict:\n",
    "        count_dict[symbol] = 1\n",
    "    else:\n",
    "        count_dict[symbol] += 1\n",
    "print(count_dict)"
   ]
  },
  {
   "cell_type": "code",
   "execution_count": null,
   "metadata": {},
   "outputs": [
    {
     "name": "stdout",
     "output_type": "stream",
     "text": [
      "{'.': 3, ',': 12, ';': 2, '?': 0, '!': 1, '-': 2}\n"
     ]
    }
   ],
   "source": [
    "#Дана переменная text, в которой содержится некоторый текст. В этом тексте могут присутствовать \n",
    "#знаки препинания: точки ('.'), запятые(','), точки с запятой (';'), вопросительные ('?') и \n",
    "#восклицательные знаки ('!'), а также тире ('—').\n",
    "#Напишите программу, формирующую словарь count_punctuation, ключами которого являются знаки \n",
    "#препинания, а значениями — их количество в тексте.\n",
    "#Обратите внимание, что если какого-то из шести указанных знаков препинания нет в тексте, то в \n",
    "#итоговом словаре значение, соответствующее этому знаку препинания, должно быть равно 0.\n",
    "#Примеры работы программы:\n",
    "\n",
    "#text = \"\"\"\n",
    "#She sells sea shells on the sea shore;\n",
    "#The shells that she sells are sea shells I am sure.\n",
    "#So if she sells sea shells on the sea shore,\n",
    "#I am sure that the shells are sea shore shells.\n",
    "#\"\"\"\n",
    "## count_punctuation = {',': 1, '.': 2, '?': 0, '!': 0, ';': 1, '—': 0}\n",
    "\n",
    "text = \"\"\"\n",
    "Иной раз казалось ему, что он уже с месяц лежит; в другой раз — что всё тот же день идет. Но об \n",
    "том — об том он совершенно забыл; зато ежеминутно помнил, что об чем-то забыл, чего нельзя \n",
    "забывать, — терзался, мучился, припоминая, стонал, впадал в бешенство или в ужасный, невыносимый \n",
    "страх. Тогда он порывался с места, хотел бежать, но всегда кто-нибудь его останавливал силой, и \n",
    "он опять впадал в бессилие и беспамятство. Наконец он совсем пришел в себя!\n",
    "\"\"\"\n",
    "# count_punctuation = {',': 12, '.': 3, '?': 0, '!': 1, ';': 2, '-': 2}\n",
    "\n",
    "count_punctuation = {'.' : 0, ',' : 0, ';' : 0, '?' : 0, '!' : 0, '-' : 0}\n",
    "for symbol in text:\n",
    "    if symbol in count_punctuation:\n",
    "        count_punctuation[symbol] += 1\n",
    "print(count_punctuation)   \n"
   ]
  },
  {
   "cell_type": "code",
   "execution_count": null,
   "metadata": {},
   "outputs": [
    {
     "name": "stdout",
     "output_type": "stream",
     "text": [
      "{'she': 3, 'sells': 3, 'sea': 6, 'shells': 6, 'on': 2, 'the': 4, 'shore': 3, 'that': 2, 'are': 2, 'i': 2, 'am': 2, 'sure': 2, 'so': 1, 'if': 1}\n"
     ]
    }
   ],
   "source": [
    "#Условие задачи. Подсчитать количество вхождений каждого слова в заданном тексте. В результате \n",
    "#работы программы должен быть сформирован словарь, ключи которого — слова текста, а значения —\n",
    "#количество вхождений слов в тексте.\n",
    "\n",
    "text = \"\"\"\n",
    "She sells sea shells on the sea shore;\n",
    "The shells that she sells are sea shells I am sure.\n",
    "So if she sells sea shells on the sea shore,\n",
    "I am sure that the shells are sea shore shells.\n",
    "\"\"\"\n",
    "text = text.lower()\n",
    "text = text.replace('.', '')\n",
    "text = text.replace(',', '')\n",
    "text = text.replace(';', '')\n",
    "text = text.replace('\\n', ' ')\n",
    "word_list = text.split()\n",
    "\n",
    "count_dict = {}\n",
    "for word in word_list:\n",
    "    if word not in count_dict:\n",
    "        count_dict[word] = 1\n",
    "    else:\n",
    "        count_dict[word] += 1\n",
    "print(count_dict)        "
   ]
  },
  {
   "cell_type": "code",
   "execution_count": null,
   "metadata": {},
   "outputs": [
    {
     "name": "stdout",
     "output_type": "stream",
     "text": [
      "{'a': 3, 'robot': 1, 'may': 1, 'not': 1, 'injure': 1, 'human': 2, 'being': 2, 'or': 1, 'through': 1, 'inaction': 1, 'allow': 1, 'to': 2, 'come': 1, 'harm': 1}\n"
     ]
    }
   ],
   "source": [
    "# Дано предложение, хранящееся в переменной sentence.\n",
    "# Выполните следующие действия:\n",
    "# Приведите все символы в предложении к нижнему регистру.\n",
    "# Исключите знаки препинания (запятые и точки).\n",
    "# Разделите строку по пробелам и создайте список слов, которые входят в предложение.\n",
    "# Подсчитайте количество повторений каждого слова.\n",
    "# Для подсчёта слов используйте словарь. Ключами словаря будут слова, а значениями — число \n",
    "# вхождений этих слов в предложение. В результате работы вашей программы в переменной word_dict \n",
    "# должен храниться результирующий словарь.\n",
    "# Примеры работы программы:\n",
    "\n",
    "# sentence = 'A roboT MAY Not injure a humAn BEING or, tHROugh INACtion, allow a human BEING to come to harm.'\n",
    "# ## word_dict = {'a': 3, 'robot': 1, 'may': 1, 'not': 1, 'injure': 1, 'human': 2, 'being': 2, 'or': 1, 'through': 1, 'inaction': 1, 'allow': 1, 'to': 2, 'come': 1, 'harm': 1}\n",
    "\n",
    "# sentence = \"СчастьЕ нЕ в тоМ, чтобы делать всегда, что хочешь, а в Том, чтОБЫ всегдА хотеть того, ЧТО дЕлаешь.\"\n",
    "# ## word_dict = {'счастье': 1, 'не': 1, 'в': 2, 'том': 2, 'чтобы': 2, 'делать': 1, 'всегда': 2, 'что': 2, 'хочешь': 1, 'а': 1, 'хотеть': 1, 'того': 1, 'делаешь': 1}\n",
    "\n",
    "sentence = 'A roboT MAY Not injure a humAn BEING or, tHROugh INACtion, allow a human BEING to come to harm.'\n",
    "\n",
    "sentence = sentence.lower()\n",
    "sentence = sentence.replace('.', '')\n",
    "sentence = sentence.replace(',', '')\n",
    "list_word = sentence.split()\n",
    "\n",
    "word_dict = {}\n",
    "for word in list_word:\n",
    "    if word not in word_dict:\n",
    "        word_dict[word] = 1\n",
    "    else:\n",
    "        word_dict[word] += 1\n",
    "print(word_dict)   \n"
   ]
  },
  {
   "cell_type": "code",
   "execution_count": null,
   "metadata": {},
   "outputs": [
    {
     "name": "stdout",
     "output_type": "stream",
     "text": [
      "{'text': 2, 'morning': 0, 'notepad': 1, 'television': 1, 'ornament': 1}\n"
     ]
    }
   ],
   "source": [
    "# Дан список из строк str_list. Например:\n",
    "# str_list = [\"text\", \"morning\", \"notepad\", \"television\", \"ornament\"]\n",
    "# Напишите программу для подсчёта количества вхождений заданного символа в каждую из строк этого \n",
    "# списка. Искомый символ хранится в переменной symbol_to_check.\n",
    "# Для подсчёта используйте словарь: в качестве ключа запишите в него строку, в качестве значения \n",
    "# — число вхождений искомого символа в эту строку. Для хранения словаря используйте переменную с \n",
    "# именем word_dict. \n",
    "# Примеры работы программы:\n",
    "\n",
    "# str_list = [\"text\", \"morning\", \"notepad\", \"television\", \"ornament\"]\n",
    "# symbol_to_check = 't'\n",
    "# ## word_dict = {'text': 2, 'morning': 0, 'notepad': 1, 'television': 1, 'ornament': 1}\n",
    "\n",
    "# str_list = [\"text\", \"morning\", \"notepad\", \"television\", \"ornament\"]\n",
    "# symbol_to_check = 'n'\n",
    "# ## word_dict = {'text': 0, 'morning': 2, 'notepad': 1, 'television': 1, 'ornament': 2}\n",
    "# Примечание: Для тренировки рекомендуем использовать вложенные циклы: внешний — по элементам \n",
    "# списка, внутренний — по символам в текущей строке.\n",
    "\n",
    "str_list = [\"text\", \"morning\", \"notepad\", \"television\", \"ornament\"]\n",
    "symbol_to_check = 't'\n",
    "\n",
    "word_dict = {}\n",
    "for word in str_list:\n",
    "    word_dict[word] = 0\n",
    "    for symbol in word:\n",
    "        if symbol == symbol_to_check:\n",
    "            word_dict[word] += 1\n",
    "print(word_dict)            "
   ]
  },
  {
   "cell_type": "code",
   "execution_count": null,
   "metadata": {},
   "outputs": [
    {
     "name": "stdout",
     "output_type": "stream",
     "text": [
      "[1, 4, 9]\n"
     ]
    }
   ],
   "source": [
    "dict1 = {1: 1, 2: 9, 3: 4}\n",
    "sorted_values = sorted(dict1.values()) # Sort the values\n",
    "print(sorted_values)\n"
   ]
  },
  {
   "cell_type": "code",
   "execution_count": null,
   "metadata": {},
   "outputs": [
    {
     "name": "stdout",
     "output_type": "stream",
     "text": [
      "element is not found!\n",
      "False\n"
     ]
    }
   ],
   "source": [
    "def in_list(list_in, obj):\n",
    "    for element in list_in:\n",
    "        if element == obj:\n",
    "            print('object is found!')\n",
    "            return True\n",
    "    print('element is not found!')    \n",
    "    return False\n",
    "\n",
    "my_list = [1,2,5,7,10]\n",
    "result = in_list(my_list, 3)\n",
    "print(result)"
   ]
  },
  {
   "cell_type": "code",
   "execution_count": null,
   "metadata": {},
   "outputs": [
    {
     "name": "stdout",
     "output_type": "stream",
     "text": [
      "750\n"
     ]
    }
   ],
   "source": [
    "# Напишите функцию get_total(units, price), которая принимает на вход число единиц товара и \n",
    "# стоимость каждой единицы. Функция возвращает одно число — общую стоимость данного числа \n",
    "# товаров.\n",
    "# Пример: print(get_total(15, 50))\n",
    "\n",
    "def get_total(units, price):\n",
    "    return units * price\n",
    "\n",
    "print(get_total(15, 50))"
   ]
  },
  {
   "cell_type": "code",
   "execution_count": null,
   "metadata": {},
   "outputs": [
    {
     "name": "stdout",
     "output_type": "stream",
     "text": [
      "9.0\n",
      "4.3267487109222245\n"
     ]
    }
   ],
   "source": [
    "# Модифицируйте функцию root так, чтобы передавать степень корня было необязательно. Если\n",
    "# степень корня не передана, функция должна возвращать значение квадратного корня.\n",
    "# Проверьте своё решение, вызвав функцию root:\n",
    "# print(root(81))\n",
    "# # Должно быть напечатано:\n",
    "# # 9.0\n",
    "\n",
    "def root(value, n = 2):\n",
    "    return value ** (1 / n)\n",
    "\n",
    "print(root(81))"
   ]
  },
  {
   "cell_type": "code",
   "execution_count": null,
   "metadata": {},
   "outputs": [
    {
     "name": "stdout",
     "output_type": "stream",
     "text": [
      "{'Ivanov': 5, 'Tihonova': 4}\n",
      "{'Smirnov': 3}\n",
      "{'Smirnov': 3, 'Kuznetsova': 5}\n"
     ]
    }
   ],
   "source": [
    "def add_mark(name, mark, journal={}):\n",
    "    # Присваиваем имени в журнале переданную оценку\n",
    "    journal[name] = mark\n",
    "    return journal\n",
    "\n",
    "group1 = {}\n",
    "# Добавим оценки двух студентов\n",
    "group1 = add_mark('Ivanov', 5, group1)\n",
    "group1 = add_mark('Tihonova', 4, group1)\n",
    "print(group1)\n",
    "group2 = add_mark('Smirnov', 3)\n",
    "print(group2)\n",
    "# Будет напечатано:\n",
    "# {'Smirnov': 3}\n",
    "# Аналогично для новой группы 3 добавим оценку Кузнецовой\n",
    "group3 = add_mark('Kuznetsova', 5)\n",
    "print(group3)"
   ]
  },
  {
   "cell_type": "code",
   "execution_count": null,
   "metadata": {},
   "outputs": [
    {
     "name": "stdout",
     "output_type": "stream",
     "text": [
      "{'Smirnov': 3}\n",
      "{'Kuznetsova': 5}\n"
     ]
    }
   ],
   "source": [
    "def add_mark(name, mark, journal=None):\n",
    "    if journal is None:\n",
    "        journal = {}\n",
    "        journal[name] = mark\n",
    "    return journal\n",
    "\n",
    "group2 = add_mark('Smirnov', 3)\n",
    "group3 = add_mark('Kuznetsova', 5)\n",
    "print(group2)\n",
    "print(group3)"
   ]
  },
  {
   "cell_type": "code",
   "execution_count": null,
   "metadata": {},
   "outputs": [
    {
     "ename": "ValueError",
     "evalue": "Invalid Mark!",
     "output_type": "error",
     "traceback": [
      "\u001b[1;31m---------------------------------------------------------------------------\u001b[0m",
      "\u001b[1;31mValueError\u001b[0m                                Traceback (most recent call last)",
      "\u001b[1;32md:\\Data Science\\IDE\\train_2.ipynb Cell 178\u001b[0m in \u001b[0;36m<cell line: 22>\u001b[1;34m()\u001b[0m\n\u001b[0;32m     <a href='vscode-notebook-cell:/d%3A/Data%20Science/IDE/train_2.ipynb#Y343sZmlsZQ%3D%3D?line=18'>19</a>\u001b[0m    journal[name] \u001b[39m=\u001b[39m mark\n\u001b[0;32m     <a href='vscode-notebook-cell:/d%3A/Data%20Science/IDE/train_2.ipynb#Y343sZmlsZQ%3D%3D?line=19'>20</a>\u001b[0m    \u001b[39mreturn\u001b[39;00m journal\n\u001b[1;32m---> <a href='vscode-notebook-cell:/d%3A/Data%20Science/IDE/train_2.ipynb#Y343sZmlsZQ%3D%3D?line=21'>22</a>\u001b[0m \u001b[39mprint\u001b[39m(add_mark(\u001b[39m'\u001b[39;49m\u001b[39mIvanov\u001b[39;49m\u001b[39m'\u001b[39;49m, \u001b[39m6\u001b[39;49m))\n",
      "\u001b[1;32md:\\Data Science\\IDE\\train_2.ipynb Cell 178\u001b[0m in \u001b[0;36madd_mark\u001b[1;34m(name, mark, journal)\u001b[0m\n\u001b[0;32m     <a href='vscode-notebook-cell:/d%3A/Data%20Science/IDE/train_2.ipynb#Y343sZmlsZQ%3D%3D?line=13'>14</a>\u001b[0m \u001b[39mdef\u001b[39;00m \u001b[39madd_mark\u001b[39m(name, mark, journal\u001b[39m=\u001b[39m\u001b[39mNone\u001b[39;00m):\n\u001b[0;32m     <a href='vscode-notebook-cell:/d%3A/Data%20Science/IDE/train_2.ipynb#Y343sZmlsZQ%3D%3D?line=14'>15</a>\u001b[0m    \u001b[39mif\u001b[39;00m mark \u001b[39mnot\u001b[39;00m \u001b[39min\u001b[39;00m \u001b[39mrange\u001b[39m(\u001b[39m2\u001b[39m, \u001b[39m6\u001b[39m):\n\u001b[1;32m---> <a href='vscode-notebook-cell:/d%3A/Data%20Science/IDE/train_2.ipynb#Y343sZmlsZQ%3D%3D?line=15'>16</a>\u001b[0m        \u001b[39mraise\u001b[39;00m \u001b[39mValueError\u001b[39;00m(\u001b[39m\"\u001b[39m\u001b[39mInvalid Mark!\u001b[39m\u001b[39m\"\u001b[39m)\n\u001b[0;32m     <a href='vscode-notebook-cell:/d%3A/Data%20Science/IDE/train_2.ipynb#Y343sZmlsZQ%3D%3D?line=16'>17</a>\u001b[0m    \u001b[39mif\u001b[39;00m journal \u001b[39mis\u001b[39;00m \u001b[39mNone\u001b[39;00m:\n\u001b[0;32m     <a href='vscode-notebook-cell:/d%3A/Data%20Science/IDE/train_2.ipynb#Y343sZmlsZQ%3D%3D?line=17'>18</a>\u001b[0m        journal \u001b[39m=\u001b[39m {}\n",
      "\u001b[1;31mValueError\u001b[0m: Invalid Mark!"
     ]
    }
   ],
   "source": [
    "# Дана функция add_mark:\n",
    "\n",
    "# def add_mark(name, mark, journal=None):\n",
    "#    # Добавьте здесь проверку аргумента mark\n",
    "#    if journal is None:\n",
    "#        journal = {}\n",
    "#    journal[name] = mark\n",
    "#    return journal\n",
    "# Дополните её код таким образом, чтобы возникала ошибка ValueError с текстом \"Invalid Mark!\" \n",
    "# при попытке поставить оценку не из списка: 2, 3, 4 или 5.\n",
    "# Пример\n",
    "# add_mark('Ivanov', 6)\n",
    "\n",
    "def add_mark(name, mark, journal=None):\n",
    "   if mark not in range(2, 6):\n",
    "       raise ValueError(\"Invalid Mark!\")\n",
    "   if journal is None:\n",
    "       journal = {}\n",
    "   journal[name] = mark\n",
    "   return journal\n",
    "\n",
    "print(add_mark('Ivanov', 6))"
   ]
  },
  {
   "cell_type": "code",
   "execution_count": null,
   "metadata": {},
   "outputs": [
    {
     "name": "stdout",
     "output_type": "stream",
     "text": [
      "5.0\n",
      "3.0\n",
      "Root of power 3 from 27 equals 3.0\n",
      "3.0\n",
      "Root of power 2 from 25 equals 5.0\n",
      "5.0\n",
      "Root of power 3 from 27 equals 3.0\n",
      "3.0\n"
     ]
    }
   ],
   "source": [
    "def root(value, n=2, verbose=False):\n",
    "    result = value ** (1/n)\n",
    "    if verbose:\n",
    "        # Аргументы в функции print,\n",
    "        # перечисленные через запятую,\n",
    "        # печатаются через пробел\n",
    "        print('Root of power', n, 'from',\n",
    "            value, 'equals', result)\n",
    "    return result\n",
    "\n",
    "print(root(25))\n",
    "print(root(27, 3))\n",
    "print(root(27, 3, True))\n",
    "print(root(25, verbose=True))\n",
    "print(root(verbose=True, n=3, value=27))\n",
    "\n"
   ]
  },
  {
   "cell_type": "code",
   "execution_count": null,
   "metadata": {},
   "outputs": [
    {
     "name": "stdout",
     "output_type": "stream",
     "text": [
      "25 125 625\n",
      "25, 125, 625\n",
      "numbers: 25, 125, 625\n"
     ]
    }
   ],
   "source": [
    "print(25, 125, 625)\n",
    "print(25, 125, 625, sep=', ')\n",
    "print('numbers:', end=' ')\n",
    "print(25, 125, 625, sep=', ')\n"
   ]
  },
  {
   "cell_type": "code",
   "execution_count": null,
   "metadata": {},
   "outputs": [
    {
     "name": "stdout",
     "output_type": "stream",
     "text": [
      "Shopping list: bread, butter, eggs\n"
     ]
    }
   ],
   "source": [
    "print(\"Shopping list:\", end=' ')\n",
    "print(\"bread\", \"butter\", \"eggs\", sep=', ')"
   ]
  },
  {
   "cell_type": "code",
   "execution_count": null,
   "metadata": {},
   "outputs": [
    {
     "name": "stdout",
     "output_type": "stream",
     "text": [
      "4.0\n"
     ]
    }
   ],
   "source": [
    "def mean_mark(name, *marks):\n",
    "    result = sum(marks) / len(marks)\n",
    "    return result\n",
    "\n",
    "print(mean_mark('Ivanov', 5, 4, 4, 3))"
   ]
  },
  {
   "cell_type": "code",
   "execution_count": null,
   "metadata": {},
   "outputs": [
    {
     "name": "stdout",
     "output_type": "stream",
     "text": [
      "150\n"
     ]
    }
   ],
   "source": [
    "# Напишите функцию mult, которая считает произведение переданных в неё чисел через запятую.\n",
    "# Примечание. Посчитайте результат с использованием цикла for.\n",
    "# Пример:\n",
    "# print(mult(3,5,10))\n",
    "# # Должно быть напечатано:\n",
    "# # 150\n",
    "\n",
    "def mult(*numbers):\n",
    "    P = 1\n",
    "    for number in numbers:\n",
    "        P *= number\n",
    "    return P\n",
    "\n",
    "print(mult(3,5,10))        "
   ]
  },
  {
   "cell_type": "code",
   "execution_count": null,
   "metadata": {},
   "outputs": [
    {
     "name": "stdout",
     "output_type": "stream",
     "text": [
      "['Python', 'SQL', 'Machine Learning', 'Statistics']\n",
      "Python, SQL, Machine Learning, Statistics\n"
     ]
    }
   ],
   "source": [
    "langs = ['Python', 'SQL', 'Machine Learning', 'Statistics']\n",
    "print(langs)\n",
    "print(*langs, sep=', ')"
   ]
  },
  {
   "cell_type": "code",
   "execution_count": null,
   "metadata": {},
   "outputs": [
    {
     "name": "stdout",
     "output_type": "stream",
     "text": [
      "Kuznetsov: 4.454545454545454\n"
     ]
    }
   ],
   "source": [
    "# Создайте список оценок студента:\n",
    "# marks = [4,5,5,5,5,3,4,4,5,4,5]\n",
    "# Передайте в функцию mean_mark, которая была создана в начале данного подраздела юнита, этот \n",
    "# список, а также фамилию студента Kuznetsov с помощью оператора распаковки.\n",
    "# Функция mean_mark продублирована:\n",
    "# def mean_mark(name, *marks):\n",
    "#     result = sum(marks) / len(marks)\n",
    "#     # Не возвращаем результат, а печатаем его\n",
    "#     print(name+':', result)\n",
    "# Пример:\n",
    "# # Должно быть напечатано:\n",
    "# # Kuznetsov: 4.454545454545454\n",
    "\n",
    "def mean_mark(name, *marks):\n",
    "    result = sum(marks) / len(marks)\n",
    "    print(name+':', result)\n",
    "    \n",
    "marks = [4,5,5,5,5,3,4,4,5,4,5]\n",
    "mean_mark('Kuznetsov', *marks)"
   ]
  },
  {
   "cell_type": "code",
   "execution_count": null,
   "metadata": {},
   "outputs": [
    {
     "name": "stdout",
     "output_type": "stream",
     "text": [
      "Week schedule:\n",
      "monday - Python\n",
      "tuesday - SQL\n",
      "friday - ML\n"
     ]
    }
   ],
   "source": [
    "def schedule(**kwargs):\n",
    "    print(\"Week schedule:\")\n",
    "    for key in kwargs:\n",
    "        print(f'{key} - {kwargs[key]}')\n",
    "\n",
    "schedule(monday='Python', tuesday='SQL', friday='ML')        "
   ]
  },
  {
   "cell_type": "code",
   "execution_count": null,
   "metadata": {},
   "outputs": [
    {
     "name": "stdout",
     "output_type": "stream",
     "text": [
      "Week schedule:\n",
      "Wednesday - Maths\n",
      "Thursday - SQL\n",
      "Friday - Statistics\n"
     ]
    }
   ],
   "source": [
    "lessons = {\n",
    "    'Wednesday': 'Maths',\n",
    "    'Thursday': 'SQL',\n",
    "    'Friday': 'Statistics'\n",
    "}\n",
    "\n",
    "schedule(**lessons)"
   ]
  },
  {
   "cell_type": "code",
   "execution_count": null,
   "metadata": {},
   "outputs": [
    {
     "name": "stdout",
     "output_type": "stream",
     "text": [
      "1, 4, 6, 8; 12, 45, 56, 190, 111; Python, Functions; "
     ]
    }
   ],
   "source": [
    "list1 = [1,4,6,8]\n",
    "list2 = [12, 45, 56, 190, 111]\n",
    "list3 = ['Python', 'Functions']\n",
    "\n",
    "how = {'sep': ', ', 'end': '; '}\n",
    "print(*list1, **how)\n",
    "print(*list2, **how)\n",
    "print(*list3, **how)\n"
   ]
  },
  {
   "cell_type": "code",
   "execution_count": null,
   "metadata": {},
   "outputs": [
    {
     "name": "stdout",
     "output_type": "stream",
     "text": [
      "3.0\n"
     ]
    }
   ],
   "source": [
    "nth_root = lambda num, n: num ** (1/n)\n",
    "\n",
    "print(nth_root(81, 4))\n"
   ]
  },
  {
   "cell_type": "code",
   "execution_count": null,
   "metadata": {},
   "outputs": [
    {
     "name": "stdout",
     "output_type": "stream",
     "text": [
      "odd\n"
     ]
    }
   ],
   "source": [
    "# Например, напишем lambda-функцию, которая определяет, является ли число чётным \n",
    "# (от англ. even — «чётный», odd — «нечётный») и возвращает слова «чётное» или «нечётное».\n",
    "\n",
    "is_even = lambda num: 'even' if num % 2 == 0 else 'odd'\n",
    "\n",
    "print(is_even(7))"
   ]
  },
  {
   "cell_type": "code",
   "execution_count": null,
   "metadata": {},
   "outputs": [
    {
     "name": "stdout",
     "output_type": "stream",
     "text": [
      "['German', 'Ivan', 'Kim', 'Margarita', 'Simon']\n",
      "['Kim', 'Ivan', 'Simon', 'German', 'Margarita']\n"
     ]
    }
   ],
   "source": [
    "names = ['Ivan', 'Kim', 'German', 'Margarita', 'Simon']\n",
    "\n",
    "names.sort()\n",
    "print(names)\n",
    "names.sort(key=lambda name: len(name))\n",
    "print(names)"
   ]
  },
  {
   "cell_type": "code",
   "execution_count": null,
   "metadata": {},
   "outputs": [
    {
     "name": "stdout",
     "output_type": "stream",
     "text": [
      "['cc', 'bbb', 'aaa', 'ababa', 'aaaaa']\n"
     ]
    }
   ],
   "source": [
    "# В качестве упражнения попробуйте переписать использованную lambda-функцию в классический вид \n",
    "# (с def). Назовите её get_length.\n",
    "# Затем воспользуйтесь полученной функцией для сортировки списка:\n",
    "# new_list = ['bbb', 'ababa','aaa', 'aaaaa',  'cc']\n",
    "# new_list.sort(key=get_length)\n",
    "# print(new_list)\n",
    "# # Должно быть напечатано:\n",
    "# # ['cc', 'bbb', 'aaa', 'ababa', 'aaaaa']\n",
    "\n",
    "def get_length(element):\n",
    "    return len(element)\n",
    "\n",
    "new_list = ['bbb', 'ababa','aaa', 'aaaaa',  'cc']\n",
    "new_list.sort(key=get_length)\n",
    "print(new_list)"
   ]
  },
  {
   "cell_type": "code",
   "execution_count": null,
   "metadata": {},
   "outputs": [
    {
     "name": "stdout",
     "output_type": "stream",
     "text": [
      "['cc', 'bbb', 'aaa', 'ababa', 'aaaaa']\n",
      "['cc', 'aaa', 'bbb', 'aaaaa', 'ababa']\n"
     ]
    }
   ],
   "source": [
    "new_list = ['bbb', 'ababa','aaa', 'aaaaa',  'cc']\n",
    "\n",
    "new_list.sort(key=lambda word: len(word))\n",
    "print(new_list)\n",
    "\n",
    "new_list.sort(key=lambda word: (len(word), word))\n",
    "print(new_list)"
   ]
  },
  {
   "cell_type": "code",
   "execution_count": null,
   "metadata": {},
   "outputs": [
    {
     "name": "stdout",
     "output_type": "stream",
     "text": [
      "5.0\n",
      "9.055385138137417\n"
     ]
    }
   ],
   "source": [
    "# Напишите lambda-функцию для расчёта гипотенузы прямоугольного треугольника: она принимает на\n",
    "# вход длины двух катетов и возвращает длину гипотенузы (третьей, самой длинной стороны\n",
    "# прямоугольного треугольника).\n",
    "# Формула: c = (a**2 + b**2) ** (1/2), где a и b — длины катетов, — длина гипотенузы.\n",
    "# Сохраните эту функцию в переменную hyp.\n",
    "# Пример работы функции\n",
    "# print(hyp(3,4))\n",
    "# print(hyp(1,9))\n",
    "# # 5.0\n",
    "# # 9.055385138137417\n",
    "\n",
    "hyp = lambda a, b: (a**2 + b**2) ** (1/2)\n",
    "\n",
    "print(hyp(3, 4))\n",
    "print(hyp(1, 9))\n"
   ]
  },
  {
   "cell_type": "code",
   "execution_count": null,
   "metadata": {},
   "outputs": [
    {
     "name": "stdout",
     "output_type": "stream",
     "text": [
      "[(1, 2), (3, 4), (10, 10)]\n"
     ]
    }
   ],
   "source": [
    "# Напишите функцию sort_sides(l_in), которая сортирует переданный в неё список l_in.\n",
    "# Входной список состоит из кортежей с парами чисел — длинами катетов прямоугольных \n",
    "# треугольников.\n",
    "# Функция должна возвращать список, отсортированный по возрастанию длин гипотенуз треугольников.\n",
    "# Примечание. Вам пригодится lambda-функция из предыдущего задания. При этом вам потребуется \n",
    "# заменить lambda от двух аргументов на lambda от одного аргумента и обращаться к элементам \n",
    "# кортежа уже при вычислении гипотенузы.\n",
    "# Пример работы функции\n",
    "# print(sort_sides([(3,4), (1,2), (10,10)]))\n",
    "# # [(1, 2), (3, 4), (10, 10)]\n",
    "\n",
    "def sort_sides(l_in):\n",
    "    l_in.sort(key=lambda sides: (sides[0]**2 + sides[1]**2) ** (1/2))\n",
    "    return l_in\n",
    "\n",
    "print(sort_sides([(3,4), (1,2), (10,10)]))"
   ]
  },
  {
   "cell_type": "code",
   "execution_count": null,
   "metadata": {},
   "outputs": [
    {
     "name": "stdout",
     "output_type": "stream",
     "text": [
      "1\n",
      "None\n"
     ]
    }
   ],
   "source": [
    "# Напишите функцию get_less(list_in, num), которая принимает на вход список list_in, состоящий\n",
    "# из чисел, и ещё одно число num.\n",
    "# Функция должна вернуть первое найденное число из списка, которое меньше переданного во \n",
    "# втором аргументе. Если такого числа нет, необходимо вернуть None.\n",
    "# Пример:\n",
    "# print(get_less([1, 5, 8,  10], 8))\n",
    "# # 1\n",
    "# print(get_less([1, 5, 8,  10], 0))\n",
    "# # None\n",
    "\n",
    "def get_less(list_in, num):\n",
    "    for number in list_in:\n",
    "        if number < num:\n",
    "            return number\n",
    "    return None\n",
    "\n",
    "print(get_less([1, 5, 8,  10], 8))    \n",
    "print(get_less([1, 5, 8,  10], 0))"
   ]
  },
  {
   "cell_type": "code",
   "execution_count": null,
   "metadata": {},
   "outputs": [
    {
     "name": "stdout",
     "output_type": "stream",
     "text": [
      "(31, 1, 2019)\n"
     ]
    }
   ],
   "source": [
    "# Напишите функцию split_date(date), которая принимает на вход строку, задающую дату, \n",
    "# в формате ддммгггг без разделителей. Функция должна вернуть кортеж из чисел (int): \n",
    "# день, месяц, год.\n",
    "# Примечание. Здесь вам пригодятся срезы строк.\n",
    "# Пример\n",
    "# print(split_date(\"31012019\"))\n",
    "# # (31, 1, 2019)\n",
    "\n",
    "def split_date(date):\n",
    "    day = int(date[:2])\n",
    "    month = int(date[2:4])\n",
    "    year = int(date[4:])\n",
    "    return day, month, year\n",
    "\n",
    "print(split_date(\"31012019\"))\n",
    "    "
   ]
  },
  {
   "cell_type": "code",
   "execution_count": null,
   "metadata": {},
   "outputs": [
    {
     "name": "stdout",
     "output_type": "stream",
     "text": [
      "False\n",
      "False\n",
      "True\n"
     ]
    }
   ],
   "source": [
    "# Напишите функцию is_prime(num), которая проверяет, является ли число простым.\n",
    "# Функция должна вернуть True, если число простое, иначе — False.\n",
    "# Примечание. Простым называют число, которое делится только на 1 или на само себя. \n",
    "# Число 1 простым не является.\n",
    "# Пример:\n",
    "# print(is_prime(1))\n",
    "# print(is_prime(10))\n",
    "# print(is_prime(13))\n",
    "# # False\n",
    "# # False\n",
    "# # True\n",
    "\n",
    "def is_prime(num):\n",
    "    if num == 1:\n",
    "        return False\n",
    "    for n in range(2, num):\n",
    "        if num % n == 0:\n",
    "            return False\n",
    "    return True\n",
    "\n",
    "print(is_prime(1))\n",
    "print(is_prime(10))\n",
    "print(is_prime(13))    "
   ]
  },
  {
   "cell_type": "code",
   "execution_count": null,
   "metadata": {},
   "outputs": [
    {
     "name": "stdout",
     "output_type": "stream",
     "text": [
      "10.0\n",
      "3.0\n",
      "10.0\n",
      "3.0\n"
     ]
    }
   ],
   "source": [
    "# Напишите функцию between_min_max(...), которая принимает на вход числа через запятую.\n",
    "# Функция возвращает среднее арифметическое между максимальным и минимальным значением этих чисел, \n",
    "# то есть (max + min)/2.\n",
    "# Пример:\n",
    "# print(between_min_max(10))\n",
    "# print(between_min_max(1,2,3,4,5))\n",
    "# # 10.0\n",
    "# # 3.0\n",
    "\n",
    "#решение 1:\n",
    "def between_min_max(*numbers):\n",
    "    min_number = min(numbers)\n",
    "    max_number = max(numbers)\n",
    "    return (min_number + max_number) / 2\n",
    "\n",
    "print(between_min_max(10))\n",
    "print(between_min_max(1,2,3,4,5))\n",
    "\n",
    "#решение 2:\n",
    "between_min_max = lambda *nums: (min(nums) + max(nums)) / 2\n",
    "\n",
    "print(between_min_max(10))\n",
    "print(between_min_max(1,2,3,4,5))\n"
   ]
  },
  {
   "cell_type": "code",
   "execution_count": null,
   "metadata": {},
   "outputs": [
    {
     "name": "stdout",
     "output_type": "stream",
     "text": [
      "Mike\n",
      "Tom\n",
      "Jerry\n"
     ]
    }
   ],
   "source": [
    "# Напишите функцию best_student(...), которая принимает на вход в виде именованных аргументов имена студентов и их \n",
    "# номера в рейтинге (нагляднее в примере).\n",
    "# Необходимо вернуть имя студента с минимальным номером по рейтингу.\n",
    "# Пример:\n",
    "# print(best_student(Tom=12, Mike=3))\n",
    "# print(best_student(Tom=12))\n",
    "# print(best_student(Tom=12, Jerry=1, Jane=2))\n",
    "# # Mike\n",
    "# # Tom\n",
    "# # Jerry\n",
    "\n",
    "def best_student(**names):\n",
    "    min_rating = min(names.values())\n",
    "    for name in names:\n",
    "        if names[name] == min_rating:\n",
    "            return name\n",
    "\n",
    "print(best_student(Tom=12, Mike=3))\n",
    "print(best_student(Tom=12))\n",
    "print(best_student(Tom=12, Jerry=1, Jane=2))        "
   ]
  },
  {
   "cell_type": "code",
   "execution_count": null,
   "metadata": {},
   "outputs": [
    {
     "name": "stdout",
     "output_type": "stream",
     "text": [
      "no\n",
      "yes\n"
     ]
    }
   ],
   "source": [
    "# Напишите lambda-функцию is_palindrom(str), которая принимает на вход одну строку str (имя параметра - x) и \n",
    "# проверяет, является ли она палиндромом, то есть читается ли она слева-направо и справа-налево одинаково.\n",
    "# Функция возвращает yes, если строка является палиндромом, иначе — no.\n",
    "# Примечание. Не пытайтесь схитрить — в тест включена проверка на то, что функция действительно является lambda.\n",
    "# Пример:\n",
    "# print(is_palindrom('1234'))\n",
    "# print(is_palindrom('12321'))\n",
    "# # no\n",
    "# # yes\n",
    "\n",
    "is_palindrom = lambda x: 'yes' if x == x[::-1] else 'no'\n",
    "\n",
    "print(is_palindrom('1234'))\n",
    "print(is_palindrom('12321'))"
   ]
  },
  {
   "cell_type": "code",
   "execution_count": null,
   "metadata": {},
   "outputs": [
    {
     "name": "stdout",
     "output_type": "stream",
     "text": [
      "60\n"
     ]
    }
   ],
   "source": [
    "# Напишите lambda-функцию area(a,b), которая принимает на вход два числа — стороны прямоугольника — через запятую\n",
    "# и возвращает площадь прямоугольника.\n",
    "# Пример:\n",
    "# print(area(12,5))\n",
    "# # 60\n",
    "\n",
    "area = lambda a, b: a * b\n",
    "print(area(12,5))"
   ]
  },
  {
   "cell_type": "code",
   "execution_count": null,
   "metadata": {},
   "outputs": [
    {
     "name": "stdout",
     "output_type": "stream",
     "text": [
      "['abc', 'Acc']\n"
     ]
    }
   ],
   "source": [
    "# Напишите функцию sort_ignore_case(ls), которая принимает на вход список ls и сортирует его без учёта регистра \n",
    "# по алфавиту. Функция возвращает отсортированный список.\n",
    "# Пример:\n",
    "# print(sort_ignore_case(['Acc', 'abc']))\n",
    "# # ['abc', 'Acc']\n",
    "\n",
    "def sort_ignore_case(ls):\n",
    "    ls.sort(key=lambda word: word.lower())\n",
    "    return ls\n",
    " \n",
    "print(sort_ignore_case(['Acc', 'abc']))\n"
   ]
  },
  {
   "cell_type": "code",
   "execution_count": null,
   "metadata": {},
   "outputs": [
    {
     "name": "stdout",
     "output_type": "stream",
     "text": [
      "85.0\n",
      "8500\n",
      "11.764705882352942\n"
     ]
    }
   ],
   "source": [
    "# Напишите функцию exchange(usd, rub, rate), которая может принимать на вход сумму в долларах (usd), сумму в \n",
    "# рублях (rub) и обменный курс (rate). Обменный курс показывает, сколько стоит один доллар. Например, курс 85.46 \n",
    "# означает, что один доллар стоит 85 рублей и 46 копеек.\n",
    "# В функцию должно одновременно передавать два аргумента. Если передано менее двух аргументов, должна возникнуть \n",
    "# ошибка ValueError('Not enough arguments'). Если же передано три аргумента, должна возникнуть ошибка: \n",
    "# ValueError('Too many arguments').\n",
    "# Функция должна находить третий аргумент по двум переданным. Например, если переданы суммы в разных валютах, \n",
    "# должен возвращаться обменный курс. Если известны сумма в рублях и курс, должна быть получена эквивалентная сумма \n",
    "# в долларах, аналогично — если передана сумма в долларах и обменный курс.\n",
    "\n",
    "# Пример:\n",
    "# print(exchange(usd=100, rub=8500))\n",
    "# # 85.0\n",
    "# print(exchange(usd=100, rate=85))\n",
    "# # 8500\n",
    "# print(exchange(rub=1000, rate=85))\n",
    "# # 11.764705882352942\n",
    "# print(exchange(rub=1000, rate=85, usd=90))\n",
    "# # ValueError: Too many arguments\n",
    "# print(exchange(rub=1000))\n",
    "# # ValueError: Not enough arguments\n",
    "\n",
    "def exchange(usd=None, rub=None, rate=None):\n",
    "    if (usd is not None) and (rub is not None) and (rate is not None):\n",
    "        raise ValueError('Too many arguments')\n",
    "    if (usd is not None) and (rub is not None):\n",
    "        return rub / usd\n",
    "    if  (usd is not None) and (rate is not None):\n",
    "        return usd * rate\n",
    "    if (rate is not None) and (rub is not None):\n",
    "        return rub / rate\n",
    "    else:\n",
    "        raise ValueError('Not enough arguments')\n",
    "    \n",
    "print(exchange(usd=100, rub=8500))\n",
    "print(exchange(usd=100, rate=85))\n",
    "print(exchange(rub=1000, rate=85))\n",
    "# print(exchange(rub=1000, rate=85, usd=90))\n",
    "# print(exchange(rub=1000))        "
   ]
  },
  {
   "cell_type": "code",
   "execution_count": null,
   "metadata": {},
   "outputs": [
    {
     "name": "stdout",
     "output_type": "stream",
     "text": [
      "Root of power 2 from 81 equals 9.0\n",
      "None\n"
     ]
    }
   ],
   "source": [
    "def print_root(value, n=2):\n",
    "    def root(value, n):\n",
    "        result = value ** (1/n)\n",
    "        return result\n",
    "    res = root(value, n)\n",
    "    print(print(f'Root of power {n} from {value} equals {res}'))\n",
    "    \n",
    "print_root(81)    "
   ]
  },
  {
   "cell_type": "code",
   "execution_count": null,
   "metadata": {},
   "outputs": [
    {
     "name": "stdout",
     "output_type": "stream",
     "text": [
      "9\n",
      "12\n"
     ]
    }
   ],
   "source": [
    "# На первом этапе напишите функцию get_count_unique_symbols(), которая:\n",
    "# принимает на вход строку s,\n",
    "# приводит её к нижнему регистру,\n",
    "# убирает из неё все пробелы,\n",
    "# возвращает количество уникальных символов в строке.\n",
    "# Примеры вызова функции:\n",
    "#     get_count_unique_symbols('Это простая строка')\n",
    "#     ## 9\n",
    "#     get_count_unique_symbols('This is a simple string')\n",
    "#     ## 12\n",
    "\n",
    "def get_count_unique_symbols(s):\n",
    "    s = s.lower()\n",
    "    s = s.replace(' ', '')\n",
    "    #преведем строку s к множеству, для отесеивания только уникальных символов, и подсчитаем их количество\n",
    "    symbol_unique_count = len(set(s))\n",
    "    return symbol_unique_count\n",
    "\n",
    "print(get_count_unique_symbols('Это простая строка'))\n",
    "print(get_count_unique_symbols('This is a simple string'))"
   ]
  },
  {
   "cell_type": "code",
   "execution_count": null,
   "metadata": {},
   "outputs": [
    {
     "name": "stdout",
     "output_type": "stream",
     "text": [
      "Это простая строка\n",
      "Great phrase\n",
      "('школа', 'school')\n"
     ]
    }
   ],
   "source": [
    "# На втором этапе напишите функцию get_min_string(), которая:\n",
    "# принимает на вход две строки s1 и s2,\n",
    "# возвращает ту, в которой количество уникальных символов меньше.\n",
    "# Чтобы определить количество уникальных символов, воспользуйтесь функцией get_count_unique_symbols(), которую вы \n",
    "# написали в предыдущем задании. Поместите ее определение и вызов внутрь функции get_min_string().\n",
    "# У вас должна получиться такая конструкция:\n",
    "#     def get_min_string(s1, s2):\n",
    "#         def get_count_unique_symbols(s):\n",
    "#             # Код внутренней функции\n",
    "#         # Применяем вложенную функцию к каждой из строк\n",
    "#         s1_len = get_count_unique_symbols(s1)\n",
    "#         s2_len = get_count_unique_symbols(s2)\n",
    "#         # код внешней функции\n",
    "# Функция get_min_string() должна возвращать:\n",
    "# строку s1, если количество уникальных символов в ней меньше, чем в s2;\n",
    "# строку s2, если количество уникальных символов в ней меньше, чем в s1;\n",
    "# кортеж из строк s1 и s2 при равенстве количества уникальных символов.\n",
    "# Примеры вызова функций:\n",
    "#     print(get_min_string(s1='Это простая строка', s2='This is a simple string'))\n",
    "#     ## Это простая строка\n",
    "#     print(get_min_string(s1='Отличная фраза', s2='Great phrase'))\n",
    "#     ## Great phrase\n",
    "#     print(get_min_string(s1='школа', s2='school'))\n",
    "#     ## ('школа', 'school')\n",
    "\n",
    "def get_min_string(s1, s2):\n",
    "    def get_count_unique_symbols(s):\n",
    "        s = s.lower()\n",
    "        s = s.replace(' ', '')\n",
    "        symbol_unique_count = len(set(s))\n",
    "        return symbol_unique_count\n",
    "    s1_len = get_count_unique_symbols(s1)\n",
    "    s2_len = get_count_unique_symbols(s2)\n",
    "    if s1_len < s2_len:\n",
    "        return s1\n",
    "    if s1_len > s2_len:\n",
    "        return s2\n",
    "    return s1, s2\n",
    "\n",
    "print(get_min_string(s1='Это простая строка', s2='This is a simple string'))\n",
    "print(get_min_string(s1='Отличная фраза', s2='Great phrase'))\n",
    "print(get_min_string(s1='школа', s2='school'))    "
   ]
  },
  {
   "cell_type": "code",
   "execution_count": null,
   "metadata": {},
   "outputs": [
    {
     "name": "stdout",
     "output_type": "stream",
     "text": [
      "78.54\n",
      "23.562\n",
      "78.5\n",
      "23.55\n"
     ]
    }
   ],
   "source": [
    "# Мы пишем приложение для рисования графических фигур. Пока мы можем рисовать только окружности и эллипсы.\n",
    "# Чтобы закрашивать фигуры, которые мы рисуем, необходимо рассчитывать площадь этих фигур. Для расчета площади\n",
    "# воспользуемся простейшими формулами.\n",
    "# Площадь окружности вычисляется по формуле:\n",
    "# S = πr², где r — радиус окружности.\n",
    "# Площадь эллипса вычисляется по формуле:\n",
    "# S = πab, где a и b — длины полуосей эллипса.\n",
    "# При разработке приложения мы принимаем, что π = 3,1416.\n",
    "# Обратите внимание! Это число является константой — его значение не меняется на всём протяжении выполнения программы.\n",
    "# Напишите функции calculate_area_circle() и calculate_area_ellipse().\n",
    "# Первая функция должна принимать один аргумент r — радиус окружности, вторая функция должна принимать два аргумента\n",
    "# a и b — длины полуосей эллипса.\n",
    "# Каждая из функций должна возвращать площадь соответствующей фигуры, округленную до третьего знака после запятой.\n",
    "# Обе функции должны использовать внутри себя локальные переменные с одним и тем же именем area (площади фигур) и\n",
    "# глобальную переменную pi, объявленную вне этих функций.\n",
    "# Примеры вызова функций:\n",
    "# pi = 3.1416\n",
    "# print(calculate_area_circle(r=5))\n",
    "# ## 78.54\n",
    "# print(calculate_area_ellipse(a=3, b=2.5))\n",
    "# ## 23.562\n",
    "# pi = 3.14\n",
    "# print(calculate_area_circle(r=5))\n",
    "# ## 78.5\n",
    "# print(calculate_area_ellipse(a=3, b=2.5))\n",
    "# ## 23.55\n",
    "\n",
    "pi = 3.1416\n",
    "def calculate_area_circle(r):\n",
    "    area = pi * r **2\n",
    "    return round(area, 3)\n",
    "\n",
    "def calculate_area_ellipse(a, b):\n",
    "    area = pi * a * b\n",
    "    return round(area, 3)\n",
    "\n",
    "print(calculate_area_circle(r=5))                                                 \n",
    "print(calculate_area_ellipse(a=3, b=2.5))\n",
    "pi = 3.14\n",
    "print(calculate_area_circle(r=5))\n",
    "print(calculate_area_ellipse(a=3, b=2.5))"
   ]
  },
  {
   "cell_type": "code",
   "execution_count": null,
   "metadata": {},
   "outputs": [
    {
     "name": "stdout",
     "output_type": "stream",
     "text": [
      "199000\n",
      "30000\n"
     ]
    }
   ],
   "source": [
    "# Вам необходимо написать программу, которая будет вычислять сумму, оставшуюся на счёте у пользователя \n",
    "# банковской карты. Посмотрите на код ниже и внесите в него исправление так, чтобы он работал верно.\n",
    "#     def cash(less_money):\n",
    "#         money -= less_money\n",
    "#         return money\n",
    "#     money = 200000\n",
    "#     print(cash(1000))\n",
    "# Не добавляйте аргументы в функцию cash, помимо less_money.\n",
    "\n",
    "# Примеры вызова функции:\n",
    "#     money = 200000\n",
    "#     print(cash(1000))\n",
    "#     ## 199000\n",
    "#     money = 30240\n",
    "#     print(cash(240))\n",
    "#     ## 30000\n",
    "\n",
    "\n",
    "\n",
    "money = 200000\n",
    "print(cash(1000))def cash(less_money):\n",
    "    global money    \n",
    "    money -= less_money\n",
    "    return money\n",
    "money = 30240\n",
    "print(cash(240))"
   ]
  },
  {
   "cell_type": "code",
   "execution_count": null,
   "metadata": {},
   "outputs": [
    {
     "name": "stdout",
     "output_type": "stream",
     "text": [
      "1351.3513513513512\n",
      "1136.3636363636363\n"
     ]
    }
   ],
   "source": [
    "# Вы написали программу, которая позволяет конвертировать рубли в выбранную валюту. При написании программы вы \n",
    "# использовали global, но позже узнали, что не стоит так часто его использовать. Перепишите следующий код, не \n",
    "# используя global.\n",
    "# # Словарь с курсами валют (по отношению к рублю)\n",
    "# currencies = {'USD': 74, 'EUR': 88, 'GBP': 98 , 'CHF': 82}\n",
    "# # Общее количество денег на счету, которое нужно конвертировать\n",
    "# money = 100000\n",
    "# # Функция для конвертации валюты, аргумент - наименование валюты\n",
    "# def convert(currency):\n",
    "#     # Объявляем, что money - глобальная переменная\n",
    "#     global money\n",
    "#     # Производим конвертацию - делим количество денег на счету на соответствующий курс\n",
    "#     money = money / currencies[currency]\n",
    "# # Вызываем функцию для конвертации валюты\n",
    "# print(convert('USD'))\n",
    "# Перепишите функцию convert() так, чтобы словарь с курсами валют и количество денег на счету были её первым и \n",
    "# вторым аргументом, а валюта, в которую необходимо произвести конвертацию, — третьим.\n",
    "\n",
    "# Примеры вызова функции:\n",
    "# currencies = {'USD': 74, 'EUR': 88, 'GBP': 98 , 'CHF': 82}\n",
    "# money = 100000\n",
    "\n",
    "# convert_money = convert(currencies, money, 'USD')  \n",
    "# print(convert_money)  \n",
    "# ## 1351.3513513513512  \n",
    "\n",
    "# convert_money = convert(currencies, money, 'EUR')  \n",
    "# print(convert_money)  \n",
    "# ## 1136.3636363636363\n",
    "\n",
    "# Общее количество денег на счету, которое нужно конвертировать\n",
    "# money = 100000\n",
    "# # Функция для конвертации валюты, аргумент - наименование валюты\n",
    "\n",
    "currencies = {'USD': 74, 'EUR': 88, 'GBP': 98 , 'CHF': 82}\n",
    "money = 100000\n",
    "\n",
    "def convert(currencies, money, currency):\n",
    "    convert_money = money / currencies[currency]\n",
    "    return convert_money\n",
    "\n",
    "convert_money = convert(currencies, money, 'USD')  \n",
    "print(convert_money)  \n",
    "\n",
    "convert_money = convert(currencies, money, 'EUR')  \n",
    "print(convert_money)  \n",
    "\n",
    "\n"
   ]
  },
  {
   "cell_type": "code",
   "execution_count": null,
   "metadata": {},
   "outputs": [
    {
     "name": "stdout",
     "output_type": "stream",
     "text": [
      "1130.5\n",
      "1130.5\n",
      "1130.5\n"
     ]
    }
   ],
   "source": [
    "def calculate_cost(cost, sale):\n",
    "    def preprocessing_sale():\n",
    "        nonlocal sale\n",
    "        if type(sale) is not str and type(sale) is not int and \\\n",
    "            type(sale) is not float:\n",
    "            raise ValueError(\"Некорректный формат скидки\")    \n",
    "        if type(sale) is str:\n",
    "            sale = sale[:-1]\n",
    "            sale = int(sale) / 100\n",
    "        elif type(sale) is int:\n",
    "            sale = sale / 100\n",
    "    preprocessing_sale()            \n",
    "    return cost - cost * sale\n",
    "\n",
    "print(calculate_cost(1330, '15%'))\n",
    "print(calculate_cost(1330, 15))\n",
    "print(calculate_cost(1330, 0.15))"
   ]
  },
  {
   "cell_type": "code",
   "execution_count": null,
   "metadata": {},
   "outputs": [
    {
     "data": {
      "text/plain": [
       "2"
      ]
     },
     "execution_count": 10,
     "metadata": {},
     "output_type": "execute_result"
    }
   ],
   "source": [
    "# Мы реализуем функцию count_occurrences(), у которой есть два параметра s — строка и symbols — список из символов. \n",
    "# Функция вычисляет, сколько раз символ symbol встречается в строке s.\n",
    "# Перед подсчётом количества символов строка s проходит предобработку: из неё удаляются пробелы, а символы \n",
    "# приводятся к нижнему регистру.\n",
    "# # Функция для вычисления количества символов (symbol) в строке s\n",
    "# def count_occurrences(s, symbol):\n",
    "#     # Внутренняя функция для предобработки строки s\n",
    "#     def preprocessing_s():\n",
    "#         # Удаляем пробелы из строки\n",
    "#         s = s.replace(' ', '')\n",
    "#         # Приводим строку к нижнему регистру\n",
    "#         s = s.lower()\n",
    "#     # Вызываем функцию для предобработки аргумента s\n",
    "#     preprocessing_s()\n",
    "#     # Считаем количество символов symbol в строке s и возвращаем результат\n",
    "#     return s.count(symbol)\n",
    "# Сейчас при попытке вызвать функцию: count_occurrences('This is simple string', symbol='t') вызывается исключение \n",
    "# UnboundLocalError.\n",
    "# Исправьте код таким образом, чтобы он отрабатывал без ошибки.\n",
    "# Пример вызова функции:\n",
    "# count_occurrences('This is simple string', symbol='t')\n",
    "# ## 2\n",
    "\n",
    "def count_occurrences(s, symbol):\n",
    "    def preprocessing_s(s):\n",
    "        s = s.replace(' ', '')\n",
    "        s = s.lower()\n",
    "        return s\n",
    "    s = preprocessing_s(s)\n",
    "    return s.count(symbol)    \n",
    "\n",
    "count_occurrences('This is simple string', symbol='t')"
   ]
  },
  {
   "cell_type": "code",
   "execution_count": null,
   "metadata": {},
   "outputs": [
    {
     "data": {
      "text/plain": [
       "2"
      ]
     },
     "execution_count": 11,
     "metadata": {},
     "output_type": "execute_result"
    }
   ],
   "source": [
    "#предыдущая задача. вариант 2:\n",
    "\n",
    "def count_occurrences(s, symbol):\n",
    "    def preprocessing_s():\n",
    "        nonlocal s\n",
    "        s = s.replace(' ', '')\n",
    "        s = s.lower()\n",
    "    preprocessing_s()\n",
    "    return s.count(symbol)    \n",
    "\n",
    "count_occurrences('This is simple string', symbol='t')"
   ]
  },
  {
   "cell_type": "code",
   "execution_count": null,
   "metadata": {},
   "outputs": [
    {
     "name": "stdout",
     "output_type": "stream",
     "text": [
      "{'ютуб': 248, 'вк': 514, 'радио': 339}\n"
     ]
    }
   ],
   "source": [
    "# Нам необходимо проанализировать, какая из рекламных кампаний оказалась наиболее успешной. Данные хранятся в \n",
    "# словаре advertising_campaigns, где ключ — это рекламный канал, а значение — список, в котором задано суммарное \n",
    "# количество вновь нажавших на кнопку рекламного баннера в 2021 и 2022 годах.\n",
    "\n",
    "# advertising_campaigns = {'ютуб': [212, 248], 'вк': [514, 342], 'радио': [339, 125]}\n",
    "\n",
    "# Для каждого рекламного канала нужно получить максимальное количество откликнувшихся за 2021 и 2022 годы.\n",
    "# Для этого мы создали пустой словарь advertising_campaigns_max и написали цикл for, в котором:\n",
    "# проходимся по ключам исходного словаря;\n",
    "# вычисляем максимумы в списках, соответствующих этим ключам;\n",
    "# добавляем эти значения в новый словарь.\n",
    "\n",
    "# # Создаём новый пустой словарь  \n",
    "# advertising_campaigns_max = {}  \n",
    "# # Создаём цикл по ключам исходного словаря  \n",
    "# for key in advertising_campaigns:  \n",
    "#     # Вычисляем максимум в списке, лежащем по ключу key  \n",
    "#     max = max(advertising_campaigns[key])  \n",
    "#     # Добавляем максимум в новый словарь  \n",
    "#     advertising_campaigns_max[key] = max\n",
    "# Но что-то пошло не так, и код падает с ошибкой:\n",
    "\n",
    "# TypeError: 'int' object is not callable\n",
    "# Выясните, в чём дело, и исправьте код. В результате выполнения кода у вас должен получиться словарь \n",
    "# advertising_campaigns_max следующего вида:\n",
    "\n",
    "# ## {'ютуб': 248, 'вк': 514, 'радио': 339}\n",
    "\n",
    "advertising_campaigns = {'ютуб': [212, 248], 'вк': [514, 342], 'радио': [339, 125]}\n",
    "\n",
    "advertising_campaigns_max = {}\n",
    "\n",
    "for key in advertising_campaigns:\n",
    "    max_value = max(advertising_campaigns[key])\n",
    "    advertising_campaigns_max[key] = max_value\n",
    "    \n",
    "print(advertising_campaigns_max)    "
   ]
  },
  {
   "cell_type": "code",
   "execution_count": null,
   "metadata": {},
   "outputs": [
    {
     "name": "stdout",
     "output_type": "stream",
     "text": [
      "['мама мыла раму раму мыла мама', 'hello  world']\n"
     ]
    }
   ],
   "source": [
    "# Мы реализовали функцию processing_list(). Она работает следующим образом:\n",
    "# на вход подаётся список answers, состоящий из строк;\n",
    "# внутри себя функция обрабатывает каждую строку: приводит её к нижнему регистру и удаляет из неё специальные \n",
    "# стоп-символы.\n",
    "# Процедура предобработки каждой строки вынесена в отдельную функцию preprocessing_answer.\n",
    "\n",
    "def processing_list(answers):\n",
    "    def preprocessing_answer(answer):\n",
    "        answer = answer.lower()\n",
    "        stop_symbols = '\"#$%&\\'()*+,-./:;<=>?@[\\\\]^_`{|}~!'\n",
    "        for symbol in answer:\n",
    "            if symbol in stop_symbols:\n",
    "                answer = answer.replace(symbol, '')\n",
    "        return answer        \n",
    "    result = []\n",
    "    for answer in answers:\n",
    "        result.append(preprocessing_answer(answer))\n",
    "    return result    \n",
    "\n",
    "print(processing_list(['Мама мыла раму, раму мыла мама', 'Hello & world!']))"
   ]
  },
  {
   "cell_type": "code",
   "execution_count": null,
   "metadata": {},
   "outputs": [
    {
     "name": "stdout",
     "output_type": "stream",
     "text": [
      "[('Petrova', 'Maria', 'Ivanovna', 13, 3, 2003), ('Ivanov', 'Sergej', None, 24, 9, 1995), ('Smith', 'John', None, 13, 2, 2003)]\n"
     ]
    }
   ],
   "source": [
    "# Мы создаём некоторое приложение, предусматривающее регистрацию пользователей.\n",
    "# Пока мы реализуем небольшой функционал для регистрации. Для этого нам необходимо написать функцию \n",
    "# register(surname, name, date, middle_name, registry). \n",
    "# Она будет иметь следующие аргументы:\n",
    "# surname — фамилия пользователя;\n",
    "# name —  имя пользователя;\n",
    "# date —  дата рождения пользователя в виде строки формата \"DD.MM.YYYY\" (например, \"13.01.2001\");\n",
    "# middle_name — отчество пользователя;\n",
    "# registry — список, в который необходимо добавить полученные аргументы в виде кортежа. Порядок следующий: \n",
    "# фамилия, имя, отчество, день, месяц, год рождения.\n",
    "# Регистрацию будем имитировать добавлением данных о пользователях в список в виде кортежа. Функция должна возвращать \n",
    "# список, в который добавила запись.\n",
    "# Примеры вызовов функции:\n",
    "# reg = register('Petrova', 'Maria', '13.03.2003', 'Ivanovna')\n",
    "# reg = register('Ivanov', 'Sergej', '24.09.1995', registry=reg)\n",
    "# reg = register('Smith', 'John', '13.02.2003', registry=reg)\n",
    "# print(reg)\n",
    "\n",
    "# ## [('Petrova', 'Maria', 'Ivanovna', 13, 3, 2003), ('Ivanov', 'Sergej', None, 24, 9, 1995), \n",
    "# ('Smith', 'John', None, 13, 2, 2003)]\n",
    "# Примечание. Значение отчества по умолчанию должно быть None, так как отчество может быть не у всех регистрирующихся.\n",
    "# Значения дня, месяца и года рождения должны быть представлены в виде целых чисел.\n",
    "# Также нужно сделать так, чтобы пустой список создавался в том случае, если он не был передан извне. То есть по \n",
    "# умолчанию registry имеет значение None, и если при вызове функции список так и не был передан, то он создаётся в \n",
    "# теле функции.\n",
    "\n",
    "def register(surname, name, date, middle_name=None, registry=None):\n",
    "    def processing_date(date):\n",
    "        date = date.replace('.', ' ')\n",
    "        day, month, year = date.split()\n",
    "        return int(day), int(month), int(year)\n",
    "    day, month, year = processing_date(date)    \n",
    "    if registry is None:\n",
    "        registry = []\n",
    "    registry.append((surname, name, middle_name, day, month, year))\n",
    "    return registry\n",
    "\n",
    "reg = register('Petrova', 'Maria', '13.03.2003', 'Ivanovna')\n",
    "reg = register('Ivanov', 'Sergej', '24.09.1995', registry=reg)\n",
    "reg = register('Smith', 'John', '13.02.2003', registry=reg)\n",
    "print(reg)\n",
    "        \n",
    "        "
   ]
  },
  {
   "cell_type": "code",
   "execution_count": null,
   "metadata": {},
   "outputs": [
    {
     "name": "stdout",
     "output_type": "stream",
     "text": [
      "True\n",
      "False\n",
      "False\n",
      "False\n"
     ]
    }
   ],
   "source": [
    "# Напишем функцию check_date(day, month, year), которая проверяет корректность даты рождения по следующим условиям:\n",
    "\n",
    "# Все аргументы должны быть целыми числами.\n",
    "# Годом рождения не может быть год до 1900 и год после 2022.\n",
    "# Номер месяца не может быть больше 12 и меньше 1.\n",
    "# Номер дня не может быть больше 31 и меньше 1.\n",
    "# В сентябре, апреле, июне и ноябре 30 дней.\n",
    "# В феврале (второй месяц) должно быть 28 дней.\n",
    "# Если дата корректна, наша функция должна вернуть True, если же хотя бы одно из представленных условий не \n",
    "# выполнено — False. \n",
    "\n",
    "def check_date(day, month, year):\n",
    "    if type(day) is not int or type(month) is not int or type(year) is not int:\n",
    "        return False\n",
    "    if (year < 1900) or (year > 2022):\n",
    "        return False\n",
    "    if (month < 1) or (month > 12):\n",
    "        return False\n",
    "    if (day < 1) or (day > 31):\n",
    "        return False\n",
    "    if month in [4, 6, 9, 11] and day > 30:\n",
    "        return False\n",
    "    if month == 2 and day > 28:\n",
    "        return False\n",
    "    return True\n",
    "\n",
    "print(check_date(18, 9, 1999))\n",
    "print(check_date(13, 13, 2021))    \n",
    "print(check_date(37, 1, 2020))  \n",
    "print(check_date(13.5, 12, 2021))  "
   ]
  },
  {
   "cell_type": "code",
   "execution_count": null,
   "metadata": {},
   "outputs": [
    {
     "name": "stdout",
     "output_type": "stream",
     "text": [
      "True\n",
      "False\n",
      "True\n",
      "False\n"
     ]
    }
   ],
   "source": [
    "# Напишите функцию is_leap(year), которая принимает на вход год и возвращает True, если год високосный, иначе — False.\n",
    "# Как определить, является ли год високосным:\n",
    "# годы, номера которых кратны 400 - високосные;\n",
    "# остальные годы, кратные 100 - невисокосные (то есть 1700, 1800, 1900, 2100, 2200, 2300 годы — невисокосные);\n",
    "# остальные годы, которых кратны 4 - високосные (например, 1964, 2004, 2008);\n",
    "# оставшиеся годы - не високосные (например, 1789, 2013, 2014).\n",
    "# Подробнее об этом можно почитать здесь.\n",
    "# Пример работы функции:\n",
    "# print(is_leap(2000))\n",
    "# # True\n",
    "# print(is_leap(1900))\n",
    "# # False\n",
    "# print(is_leap(2020))\n",
    "# # True\n",
    "# print(is_leap(1700))\n",
    "# # False\n",
    "\n",
    "def is_leap(year):\n",
    "    if year % 400 == 0:\n",
    "        return True\n",
    "    if (year % 100 != 0) and (year % 4 == 0):\n",
    "        return True\n",
    "    else:\n",
    "        return False\n",
    "\n",
    "print(is_leap(2000))\n",
    "print(is_leap(1900))\n",
    "print(is_leap(2020))\n",
    "print(is_leap(1700))\n",
    "        "
   ]
  },
  {
   "cell_type": "code",
   "execution_count": null,
   "metadata": {},
   "outputs": [
    {
     "name": "stdout",
     "output_type": "stream",
     "text": [
      "True\n",
      "True\n",
      "False\n",
      "False\n",
      "False\n"
     ]
    }
   ],
   "source": [
    "# Сделайте функцию is_leap() из предыдущего задания внутренней функцией функции check_date().\n",
    "# Модифицируйте код функции check_date() так, чтобы она корректно обрабатывала високосные года.\n",
    "# Пример работы функции:\n",
    "# print(check_date(18, 9, 1999))\n",
    "# # True\n",
    "# print(check_date(29, 2, 2000))\n",
    "# # True\n",
    "# print(check_date(29, 2, 2021))\n",
    "# # False\n",
    "# print(check_date(13, 13, 2021))\n",
    "# # False\n",
    "# print(check_date(13.5, 12, 2021))\n",
    "# # False\n",
    "\n",
    "def check_date(day, month, year):\n",
    "    def is_leap(year):\n",
    "        if year % 400 == 0:\n",
    "            return True\n",
    "        if (year % 100 != 0) and (year % 4 == 0):\n",
    "            return True\n",
    "        else:\n",
    "            return False\n",
    "    if type(day) is not int or type(month) is not int or type(year) is not int:\n",
    "        return False\n",
    "    if (year < 1900) or (year > 2022):\n",
    "        return False\n",
    "    if (month < 1) or (month > 12):\n",
    "        return False\n",
    "    if (day < 1) or (day > 31):\n",
    "        return False\n",
    "    if month in [4, 6, 9, 11] and day > 30:\n",
    "        return False\n",
    "    if month == 2:\n",
    "        if (is_leap(year) is True) and (day > 29):\n",
    "            return False\n",
    "        if (is_leap(year) is False) and (day > 28):\n",
    "            return False\n",
    "    return True\n",
    "\n",
    "print(check_date(18, 9, 1999))\n",
    "print(check_date(29, 2, 2000))\n",
    "print(check_date(29, 2, 2021))\n",
    "print(check_date(13, 13, 2021))\n",
    "print(check_date(13.5, 12, 2021))\n"
   ]
  },
  {
   "cell_type": "code",
   "execution_count": null,
   "metadata": {},
   "outputs": [
    {
     "name": "stdout",
     "output_type": "stream",
     "text": [
      "[('Petrova', 'Maria', 'Ivanovna', 13, 3, 2003), ('Ivanov', 'Sergej', None, 24, 9, 1995), ('Smith', 'John', None, 13, 2, 2003)]\n"
     ]
    },
    {
     "ename": "ValueError",
     "evalue": "Invalid Date!",
     "output_type": "error",
     "traceback": [
      "\u001b[1;31m---------------------------------------------------------------------------\u001b[0m",
      "\u001b[1;31mValueError\u001b[0m                                Traceback (most recent call last)",
      "\u001b[1;32md:\\Data Science\\IDE\\train_2.ipynb Cell 220\u001b[0m in \u001b[0;36m<cell line: 57>\u001b[1;34m()\u001b[0m\n\u001b[0;32m     <a href='vscode-notebook-cell:/d%3A/Data%20Science/IDE/train_2.ipynb#Y432sZmlsZQ%3D%3D?line=54'>55</a>\u001b[0m reg \u001b[39m=\u001b[39m register(\u001b[39m'\u001b[39m\u001b[39mSmith\u001b[39m\u001b[39m'\u001b[39m, \u001b[39m'\u001b[39m\u001b[39mJohn\u001b[39m\u001b[39m'\u001b[39m, \u001b[39m'\u001b[39m\u001b[39m13.02.2003\u001b[39m\u001b[39m'\u001b[39m, registry\u001b[39m=\u001b[39mreg)\n\u001b[0;32m     <a href='vscode-notebook-cell:/d%3A/Data%20Science/IDE/train_2.ipynb#Y432sZmlsZQ%3D%3D?line=55'>56</a>\u001b[0m \u001b[39mprint\u001b[39m(reg)\n\u001b[1;32m---> <a href='vscode-notebook-cell:/d%3A/Data%20Science/IDE/train_2.ipynb#Y432sZmlsZQ%3D%3D?line=56'>57</a>\u001b[0m reg \u001b[39m=\u001b[39m register(\u001b[39m'\u001b[39;49m\u001b[39mIvanov\u001b[39;49m\u001b[39m'\u001b[39;49m, \u001b[39m'\u001b[39;49m\u001b[39mSergej\u001b[39;49m\u001b[39m'\u001b[39;49m, \u001b[39m'\u001b[39;49m\u001b[39m24.13.1995\u001b[39;49m\u001b[39m'\u001b[39;49m)\n\u001b[0;32m     <a href='vscode-notebook-cell:/d%3A/Data%20Science/IDE/train_2.ipynb#Y432sZmlsZQ%3D%3D?line=57'>58</a>\u001b[0m \u001b[39mprint\u001b[39m(reg)\n",
      "\u001b[1;32md:\\Data Science\\IDE\\train_2.ipynb Cell 220\u001b[0m in \u001b[0;36mregister\u001b[1;34m(surname, name, date, middle_name, registry)\u001b[0m\n\u001b[0;32m     <a href='vscode-notebook-cell:/d%3A/Data%20Science/IDE/train_2.ipynb#Y432sZmlsZQ%3D%3D?line=44'>45</a>\u001b[0m day, month, year \u001b[39m=\u001b[39m processing_date(date)\n\u001b[0;32m     <a href='vscode-notebook-cell:/d%3A/Data%20Science/IDE/train_2.ipynb#Y432sZmlsZQ%3D%3D?line=45'>46</a>\u001b[0m \u001b[39mif\u001b[39;00m check_date(day, month, year) \u001b[39mis\u001b[39;00m \u001b[39mFalse\u001b[39;00m:\n\u001b[1;32m---> <a href='vscode-notebook-cell:/d%3A/Data%20Science/IDE/train_2.ipynb#Y432sZmlsZQ%3D%3D?line=46'>47</a>\u001b[0m     \u001b[39mraise\u001b[39;00m \u001b[39mValueError\u001b[39;00m(\u001b[39m\"\u001b[39m\u001b[39mInvalid Date!\u001b[39m\u001b[39m\"\u001b[39m)    \n\u001b[0;32m     <a href='vscode-notebook-cell:/d%3A/Data%20Science/IDE/train_2.ipynb#Y432sZmlsZQ%3D%3D?line=47'>48</a>\u001b[0m \u001b[39mif\u001b[39;00m registry \u001b[39mis\u001b[39;00m \u001b[39mNone\u001b[39;00m:\n\u001b[0;32m     <a href='vscode-notebook-cell:/d%3A/Data%20Science/IDE/train_2.ipynb#Y432sZmlsZQ%3D%3D?line=48'>49</a>\u001b[0m     registry \u001b[39m=\u001b[39m []\n",
      "\u001b[1;31mValueError\u001b[0m: Invalid Date!"
     ]
    }
   ],
   "source": [
    "# Нам остался финальный штрих — добавить проверку даты на корректность в функцию для регистрации!\n",
    "# Модифицируйте функцию register() так, чтобы она выбрасывала исключение ValueError(\"Invalid Date!\"), если введённая \n",
    "# пользователем дата является некорректной. Для этого вам пригодится функция check_date() из предыдущего задания — \n",
    "# вы можете добавить её в функцию register() или сделать независимой, на ваш вкус.\n",
    "# Главное — не забудьте добавить её объявление при отправке кода на проверку.\n",
    "# Пример вызова функции:\n",
    "# reg = register('Petrova', 'Maria', '13.03.2003', 'Ivanovna')\n",
    "# reg = register('Ivanov', 'Sergej', '24.09.1995', registry=reg)\n",
    "# reg = register('Smith', 'John', '13.02.2003', registry=reg)\n",
    "# print(reg)\n",
    "# ## [('Petrova', 'Maria', 'Ivanovna', 13, 3, 2003), ('Ivanov', 'Sergej', None, 24, 9, 1995), \n",
    "# ('Smith', 'John', None, 13, 2, 2003)]\n",
    "# reg = register('Ivanov', 'Sergej', '24.13.1995'))\n",
    "# ## ValueError: Invalid Date!\n",
    "\n",
    "def check_date(day, month, year):\n",
    "    def is_leap(year):\n",
    "        if year % 400 == 0:\n",
    "            return True\n",
    "        if (year % 100 != 0) and (year % 4 == 0):\n",
    "            return True\n",
    "        else:\n",
    "            return False\n",
    "    if type(day) is not int or type(month) is not int or type(year) is not int:\n",
    "        return False\n",
    "    if (year < 1900) or (year > 2022):\n",
    "        return False\n",
    "    if (month < 1) or (month > 12):\n",
    "        return False\n",
    "    if (day < 1) or (day > 31):\n",
    "        return False\n",
    "    if month in [4, 6, 9, 11] and day > 30:\n",
    "        return False\n",
    "    if month == 2:\n",
    "        if (is_leap(year) is True) and (day > 29):\n",
    "            return False\n",
    "        if (is_leap(year) is False) and (day > 28):\n",
    "            return False\n",
    "    return True\n",
    "\n",
    "def register(surname, name, date, middle_name=None, registry=None):\n",
    "    def processing_date(date):\n",
    "        day, month, year = date.split('.')\n",
    "        return int(day), int(month), int(year)\n",
    "    day, month, year = processing_date(date)\n",
    "    if check_date(day, month, year) is False:\n",
    "        raise ValueError(\"Invalid Date!\")    \n",
    "    if registry is None:\n",
    "        registry = []\n",
    "    registry.append((surname, name, middle_name, day, month, year))\n",
    "    return registry\n",
    "\n",
    "reg = register('Petrova', 'Maria', '13.03.2003', 'Ivanovna')\n",
    "reg = register('Ivanov', 'Sergej', '24.09.1995', registry=reg)\n",
    "reg = register('Smith', 'John', '13.02.2003', registry=reg)\n",
    "print(reg)\n",
    "reg = register('Ivanov', 'Sergej', '24.13.1995')\n",
    "print(reg)"
   ]
  },
  {
   "cell_type": "code",
   "execution_count": null,
   "metadata": {},
   "outputs": [
    {
     "name": "stdout",
     "output_type": "stream",
     "text": [
      "{'a': 2.1360009363293826, 'b': 2.692582403567252, 'c': 4.422951503238533, 'perimeter': 9.251534843135168, 'area': 2.1250000000000027}\n",
      "{'a': 3.0, 'b': 4.0, 'c': 5.0, 'perimeter': 12.0, 'area': 6.0}\n"
     ]
    }
   ],
   "source": [
    "# Мы разрабатываем приложение для графических дизайнеров. Идея приложения состоит в следующем: пользователь выбирает \n",
    "# тип фигуры и ставит на экране точки, а приложение по этим точкам рисует фигуру, а также выводит её площадь и \n",
    "# периметр. Рисовать с помощью Python мы пока не умеем, однако мы можем реализовать другую часть приложения — расчёт \n",
    "# параметров фигуры.\n",
    "# Одной из основополагающих геометрических фигур, используемых в дизайне, является треугольник. Каждый треугольник \n",
    "# задаётся тремя точками, каждая из которых имеет свои координаты  и  на плоскости: ,  и .\n",
    "# Предположим, что в нашем приложении есть возможность отрисовки треугольника по введённым пользователем координатам\n",
    "# трёх точек. Каждая из трёх точек представляет собой кортеж из двух чисел — координата точки по оси  и по оси \n",
    "# соответственно. \n",
    "# Например, переменные задают треугольник.\n",
    "# p1, p2, p3 = (2, 2), (4, 1.25), (1, 4.5)\n",
    "# Необходимо реализовать функцию triangle(), которая будет принимать на вход координаты трёх точек p1, p2 и p3 \n",
    "# и возвращать длины сторон треугольника, его периметр и площадь в виде словаря.\n",
    "# Примеры вызова функции:\n",
    "# print(triangle(p1=(2, 2), p2=(4, 1.25), p3=(1, 4.5)))\n",
    "# ## {'a': 2.1360009363293826, 'b': 2.692582403567252, 'c': 4.422951503238533, 'perimeter': 9.251534843135168, \n",
    "# 'area': 2.1250000000000027}\n",
    "# print(triangle(p1=(1, 1), p2=(1, 4), p3=(5, 1)))\n",
    "# ## {'a': 3.0, 'b': 4.0, 'c': 5.0, 'perimeter': 12.0, 'area': 6.0}\n",
    "\n",
    "def triangle(p1, p2, p3):\n",
    "    temp_dict = {}\n",
    "    a = ((p2[0]-p1[0])**2 + (p2[1]-p1[1])**2) ** (1/2)\n",
    "    b = ((p1[0]-p3[0])**2 + (p3[1]-p1[1])**2) ** (1/2)\n",
    "    c = ((p2[0]-p3[0])**2 + (p3[1]-p2[1])**2) ** (1/2)\n",
    "    P = a + b + c #периметр треугольника\n",
    "    p = P / 2 #полупеример треугольника\n",
    "    S = (p*(p-a)*(p-b)*(p-c)) ** (1/2) #площадь треугольника\n",
    "    temp_dict['a'] = a\n",
    "    temp_dict['b'] = b\n",
    "    temp_dict['c'] = c\n",
    "    temp_dict['perimeter'] = P\n",
    "    temp_dict['area'] = S\n",
    "    return temp_dict\n",
    "\n",
    "print(triangle(p1=(2, 2), p2=(4, 1.25), p3=(1, 4.5)))\n",
    "print(triangle(p1=(1, 1), p2=(1, 4), p3=(5, 1)))"
   ]
  },
  {
   "cell_type": "code",
   "execution_count": null,
   "metadata": {},
   "outputs": [
    {
     "name": "stdout",
     "output_type": "stream",
     "text": [
      "{'a': 2.1360009363293826, 'b': 2.692582403567252, 'c': 4.422951503238533, 'perimeter': 9.251534843135168, 'area': 2.1250000000000027}\n",
      "{'a': 3.0, 'b': 4.0, 'c': 5.0, 'perimeter': 12.0, 'area': 6.0}\n"
     ]
    }
   ],
   "source": [
    "def triangle(p1, p2, p3):\n",
    "    def sides(p1, p2, p3):\n",
    "        x1, y1 = p1; x2, y2 = p2; x3, y3 = p3\n",
    "        a = ((x2-x1)**2 + (y2-y1)**2) ** (1/2)\n",
    "        b = ((x3-x1)**2 + (y3-y1)**2) ** (1/2)\n",
    "        c = ((x3-x2)**2 + (y3-y2)**2) ** (1/2)\n",
    "        return a, b, c\n",
    "    def calculate_perimeter_triangle(a, b, c):\n",
    "        perimeter = a + b + c\n",
    "        return perimeter\n",
    "    def calculate_area_triangle(a, b, c):\n",
    "        p = perimeter / 2\n",
    "        area = (p*(p-a)*(p-b)*(p-c)) ** (1/2)\n",
    "        return area\n",
    "    a, b, c = sides(p1, p2, p3)\n",
    "    perimeter = calculate_perimeter_triangle(a, b, c)\n",
    "    area = calculate_area_triangle(a, b, c)\n",
    "    result = {'a': a, 'b': b, 'c': c, 'perimeter': perimeter, 'area': area}\n",
    "    return result\n",
    "\n",
    "print(triangle(p1=(2, 2), p2=(4, 1.25), p3=(1, 4.5)))\n",
    "print(triangle(p1=(1, 1), p2=(1, 4), p3=(5, 1)))   "
   ]
  },
  {
   "cell_type": "code",
   "execution_count": null,
   "metadata": {},
   "outputs": [
    {
     "name": "stdout",
     "output_type": "stream",
     "text": [
      "True\n",
      "False\n"
     ]
    }
   ],
   "source": [
    "# # Вы возможно удивитесь, но три точки на плоскости не всегда образуют треугольник.\n",
    "# # Например, при координатах точек p1, p2, p2 = (2.5, 2), (4, 1), (1, 3) треугольник составить не получится, потому \n",
    "# # что все эти точки будут лежать на одной прямой:\n",
    "# из математики известно, что треугольник существует только тогда, когда сумма любых двух его сторон больше третьей.\n",
    "# То есть треугольник будет существовать, если одновременно будут выполняться следующие условия:\n",
    "# a + b > c;\n",
    "# a + c > b;\n",
    "# b + c > a.\n",
    "# В противном случае составить треугольник не получится.\n",
    "# Реализуйте функцию check_exist_triangle(a, b, c), которая возвращает True, если треугольник с длинами сторон\n",
    "# a, b и c существует, и False — в обратном случае.\n",
    "# Примеры вызова функции:\n",
    "# print(check_exist_triangle(a=3, b=4, c=5))\n",
    "# ## True\n",
    "# print(check_exist_triangle(a=1.8, b=1.8, c=3.6))\n",
    "# ## False\n",
    "\n",
    "def check_exist_triangle(a, b, c):\n",
    "    if (a+b > c) and (a+c > b) and (b+c > a):\n",
    "        return True\n",
    "    return False\n",
    "\n",
    "print(check_exist_triangle(a=3, b=4, c=5))\n",
    "print(check_exist_triangle(a=1.8, b=1.8, c=3.6))"
   ]
  },
  {
   "cell_type": "code",
   "execution_count": null,
   "metadata": {},
   "outputs": [
    {
     "name": "stdout",
     "output_type": "stream",
     "text": [
      "{'a': 2.1360009363293826, 'b': 2.692582403567252, 'c': 4.422951503238533, 'perimeter': 9.251534843135168, 'area': 2.1250000000000027}\n",
      "{'a': 3.0, 'b': 4.0, 'c': 5.0, 'perimeter': 12.0, 'area': 6.0}\n"
     ]
    },
    {
     "ename": "ValueError",
     "evalue": "Треугольник не существует",
     "output_type": "error",
     "traceback": [
      "\u001b[1;31m---------------------------------------------------------------------------\u001b[0m",
      "\u001b[1;31mValueError\u001b[0m                                Traceback (most recent call last)",
      "\u001b[1;32md:\\Data Science\\IDE\\train_2.ipynb Cell 224\u001b[0m in \u001b[0;36m<cell line: 43>\u001b[1;34m()\u001b[0m\n\u001b[0;32m     <a href='vscode-notebook-cell:/d%3A/Data%20Science/IDE/train_2.ipynb#Y436sZmlsZQ%3D%3D?line=40'>41</a>\u001b[0m \u001b[39mprint\u001b[39m(triangle(p1\u001b[39m=\u001b[39m(\u001b[39m2\u001b[39m, \u001b[39m2\u001b[39m), p2\u001b[39m=\u001b[39m(\u001b[39m4\u001b[39m, \u001b[39m1.25\u001b[39m), p3\u001b[39m=\u001b[39m(\u001b[39m1\u001b[39m, \u001b[39m4.5\u001b[39m)))\n\u001b[0;32m     <a href='vscode-notebook-cell:/d%3A/Data%20Science/IDE/train_2.ipynb#Y436sZmlsZQ%3D%3D?line=41'>42</a>\u001b[0m \u001b[39mprint\u001b[39m(triangle(p1\u001b[39m=\u001b[39m(\u001b[39m1\u001b[39m, \u001b[39m1\u001b[39m), p2\u001b[39m=\u001b[39m(\u001b[39m1\u001b[39m, \u001b[39m4\u001b[39m), p3\u001b[39m=\u001b[39m(\u001b[39m5\u001b[39m, \u001b[39m1\u001b[39m)))\n\u001b[1;32m---> <a href='vscode-notebook-cell:/d%3A/Data%20Science/IDE/train_2.ipynb#Y436sZmlsZQ%3D%3D?line=42'>43</a>\u001b[0m \u001b[39mprint\u001b[39m(triangle(p1\u001b[39m=\u001b[39;49m(\u001b[39m2.5\u001b[39;49m, \u001b[39m2\u001b[39;49m), p2\u001b[39m=\u001b[39;49m(\u001b[39m4\u001b[39;49m, \u001b[39m1\u001b[39;49m), p3\u001b[39m=\u001b[39;49m(\u001b[39m1\u001b[39;49m, \u001b[39m3\u001b[39;49m)))\n",
      "\u001b[1;32md:\\Data Science\\IDE\\train_2.ipynb Cell 224\u001b[0m in \u001b[0;36mtriangle\u001b[1;34m(p1, p2, p3)\u001b[0m\n\u001b[0;32m     <a href='vscode-notebook-cell:/d%3A/Data%20Science/IDE/train_2.ipynb#Y436sZmlsZQ%3D%3D?line=32'>33</a>\u001b[0m a, b, c \u001b[39m=\u001b[39m sides(p1, p2, p3)\n\u001b[0;32m     <a href='vscode-notebook-cell:/d%3A/Data%20Science/IDE/train_2.ipynb#Y436sZmlsZQ%3D%3D?line=33'>34</a>\u001b[0m \u001b[39mif\u001b[39;00m check_exist_triangle(a, b, c) \u001b[39mis\u001b[39;00m \u001b[39mFalse\u001b[39;00m:\n\u001b[1;32m---> <a href='vscode-notebook-cell:/d%3A/Data%20Science/IDE/train_2.ipynb#Y436sZmlsZQ%3D%3D?line=34'>35</a>\u001b[0m     \u001b[39mraise\u001b[39;00m \u001b[39mValueError\u001b[39;00m(\u001b[39m\"\u001b[39m\u001b[39mТреугольник не существует\u001b[39m\u001b[39m\"\u001b[39m)\n\u001b[0;32m     <a href='vscode-notebook-cell:/d%3A/Data%20Science/IDE/train_2.ipynb#Y436sZmlsZQ%3D%3D?line=35'>36</a>\u001b[0m perimeter \u001b[39m=\u001b[39m calculate_perimeter_triangle(a, b, c)\n\u001b[0;32m     <a href='vscode-notebook-cell:/d%3A/Data%20Science/IDE/train_2.ipynb#Y436sZmlsZQ%3D%3D?line=36'>37</a>\u001b[0m area \u001b[39m=\u001b[39m calculate_area_triangle(a, b, c)\n",
      "\u001b[1;31mValueError\u001b[0m: Треугольник не существует"
     ]
    }
   ],
   "source": [
    "# Остался финальный штрих.\n",
    "# Модифицируйте функцию triangle() так, чтобы эта функция выбрасывала исключение \n",
    "# ValueError(\"Треугольник не существует\"), если треугольник не существует.\n",
    "# Для проверки существования треугольника воспользуйтесь функцией check_exist_triangle() из предыдущего задания. \n",
    "# Добавьте её объявление и вызов внутрь функции triangle().\n",
    "# Пример вызовов функции:\n",
    "# print(triangle(p1=(2, 2), p2=(4, 1.25), p3=(1, 4.5)))\n",
    "# ## {'a': 2.1360009363293826, 'b': 2.692582403567252, 'c': 4.422951503238533, 'perimeter': 9.251534843135168, \n",
    "# 'area': 2.1250000000000027}\n",
    "# print(triangle(p1=(1, 1), p2=(1, 4), p3=(5, 1)))\n",
    "# ## {'a': 3.0, 'b': 4.0, 'c': 5.0, 'perimeter': 12.0, 'area': 6.0}\n",
    "# print(triangle(p1=(2.5, 2), p2=(4, 1), p3=(1, 3)))\n",
    "# ## ValueError: Треугольник не существует\n",
    "\n",
    "def triangle(p1, p2, p3):\n",
    "    def sides(p1, p2, p3):\n",
    "        x1, y1 = p1; x2, y2 = p2; x3, y3 = p3\n",
    "        a = ((x2-x1)**2 + (y2-y1)**2) ** (1/2)\n",
    "        b = ((x3-x1)**2 + (y3-y1)**2) ** (1/2)\n",
    "        c = ((x3-x2)**2 + (y3-y2)**2) ** (1/2)\n",
    "        return a, b, c\n",
    "    def calculate_perimeter_triangle(a, b, c):\n",
    "        perimeter = a + b + c\n",
    "        return perimeter\n",
    "    def calculate_area_triangle(a, b, c):\n",
    "        p = perimeter / 2\n",
    "        area = (p*(p-a)*(p-b)*(p-c)) ** (1/2)\n",
    "        return area\n",
    "    def check_exist_triangle(a, b, c):\n",
    "        if (a+b > c) and (a+c > b) and (b+c > a):\n",
    "            return True\n",
    "        return False\n",
    "    a, b, c = sides(p1, p2, p3)\n",
    "    if check_exist_triangle(a, b, c) is False:\n",
    "        raise ValueError(\"Треугольник не существует\")\n",
    "    perimeter = calculate_perimeter_triangle(a, b, c)\n",
    "    area = calculate_area_triangle(a, b, c)\n",
    "    result = {'a': a, 'b': b, 'c': c, 'perimeter': perimeter, 'area': area}\n",
    "    return result\n",
    "\n",
    "print(triangle(p1=(2, 2), p2=(4, 1.25), p3=(1, 4.5)))\n",
    "print(triangle(p1=(1, 1), p2=(1, 4), p3=(5, 1)))\n",
    "print(triangle(p1=(2.5, 2), p2=(4, 1), p3=(1, 3)))"
   ]
  },
  {
   "cell_type": "code",
   "execution_count": null,
   "metadata": {},
   "outputs": [
    {
     "name": "stdout",
     "output_type": "stream",
     "text": [
      "2.23606797749979\n",
      "1.4142135623730951\n"
     ]
    }
   ],
   "source": [
    "# Создавая окружность в нашем графическом приложении, пользователь сначала ставит точку P₁ — центр окружности.\n",
    "# Затем тянет мышкой эту точку, и там, где растяжение остановится, будет создана точка P₂.\n",
    "# Каждая точка имеет координаты x и y, которые задаются в виде кортежей: P₁=(x₁, y₁), P₂=(x₂, y₂).\n",
    "# Например:\n",
    "# p1, p2 = (3, 2.5), (4, 4.5) \n",
    "# Чтобы вычислить все параметры окружности, нам необходимо знать её радиус.\n",
    "# Напишите функцию radius(), которая принимает на вход две точки (их координаты заданы кортежами) и возвращает радиус \n",
    "# окружности. Для вычисления радиуса воспользуйтесь теоремой Пифагора:\n",
    "# Пример вызова функции:\n",
    "# print(radius(p1=(3, 2.5), p2=(4, 4.5)))\n",
    "# ## 2.23606797749979\n",
    "# print(radius(p1=(0, 0), p2=(1, 1)))\n",
    "# ## 1.4142135623730951\n",
    "\n",
    "def radius(p1, p2):\n",
    "    x1, y1 = p1; x2, y2 = p2\n",
    "    r = ((x2-x1)**2 + (y2-y1)**2) ** (1/2)\n",
    "    return r\n",
    "\n",
    "print(radius(p1=(3, 2.5), p2=(4, 4.5)))\n",
    "print(radius(p1=(0, 0), p2=(1, 1)))"
   ]
  },
  {
   "cell_type": "code",
   "execution_count": null,
   "metadata": {},
   "outputs": [
    {
     "name": "stdout",
     "output_type": "stream",
     "text": [
      "{'radius': 2.236, 'circumference': 14.05, 'area': 15.708}\n",
      "{'radius': 1.414, 'circumference': 8.886, 'area': 6.283}\n",
      "{'radius': 2.236, 'circumference': 14.043, 'area': 15.7}\n"
     ]
    }
   ],
   "source": [
    "# Теперь, когда у нас есть функция для расчёта радиуса по двум точкам, нам не составит труда вычислить площадь и \n",
    "# периметр окружности. Для удобства все вычисления можно обернуть в одну объемлющую функцию.\n",
    "# Напишите функцию circle(), которая принимает на вход две точки, чьи координаты записаны в виде кортежей.\n",
    "# Внутри себя функция содержит три вложенные функции:\n",
    "# radius() — функция для вычисления радиуса, которую мы писали в прошлом задании.\n",
    "# calculate_circumference() — функция для вычисления длины окружности (по сути периметра) по формуле:\n",
    "# L=2πr\n",
    "# Радиус окружности сделайте параметром функции.\n",
    "# calculate_area_circle() — функция для вычисления площади окружности по формуле:\n",
    "# S=πr²\n",
    "# Радиус окружности сделайте параметром функции.\n",
    "# Значение числа π задаётся глобальной переменной pi в основном блоке программы.\n",
    "# Функция circle() должна возвращать словарь с ключами 'radius', 'circumference' и 'area'. Значениями должны быть \n",
    "# рассчитанные радиус, длина окружности и её площадь соответственно, округленные до третьего знака после запятой.\n",
    "# Примеры вызова функции:\n",
    "# pi = 3.1416\n",
    "# print(circle(p1=(3, 2.5), p2=(4, 4.5)))\n",
    "# ## {'radius': 2.236, 'circumference': 14.05, 'area': 15.708}\n",
    "# pi = 3.1416\n",
    "# print(circle(p1=(0, 0), p2=(1, 1)))\n",
    "# ## {'radius': 1.414, 'circumference': 8.886, 'area': 6.283}\n",
    "# pi = 3.14\n",
    "# print(circle(p1=(3, 2.5), p2=(4, 4.5)))\n",
    "# ## {'radius': 2.236, 'circumference': 14.043, 'area': 15.7}\n",
    "\n",
    "def circle(p1, p2):\n",
    "    def radius(p1, p2):\n",
    "        x1, y1 = p1; x2, y2 = p2\n",
    "        r = ((x2-x1)**2 + (y2-y1)**2) ** (1/2)\n",
    "        return r\n",
    "    def calculate_circumference(r):\n",
    "        L = 2 * pi * r\n",
    "        return L\n",
    "    def calculate_area_circle(r):\n",
    "        S = pi * r**2\n",
    "        return S\n",
    "    r = radius(p1, p2)\n",
    "    L = calculate_circumference(r)\n",
    "    S = calculate_area_circle(r)\n",
    "    result = {\n",
    "        'radius': round(r, 3),\n",
    "        'circumference': round(L, 3),\n",
    "        'area': round(S, 3)\n",
    "    }\n",
    "    return result\n",
    "\n",
    "pi = 3.1416\n",
    "print(circle(p1=(3, 2.5), p2=(4, 4.5)))\n",
    "pi = 3.1416\n",
    "print(circle(p1=(0, 0), p2=(1, 1)))\n",
    "pi = 3.14\n",
    "print(circle(p1=(3, 2.5), p2=(4, 4.5)))    "
   ]
  },
  {
   "cell_type": "code",
   "execution_count": null,
   "metadata": {},
   "outputs": [
    {
     "name": "stdout",
     "output_type": "stream",
     "text": [
      "(1.5, 1.0)\n",
      "(1.0, 1.0)\n"
     ]
    }
   ],
   "source": [
    "# Для рисования эллипса в нашем приложении пользователю нужно отметить мышкой на экране 3 точки:\n",
    "# P₁ — точка центра эллипса;\n",
    "# P₂ и P₃ — большая и малая полуоси эллипса.\n",
    "# Каждая точка имеет координаты x и y, которые задаются в виде кортежей: P₁=(x₁, y₁), P₂=(x₂, y₂) и P₃=(x₃, y₃).\n",
    "# Для вычисления площади эллипса и длины его окружности важно знать длины его полуосей (на рисунке они обозначены \n",
    "# как a и b).\n",
    "# Учитывая все сказанное, напишите функцию semi_axes(), которая принимает на вход три параметра — точки p1, p2 и p3, \n",
    "# представленные в виде кортежей. Гарантируется, что точка p1 всегда соответствует центру эллипса. Точки представлены \n",
    "# в виде кортежей.\n",
    "# Например:\n",
    "# p1, p2, p3 = (3, 2.5), (4.5, 2.5), (3, 3.5)\n",
    "# Функция должна вычислять длины полуосей a и b и возвращать их. Длины полуосей можно вычислить по теореме Пифагора:\n",
    "# Примеры вызова функции:\n",
    "# print(semi_axes(p1=(3, 2.5), p2=(4.5, 2.5), p3=(3, 3.5)))\n",
    "# ## (1.5, 1.0)\n",
    "# print(semi_axes(p1=(0, 0), p2=(0, 1), p3=(1, 0)))\n",
    "# ## (1.0, 1.0)\n",
    "\n",
    "def semi_axes(p1, p2, p3):\n",
    "    x1, y1 = p1; x2, y2 = p2; x3, y3 = p3\n",
    "    a = ((x2-x1)**2 + (y2-y1)**2) ** 0.5 #длина малой полуоси эллипса\n",
    "    b = ((x3-x1)**2 + (y3-y1)**2) ** 0.5 #длина большой полуоси эллипса\n",
    "    return a, b\n",
    "\n",
    "print(semi_axes(p1=(3, 2.5), p2=(4.5, 2.5), p3=(3, 3.5)))\n",
    "print(semi_axes(p1=(0, 0), p2=(0, 1), p3=(1, 0)))"
   ]
  },
  {
   "cell_type": "code",
   "execution_count": null,
   "metadata": {},
   "outputs": [
    {
     "name": "stdout",
     "output_type": "stream",
     "text": [
      "{'a': 1.5, 'b': 1.0, 'length': 8.01, 'area': 4.712}\n",
      "{'a': 1.0, 'b': 1.0, 'length': 6.283, 'area': 3.142}\n",
      "{'a': 1.0, 'b': 1.0, 'length': 6.28, 'area': 3.14}\n"
     ]
    }
   ],
   "source": [
    "# Теперь, когда мы умеем вычислять параметры эллипса по точкам, мы можем вычислить его площадь и длину его окружности.\n",
    "# Напишите функцию ellipse(), которая принимает на вход три параметра: p1, p2 и p3 — точки для построения эллипса, \n",
    "# представленные в виде кортежей.\n",
    "# Функция содержит три вложенные функции:\n",
    "# semi_axes() — функция для вычисления полуосей эллипса, которую мы реализовали в предыдущем задании.\n",
    "# calculate_area_ellipse() — функция для вычисления площади эллипса по формуле:\n",
    "# S = πab\n",
    "# Длины полуосей a и b сделайте параметрами функции.\n",
    "# calculate_length_ellipse() — функция для вычисления длины окружности эллипса по формуле:  Длины полуосей a и b \n",
    "# сделайте параметрами функции.\n",
    "# Значение числа π задаётся глобальной переменной pi.\n",
    "# Функция ellipse() должна возвращать словарь с ключами 'a', 'b', 'length' и 'area'. Значениями должны быть \n",
    "# рассчитанные длины полуосей, длина (периметр) и его площадь, соответственно, округленные до третьего знака \n",
    "# после запятой.\n",
    "# Примеры вызова функции:\n",
    "# pi = 3.1416\n",
    "# print(ellipse(p1=(3, 2.5), p2=(4.5, 2.5), p3=(3, 3.5)))\n",
    "# ## {'a': 1.5, 'b': 1.0, 'length': 8.01, 'area': 4.712}\n",
    "# pi = 3.1416\n",
    "# print(ellipse(p1=(0, 0), p2=(0, 1), p3=(1, 0)))\n",
    "# ## {'a': 1.0, 'b': 1.0, 'length': 6.283, 'area': 3.142}\n",
    "# pi = 3.14\n",
    "# print(ellipse(p1=(0, 0), p2=(0, 1), p3=(1, 0)))\n",
    "# ## {'a': 1.0, 'b': 1.0, 'length': 6.28, 'area': 3.14}\n",
    "\n",
    "def ellipse(p1, p2, p3):\n",
    "    \n",
    "    def semi_axes(p1, p2, p3):\n",
    "        x1, y1 = p1; x2, y2 = p2; x3, y3 = p3\n",
    "        a = ((x2-x1)**2 + (y2-y1)**2) ** 0.5 #длина большой полуоси эллипса\n",
    "        b = ((x3-x1)**2 + (y3-y1)**2) ** 0.5 #длина малой полуоси эллипса\n",
    "        return a, b\n",
    "    \n",
    "    def calculate_area_ellipse(a, b):\n",
    "        area = pi * a * b\n",
    "        return area \n",
    "    \n",
    "    def calculate_length_ellipse(a, b):\n",
    "        length = 2 * pi * (((a**2 + b**2)/2) ** 0.5)\n",
    "        return length\n",
    "    \n",
    "    a, b = semi_axes(p1, p2, p3)\n",
    "    area = calculate_area_ellipse(a, b)\n",
    "    length = calculate_length_ellipse(a, b)\n",
    "    result = {\n",
    "        'a': round(a, 3), \n",
    "        'b': round(b, 3), \n",
    "        'length': round(length, 3), \n",
    "        'area': round(area, 3)\n",
    "    }\n",
    "    \n",
    "    return result\n",
    "\n",
    "pi = 3.1416\n",
    "print(ellipse(p1=(3, 2.5), p2=(4.5, 2.5), p3=(3, 3.5)))\n",
    "pi = 3.1416\n",
    "print(ellipse(p1=(0, 0), p2=(0, 1), p3=(1, 0)))\n",
    "pi = 3.14\n",
    "print(ellipse(p1=(0, 0), p2=(0, 1), p3=(1, 0)))"
   ]
  },
  {
   "cell_type": "code",
   "execution_count": null,
   "metadata": {},
   "outputs": [
    {
     "name": "stdout",
     "output_type": "stream",
     "text": [
      "[10, 21, 24, 12]\n",
      "[21, 24, 12]\n",
      "[24, 12]\n",
      "[12]\n",
      "[]\n"
     ]
    },
    {
     "data": {
      "text/plain": [
       "67"
      ]
     },
     "execution_count": 6,
     "metadata": {},
     "output_type": "execute_result"
    }
   ],
   "source": [
    "my_list = [10, 21, 24, 12]\n",
    "\n",
    "def sum_list(lst):\n",
    "    print(lst)\n",
    "    if len(lst) == 0:\n",
    "        return 0\n",
    "    return lst[0] + sum_list(lst[1:])\n",
    "\n",
    "sum_list(my_list)    "
   ]
  },
  {
   "cell_type": "code",
   "execution_count": null,
   "metadata": {},
   "outputs": [
    {
     "name": "stdout",
     "output_type": "stream",
     "text": [
      "15.0\n",
      "1\n"
     ]
    }
   ],
   "source": [
    "# Напишите рекурсивную функцию multiply_lst(lst), которая перемножает элементы заданного списка lst между собой. \n",
    "# Если в функцию передаётся пустой список, она должна возвращать 1.\n",
    "# Примеры вызова функции:\n",
    "# print(multiply_lst([1, 5, 2, 1.5]))\n",
    "# ## 15\n",
    "# print(multiply_lst([]))\n",
    "# ## 1 \n",
    "\n",
    "def multiply_lst(lst):\n",
    "    if not lst:\n",
    "        return 1\n",
    "    return lst[0] * multiply_lst(lst[1:])\n",
    "\n",
    "print(multiply_lst([1, 5, 2, 1.5]))\n",
    "print(multiply_lst([]))"
   ]
  },
  {
   "cell_type": "code",
   "execution_count": null,
   "metadata": {},
   "outputs": [
    {
     "name": "stdout",
     "output_type": "stream",
     "text": [
      "0.475\n",
      "1.975\n",
      "0\n"
     ]
    }
   ],
   "source": [
    "# Напишите рекурсивную функцию inv_sum_list(). На вход ей подаётся список из чисел, а она вычисляет сумму \n",
    "# чисел, являющихся обратными к своим элементам. Обратным числу x называется число 1/x. Например, обратным \n",
    "# числу 2 является 1/2 = 0.5.\n",
    "# Например, если на вход программы подается список [10, 4, 8], то функция должна вернуть сумму \n",
    "# 0.1 + 0.25 + 0.125 = 0.475.\n",
    "# Если на вход функции передаётся пустой список, она должна возвращать 0.\n",
    "# Пример вызова функции:\n",
    "# print(inv_sum_list([10, 4, 8]))\n",
    "# ## 0.475\n",
    "# print(inv_sum_list([10, 1, 2, 4, 8]))\n",
    "# ## 1.975\n",
    "# print(inv_sum_list([]))\n",
    "# ## 0\n",
    "\n",
    "def inv_sum_list(lst):\n",
    "    if not lst:\n",
    "        return 0\n",
    "    try:\n",
    "        inv_sum = 1/lst[0] + inv_sum_list(lst[1:])\n",
    "    except ZeroDivisionError:\n",
    "        print('Деление на 0 запрещено!')        \n",
    "    return inv_sum\n",
    "\n",
    "print(inv_sum_list([10, 4, 8]))\n",
    "print(inv_sum_list([10, 1, 2, 4, 8]))\n",
    "print(inv_sum_list([]))\n"
   ]
  },
  {
   "cell_type": "code",
   "execution_count": null,
   "metadata": {},
   "outputs": [
    {
     "name": "stdout",
     "output_type": "stream",
     "text": [
      "1\n",
      "6\n",
      "120\n"
     ]
    }
   ],
   "source": [
    "def factorial(n):\n",
    "    if n == 0:\n",
    "        return 1\n",
    "    if n == 1:\n",
    "        return 1\n",
    "    return n * factorial(n-1)\n",
    "\n",
    "print(factorial(0))\n",
    "print(factorial(3))\n",
    "print(factorial(5))\n"
   ]
  },
  {
   "cell_type": "code",
   "execution_count": null,
   "metadata": {},
   "outputs": [
    {
     "name": "stdout",
     "output_type": "stream",
     "text": [
      "252.0\n",
      "220.0\n",
      "1.0\n",
      "1.0\n"
     ]
    }
   ],
   "source": [
    "# Напишем функцию combination(n, k), которая позволит нам автоматически вычислять значение сочетания по формуле, \n",
    "# приведённой выше, для любых n и k.\n",
    "# При расчёте воспользуйтесь рекурсивной функцией factorial(), которую мы написали выше. Можете сделать её \n",
    "# внутренней для функции combination() или независимой функцией, на ваш вкус. Главное, добавьте в свой код \n",
    "# объявление функции factorial().\n",
    "# Пример работы функции:\n",
    "# print(combination(n=10, k=5))\n",
    "# ## 252.0\n",
    "# print(combination(n=12, k=3))\n",
    "# ## 220.0\n",
    "# print(combination(n=1, k=1))\n",
    "# ## 1.0\n",
    "# print(combination(n=0, k=0))\n",
    "# ## 1.0\n",
    "\n",
    "def combination(n, k):\n",
    "    def factorial(n):\n",
    "        if n == 0:\n",
    "            return 1\n",
    "        if n == 1:\n",
    "            return 1\n",
    "        return n * factorial(n-1)\n",
    "    C = factorial(n) / (factorial(n-k)*factorial(k))\n",
    "    return C\n",
    "\n",
    "print(combination(n=10, k=5))\n",
    "print(combination(n=12, k=3))\n",
    "print(combination(n=1, k=1))\n",
    "print(combination(n=0, k=0))\n",
    "\n"
   ]
  },
  {
   "cell_type": "code",
   "execution_count": null,
   "metadata": {},
   "outputs": [
    {
     "name": "stdout",
     "output_type": "stream",
     "text": [
      "2\n"
     ]
    }
   ],
   "source": [
    "#нахождение числа вхождений буквы в строке через рекурсию\n",
    "def check(string, ch):\n",
    "    if not string:\n",
    "        return 0\n",
    "    elif string[0] == ch:\n",
    "        return 1 + check(string[1:], ch)\n",
    "    else:\n",
    "        return check(string[1:], ch)\n",
    "\n",
    "print(check('велосипед', 'е'))      "
   ]
  },
  {
   "cell_type": "code",
   "execution_count": null,
   "metadata": {},
   "outputs": [
    {
     "name": "stdout",
     "output_type": "stream",
     "text": [
      "196\n"
     ]
    }
   ],
   "source": [
    "#Нахождение суммы чисел в списке через рекурсию:\n",
    "\n",
    "def sum_list(lst):\n",
    "    if not lst:\n",
    "        return 0\n",
    "    return lst[0] + sum_list(lst[1:])\n",
    "\n",
    "my_list = [23, 45, 62, 10, 56]\n",
    "\n",
    "print(sum_list(my_list))"
   ]
  },
  {
   "cell_type": "code",
   "execution_count": null,
   "metadata": {},
   "outputs": [
    {
     "name": "stdout",
     "output_type": "stream",
     "text": [
      "1\n",
      "1\n",
      "8\n"
     ]
    }
   ],
   "source": [
    "# Напишите рекурсивную функцию fib(n), которая считает n-ое число Фибоначчи. Алгоритм работы функции:\n",
    "# Если n=1 или n=2, вернуть 1, так как первый и второй элементы ряда Фибоначчи равны единице.\n",
    "# Во всех остальных случаях вызвать эту же функцию с аргументами n-1 и n-2 и сложить результаты двух вызовов.\n",
    "# Пример работы функции:\n",
    "# print(fib(1))\n",
    "# # 1\n",
    "# print(fib(2))\n",
    "# # 1\n",
    "# print(fib(6))\n",
    "# # 8\n",
    "\n",
    "def fib(n):\n",
    "    if n == 1:\n",
    "        return 1\n",
    "    if n == 2:\n",
    "        return 1\n",
    "    return fib(n-1) + fib(n-2)\n",
    "\n",
    "print(fib(1))\n",
    "print(fib(2))\n",
    "print(fib(6))"
   ]
  },
  {
   "cell_type": "code",
   "execution_count": null,
   "metadata": {},
   "outputs": [
    {
     "name": "stdout",
     "output_type": "stream",
     "text": [
      "1\n",
      "625\n"
     ]
    }
   ],
   "source": [
    "# Напишите рекурсивную функцию power(val, n), которая возводит число в заданную целую натуральную степень \n",
    "# (или в степень 0).\n",
    "# Использовать встроенный оператор ** для возведения в степень запрещено. Пользуйтесь только умножением *. \n",
    "# Например, 2 ** 4 = (((2 * 2) * 2) * 2) = 16.\n",
    "# В качестве первого аргумента функция принимает число, в качестве второго — желаемую степень.\n",
    "# Примечание. В качестве базовых случаев для рекурсии возьмите условия, что любое число в степени 0 — 1, любое \n",
    "# число в степени 1 — это же число.\n",
    "# Пример работы функции:\n",
    "# print(power(25, 0))\n",
    "# # 1\n",
    "# print(power(-5, 4))\n",
    "# # 625\n",
    "\n",
    "def power(val, n):\n",
    "    if n == 0:\n",
    "        return 1\n",
    "    if n == 1:\n",
    "        return val\n",
    "    return val * power(val, n-1)\n",
    "\n",
    "print(power(25, 0))\n",
    "print(power(-5, 4))"
   ]
  },
  {
   "cell_type": "code",
   "execution_count": null,
   "metadata": {},
   "outputs": [],
   "source": [
    "def add_brackets(s):\n",
    "    if len(s) == 1 or len(s) == 2:\n",
    "        return s\n",
    "    return  s[0] + '(' + add_brackets(s[1:-1]) + ')' + s[-1]\n",
    "    \n",
    "add_brackets(s='example')\n",
    "    "
   ]
  },
  {
   "cell_type": "code",
   "execution_count": null,
   "metadata": {},
   "outputs": [
    {
     "name": "stdout",
     "output_type": "stream",
     "text": [
      "4\n",
      "[3, 4]\n"
     ]
    },
    {
     "data": {
      "text/plain": [
       "'e(x(a(mp)l)e)s'"
      ]
     },
     "execution_count": 1,
     "metadata": {},
     "output_type": "execute_result"
    }
   ],
   "source": [
    "def add_brackets(s):\n",
    "    # Вычисляем середину строки\n",
    "    l = len(s) // 2\n",
    "    print(l)\n",
    "    # Если длина строки чётная\n",
    "    if len(s) % 2 == 0:\n",
    "        # В список исключений добавляются индексы l-1 и l\n",
    "        for_exclude = [l-1, l]\n",
    "        print(for_exclude)\n",
    "    else: # Если нечётная\n",
    "        # В список исключений добавляется индекс l\n",
    "        for_exclude = [l]\n",
    "        print(for_exclude)\n",
    "    # Создаём пустую строку    \n",
    "    result = ''\n",
    "    # Создаём цикл по индексам строки\n",
    "    for i in range(len(s)):\n",
    "        # Если номер символа — в списке исключений, добавляем символ\n",
    "        if i in for_exclude:\n",
    "            result += s[i] \n",
    "        # Если номер символа меньше середины, добавляем символ и левую скобку\n",
    "        elif i < l:\n",
    "            result += s[i] + '(' \n",
    "        # Если мы перешли за середину строки, добавляем символ и правую скобку\n",
    "        else:\n",
    "            result += ')' + s[i]\n",
    "    # Возвращаем результат\n",
    "    return result\n",
    "\n",
    "add_brackets(s='examples')\n",
    "    "
   ]
  },
  {
   "cell_type": "code",
   "execution_count": null,
   "metadata": {},
   "outputs": [
    {
     "name": "stdout",
     "output_type": "stream",
     "text": [
      "h*e*l*l*o\n",
      "L*I*t*B*e*o*F*L*c*S*G*B*O*F*Q*x*M*H*o*I*u*D*D*W*c*q*c*V*g*k*c*R*o*A*e*o*c*X*O\n",
      "g*k*a*f*k*a*f*k*K*d*a*f*l*k*f*a\n"
     ]
    }
   ],
   "source": [
    "# Дана строка, содержащая только английские буквы (большие и маленькие).\n",
    "# Напишите рекурсивную функцию add_asterisk(). Она должна принимать в качестве аргумента строку и добавлять\n",
    "# символ * (звёздочка) между буквами. Перед первой и после последней буквами символ * добавлять не нужно.\n",
    "# Пример вызова функции:\n",
    "# print(add_asterisk('hello'))\n",
    "# ## h*e*l*l*o\n",
    "# print(add_asterisk('LItBeoFLcSGBOFQxMHoIuDDWcqcVgkcRoAeocXO'))\n",
    "# ## L*I*t*B*e*o*F*L*c*S*G*B*O*F*Q*x*M*H*o*I*u*D*D*W*c*q*c*V*g*k*c*R*o*A*e*o*c*X*O\n",
    "# print(add_asterisk('gkafkafkKdaflkfa'))\n",
    "# ## g*k*a*f*k*a*f*k*K*d*a*f*l*k*f*a\n",
    "\n",
    "def add_asterisk(s):\n",
    "    if len(s) == 1:\n",
    "        return s\n",
    "    if len(s) == 2:\n",
    "        return s[0] + '*' + s[-1]\n",
    "    return s[0] +'*' + add_asterisk(s[1:-1]) + '*' + s[-1]\n",
    "\n",
    "print(add_asterisk('hello'))\n",
    "print(add_asterisk('LItBeoFLcSGBOFQxMHoIuDDWcqcVgkcRoAeocXO'))\n",
    "print(add_asterisk('gkafkafkKdaflkfa'))"
   ]
  },
  {
   "cell_type": "code",
   "execution_count": null,
   "metadata": {},
   "outputs": [
    {
     "name": "stdout",
     "output_type": "stream",
     "text": [
      "[19, 1, 2, 5, 8, 1, 0, 4, 2, 1, 23, 0, 2, 5, 2, 6, 67, 345, 1]\n"
     ]
    }
   ],
   "source": [
    "matrix = [19,\n",
    "    [1, [2, 5, 8], 1, 0],\n",
    "    [4, 2, 1], 23, \n",
    "    [0, 2, [5, [2, 6], 67, 345], 1]\n",
    "]\n",
    "\n",
    "def flatten(lst):\n",
    "    result = []\n",
    "    for elem in lst:\n",
    "        if type(elem) is list:\n",
    "            result += flatten(elem)\n",
    "        else:\n",
    "            result.append(elem)\n",
    "    return result            \n",
    "\n",
    "print(flatten(matrix))            "
   ]
  },
  {
   "cell_type": "code",
   "execution_count": null,
   "metadata": {},
   "outputs": [
    {
     "name": "stdout",
     "output_type": "stream",
     "text": [
      "12\n",
      "82\n"
     ]
    }
   ],
   "source": [
    "# Другая важная операция в нейронных сетях — это суммирование элементов исходной матрицы.\n",
    "# Напишите функцию sum_list(). Она принимает на вход вложенный список, элементами которого \n",
    "# являются числа, и возвращает сумму всех элементов.\n",
    "# Примеры вызова функции:\n",
    "# matrix = [\n",
    "#     [1, 1, 0],\n",
    "#     [4, 2, 1],\n",
    "#     [0, 2, 1]\n",
    "# ]\n",
    "# print(sum_list(matrix))\n",
    "# ## 12\n",
    "\n",
    "# matrix = [\n",
    "#     [1, 1, [1, 2, 3], 0],\n",
    "#     [4, 2, 1, [10, 52, 2]],\n",
    "#     [0, 2, 1]\n",
    "# ]\n",
    "# print(sum_list(matrix))\n",
    "# ## 82\n",
    "\n",
    "def sum_list(lst):\n",
    "    result = 0\n",
    "    for elem in lst:\n",
    "        if type(elem) is list:\n",
    "            result += sum_list(elem)\n",
    "        else:\n",
    "            result += elem\n",
    "    return result\n",
    "\n",
    "matrix = [\n",
    "    [1, 1, 0],\n",
    "    [4, 2, 1],\n",
    "    [0, 2, 1]\n",
    "]\n",
    "print(sum_list(matrix))\n",
    "## 12\n",
    "\n",
    "matrix = [\n",
    "    [1, 1, [1, 2, 3], 0],\n",
    "    [4, 2, 1, [10, 52, 2]],\n",
    "    [0, 2, 1]\n",
    "]                \n",
    "\n",
    "print(sum_list(matrix))"
   ]
  },
  {
   "cell_type": "code",
   "execution_count": null,
   "metadata": {},
   "outputs": [
    {
     "data": {
      "text/plain": [
       "{1: {'parrent_link': None, 'child_link': [4]},\n",
       " 2: {'parrent_link': None, 'child_link': [5]},\n",
       " 4: {'parrent_link': 1, 'child_link': []},\n",
       " 5: {'parrent_link': 2, 'child_link': []}}"
      ]
     },
     "execution_count": 9,
     "metadata": {},
     "output_type": "execute_result"
    }
   ],
   "source": [
    "# Мы администрируем некоторый форум. Каждое сообщение на форуме имеет свой идентификатор. Сообщения на форуме могут иметь древовидную структуру, то есть существует корневое сообщение (нулевой уровень), на это сообщение могут быть ответы (первый уровень), а на каждый из этих ответов могут быть ещё ответы (второй уровень). Такая структура может быть бесконечной. То есть каждое сообщение может иметь:\n",
    "# родителя — сообщение, на которое мы ответили на форуме своим сообщением;\n",
    "# потомков — сообщения, которые являются ответом на наше сообщение.\n",
    "# Дан словарь forum_messages, ключами которого являются идентификаторы (id) сообщений на форуме. Значения в свою очередь также являются словарями. У этих словарей есть два ключа:\n",
    "# parrent_link — родительская ссылка: может быть целым числом, если сообщение является ответом на другое сообщение, или None, если сообщение является корневым на форуме;\n",
    "# child_link — список из идентификаторов дочерних сообщений, если таковые имеются, и пустой список, если таковых нет.\n",
    "# Необходимо реализовать функцию delete_message(), которая принимает на вход словарь со структурой форума и идентификатор сообщения. Функция должна удалять идентификатор сообщения из словаря, а также идентификаторы дочерних сообщений.\n",
    "# Например, вызов функции delete_message(forum_messages, msg_id=3) должен вернуть следующий словарь:\n",
    "# {1: {'parrent_link': None, 'child_link': [4]},\n",
    "# 2: {'parrent_link': None, 'child_link': [5]},\n",
    "# 4: {'parrent_link': 1, 'child_link': []},\n",
    "# 5: {'parrent_link': 2, 'child_link': []}}\n",
    "\n",
    "forum_messages = {\n",
    "    1: {'parrent_link': None, 'child_link': [3, 4]},\n",
    "    2: {'parrent_link': None, 'child_link': [5]},\n",
    "    3: {'parrent_link': 1, 'child_link': [6]},\n",
    "    4: {'parrent_link': 1, 'child_link': []},\n",
    "    5: {'parrent_link': 2, 'child_link': []},\n",
    "    6: {'parrent_link': 3, 'child_link': []}\n",
    "}\n",
    "\n",
    "# Функция для удаления сообщения на форуме и всех его потомков\n",
    "def delete_message(messages, msg_id):\n",
    "    # Удаляем из словаря сообщение с идентификатором msg_id\n",
    "    # Метод pop() возвращает значение, лежащее по удаляемому ключу\n",
    "    result = messages.pop(msg_id)\n",
    "    # Получаем идентификатор родителя\n",
    "    parrent_link = result['parrent_link']\n",
    "    # Получаем список идентификаторов потомков\n",
    "    child_link = result['child_link']\n",
    "    # Если у сообщения был родитель и он ещё не был удален\n",
    "    # Эта запись будет аналогична parrent_link is not None\n",
    "    if parrent_link and parrent_link in messages:\n",
    "        # Обращаемся к словарю messages по ключу родителя\n",
    "        # Удаляем потомка из списка потомков\n",
    "        messages[parrent_link]['child_link'].remove(msg_id)\n",
    "    # Если у сообщения были потомки\n",
    "    # Эта запись будет аналогична child_link == []\n",
    "    if child_link:\n",
    "        # В цикле проходимся по всем потомкам \n",
    "        for child_id in child_link:\n",
    "            # И повторяем те же самые действия для каждого из них\n",
    "            # (рекурсивно вызываем функцию delete_message)\n",
    "            delete_message(messages, msg_id=child_id)\n",
    "    return messages\n",
    "delete_message(forum_messages, msg_id=3)"
   ]
  },
  {
   "cell_type": "code",
   "execution_count": null,
   "metadata": {},
   "outputs": [
    {
     "name": "stdout",
     "output_type": "stream",
     "text": [
      "key1 ->\n",
      "  key2 ->\n",
      "    ['value1', 'value2']\n",
      "  key3 ->\n",
      "    key4 ->\n",
      "      ['value3']\n",
      "key5 ->\n",
      "  key6 ->\n",
      "    key7 ->\n",
      "      ['value3', 'value5', 'value6']\n"
     ]
    }
   ],
   "source": [
    "# Пусть у нас есть словарь input_dict следующего вида:\n",
    "\n",
    "input_dict = {\n",
    "    'key1': {\n",
    "        'key2': ['value1', 'value2'], \n",
    "        'key3': {\n",
    "            'key4': ['value3']\n",
    "        }\n",
    "    }, \n",
    "    'key5': {\n",
    "        'key6': {\n",
    "            'key7': ['value3', 'value5', 'value6']\n",
    "        }\n",
    "    }\n",
    "}\n",
    "# Мы хотим напечатать этот словарь следующим образом:\n",
    "\n",
    "# key1 ->\n",
    "#   key2 ->\n",
    "#     ['value1', 'value2']\n",
    "#   key3 ->\n",
    "#     key4 ->\n",
    "#       ['value3']\n",
    "# key5 ->\n",
    "#   key6 ->\n",
    "#     key7 ->\n",
    "#       ['value3', 'value5', 'value6']\n",
    "# Для этого мы написали рекурсивную функцию print_dict():\n",
    "\n",
    "\n",
    "def print_dict(input_data, level=0):\n",
    "    # Если input_data — словарь \n",
    "    if type(input_data) is dict:        # Создаём цикл по ключам словаря\n",
    "        for key in input_data:\n",
    "            # Выводим ключ в формате \"<пробелы> <имя ключа> ->\"\n",
    "            print('  ' * level + '{} ->'.format(key))\n",
    "            # Повторяем те же операции для каждого значения словаря\n",
    "            print_dict(input_data[key], level=level+1)  \n",
    "    else: # В противном случае\n",
    "        # Выводим значения в формате \"<пробелы> <значения>\"\n",
    "        print('  ' * level + str(input_data))\n",
    "        \n",
    "print_dict(input_dict, level=0)\n",
    "        \n",
    "# Однако мы где-то допустили ошибку в функции и она печатает словарь в следующем виде:\n",
    "\n",
    "# key1 ->  \n",
    "# key2 ->  \n",
    "# ['value1', 'value2']  \n",
    "# key3 ->  \n",
    "# key4 ->  \n",
    "# ['value3']  \n",
    "# key5 ->  \n",
    "# key6 ->  \n",
    "# key7 ->  \n",
    "# ['value3', 'value5', 'value6']\n",
    "# Разберитесь в функции print_dict() и исправьте её так, чтобы словарь печатался в нужном формате."
   ]
  },
  {
   "cell_type": "code",
   "execution_count": null,
   "metadata": {},
   "outputs": [
    {
     "name": "stdout",
     "output_type": "stream",
     "text": [
      "33\n"
     ]
    }
   ],
   "source": [
    "lst = [12, 24, 32, 39, 45, 50, 54]\n",
    "\n",
    "low = 12\n",
    "high = 54\n",
    "mid = (low+high) // 2\n",
    "print(mid)"
   ]
  },
  {
   "cell_type": "code",
   "execution_count": null,
   "metadata": {},
   "outputs": [
    {
     "name": "stdout",
     "output_type": "stream",
     "text": [
      "4\n"
     ]
    }
   ],
   "source": [
    "lst = [12, 24, 32, 39, 45, 50, 54]\n",
    "\n",
    "def find_index(lst, n):\n",
    "    i = 0 \n",
    "    for elem in lst:\n",
    "        if elem == n:\n",
    "            return i\n",
    "        else:\n",
    "            i += 1\n",
    "\n",
    "print(find_index(lst, n=45))        "
   ]
  },
  {
   "cell_type": "code",
   "execution_count": null,
   "metadata": {},
   "outputs": [
    {
     "name": "stdout",
     "output_type": "stream",
     "text": [
      "[5, 2, 1, 5, 7, 4, 7, 2, 8, 7, 8]\n"
     ]
    }
   ],
   "source": [
    "words_list = [\n",
    "    \"We're\", 'in', 'a', 'small', 'village', 'near', 'Chicago', 'My', \n",
    "    \"cousin's\", 'getting', 'married.'\n",
    "    ]\n",
    "\n",
    "lengths_list = []\n",
    "# Создаём цикл по элементам списка names\n",
    "for word in words_list:\n",
    "    # Вычисляем длину текущего слова\n",
    "    length = len(word)\n",
    "    # Добавляем вычисленную длину слова в список\n",
    "    lengths_list.append(length)\n",
    "# Смотрим, что получилось\n",
    "print(lengths_list)"
   ]
  },
  {
   "cell_type": "code",
   "execution_count": null,
   "metadata": {},
   "outputs": [
    {
     "name": "stdout",
     "output_type": "stream",
     "text": [
      "[5, 2, 1, 5, 7, 4, 7, 2, 8, 7, 8]\n"
     ]
    }
   ],
   "source": [
    "lengths_list = list(map(len, words_list))\n",
    "print(lengths_list)"
   ]
  },
  {
   "cell_type": "code",
   "execution_count": null,
   "metadata": {},
   "outputs": [
    {
     "name": "stdout",
     "output_type": "stream",
     "text": [
      "[203, 752, 2537, 852]\n"
     ]
    }
   ],
   "source": [
    "expenses = [(101, 203, 167), (214, 351, 752), (255, 2537), (852, 362, 366)]\n",
    "\n",
    "max_expenses = list(map(max, expenses))\n",
    "print(max_expenses)"
   ]
  },
  {
   "cell_type": "code",
   "execution_count": null,
   "metadata": {},
   "outputs": [
    {
     "name": "stdout",
     "output_type": "stream",
     "text": [
      "[1, 2, 3, 4, 5, 6, 7]\n"
     ]
    }
   ],
   "source": [
    "# Дан список чисел old_list, где все числа имеют строковый тип данных. Чтобы работать с ними, вам \n",
    "# нужно превратить их в целое число. Напишите код, который позволит это сделать. Новое значение \n",
    "# списка присвойте переменной new_list. В решении используйте функцию map().\n",
    "# Примеры работы программы:\n",
    "# old_list = ['1', '2', '3', '4', '5', '6', '7']\n",
    "# ## new_list = [1, 2, 3, 4, 5, 6, 7]\n",
    "# old_list = ['101', '203', '33', '45', '51', '46', '77']\n",
    "# ## new_list = [101, 203, 33, 45, 51, 46, 77]\n",
    "old_list = ['1', '2', '3', '4', '5', '6', '7']\n",
    "new_list = list(map(int, old_list))\n",
    "print(new_list)\n"
   ]
  },
  {
   "cell_type": "code",
   "execution_count": null,
   "metadata": {},
   "outputs": [
    {
     "name": "stdout",
     "output_type": "stream",
     "text": [
      "[15571, 19984, 9749, 15393, 8357, 21027]\n"
     ]
    }
   ],
   "source": [
    "# Вам передали информацию о расходах за шесть месяцев. Данные содержатся в списке expenses. В этом \n",
    "# списке расходы по каждому месяцу хранятся в отдельных списках. С помощью map создайте новый \n",
    "# список expenses_sum, содержащий суммы расходов по каждому месяцу.\n",
    "# Примеры работы программы:\n",
    "# expenses = [[2356, 4537, 8678], [7395, 1298, 6500, 4791],[6341, 3408], [1105, 8374, 5914], \n",
    "# [1024, 7333], [3500, 2008, 9375, 6144]]  \n",
    "# ## expenses_sum = [15571, 19984, 9749, 15393, 8357, 21027]\n",
    "# expenses = [[101, 203, 167], [214, 351, 135, 752],[255, 2537], [852, 362, 366]]  \n",
    "# ## expenses_sum = [471, 1452, 2792, 1580]\n",
    "\n",
    "expenses = [\n",
    "    [2356, 4537, 8678], [7395, 1298, 6500, 4791],[6341, 3408], \n",
    "    [1105, 8374, 5914], [1024, 7333], [3500, 2008, 9375, 6144]\n",
    "    ]\n",
    "\n",
    "expenses_sum = list(map(sum, expenses))\n",
    "print(expenses_sum)"
   ]
  },
  {
   "cell_type": "code",
   "execution_count": null,
   "metadata": {},
   "outputs": [
    {
     "name": "stdout",
     "output_type": "stream",
     "text": [
      "[150.0, 330.0, 525.0, 120.0]\n"
     ]
    }
   ],
   "source": [
    "salaries = [1500, 2200, 3500, 1200]\n",
    "\n",
    "def calculate_tax(salary):\n",
    "    if salary < 1000:\n",
    "        return salary * 0.05\n",
    "    elif salary < 2000:\n",
    "        return salary * 0.1\n",
    "    else:\n",
    "        return salary * 0.15\n",
    "    \n",
    "taxes = list(map(calculate_tax, salaries))    \n",
    "print(taxes)"
   ]
  },
  {
   "cell_type": "code",
   "execution_count": null,
   "metadata": {},
   "outputs": [
    {
     "name": "stdout",
     "output_type": "stream",
     "text": [
      "{'Преступление и наказание': ['а', 'знаешь', 'ли', 'что', 'низкие', 'потолки', 'и', 'тесные', 'комнаты', 'душу', 'и', 'ум', 'теснят'], 'Война и мир': ['и', 'нет', 'величия', 'там', 'где', 'нет', 'простоты', 'добра', 'и', 'правды'], 'Анна Каренина': ['если', 'искать', 'совершенства', 'то', 'никогда', 'не', 'будешь', 'доволен'], 'Детство': ['правил', 'у', 'нас', 'много', 'а', 'правды', 'нет'], 'Колесо времени': ['ничто', 'так', 'на', 'соединяет', 'людей', 'как', 'улыбка']}\n"
     ]
    }
   ],
   "source": [
    "quotes_dict = {\n",
    "    'Преступление и наказание': 'А знаешь ли... что низкие потолки и тесные комнаты душу и ум теснят.', \n",
    "    'Война и мир': 'И нет величия там, где нет простоты, добра и правды.', \n",
    "    'Анна Каренина': 'Если искать совершенства, то никогда не будешь доволен.', \n",
    "    'Детство': 'Правил у нас много, а правды нет.', \n",
    "    'Колесо времени': 'Ничто так на соединяет людей, как улыбка.'\n",
    "}\n",
    "# В рамках решения задачи анализа естественного языка нам необходимо преобразовать тексты, а именно:\n",
    "# привести к нижнему регистру;\n",
    "# удалить знаки препинания (точки и запятые);\n",
    "# разделить на отдельные слова.\n",
    "\n",
    "# print(list(quotes_dict.items()))\n",
    "def preprocessing_quoutes(name_quotes_tuple):\n",
    "    name, text = name_quotes_tuple\n",
    "    text = text.lower()\n",
    "    text = text.replace('.', '')\n",
    "    text = text.replace(',', '')\n",
    "    words = text.split(' ')\n",
    "    return (name, words)\n",
    "\n",
    "processed_quotes_dict = dict(map(preprocessing_quoutes, quotes_dict.items()))\n",
    "print(processed_quotes_dict)"
   ]
  },
  {
   "cell_type": "code",
   "execution_count": null,
   "metadata": {},
   "outputs": [
    {
     "name": "stdout",
     "output_type": "stream",
     "text": [
      "[('яблоко', 99), ('апельсин', 99), ('вишня', 147), ('персик', 145), ('грейпфрут', 139)]\n",
      "{'яблоко': 94.05, 'апельсин': 94.05, 'вишня': 139.65, 'персик': 137.75, 'грейпфрут': 132.05}\n"
     ]
    }
   ],
   "source": [
    "# У вас есть словарь prices, содержащий цены на литровые упаковки соков в интернет-магазине. Вам \n",
    "# необходимо применить к этим ценам скидку 5 % и округлить полученное значение до двух знаков \n",
    "# после запятой. Новый словарь положите в переменную new_prices. В решении используйте функцию \n",
    "# map(). Примеры работы программы:\n",
    "\n",
    "prices = {'яблоко': 99, 'апельсин': 99, 'вишня': 147, 'персик': 145, 'грейпфрут': 139}  \n",
    "## new_prices = {'яблоко': 94.05, 'апельсин': 94.05, 'вишня': 139.65, 'персик': 137.75, \n",
    "# 'грейпфрут': 132.05}\n",
    "\n",
    "# prices = {'Штаны': 2100, 'Кофта': 1520, 'Свитер': 3520, 'Галстук': 780, 'Ремень': 1390}  \n",
    "## new_prices = {'Штаны': 1995.0, 'Кофта': 1444.0, 'Свитер': 3344.0, 'Галстук': 741.0, \n",
    "# 'Ремень': 1320.5}\n",
    "\n",
    "print(list(prices.items()))\n",
    "def discount_price(prices_turple):\n",
    "    name, price = prices_turple\n",
    "    price -= price * 0.05\n",
    "    return name, round(price, 2)\n",
    "\n",
    "new_prices = dict(map(discount_price, prices.items()))\n",
    "print(new_prices)\n",
    "    "
   ]
  },
  {
   "cell_type": "code",
   "execution_count": null,
   "metadata": {},
   "outputs": [
    {
     "name": "stdout",
     "output_type": "stream",
     "text": [
      "[1331, 1728, 2197, 2744, 3375, 4096]\n"
     ]
    }
   ],
   "source": [
    "number_list = [11, 12, 13, 14, 15, 16]\n",
    "\n",
    "cube_number_list = list(map(lambda x: x ** 3, number_list))\n",
    "print(cube_number_list)"
   ]
  },
  {
   "cell_type": "code",
   "execution_count": null,
   "metadata": {},
   "outputs": [
    {
     "name": "stdout",
     "output_type": "stream",
     "text": [
      "['шалаш', 'казак', 'морднилап', 'рвал дед лавр']\n"
     ]
    }
   ],
   "source": [
    "str_list = ['шалаш', 'казак', 'палиндром', 'рвал дед лавр']\n",
    "\n",
    "reverse_str_list = list(map(lambda x: x[::-1], str_list))\n",
    "print(reverse_str_list)"
   ]
  },
  {
   "cell_type": "code",
   "execution_count": null,
   "metadata": {},
   "outputs": [
    {
     "name": "stdout",
     "output_type": "stream",
     "text": [
      "('Amanda', 1.61, 51, 19.7)\n",
      "[('Amanda', 1.61, 51, 19.7), ('Patricia', 1.65, 61, 22.4), ('Marcos', 1.91, 101, 27.7)]\n"
     ]
    }
   ],
   "source": [
    "data = [('Amanda', 1.61, 51), ('Patricia', 1.65, 61), ('Marcos', 1.91, 101)]\n",
    "\n",
    "map_func = lambda x: (*x, round(x[2] / x[1]**2, 1))\n",
    "print(map_func(('Amanda', 1.61, 51)))\n",
    "new_data = list(map(map_func, data))\n",
    "print(new_data)"
   ]
  },
  {
   "cell_type": "code",
   "execution_count": null,
   "metadata": {},
   "outputs": [
    {
     "name": "stdout",
     "output_type": "stream",
     "text": [
      "['https://www.kommersant.ru//doc/5041434?query=data%20science', 'https://www.kommersant.ru//doc/5041567?query=data%20science', 'https://www.kommersant.ru//doc/4283670?query=data%20science', 'https://www.kommersant.ru//doc/3712659?query=data%20science', 'https://www.kommersant.ru//doc/4997267?query=data%20science', 'https://www.kommersant.ru//doc/4372673?query=data%20science', 'https://www.kommersant.ru//doc/3779060?query=data%20science', 'https://www.kommersant.ru//doc/3495410?query=data%20science', 'https://www.kommersant.ru//doc/4308832?query=data%20science', 'https://www.kommersant.ru//doc/4079881?query=data%20science']\n"
     ]
    }
   ],
   "source": [
    "# Представьте, что мы пытаемся выгрузить несколько новостей с сайта kommersant.ru. У вас есть список \n",
    "# путей до интересующих вас статей.\n",
    "# Пример такого списка:\n",
    "\n",
    "docs = [  \n",
    "'//doc/5041434?query=data%20science',  \n",
    "'//doc/5041567?query=data%20science',  \n",
    "'//doc/4283670?query=data%20science',  \n",
    "'//doc/3712659?query=data%20science',  \n",
    "'//doc/4997267?query=data%20science',  \n",
    "'//doc/4372673?query=data%20science',  \n",
    "'//doc/3779060?query=data%20science',  \n",
    "'//doc/3495410?query=data%20science',  \n",
    "'//doc/4308832?query=data%20science',  \n",
    "'//doc/4079881?query=data%20science'  \n",
    "]\n",
    "\n",
    "# Как вы видите, представленные ссылки на статьи — неполные: в них не хватает адреса самого сайта \n",
    "# — \"https://www.kommersant.ru\".\n",
    "# Ваша задача составить новый список links, в котором будут храниться полные ссылки до статей на \n",
    "# сайте «Коммерсанта». Например, полная ссылка на первую статью будет иметь вид: \n",
    "# \"https://www.kommersant.ru//doc/5041434?query=data%20science\".\n",
    "# Для решения задачи используйте функцию map().\n",
    "# К каждому элементу списка docs (размер списка может быть любым) примените функцию-преобразование,\n",
    "# которая добавляет к ссылке на начальную страницу сайта путь до статьи из списка docs.\n",
    "# Результат работы функции map() оберните в список и занесите в переменную links.\n",
    "# Примеры работы программы:\n",
    "# docs = ['//doc/5041434?query=data%20science','//doc/5041567?query=data%20science', '//doc/4283670?query=data%20science','//doc/3712659?query=data%20science', '//doc/4997267?query=data%20science'  \n",
    "# ]  \n",
    "# ## links = ['https://www.kommersant.ru//doc/5041434?query=data%20science', 'https://www.kommersant.ru//doc/5041567?query=data%20science', 'https://www.kommersant.ru//doc/4283670?query=data%20science', 'https://www.kommersant.ru//doc/3712659?query=data%20science', 'https://www.kommersant.ru//doc/4997267?query=data%20science']  \n",
    "# docs = ['//doc/5041434?query=data%20science','//doc/5041567?query=data%20science','//doc/4283670?query=data%20science','//doc/3712659?query=data%20science','//doc/4997267?query=data%20science','//doc/4372673?query=data%20science','//doc/3779060?query=data%20science','//doc/3495410?query=data%20science','//doc/4308832?query=data%20science','//doc/4079881?query=data%20science'  \n",
    "# ]  \n",
    "# ## links = ['https://www.kommersant.ru//doc/5041434?query=data%20science', 'https://www.kommersant.ru//doc/5041567?query=data%20science', 'https://www.kommersant.ru//doc/4283670?query=data%20science', 'https://www.kommersant.ru//doc/3712659?query=data%20science', 'https://www.kommersant.ru//doc/4997267?query=data%20science', 'https://www.kommersant.ru//doc/4372673?query=data%20science', 'https://www.kommersant.ru//doc/3779060?query=data%20science', 'https://www.kommersant.ru//doc/3495410?query=data%20science', 'https://www.kommersant.ru//doc/4308832?query=data%20science', 'https://www.kommersant.ru//doc/4079881?query=data%20science']\n",
    "\n",
    "links = list(map(lambda s:'https://www.kommersant.ru' + s, docs))\n",
    "print(links)"
   ]
  },
  {
   "cell_type": "code",
   "execution_count": null,
   "metadata": {},
   "outputs": [
    {
     "name": "stdout",
     "output_type": "stream",
     "text": [
      "[(0.00632, 6.575, 65.2, 296.0, 4.98, 9.32), (0.02731, 6.421, 78.9, 242.0, 9.14, 60.41), (0.02729, 7.185, 61.1, 242.0, 4.03, 26.61), (0.03237, 6.998, 45.8, 222.0, 2.94, 21.13), (0.06905, 7.147, 54.2, 222.0, 5.33, 81.7), (0.02985, 6.43, 58.7, 222.0, 5.21, 34.53), (0.08829, 6.012, 66.6, 311.0, 12.43, 341.31)]\n"
     ]
    }
   ],
   "source": [
    "# Допустим, мы решаем задачу оценки стоимости недвижимости.\n",
    "# В списке data представлены усреднённые данные по домам в районах Бостона. Каждый вложенный в \n",
    "# список кортеж описывает средние данные по одному району (для примера представлены данные о семи \n",
    "# участках).\n",
    "# В этом кортеже представлены следующие признаки (в порядке следования):\n",
    "# x₁ — уровень преступности на душу населения по городам;\n",
    "# x₂ — среднее количество комнат в доме;\n",
    "# x₃ — доля зданий, построенных до 1940 г. и занимаемых владельцами;\n",
    "# x₄ — полная ставка налога на имущество за каждые 10 000 долларов стоимости;\n",
    "# x₅ — процент населения с низким статусом.\n",
    "# Пример данных:\n",
    "\n",
    "data = [(0.00632, 6.575, 65.2, 296.0, 4.98),  \n",
    "(0.02731, 6.421, 78.9, 242.0, 9.14),  \n",
    "(0.02729, 7.185, 61.1, 242.0, 4.03),  \n",
    "(0.03237, 6.998, 45.8, 222.0, 2.94),  \n",
    "(0.06905, 7.147, 54.2, 222.0, 5.33),  \n",
    "(0.02985, 6.43, 58.7, 222.0, 5.21),  \n",
    "(0.08829, 6.012, 66.6, 311.0, 12.43)]\n",
    "\n",
    "# Добавим в наш набор данных новый признак, который будет равен произведению трёх признаков — \n",
    "# x₁, x₄ и x₅.\n",
    "# В результате выполнения программы у вас должен получиться список кортежей. Каждый кортеж должен \n",
    "# состоять из шести элементов: первые пять — исходные признаки, а последний, шестой элемент — \n",
    "# сгенерированный признак, округлённый до второго знака после запятой.\n",
    "# Результирующий список кортежей занесите в переменную updated_data.\n",
    "# Например, для исходного списка data, представленного выше, у вас должен получиться следующий \n",
    "# список updated_data:\n",
    "# [(0.00632, 6.575, 65.2, 296.0, 4.98, 9.32),  \n",
    "# (0.02731, 6.421, 78.9, 242.0, 9.14, 60.41),  \n",
    "# (0.02729, 7.185, 61.1, 242.0, 4.03, 26.61),  \n",
    "# (0.03237, 6.998, 45.8, 222.0, 2.94, 21.13),  \n",
    "# (0.06905, 7.147, 54.2, 222.0, 5.33, 81.7),  \n",
    "# (0.02985, 6.43, 58.7, 222.0, 5.21, 34.53),  \n",
    "# (0.08829, 6.012, 66.6, 311.0, 12.43, 341.31)]\n",
    "\n",
    "updated_data = list(map(lambda x: (*x, round(x[0]*x[3]*x[4], 2)), data))\n",
    "print(updated_data)"
   ]
  },
  {
   "cell_type": "code",
   "execution_count": null,
   "metadata": {},
   "outputs": [
    {
     "name": "stdout",
     "output_type": "stream",
     "text": [
      "['in', 'near', 'My', \"cousin's\", 'married.']\n"
     ]
    }
   ],
   "source": [
    "words_list = [\"We're\", 'in', 'a', 'small', 'village', 'near', 'Chicago', 'My', \"cousin's\", 'getting', 'married.']\n",
    "\n",
    "even_list = []\n",
    "for word in words_list:\n",
    "    if len(word) % 2 == 0:\n",
    "        even_list.append(word)\n",
    "print(even_list)        "
   ]
  },
  {
   "cell_type": "code",
   "execution_count": null,
   "metadata": {},
   "outputs": [
    {
     "name": "stdout",
     "output_type": "stream",
     "text": [
      "True\n",
      "['in', 'near', 'My', \"cousin's\", 'married.']\n"
     ]
    }
   ],
   "source": [
    "def is_even(word):\n",
    "    return len(word) % 2 == 0\n",
    "\n",
    "print(is_even('wear'))    \n",
    "even_list = list(filter(is_even, words_list))\n",
    "print(even_list)"
   ]
  },
  {
   "cell_type": "code",
   "execution_count": null,
   "metadata": {},
   "outputs": [
    {
     "name": "stdout",
     "output_type": "stream",
     "text": [
      "['in', 'near', 'My', \"cousin's\", 'married.']\n"
     ]
    }
   ],
   "source": [
    "words_list = [\"We're\", 'in', 'a', 'small', 'village', 'near', 'Chicago', 'My', \"cousin's\", 'getting', 'married.']\n",
    "\n",
    "even_list = list(filter(lambda x: len(x)%2 == 0, words_list))\n",
    "\n",
    "print(even_list)"
   ]
  },
  {
   "cell_type": "code",
   "execution_count": null,
   "metadata": {},
   "outputs": [
    {
     "name": "stdout",
     "output_type": "stream",
     "text": [
      "('Москва', 'зацвело', 'рассвет')\n"
     ]
    }
   ],
   "source": [
    "str_tuple = (\"Москва\", \"15.1 см\", \"зацвело\", \"было пол 5 утра\", \"рассвет\")\n",
    "\n",
    "new_tuple = tuple(filter(lambda x: x.isalpha(), str_tuple))\n",
    "print(new_tuple)"
   ]
  },
  {
   "cell_type": "code",
   "execution_count": null,
   "metadata": {},
   "outputs": [
    {
     "name": "stdout",
     "output_type": "stream",
     "text": [
      "[('FPW-2.0', 'Бонусный: IT в современном мире', 8.64, 83.74, 856)]\n"
     ]
    }
   ],
   "source": [
    "# Школа онлайн-образования разрабатывает курс «Fullstack-разработчик» и собирает данные по каждому \n",
    "# модулю курса. В списке кортежей data представлена выгрузка данных из базы данных об оценках \n",
    "# бонусных (дополнительных) модулей курса:\n",
    "\n",
    "data = [\n",
    "    (\"FPW-2.0_D\", \"Бонус: Тренажер по HTML\", 10, 100, 10),\n",
    "    (\"FPW-2.0\", \"Бонус: Тренажер по JavaScript\", 9.2, 70, 180),\n",
    "    (\"FPW-2.0_D\", \"Бонус: Тренажер по React\", 8.5, 66.67, 68),\n",
    "    (\"FPW-2.0\", \"Бонусный: IT в современном мире\", 8.64, 83.74, 856),\n",
    "    (\"FPW-2.0\", \"Бонусный: Введение\", 8.73, 56.24, 745),\n",
    "    (\"FPW-2.0\", \"Бонус: D1. Знакомство с Django (NEW)\", 9.76, 95.24, 21),\n",
    "    (\"FPW-2.0_D\", \"Бонус: D2. Модели (NEW)\", 9.44, 77.78, 18)\n",
    "]\n",
    "\n",
    "# Данные по каждому модулю представлены в виде кортежей, состоящих из пяти элементов:\n",
    "# Кодовое название курса.\n",
    "# Название курса.\n",
    "# Средняя оценка модуля.\n",
    "# NESSA — это внутренняя метрика компании, показывающая качество модуля (измеряется от 0 до 100).\n",
    "# Количество оценок.\n",
    "# Необходимо выбрать из представленных данных только те модули, которые относятся к курсу FPW-2.0, \n",
    "# их NESSA > 70 и количество оценок > 50.\n",
    "\n",
    "def check_modul(tpl):\n",
    "    code, name, mean_mark, nessa, count = tpl\n",
    "    cond_1 = code == 'FPW-2.0'\n",
    "    cond_2 = nessa > 70\n",
    "    cond_3 = count > 50\n",
    "    return cond_1 and cond_2 and cond_3\n",
    "\n",
    "new_data = list(filter(check_modul, data))\n",
    "print(new_data) "
   ]
  },
  {
   "cell_type": "code",
   "execution_count": null,
   "metadata": {},
   "outputs": [
    {
     "name": "stdout",
     "output_type": "stream",
     "text": [
      "[('FPW-2.0', 'Бонусный: IT в современном мире', 8.64, 83.74, 856)]\n"
     ]
    }
   ],
   "source": [
    "data = [\n",
    "    (\"FPW-2.0_D\", \"Бонус: Тренажер по HTML\", 10, 100, 10),\n",
    "    (\"FPW-2.0\", \"Бонус: Тренажер по JavaScript\", 9.2, 70, 180),\n",
    "    (\"FPW-2.0_D\", \"Бонус: Тренажер по React\", 8.5, 66.67, 68),\n",
    "    (\"FPW-2.0\", \"Бонусный: IT в современном мире\", 8.64, 83.74, 856),\n",
    "    (\"FPW-2.0\", \"Бонусный: Введение\", 8.73, 56.24, 745),\n",
    "    (\"FPW-2.0\", \"Бонус: D1. Знакомство с Django (NEW)\", 9.76, 95.24, 21),\n",
    "    (\"FPW-2.0_D\", \"Бонус: D2. Модели (NEW)\", 9.44, 77.78, 18)\n",
    "]\n",
    "\n",
    "new_data = list(filter(lambda x: (x[0]=='FPW-2.0') and (x[3]>70) and (x[4]>50), data))\n",
    "print(new_data)"
   ]
  },
  {
   "cell_type": "code",
   "execution_count": null,
   "metadata": {},
   "outputs": [
    {
     "name": "stdout",
     "output_type": "stream",
     "text": [
      "[21490, 24901, 24901, 24142]\n"
     ]
    }
   ],
   "source": [
    "# У вас есть список prices стоимости аренды помещения под магазин за месяц. Вам необходимо \n",
    "# создать список filtered_prices из стоимости, которая не выше 30000, чтобы уложиться в бюджет. \n",
    "# В решении примените filter() и lambda.\n",
    "# Примеры работы программы:\n",
    "\n",
    "# prices = [34562, 66572, 25683, 17683, 56389, 28973]\n",
    "# ## filtered_prices = [25683, 17683, 28973]\n",
    "\n",
    "prices = [21490, 24901, 24901, 34901, 24142, 64521]\n",
    "# ## filtered_prices = [21490, 24901, 24901, 24901, 24521]\n",
    "\n",
    "filtered_prices = list(filter(lambda x: x <= 30000, prices))\n",
    "print(filtered_prices)"
   ]
  },
  {
   "cell_type": "code",
   "execution_count": null,
   "metadata": {},
   "outputs": [
    {
     "name": "stdout",
     "output_type": "stream",
     "text": [
      "['parking permit', 'maternity capital', 'tax benefit']\n",
      "['reimbursement of expenses', 'parking permit', 'maternity capital']\n"
     ]
    }
   ],
   "source": [
    "# Допустим, вы работаете в отделе разработки в МФЦ. Центр предоставляет некоторый спектр услуг \n",
    "# многодетным семьям. Необходимо создать функциональность, которая позволяет отфильтровать среди \n",
    "# всех запрашиваемых пользователем услуг (их количество произвольное) только те, которые \n",
    "# предоставляются многодетным семьям.\n",
    "# При решении задачи вам понадобится список услуг, предоставляемых многодетным семьям:\n",
    "\n",
    "family_list = [\n",
    "    'certificate of a large family',\n",
    "    'social card',\n",
    "    'maternity capital',\n",
    "    'parking permit',\n",
    "    'tax benefit',\n",
    "    'reimbursement of expenses',\n",
    "    \"compensation for the purchase of children's goods\"\n",
    " ]\n",
    "\n",
    "# Реализуйте функцию filter_family(): на вход подаётся список с названием услуг МФЦ, а в результате \n",
    "# возвращается список услуг, которые могут быть оказаны только многодетной семье.\n",
    "# Для фильтрации входного списка аргументов используйте функцию filter().\n",
    "# Примеры работы функции:\n",
    "# print(filter_family(['newborn registration', 'parking permit', \n",
    "#                      'maternity capital', 'tax benefit', 'medical policy']))\n",
    "# ## ['parking permit', 'maternity capital', 'tax benefit']\n",
    "# print(filter_family(['reimbursement of expenses', 'parking permit', 'maternity capital', 'medical policy']))\n",
    "# ## ['reimbursement of expenses', 'parking permit', 'maternity capital']\n",
    "\n",
    "def filter_family(lst_service):\n",
    "    filtered_lst = list(filter(lambda x: x in family_list, lst_service))\n",
    "    return filtered_lst\n",
    "\n",
    "print(filter_family(['newborn registration', 'parking permit', \n",
    "                     'maternity capital', 'tax benefit', 'medical policy']))\n",
    "print(filter_family(['reimbursement of expenses', 'parking permit', 'maternity capital', 'medical policy']))"
   ]
  },
  {
   "cell_type": "code",
   "execution_count": null,
   "metadata": {},
   "outputs": [
    {
     "name": "stdout",
     "output_type": "stream",
     "text": [
      "[(\"We're\", 0), ('small', 1), ('village', 1), ('Chicago', 1), (\"cousin's\", 0), ('getting', 0), ('married.', 1)]\n"
     ]
    }
   ],
   "source": [
    "# Допустим, вначале мы хотим отобрать только те слова, которые состоят из пяти и более букв, а затем \n",
    "# посчитать, сколько раз в таких словах встречается буква \"a\".\n",
    "# Результатом работы нашей программы должен стать список кортежей, где каждый кортеж состоит из двух \n",
    "# элементов: слово и количество букв \"a\". Например, для списка words_list, представленного выше, у нас \n",
    "# должен получиться следующий результат:\n",
    "# [(\"We're\", 0), ('small', 1), ('village', 1), ('Chicago', 1), (\"cousin's\", 0),\n",
    "# ('getting', 0), ('married.', 1)]\n",
    "\n",
    "words_list = [\"We're\", 'in', 'a', 'small', 'village', 'near', 'Chicago', 'My',\n",
    "              \"cousin's\", 'getting', 'married.'\n",
    "              ]\n",
    "\n",
    "filtered_list = filter(lambda x: len(x) >= 5, words_list)\n",
    "result = map(lambda x: (x, x.lower().count('a')), filtered_list)\n",
    "print(list(result))"
   ]
  },
  {
   "cell_type": "code",
   "execution_count": null,
   "metadata": {},
   "outputs": [
    {
     "name": "stdout",
     "output_type": "stream",
     "text": [
      "[(\"We're\", 0), ('small', 1), ('village', 1), ('Chicago', 1), (\"cousin's\", 0), ('getting', 0), ('married.', 1)]\n"
     ]
    }
   ],
   "source": [
    "words_list = [\"We're\", 'in', 'a', 'small', 'village', 'near', 'Chicago', 'My',\n",
    "              \"cousin's\", 'getting', 'married.'\n",
    "              ]\n",
    "filtered_list = []\n",
    "for word in words_list:\n",
    "    if len(word) >= 5:\n",
    "        count_a = word.lower().count('a')\n",
    "        filtered_list.append((word, count_a))\n",
    "print(filtered_list)        \n",
    "        "
   ]
  },
  {
   "cell_type": "code",
   "execution_count": null,
   "metadata": {},
   "outputs": [
    {
     "name": "stdout",
     "output_type": "stream",
     "text": [
      "[('Amanda', 1.61, 51, 19.7), ('Patricia', 1.65, 61, 22.4), ('Andrey', 1.79, 61, 19.0), ('Felicia', 1.63, 56, 21.1)]\n"
     ]
    }
   ],
   "source": [
    "# Перед нами снова выгрузка данных о параметрах человеческого тела (только теперь она немного \n",
    "# больше), представленная в виде списка кортежей. Один кортеж состоит из трёх элементов (признаков):\n",
    "# имени человека;\n",
    "# его роста (в метрах);\n",
    "# веса (в килограммах).\n",
    "\n",
    "data = [\n",
    "    ('Amanda', 1.61, 51),\n",
    "    ('Patricia', 1.65, 61), \n",
    "    ('Marcos', 1.91, 101),\n",
    "    ('Andrey', 1.79, 61),\n",
    "    ('Nikos', 1.57, 78),\n",
    "    ('Felicia', 1.63, 56),\n",
    "    ('Lubov', 1.53, 34)\n",
    "]\n",
    "\n",
    "# Результатом работы нашей программы должен стать список кортежей, удовлетворяющих условию.\n",
    "# Например, для приведённого выше списка data мы должны получить следующий список:\n",
    "# [('Amanda', 1.61, 51, 19.7), ('Patricia', 1.65, 61, 22.4), ('Andrey', 1.79, 61, 19.0), \n",
    "# ('Felicia', 1.63, 56, 21.1)]\n",
    "\n",
    "# I = m/h**2\n",
    "filtered_data = map(lambda x: (*x, round(x[2]/x[1]**2, 1)), data)\n",
    "result = filter(lambda x: 18.5 <= x[3] <= 25, filtered_data)\n",
    "print(list(result))"
   ]
  },
  {
   "cell_type": "code",
   "execution_count": null,
   "metadata": {},
   "outputs": [
    {
     "name": "stdout",
     "output_type": "stream",
     "text": [
      "[('Amanda', 1.61, 51, 19.675166853130666), ('Patricia', 1.65, 61, 22.4058769513315), ('Andrey', 1.79, 61, 19.038107424861895), ('Felicia', 1.63, 56, 21.077195227520797)]\n"
     ]
    }
   ],
   "source": [
    "# предыдущая задача:\n",
    "\n",
    "data = [\n",
    "    ('Amanda', 1.61, 51),\n",
    "    ('Patricia', 1.65, 61), \n",
    "    ('Marcos', 1.91, 101),\n",
    "    ('Andrey', 1.79, 61),\n",
    "    ('Nikos', 1.57, 78),\n",
    "    ('Felicia', 1.63, 56),\n",
    "    ('Lubov', 1.53, 34)\n",
    "]\n",
    "map_func = lambda x: (*x, x[2]/(x[1]**2))\n",
    "updated_data = map(map_func, data)\n",
    "# Создаём lambda-функцию, которая возвращает True, если 18.5 <= BMI <= 25\n",
    "filter_func = lambda x: 18.5 <= x[3] <= 25\n",
    "# Применяем эту функцию к результату работы map()\n",
    "filtered_data = filter(filter_func, updated_data)\n",
    "# Переводим объект filter в list и печатаем его\n",
    "print(list(filtered_data))"
   ]
  },
  {
   "cell_type": "code",
   "execution_count": null,
   "metadata": {},
   "outputs": [],
   "source": []
  },
  {
   "cell_type": "code",
   "execution_count": null,
   "metadata": {},
   "outputs": [
    {
     "name": "stdout",
     "output_type": "stream",
     "text": [
      "[('Smith J.', 13, 2, 2003), ('Petrova M.', 13, 3, 2003)]\n"
     ]
    }
   ],
   "source": [
    "# Мы снова занимаемся регистрацией пользователей. В нашем распоряжении есть список кортежей reg. \n",
    "# В каждом кортеже хранится информация о зарегистрированном пользователе и его дате рождения в \n",
    "# формате: Фамилия, Имя, день, месяц, год:\n",
    "\n",
    "reg = [('Ivanov', 'Sergej', 24, 9, 1995),\n",
    "      ('Smith', 'John', 13, 2, 2003),\n",
    "      ('Petrova', 'Maria', 13, 3, 2003)]\n",
    "\n",
    "# Выберите из списка reg только те записи, в которых год рождения пользователя больше 2000\n",
    "# (2001, 2002 и т. д.). Из оставшихся записей составьте новый список кортежей, в котором фамилия\n",
    "# и имя объединены в одну строку по следующему шаблону: Фамилия И.\n",
    "# Обратите внимание на точку после сокращения имени!\n",
    "# Например, для представленного списка reg результирующий список кортежей new_reg должен иметь вид:\n",
    "# new_reg = [('Smith J.', 13, 2, 2003), ('Petrova M.', 13, 3, 2003)]\n",
    "# Для решения задачи используйте конвейер из filter() и map().\n",
    "# Обратите внимание: задана двумерная структура, то есть функции фильтрации и преобразования, \n",
    "# указываемые в аргументах в filter() и map(), принимают на вход один кортеж и должны обрабатывать \n",
    "# его. В результате работы программы должен быть создан обновленный список кортежей с именем\n",
    "# переменной new_reg.\n",
    "\n",
    "#создаем фильтрующую функцию. условие: год должен быть больше 2000\n",
    "filter_func = lambda x: x[4] > 2000\n",
    "#применяем фильтр к исходному списку\n",
    "filtered_reg = filter(filter_func, reg)\n",
    "# #создаем функцию для преобразования каждого элемента списка. *x[2:] - \n",
    "# - оставляем в кортеже все оставшиеся элементы (начиная со 2-го), по\n",
    "# умолчанию они будут сформированы в кортеж, поэтому ставим знак распаковки\n",
    "map_func = lambda x: (x[0] + ' ' + x[1][0] + '.', *x[2:])\n",
    "#преобразовываем отфильтрованный список\n",
    "map_reg = map(map_func, filtered_reg)\n",
    "#выкладываем преобразованные элементы в список\n",
    "new_reg = list(map_reg)\n",
    "print(new_reg)"
   ]
  },
  {
   "cell_type": "code",
   "execution_count": null,
   "metadata": {},
   "outputs": [
    {
     "name": "stdout",
     "output_type": "stream",
     "text": [
      "[(0.02731, 6.421, 78.9, 242.0, 9.14, 60.41), (0.06905, 7.147, 54.2, 222.0, 5.33, 81.7), (0.08829, 6.012, 66.6, 311.0, 12.43, 341.31)]\n"
     ]
    }
   ],
   "source": [
    "# Вернёмся к задаче по оценке стоимости недвижимости.\n",
    "# В списке data представлены усреднённые данные по домам в районах Бостона. Каждый вложенный в \n",
    "# список кортеж описывает средние данные по одному району \n",
    "# (для примера представлены данные о семи участках). В этом кортеже представлены следующие признаки \n",
    "# (в порядке следования):\n",
    "# x₁ — уровень преступности на душу населения по городам;\n",
    "# x₂ — среднее количество комнат в доме;\n",
    "# x₃ — доля зданий, построенных до 1940 г. и занимаемых владельцами;\n",
    "# x₄ — полная ставка налога на имущество за каждые 10 000 долларов стоимости;\n",
    "# x₅ — процент населения с низким статусом.\n",
    "# Пример данных:\n",
    "\n",
    "data = [(0.00632, 6.575, 65.2, 296.0, 4.98),\n",
    " (0.02731, 6.421, 78.9, 242.0, 9.14),\n",
    " (0.02729, 7.185, 61.1, 242.0, 4.03),\n",
    " (0.03237, 6.998, 45.8, 222.0, 2.94),\n",
    " (0.06905, 7.147, 54.2, 222.0, 5.33),\n",
    " (0.02985, 6.43, 58.7, 222.0, 5.21),\n",
    " (0.08829, 6.012, 66.6, 311.0, 12.43)]\n",
    "\n",
    "# Добавьте в набор данных новый признак, который будет равен произведению трёх признаков — \n",
    "# x₁, x₄ и x₅.\n",
    "# А затем выберите из исходного списка только те данные, для которых значение нового признака > 60.\n",
    "# В результате выполнения программы у вас должен получиться список кортежей. Каждый кортеж должен \n",
    "# состоять из шести элементов: первые пять — исходные признаки, а шестой элемент — сгенерированный \n",
    "# признак, округлённый до двух знаков после запятой. Результирующий список кортежей занесите в \n",
    "# переменную filtered_data.\n",
    "# Например, для исходного списка data, представленного выше, у вас должен получиться следующий \n",
    "# список filtered_data:\n",
    "# [(0.02731, 6.421, 78.9, 242.0, 9.14, 60.41),\n",
    "#  (0.06905, 7.147, 54.2, 222.0, 5.33, 81.7),\n",
    "#  (0.08829, 6.012, 66.6, 311.0, 12.43, 341.31)]\n",
    "\n",
    "map_func = lambda x: (*x, round(x[0]*x[3]*x[4], 2))\n",
    "new_data = map(map_func, data)\n",
    "filter_func = lambda x: x[5] > 60\n",
    "filtered_data = list(filter(filter_func, new_data))\n",
    "print(filtered_data)\n"
   ]
  },
  {
   "cell_type": "code",
   "execution_count": null,
   "metadata": {},
   "outputs": [
    {
     "name": "stdout",
     "output_type": "stream",
     "text": [
      "250047\n"
     ]
    }
   ],
   "source": [
    "# Дана строка python_string.\n",
    "# Посчитайте количество символов в этой строке и возведите получившееся число в третью степень. \n",
    "# Результат запишите в переменную result. Примеры работы программы:\n",
    "# python_string = 'Hello! My name is Python. I will help you to analyze some data.'\n",
    "# ## result = 250047\n",
    "# python_string = 'Привет! Меня зовут Питон. Я помогу вам проанализировать некоторые данные.'\n",
    "# ## result = 389017\n",
    "\n",
    "python_string = 'Hello! My name is Python. I will help you to analyze some data.'\n",
    "result = len(python_string) ** 3\n",
    "print(result)"
   ]
  },
  {
   "cell_type": "code",
   "execution_count": null,
   "metadata": {},
   "outputs": [
    {
     "name": "stdout",
     "output_type": "stream",
     "text": [
      "7\n"
     ]
    }
   ],
   "source": [
    "# Представим, что мы разрабатываем алгоритм прогнозирования времени доставки еды. Наш алгоритм \n",
    "# принимает на вход информацию о географических координатах клиента, расположении ресторана, \n",
    "# загруженности на дорогах и так далее. Выходом алгоритма является примерное время в минутах, \n",
    "# которое необходимо курьеру на доставку.\n",
    "# Мы хотим проверить адекватность работы алгоритма — для этого будем измерять разницу (ошибку) \n",
    "# между спрогнозированным и реальным временем доставки. Условимся, что знак ошибки \n",
    "# (в меньшую или большую сторону мы ошибаемся) нас не интересует — нужно только абсолютное значение.\n",
    "# Прогнозируемое время доставки хранится в переменной predicted_time, реальное время — в переменной\n",
    "# real_time.\n",
    "# Найдите модуль разницы между предсказанным и истинным значениями времени, результат округлите до \n",
    "# целого и сохраните в переменную absolute_error.\n",
    "# Пример работы программы:\n",
    "# predicted_time = 67.321\n",
    "# real_time = 59.839\n",
    "# ## absolute_error = 7\n",
    "# predicted_time = 38.873\n",
    "# real_time = 26.124\n",
    "# ## absolute_error = 13\n",
    "\n",
    "predicted_time = 67.321\n",
    "real_time = 59.839\n",
    "if predicted_time > real_time:\n",
    "    absolute_error = round(predicted_time - real_time)\n",
    "else:\n",
    "    absolute_error = round(real_time - predicted_time)    \n",
    "\n",
    "print(absolute_error)    "
   ]
  },
  {
   "cell_type": "code",
   "execution_count": null,
   "metadata": {},
   "outputs": [
    {
     "name": "stdout",
     "output_type": "stream",
     "text": [
      "13\n"
     ]
    }
   ],
   "source": [
    "# Дана строка input_string. Избавьтесь от знаков препинания в ней и напишите программу для подсчёта \n",
    "# количества слов в этой строке. Программа должна записывать результат в переменную count_words.\n",
    "# Гарантируется, что из знаков препинания в строке input_string могут содержаться только точки ('.'),\n",
    "# запятые (','), восклицательные ('!') и вопросительные ('?') знаки. Примеры работы программы:\n",
    "# input_string = 'Hello! My name is Python. I will help you to analyze some data.'\n",
    "# ## count_words = 13\n",
    "# input_string = 'There are many great articles about Artificial Intelligence and its benefits for \n",
    "# business and society. However, many of these articles are too technical for the average reader.'\n",
    "# ## count_words = 27\n",
    "\n",
    "input_string = 'Hello! My name is Python. I will help you to analyze some data.'\n",
    "input_string = input_string.replace('.', '')\n",
    "input_string = input_string.replace(',', '')\n",
    "input_string = input_string.replace('!', '')\n",
    "input_string = input_string.replace('?', '')\n",
    "input_string_list = input_string.split()\n",
    "count_words = len(input_string_list)\n",
    "print(count_words)"
   ]
  },
  {
   "cell_type": "code",
   "execution_count": null,
   "metadata": {},
   "outputs": [
    {
     "name": "stdout",
     "output_type": "stream",
     "text": [
      "10394 jpg\n"
     ]
    }
   ],
   "source": [
    "# Мы обучаем нейронную сеть классифицировать изображения. Для обучения необходимо узнать формат \n",
    "# файла с изображением: JPG/PNG/GIF и т. д. Это связано с тем, что от формата входных данных \n",
    "# зависит процесс предобработки изображений (например, GIF-изображение необходимо предварительно\n",
    "# разложить на кадры). В переменной file_path задан полный путь до файла с изображением. Найдите \n",
    "# его расширение, результат занесите в переменную file_extension.\n",
    "# Также найдите имя файла (без учёта расширения), результат занесите в переменную file_name.\n",
    "# Гарантируется, что разделителем между папками при указании пути является символ '/'.\n",
    "# Примеры работы программы:\n",
    "# file_path = 'data/images/train/10394.jpg'\n",
    "# ## file_name = '10394'\n",
    "# ## file_extension = 'jpg'\n",
    "# file_path = 'data/images/validation/748923.gif'\n",
    "# ## file_name = '748923'\n",
    "# ## file_extension = 'gif'\n",
    "# file_path = 'data/images/384300.png'\n",
    "# ## file_name = '384300'\n",
    "# ## file_extension = 'png'\n",
    "\n",
    "file_path = 'data/images/train/10394.jpg'\n",
    "file_splited = file_path.split('/')\n",
    "file_name, file_extension = file_splited[-1].split('.')\n",
    "print(file_name, file_extension)"
   ]
  },
  {
   "cell_type": "code",
   "execution_count": null,
   "metadata": {},
   "outputs": [
    {
     "name": "stdout",
     "output_type": "stream",
     "text": [
      "скажи что-нибудь попросила она и он поднял на нее глаза\n"
     ]
    }
   ],
   "source": [
    "# Предположим, мы обучили нейронную сеть генерировать текст (предложения), однако на этапе \n",
    "# тестирования выяснилось, что мы допустили ошибку при обучении и слова генерируются в неправильной \n",
    "# последовательности — справа налево, а не слева направо.\n",
    "# Ошибку мы нашли, однако оказалось, что переобучать модель очень долго и дорого. Поэтому мы решили \n",
    "# вручную разворачивать сгенерированный текст на этапе постобработки. Он хранится в переменной \n",
    "# generated_text в виде строки.\n",
    "# Создайте новую строку updated_text, в которой слова будут храниться в обратном порядке.\n",
    "# Для простоты гарантируется, что в предложениях, сгенерированных моделью, нет знаков препинания и \n",
    "# весь текст представлен в нижнем регистре.\n",
    "# Примеры работы программы:\n",
    "# generated_text = \"глаза нее на поднял он и она попросила что-нибудь скажи\"\n",
    "# ## updated_text = \"скажи что-нибудь попросила она и он поднял на нее глаза\"\n",
    "# generated_text = \"задачи своей решения способ или информацию ищет он поисковик в запрос вводит \n",
    "# человек когда\"\n",
    "# ## updated_text = когда человек вводит запрос в поисковик он ищет информа\n",
    "\n",
    "generated_text = \"глаза нее на поднял он и она попросила что-нибудь скажи\"\n",
    "splited_list = generated_text.split()\n",
    "reversed_list = splited_list[::-1]\n",
    "updated_text = ' '.join(reversed_list)\n",
    "print(updated_text)\n"
   ]
  },
  {
   "cell_type": "code",
   "execution_count": null,
   "metadata": {},
   "outputs": [
    {
     "name": "stdout",
     "output_type": "stream",
     "text": [
      "Пользователь Andrey сменил пароль на 31andrey12QK\n"
     ]
    }
   ],
   "source": [
    "# В приложении, которое мы разрабатываем, предусмотрена функция смены пароля. Нам необходимо \n",
    "# записывать в базу данных событий информацию о том, что пользователь сменил пароль.\n",
    "# Напишите функцию change_password(), которая должна возвращать отформатированную строку в \n",
    "# следующем виде: \"Пользователь {user_name} сменил пароль на {new_password}\".\n",
    "# Здесь:\n",
    "# user_name — имя пользователя,\n",
    "# new_password — новый пароль.\n",
    "# Мы уже сделали заготовку функции — вам осталось только задать строку. Переменные user_name и \n",
    "# new_password являются аргументами функции change_password().\n",
    "# Запишите форматированную строку вместо знаков вопроса.\n",
    "# def change_password(user_name, new_password): \n",
    "#     return ???\n",
    "# Примеры работы программы:\n",
    "# print(change_password('Andrey', '31andrey12QK'))\n",
    "# ## Пользователь Andrey сменил пароль на 31andrey12QK\n",
    "# print(change_password('Vasilisk', 'uaf12laK'))\n",
    "# ## Пользователь Vasilisk сменил пароль на uaf12laK\n",
    "\n",
    "def change_password(user_name, new_password): \n",
    "    return f'Пользователь {user_name} сменил пароль на {new_password}'\n",
    "\n",
    "print(change_password('Andrey', '31andrey12QK'))"
   ]
  },
  {
   "cell_type": "code",
   "execution_count": null,
   "metadata": {},
   "outputs": [],
   "source": [
    "# Мы анализируем данные об автомобилях. Данные являются табличными и представлены в виде словаря \n",
    "# car_data, ключами которого являются параметры:\n",
    "# ‘car_ID’ — идентификатор автомобиля;\n",
    "# ‘fueltype’ — тип двигателя (бензиновый — 'gas' или дизельный — 'diesel');\n",
    "# ‘horsepower’ — мощность двигателя (в лошадиных силах);\n",
    "# ‘price’ — стоимость автомобиля.\n",
    "# Значениями словаря являются списки, в которых хранятся значения указанных параметров для каждого \n",
    "# из автомобилей. Например, следующий словарь car_dict:\n",
    "\n",
    "car_dict = {\n",
    "    'car_ID': [123, 117, 111, 82, 101, 96, 156, 2, 58, 49],\n",
    "    'fueltype': ['gas', 'diesel', 'diesel', 'gas', 'gas', 'gas', 'gas', 'gas', 'gas', 'gas'],\n",
    "    'horsepower': [68, 95, 95, 88, 97, 69, 62, 111, 101, 176],\n",
    "    'price': [7609.0, 17950.0, 13860.0, 8499.0, 9549.0, 7799.0, 8778.0, 16500.0, 13645.0, 35550.0]\n",
    "}\n",
    "# будет эквивалентен следующей таблице с данными:\n",
    "# Найдите:\n",
    "# среднюю стоимость автомобилей, представленных в данных (результат округлите до десятых и запишите \n",
    "# в переменную mean_price);\n",
    "# количество автомобилей с дизельным двигателем (результат запишите в переменную count_diesel);\n",
    "# минимальную мощность двигателя в лошадиных силах (результат запишите в переменную min_horsepower).\n",
    "# Например, для представленного выше словаря car_dict мы получим следующий результат:\n",
    "# mean_price = 13973.9\n",
    "# count_diesel = 2\n",
    "# min_horsepower = 62    \n",
    "\n",
    "from statistics import mean\n",
    "mean_price = round(mean(car_dict['price']), 1)\n",
    "count_diesel = car_dict['fueltype'].count('diesel')\n",
    "min_horsepower = min(car_dict['horsepower'])"
   ]
  },
  {
   "cell_type": "code",
   "execution_count": null,
   "metadata": {},
   "outputs": [
    {
     "name": "stdout",
     "output_type": "stream",
     "text": [
      "False\n"
     ]
    }
   ],
   "source": [
    "# Напишите функцию check_duplicates(), которая проверит, есть ли дубликаты в списке lst, переданном \n",
    "# ей в качестве аргумента.\n",
    "# Результатом работы функции должно стать булево число (True или False).\n",
    "# Примеры работы программы:\n",
    "# lst = [0, 0, 1, 2, 3, 4, 5, 5, 6, 7]\n",
    "# print(check_duplicates(lst))\n",
    "# # True\n",
    "# lst = list(range(0, 15))\n",
    "# print(check_duplicates(lst))\n",
    "# # False\n",
    "\n",
    "def check_duplicates(lst):\n",
    "    for number in lst:\n",
    "        if lst.count(number) > 1:\n",
    "            return True\n",
    "        else:\n",
    "            return False\n",
    "\n",
    "# lst = [0, 0, 1, 2, 3, 4, 5, 5, 6, 7]\n",
    "# print(check_duplicates(lst))\n",
    "lst = list(range(0, 15))\n",
    "print(check_duplicates(lst))        "
   ]
  },
  {
   "cell_type": "code",
   "execution_count": null,
   "metadata": {},
   "outputs": [
    {
     "name": "stdout",
     "output_type": "stream",
     "text": [
      "[3, 2, 1]\n",
      "[5, 2, 3, 4, 1]\n",
      "['с', 'л', 'о', 'н']\n"
     ]
    }
   ],
   "source": [
    "# Напишите функцию swap_places(), которая принимает в качестве аргумента список lst и меняет \n",
    "# местами его первый и последний элементы.\n",
    "# Функция должна возвращать обновлённый список.\n",
    "# Гарантируется, что в исходном списке есть минимум два элемента.\n",
    "# Примеры работы программы:\n",
    "# print(swap_places([1, 2, 3]))\n",
    "# ## [3, 2, 1]\n",
    "# print(swap_places([1, 2, 3, 4, 5]))\n",
    "# ## [5, 2, 3, 4, 1]\n",
    "# print(swap_places(['н', 'л', 'о', 'с']))\n",
    "# ## ['с', 'л', 'о', 'н']\n",
    "\n",
    "def swap_places(lst):\n",
    "    elem_1 = lst.pop(0)\n",
    "    elem_2 = lst.pop(-1)\n",
    "    lst.append(elem_1)\n",
    "    lst = lst[::-1]\n",
    "    lst.append(elem_2)\n",
    "    lst = lst[::-1]\n",
    "    return lst\n",
    "\n",
    "print(swap_places([1, 2, 3]))\n",
    "print(swap_places([1, 2, 3, 4, 5]))\n",
    "print(swap_places(['н', 'л', 'о', 'с']))    "
   ]
  },
  {
   "cell_type": "code",
   "execution_count": null,
   "metadata": {},
   "outputs": [
    {
     "name": "stdout",
     "output_type": "stream",
     "text": [
      "['выхухоль', 'белка___', 'крот____']\n",
      "['aaaaa', 'aaaa_', 'aaa__', 'aa___', 'a____']\n",
      "['qweasdqweas', 'ewqqqqq____', 'rteww______', 'q__________']\n"
     ]
    }
   ],
   "source": [
    "# В нашем распоряжении есть список строк разной длины.\n",
    "# Напишите функцию equalize_lengths(), которая принимает на вход список и возвращает новый список \n",
    "# из строк одинаковой длины. Длина итоговой строки должна быть равна длине самой длинной из строк. \n",
    "# Если конкретная строка короче самой длинной, её необходимо дополнить до требуемого количества \n",
    "# символов нижними подчёркиваниями с правого края.\n",
    "# Важно! Результирующий список должен быть отсортирован от меньшего к большему по количеству \n",
    "# добавленных символов нижнего подчёркивания. То есть первым должен идти элемент с максимальной \n",
    "# длиной строки.\n",
    "# Примеры работы программы:\n",
    "# print(equalize_lengths(['крот', 'белка', 'выхухоль']))\n",
    "# # ['выхухоль', 'белка___', 'крот____']\n",
    "# print(equalize_lengths(['a', 'aa', 'aaa', 'aaaa', 'aaaaa']))\n",
    "# # ['aaaaa', 'aaaa_', 'aaa__', 'aa___', 'a____']\n",
    "# print(equalize_lengths(['qweasdqweas', 'q', 'rteww', 'ewqqqqq']))\n",
    "# # ['qweasdqweas', 'ewqqqqq____', 'rteww______', 'q__________']\n",
    "\n",
    "def equalize_lengths(lst):\n",
    "    # сортируем список по длине слова:\n",
    "    lst.sort(key=lambda x: len(x))\n",
    "    # перевернем список, чтобы сортировка шла по убыванию длины слов:\n",
    "    lst = lst[::-1]\n",
    "    # самое длинное слово - последнее, поэтому определяем его длину:\n",
    "    length_longest_word = len(lst[0])\n",
    "    # создаем новый список:\n",
    "    new_lst = []\n",
    "    for word in lst:\n",
    "        # находим разницу между самым длинным словом и текущим:\n",
    "        difference = length_longest_word - len(word)\n",
    "        # увеличиваем длину текущего слова до длины самогоо длинного знаком \"_\",\n",
    "        # перемнож. на коэф. разницы difference\n",
    "        new_word = word + ('_' * difference)\n",
    "        # добавляем измененное слово в новый список:\n",
    "        new_lst.append(new_word)\n",
    "    return new_lst\n",
    "\n",
    "print(equalize_lengths(['крот', 'белка', 'выхухоль']))\n",
    "print(equalize_lengths(['a', 'aa', 'aaa', 'aaaa', 'aaaaa']))\n",
    "print(equalize_lengths(['qweasdqweas', 'q', 'rteww', 'ewqqqqq']))"
   ]
  },
  {
   "cell_type": "code",
   "execution_count": null,
   "metadata": {},
   "outputs": [
    {
     "name": "stdout",
     "output_type": "stream",
     "text": [
      "1\n",
      "-1\n",
      "0\n"
     ]
    }
   ],
   "source": [
    "# Напишите функцию check_number_sign(), которая возвращает 1, если число положительное, -1 — если \n",
    "# число отрицательное, и 0 — если число равно 0.\n",
    "# Функция принимает на вход одно число number.\n",
    "# Используйте в коде конструкцию if-elif-else.\n",
    "# Примеры работы функции:\n",
    "# print(check_number_sign(5290))\n",
    "# # 1\n",
    "# print(check_number_sign(-983))\n",
    "# # - 1\n",
    "# print(check_number_sign(0))\n",
    "# # 0\n",
    "\n",
    "def check_number_sign(number):\n",
    "    if number > 0:\n",
    "        return 1\n",
    "    elif number < 0:\n",
    "        return -1\n",
    "    return 0\n",
    "\n",
    "print(check_number_sign(5290))\n",
    "print(check_number_sign(-983))\n",
    "print(check_number_sign(0))"
   ]
  },
  {
   "cell_type": "code",
   "execution_count": null,
   "metadata": {},
   "outputs": [
    {
     "name": "stdout",
     "output_type": "stream",
     "text": [
      "19\n",
      "10.9\n"
     ]
    }
   ],
   "source": [
    "# Напишите функцию find_min_number(), которая принимает на вход три числа (a, b, c) и возвращает\n",
    "# наименьшее из них.\n",
    "# Для решения задачи не используйте встроенную функцию min() — реализуйте алгоритм самостоятельно,\n",
    "# воспользовавшись условными операторами.\n",
    "# Примеры работы функции:\n",
    "# print(find_min_number(130, 122, 19))\n",
    "# # 19\n",
    "# print(find_min_number(10.9, 12.2, 18.4))\n",
    "# # 10.9\n",
    "\n",
    "def find_min_number(a, b, c):\n",
    "    if a < b and a < c:\n",
    "        return a\n",
    "    elif b < a and b < c:\n",
    "        return b\n",
    "    return c\n",
    "\n",
    "print(find_min_number(130, 122, 19))\n",
    "print(find_min_number(10.9, 12.2, 18.4))"
   ]
  },
  {
   "cell_type": "code",
   "execution_count": null,
   "metadata": {},
   "outputs": [
    {
     "name": "stdout",
     "output_type": "stream",
     "text": [
      "3\n",
      "-9\n"
     ]
    }
   ],
   "source": [
    "# Усложним предыдущую задачу.\n",
    "# Напишите функцию sum_min_numbers(), которая также принимает на вход три числа (a, b, c) и \n",
    "# возвращает сумму двух наименьших.\n",
    "# Можно использовать функцию find_min_number() из предыдущего задания для поиска минимального числа.\n",
    "# Примеры работы программы:\n",
    "# print(sum_min_numbers(1, 2, 3))\n",
    "# # 3\n",
    "# print(sum_min_numbers(1, 2, -10))\n",
    "# # -9\n",
    "\n",
    "def sum_min_numbers(a, b, c):\n",
    "    # создадим вложенную функцию по поиску максимального значения\n",
    "    def find_max_numbers(a, b, c):\n",
    "        if a > b and a > c:\n",
    "            return a\n",
    "        elif b > a and b > c:\n",
    "            return b\n",
    "        return c\n",
    "    # запускаем в теле внешней функции функцию поиска максимального значения:\n",
    "    max_number = find_max_numbers(a, b, c)\n",
    "    # после выявления максимального значения, можно сделать вывод, что\n",
    "    # оставшиеся два значения являются минимальными, поэтому их и складываем\n",
    "    if max_number == a:\n",
    "        return b + c\n",
    "    elif max_number == b:\n",
    "        return a + c\n",
    "    return a + b\n",
    "\n",
    "print(sum_min_numbers(1, 2, 3))\n",
    "print(sum_min_numbers(1, 2, -10))"
   ]
  },
  {
   "cell_type": "code",
   "execution_count": null,
   "metadata": {},
   "outputs": [
    {
     "name": "stdout",
     "output_type": "stream",
     "text": [
      "5.25\n",
      "Zero division error!\n",
      "None\n"
     ]
    }
   ],
   "source": [
    "# Напишите функцию division(a, b), которая принимает на вход два числа, делимое (a) и делитель (b),\n",
    "# и возвращает частное.\n",
    "# Необходимо реализовать внутри функции отлов исключения ZeroDivisionError на случай, если \n",
    "# пользователь при вызове функции попытается поделить на ноль.\n",
    "# Если в процессе выполнения функции было поймано исключение ZeroDivisionError, то функция должна\n",
    "# вывести на экран сообщение \"Zero division error!\" с помощью функции print(), а затем вернуть \n",
    "# значение None из функции.\n",
    "# Примеры работы программы:\n",
    "# print(division(189, 36))\n",
    "# # 5.25\n",
    "# print(division(1, 0))\n",
    "# # Zero division error!\n",
    "# # None\n",
    "\n",
    "def division(a, b):\n",
    "    try:\n",
    "        c = a/b\n",
    "    except ZeroDivisionError:\n",
    "        print(\"Zero division error!\")\n",
    "        return None\n",
    "    return c\n",
    "\n",
    "print(division(189, 36))\n",
    "print(division(1, 0))"
   ]
  },
  {
   "cell_type": "code",
   "execution_count": null,
   "metadata": {},
   "outputs": [
    {
     "name": "stdout",
     "output_type": "stream",
     "text": [
      "300.5\n",
      "65.7\n",
      "-64.1\n",
      "0.7\n",
      "1023\n"
     ]
    }
   ],
   "source": [
    "# Представим, что мы решаем задачу регрессии. В машинном обучении регрессия — это предсказание\n",
    "# числового параметра, например стоимости автомобиля, цены акций, количества клиентов, пришедших\n",
    "# после проведения рекламной интеграции и т. д.\n",
    "# В наших данных есть два признака, описывающих объекты: x₁ и x₂. Оба этих признака также являются\n",
    "# числами. Мы хотим предсказать некоторый другой числовой признак y на основе имеющихся.\n",
    "# Для решения задачи мы построили модель дерева решений и представили её графически:\n",
    "# Напишите функцию get_prediction(), которая принимает на вход два аргумента (x1 и x2) и возвращает \n",
    "# число, предсказанное моделью, приведённой на схеме выше.\n",
    "# Примечание. Предсказания модели записаны в зелёных прямоугольниках.\n",
    "# Примеры работы программы:\n",
    "# print(get_prediction(x1=15, x2=150))\n",
    "# # 300.5\n",
    "# print(get_prediction(x1=15, x2=350))\n",
    "# # 65.7\n",
    "# print(get_prediction(x1=35, x2=100))\n",
    "# # -64.1\n",
    "# print(get_prediction(x1=175, x2=100))\n",
    "# # 0.7\n",
    "# print(get_prediction(x1=175, x2=200))\n",
    "# # 1023\n",
    "def get_prediction(x1, x2):\n",
    "    if x1 < 20:\n",
    "        if x2 < 200:\n",
    "            return 300.5\n",
    "        else:\n",
    "            return 65.7\n",
    "    else:\n",
    "        if x2 < 170:\n",
    "            if x1 < 40:\n",
    "                return -64.1\n",
    "            else:\n",
    "                return 0.7\n",
    "        else:\n",
    "            return 1023\n",
    "print(get_prediction(x1=15, x2=150))\n",
    "print(get_prediction(x1=15, x2=350))\n",
    "print(get_prediction(x1=35, x2=100))\n",
    "print(get_prediction(x1=175, x2=100))\n",
    "print(get_prediction(x1=175, x2=200))"
   ]
  },
  {
   "cell_type": "code",
   "execution_count": null,
   "metadata": {},
   "outputs": [
    {
     "name": "stdout",
     "output_type": "stream",
     "text": [
      "[4, 4.2, 42.2, -3.4, -5.2]\n",
      "[42.2]\n",
      "[]\n"
     ]
    }
   ],
   "source": [
    "# Напишите функцию more_than_n(), которая принимает на вход два аргумента: список чисел lst и \n",
    "# число n. Функция должна возвращать новый список, в котором содержатся только те числа, которые \n",
    "# больше n по модулю. Если в функцию был передан пустой список, то функция также должна вернуть \n",
    "# пустой список.\n",
    "# Примеры работы программы:\n",
    "# print(more_than_n([-1, 4, 4.2, 42.2, -3.4, -5.2], 3))\n",
    "# # [4, 4.2, 42.2, -3.4, -5.2]\n",
    "# print(more_than_n([-1, 4, 4.2, 42.2, -3.4, -5.2], 10))\n",
    "# # [42.2]\n",
    "# print(more_than_n([], 10))\n",
    "# # []\n",
    "\n",
    "def more_than_n(lst, n):\n",
    "    new_lst = []\n",
    "    for number in lst:\n",
    "        if number < 0:\n",
    "            if number*(-1) > n:\n",
    "                new_lst.append(number)\n",
    "        else:\n",
    "            if number > n:\n",
    "                new_lst.append(number)\n",
    "    return new_lst\n",
    "\n",
    "print(more_than_n([-1, 4, 4.2, 42.2, -3.4, -5.2], 3))\n",
    "print(more_than_n([-1, 4, 4.2, 42.2, -3.4, -5.2], 10))\n",
    "print(more_than_n([], 10))"
   ]
  },
  {
   "cell_type": "code",
   "execution_count": null,
   "metadata": {},
   "outputs": [
    {
     "name": "stdout",
     "output_type": "stream",
     "text": [
      "True\n",
      "False\n"
     ]
    }
   ],
   "source": [
    "# Напишите функцию lucky_ticket(), которая проверяет, является ли билет счастливым.\n",
    "# Примечание. Билет счастливый, если сумма первых трёх цифр в его номере равна сумме последних\n",
    "# трёх цифр. На вход функция принимает шестизначное число ticket_number и должна возвращать одно из \n",
    "# булевых значений (True или False) в зависимости от того, является ли билет счастливым.\n",
    "# При решении постарайтесь не использовать встроенную функцию sum() — примените циклы.\n",
    "# Примеры работы программы:\n",
    "# print(lucky_ticket(111111))\n",
    "# # True\n",
    "# print(lucky_ticket(123456))\n",
    "# # False\n",
    "\n",
    "def lucky_ticket(ticket_number):\n",
    "    sum_1 = 0\n",
    "    sum_2 = 0        \n",
    "    part_1 = str(ticket_number)[:3]\n",
    "    part_2 = str(ticket_number)[3:6]\n",
    "    for number in part_1:\n",
    "        sum_1 += int(number)\n",
    "    for number in part_2:\n",
    "        sum_2 += int(number)\n",
    "    return sum_1 == sum_2        \n",
    "\n",
    "print(lucky_ticket(111111))\n",
    "print(lucky_ticket(123456))"
   ]
  },
  {
   "cell_type": "code",
   "execution_count": null,
   "metadata": {},
   "outputs": [
    {
     "name": "stdout",
     "output_type": "stream",
     "text": [
      "2\n",
      "2\n",
      "6\n"
     ]
    }
   ],
   "source": [
    "# Напишите функцию holes_count(), которая принимает на вход число number, подсчитывает общее \n",
    "# количество отверстий в заданном числе и возвращает результат.\n",
    "# Условимся, что цифрами с отверстиями будем считать 0, 4, 6, 8 и 9. Причём в цифре 8 отверстий два,\n",
    "# а в остальных — по одному.\n",
    "# Обратите внимание, что функция должна возвращать суммарное количество отверстий по всем цифрам в\n",
    "# числе. Примеры работы программы:\n",
    "# print(holes_count(8))\n",
    "# # 2\n",
    "# print(holes_count(146))\n",
    "# # 2\n",
    "# print(holes_count(84628))\n",
    "# # 6\n",
    "\n",
    "def holes_count(number):\n",
    "    # создаем счетчик отверстий\n",
    "    count_holes = 0\n",
    "    # создаем словарь с цифрами и количеством отверстий\n",
    "    holes_dict = {\n",
    "        '0':1, '1':0, '2':0, '3':0, '4':1,\n",
    "        '5':0, '6':1, '7':0, '8':2, '9':1\n",
    "                  }\n",
    "    # проходимся циклом по цифрам числа и увеличиваем счетчик на количство отв.\n",
    "    for num in str(number):\n",
    "        count_holes += holes_dict[num]\n",
    "    return count_holes\n",
    "\n",
    "print(holes_count(8))\n",
    "print(holes_count(146))\n",
    "print(holes_count(84628))"
   ]
  },
  {
   "cell_type": "code",
   "execution_count": null,
   "metadata": {},
   "outputs": [
    {
     "name": "stdout",
     "output_type": "stream",
     "text": [
      "5\n"
     ]
    }
   ],
   "source": [
    "# Напишите функцию even_numbers_in_matrix(), которая получает на вход матрицу (список из списков)\n",
    "# matrix и возвращает количество чётных чисел в ней.\n",
    "# Гарантируется, что все элементы в матрице matrix являются числами.\n",
    "# Пример работы программы:\n",
    "\n",
    "matrix_example = [\n",
    "    [1, 5, 4],\n",
    "    [4, 2, -2],\n",
    "    [7, 65, 88]\n",
    "]\n",
    "\n",
    "# print(even_numbers_in_matrix(matrix=matrix_example))\n",
    "# 5\n",
    "\n",
    "def even_numbers_in_matrix(matrix):\n",
    "    # создаем счетчик четных элементов\n",
    "    count_even = 0\n",
    "    # проходимся по элементам матрицы\n",
    "    for elem in matrix:\n",
    "        # для универсального случая, т.е. для списков разных уровней вложенности \n",
    "        # воспользуемся рекурсией. Если элемент списка - тоже список, запускам для него эту же\n",
    "        # функцию, а результат выполнения функции суммируем с общем результатом\n",
    "        if type(elem) is list:\n",
    "            count_even += even_numbers_in_matrix(elem)\n",
    "        else:\n",
    "            if elem % 2 == 0:\n",
    "                count_even += 1    \n",
    "    return count_even\n",
    "\n",
    "print(even_numbers_in_matrix(matrix=matrix_example))"
   ]
  },
  {
   "cell_type": "code",
   "execution_count": null,
   "metadata": {},
   "outputs": [
    {
     "name": "stdout",
     "output_type": "stream",
     "text": [
      "5\n"
     ]
    }
   ],
   "source": [
    "matrix_example = [\n",
    "    [1, 5, 4],\n",
    "    [4, 2, -2],\n",
    "    [7, 65, 88]\n",
    "]\n",
    "\n",
    "def even_numbers_in_matrix(matrix):\n",
    "    count_even = 0\n",
    "    for row in matrix:\n",
    "        for elem in row:\n",
    "            if elem % 2 == 0:\n",
    "                count_even += 1\n",
    "    return count_even\n",
    "\n",
    "print(even_numbers_in_matrix(matrix=matrix_example))            \n",
    "    "
   ]
  },
  {
   "cell_type": "code",
   "execution_count": null,
   "metadata": {},
   "outputs": [
    {
     "name": "stdout",
     "output_type": "stream",
     "text": [
      "[[2, 10, 8], [8, 4, -4], [14, 130, 176]]\n",
      "Error! Matrices dimensions are different!\n",
      "None\n",
      "Error! Matrices dimensions are different!\n",
      "None\n"
     ]
    }
   ],
   "source": [
    "# Двумерные таблицы (матрицы) — основной формат данных, с которым мы будем работать. Давайте \n",
    "# рассмотрим операцию сложения двух матриц. Напишите функцию matrix_sum(), которая получает на вход \n",
    "# две матрицы (matrix1, matrix2) и возвращает их сумму.\n",
    "# Примечание. Чтобы сложить две матрицы, нужно просуммировать их соответствующие элементы.\n",
    "# 1 2 3   2 3 4   1+2 2+3 3+4   3 5 7\n",
    "# 2 3 4 + 4 5 6 = 2+4 3+5 4+6 = 6 8 10\n",
    "# 5 6 7   4 3 2   5+4 6+3 7+2   9 9 9\n",
    "# Важно отметить, что суммировать можно только матрицы одинаковой размерности. Поэтому сначала \n",
    "# необходимо проверить, что размеры матриц совпадают, то есть матрицы должны иметь равное количество\n",
    "# строк, а в каждой строке должно быть равное количество элементов (столбцов).\n",
    "# Если размеры матриц не совпадают, необходимо вывести на экран сообщение \n",
    "# \"Error! Matrices dimensions are different!\" с помощью функции print(), а затем вернуть значение \n",
    "# None из функции matrix_sum().\n",
    "# Гарантируется, что на вход подаются только прямоугольные матрицы (матрицы, в которых количество \n",
    "# элементов в каждой из строк одинаково).\n",
    "# Примеры работы программы:\n",
    "\n",
    "# matrix_example = [\n",
    "#           [1, 5, 4],\n",
    "#           [4, 2, -2],\n",
    "#           [7, 65, 88]\n",
    "# ]\n",
    "\n",
    "# print(matrix_sum(matrix1=matrix_example, matrix2=matrix_example))\n",
    "# # [[2, 10, 8], [8, 4, -4], [14, 130, 176]]\n",
    "\n",
    "# matrix1_example = [\n",
    "#           [1, 5, 4],\n",
    "#           [4, 2, -2]\n",
    "# ]\n",
    "\n",
    "# matrix2_example = [\n",
    "#           [10, 15, 43],\n",
    "#           [41, 2, -2],\n",
    "#           [7, 5, 7]\n",
    "# ]\n",
    "\n",
    "# print(matrix_sum(matrix1=matrix1_example, matrix2=matrix2_example))\n",
    "# # Error! Matrices dimensions are different!\n",
    "# # None\n",
    "\n",
    "# matrix1_example = [\n",
    "#           [1, 5, 4, 5],\n",
    "#           [4, 2, -2, -5],\n",
    "#           [4, 2, -2, -5]\n",
    "# ]\n",
    "\n",
    "# matrix2_example = [\n",
    "#           [10, 15, 43],\n",
    "#           [41, 2, -2],\n",
    "#           [7, 5, 7]\n",
    "# ]\n",
    "\n",
    "# print(matrix_sum(matrix1=matrix1_example, matrix2=matrix2_example))\n",
    "# Error! Matrices dimensions are different!\n",
    "# None\n",
    "\n",
    "def matrix_sum(matrix1, matrix2):\n",
    "    # проверяем условие, что длины строк и столбцов одинаковы\n",
    "    if len(matrix1) != len(matrix2) or \\\n",
    "            len(matrix1[0]) != len(matrix2[0]):\n",
    "        print(\"Error! Matrices dimensions are different!\")\n",
    "        return None\n",
    "    # создаем итоговый список\n",
    "    result_matrix = []\n",
    "    # проходимся в цикле по срокам обеих матриц одновременно\n",
    "    for row1, row2 in zip(matrix1, matrix2):\n",
    "        # создаем список для каждой строки результирующей матрицы\n",
    "        row_list = []\n",
    "        # проходимся по элементам спиков одновременно, складываем их\n",
    "        # значения и добавляем в списки строк\n",
    "        for elem1, elem2 in zip(row1, row2):\n",
    "            sum_elem = elem1 + elem2\n",
    "            row_list.append(sum_elem)\n",
    "        # полученные в цикле списки добавляем в результирующий список \n",
    "        # (новую мартрицу)    \n",
    "        result_matrix.append(row_list)\n",
    "    return result_matrix\n",
    "\n",
    "matrix_example = [\n",
    "          [1, 5, 4],\n",
    "          [4, 2, -2],\n",
    "          [7, 65, 88]\n",
    "]\n",
    "\n",
    "print(matrix_sum(matrix1=matrix_example, matrix2=matrix_example))\n",
    "\n",
    "matrix1_example = [\n",
    "          [1, 5, 4],\n",
    "          [4, 2, -2]\n",
    "]\n",
    "\n",
    "matrix2_example = [\n",
    "          [10, 15, 43],\n",
    "          [41, 2, -2],\n",
    "          [7, 5, 7]\n",
    "]\n",
    "\n",
    "print(matrix_sum(matrix1=matrix1_example, matrix2=matrix2_example))\n",
    "\n",
    "matrix1_example = [\n",
    "          [1, 5, 4, 5],\n",
    "          [4, 2, -2, -5],\n",
    "          [4, 2, -2, -5]\n",
    "]\n",
    "\n",
    "matrix2_example = [\n",
    "          [10, 15, 43],\n",
    "          [41, 2, -2],\n",
    "          [7, 5, 7]\n",
    "]\n",
    "\n",
    "print(matrix_sum(matrix1=matrix1_example, matrix2=matrix2_example))\n",
    "         "
   ]
  },
  {
   "cell_type": "code",
   "execution_count": null,
   "metadata": {},
   "outputs": [
    {
     "name": "stdout",
     "output_type": "stream",
     "text": [
      "age: 28\n",
      "first_name: John\n",
      "last_name: Doe\n",
      "position: Python developer\n",
      "age: 32\n",
      "first_name: Jack\n",
      "last_name: Smith\n",
      "position: Project manager\n",
      "work_experience: 5 years\n"
     ]
    }
   ],
   "source": [
    "# Напишите функцию print_personal_data(), которая должна принимать на вход неизвестное количество\n",
    "# именованных аргументов (персональных данных) в любом порядке и выводить их в виде аргумент:\n",
    "# значение в отсортированном по алфавиту порядке имён аргументов. Примеры работы функции:\n",
    "\n",
    "# print_personal_data(first_name='John', last_name='Doe', age=28, position='Python developer')\n",
    "# # age: 28\n",
    "# # first_name: John\n",
    "# # last_name: Doe\n",
    "# # position: Python developer\n",
    "\n",
    "# print_personal_data(first_name='Jack', last_name='Smith', age=32, work_experience = '5 years',\n",
    "# position='Project manager')\n",
    "# # age: 32\n",
    "# # first_name: Jack\n",
    "# # last_name: Smith\n",
    "# # position: Project manager\n",
    "# # work_experience: 5 years\n",
    "\n",
    "def print_personal_data(**kwargs):\n",
    "    # созданем итерируемыq объект класса dict_item представляющий собой\n",
    "    # список кортежей, в которых первым элементом будет ключ словаря, а\n",
    "    # вторым - значение\n",
    "    dict_items = kwargs.items()\n",
    "    # отсортируем первые элементы кортежей (ключи словаря) объекта\n",
    "    # dict_item по алфавиту\n",
    "    sorted_items = sorted(dict_items, key=lambda x:x[0])\n",
    "    # проходимся в цикле по кортежам объекта sorted_items и выводим\n",
    "    # элементы в требуемом виде\n",
    "    for tpl in sorted_items:\n",
    "        print(f'{tpl[0]}: {tpl[1]}')\n",
    "\n",
    "print_personal_data(first_name='John', last_name='Doe', age=28, position='Python developer')\n",
    "print_personal_data(first_name='Jack', last_name='Smith', age=32, work_experience = '5 years',\n",
    "position='Project manager')\n",
    "        "
   ]
  },
  {
   "cell_type": "code",
   "execution_count": null,
   "metadata": {},
   "outputs": [
    {
     "name": "stdout",
     "output_type": "stream",
     "text": [
      "['arrakis', 'the', 'planet', 'known', 'as', 'dune', 'is', 'forever', 'his', 'place']\n"
     ]
    }
   ],
   "source": [
    "# Напишите функцию get_words_list(), которая:\n",
    "# избавляется от знаков препинания в тексте,\n",
    "# приводит текст к нижнему регистру,\n",
    "# возвращает список из слов в тексте.\n",
    "# Текст, к которому необходимо применить предобработку, передаётся в функцию в виде аргумента text.\n",
    "# Для решения задачи вы можете использовать готовый список со знаками препинания:\n",
    "\n",
    "# punctuation_list = ['.', ',', ';', ':', '...', '!', '?', '-', '\"', '(', ')']\n",
    "# Сделайте этот список локальной переменной функции get_words_list().\n",
    "# Пример работы программы:\n",
    "\n",
    "text_example = \"Arrakis, the planet known as Dune, is forever his place.\"\n",
    "\n",
    "# print(get_words_list(text=text_example))\n",
    "# ['arrakis', 'the', 'planet', 'known', 'as', 'dune', 'is', 'forever', 'his', 'place']\n",
    "\n",
    "def get_words_list(text):\n",
    "    # создаем список знаков препинания, которые могут встретиться в тексте\n",
    "    punctuation_list = [\n",
    "        '.', ',', ';', ':', '...', '!', '?', '-', '\"', '(', ')'\n",
    "        ]\n",
    "    # проходимся по списку символов и заменяем символ в тексте на пустую\n",
    "    # строку\n",
    "    for symbol in punctuation_list:\n",
    "        text = text.replace(symbol, '')\n",
    "    text = text.lower()\n",
    "    words_list = text.split()\n",
    "    return words_list\n",
    "\n",
    "print(get_words_list(text=text_example)) \n",
    "        "
   ]
  },
  {
   "cell_type": "code",
   "execution_count": null,
   "metadata": {},
   "outputs": [
    {
     "name": "stdout",
     "output_type": "stream",
     "text": [
      "['and', 'arrakis', 'as', 'be', 'born', 'by', 'caladan', 'care', 'deceived', 'do', 'dune', 'fact', 'fifteen', 'first', 'forever', 'he', 'his', 'in', 'is', 'known', 'lived', 'locate', 'most', \"muad'dib\", 'not', 'on', 'place', 'planet', 'special', 'take', 'that', 'the', 'there', 'was', 'years', 'you']\n"
     ]
    }
   ],
   "source": [
    "# Напишите функцию get_unique_words(), которая принимает на вход аргумент words_list \n",
    "# (список из слов) и возвращает упорядоченный по алфавиту список уникальных слов.\n",
    "# Гарантируется, что на вход функции подаётся список из слов, приведённых к единому регистру.\n",
    "# Примеры работы программы:\n",
    "\n",
    "words_list_example = ['and', 'take', 'the', 'most', 'special', 'care', 'that', 'you', 'locate',\n",
    "\"muad'dib\", 'in', 'his', 'place', 'the', 'planet', 'arrakis', 'do', 'not', 'be', 'deceived', 'by',\n",
    "'the', 'fact', 'that', 'he', 'was', 'born', 'on', 'caladan', 'and', 'lived', 'his', 'first',\n",
    "'fifteen', 'years', 'there', 'arrakis', 'the', 'planet', 'known', 'as', 'dune', 'is', 'forever',\n",
    "'his', 'place']\n",
    "\n",
    "# print(get_unique_words(words_list=words_list_example))\n",
    "## ['and', 'arrakis', 'as', 'be', 'born', 'by', 'caladan', 'care', 'deceived', 'do', 'dune\n",
    "\n",
    "def get_unique_words(words_list):\n",
    "    words_set = set(words_list)\n",
    "    words_list_unique = list(words_set)\n",
    "    words_list_unique.sort()\n",
    "    return words_list_unique\n",
    "\n",
    "print(get_unique_words(words_list=words_list_example))\n"
   ]
  },
  {
   "cell_type": "code",
   "execution_count": null,
   "metadata": {},
   "outputs": [
    {
     "name": "stdout",
     "output_type": "stream",
     "text": [
      "the\n",
      "и\n"
     ]
    }
   ],
   "source": [
    "# Напишите функцию get_most_frequent_word(), которая возвращает наиболее часто встречающееся слово в\n",
    "# тексте, переданном в функцию в качестве аргумента text.\n",
    "# Предварительно очистите текст от знаков препинания и приведите его к единому регистру (слова в \n",
    "# верхнем и нижнем регистре считаются одним и тем же словом). В этом вам может помочь функция \n",
    "# get_words_list(), которую мы реализовали ранее. Сделайте её внутренней функцией функции \n",
    "# get_most_frequent_word().\n",
    "# Для решения задачи вам также пригодится список уникальных слов в тексте. Чтобы создать его, \n",
    "# воспользуйтесь функцией get_unique_words() из предыдущего задания. Также сделайте её внутренней\n",
    "# по отношению к функции get_most_frequent_word().\n",
    "# Примечание. Если в тексте встречаются два слова с одинаковой частотностью, функция должна \n",
    "# возвращать то, которое начинается с буквы, стоящей ближе к началу алфавита. Например, если слова \n",
    "# «я» и «меня» встречаются одинаковое количество раз, то функция должна вернуть слово «меня».\n",
    "# В случае, если в функцию была передана пустая строка, она также должна возвращать пустую строку.\n",
    "# Примеры работы программы:\n",
    "\n",
    "# text_example = \"A beginning is the time for taking the most delicate care that the balances are correct. This every sister of the Bene Gesserit knows. To begin your study of the life of Muad'Dib, then take care that you first place him in his time: born in the 57th year of the Padishah Emperor, Shaddam IV. And take the most special care that you locate Muad'Dib in his place: the planet Arrakis. Do not be deceived by the fact that he was born on Caladan and lived his first fifteen years there. Arrakis, the planet known as Dune, is forever his place.\"\n",
    "# print(get_most_frequent_word(text_example))\n",
    "# # the\n",
    "\n",
    "# text_example = \"Есть урок, который идет не сорок пять минут, а всю жизнь. Этот урок проходит и в классе, и в поле, и дома, и в лесу. Я назвал этот урок седьмым потому, что в школе обычно бывает не больше шести уроков. Не удивляйтесь, если я скажу, что учителем на этом уроке может быть и береза возле вашего дома, и бабушка, и вы сами (В. Песков)\"\n",
    "# print(get_most_frequent_word(text_example))\n",
    "# # и\n",
    "\n",
    "def get_most_frequent_word(text):\n",
    "    def get_words_list(text):\n",
    "    # создаем список знаков препинания, которые могут встретиться в тексте\n",
    "        punctuation_list = [\n",
    "            '.', ',', ';', ':', '...', '!', '?', '-', '\"', '(', ')'\n",
    "        ]\n",
    "    # проходимся по списку символов и заменяем символ в тексте на пустую\n",
    "    # строку\n",
    "        for symbol in punctuation_list:\n",
    "            text = text.replace(symbol, '')\n",
    "        text = text.lower()\n",
    "        words_list = text.split()\n",
    "        return words_list\n",
    "    # запускаем внутреннюю функцию и результат работы записываем в\n",
    "    # переменную\n",
    "    words_list = get_words_list(text)\n",
    "    # создаем словарь, ключами которого будут слова, а значениями -\n",
    "    # частота повторения \n",
    "    dict_frequent = {}\n",
    "    # проходимся по списку words_list в цикле и заносим слово со \n",
    "    # значением 1 в словарь, а если оно уже есть в словаре - увеличиваем\n",
    "    # его значение на 1\n",
    "    for word in words_list:\n",
    "        if word not in dict_frequent:\n",
    "            dict_frequent[word] = 1\n",
    "        else:\n",
    "            dict_frequent[word] += 1\n",
    "    # для удобства создаем из словаря список кортежей с помощью функции\n",
    "    # items(), где первым элементом кортежа будет слово, а вторым \n",
    "    # значение            \n",
    "    items_object = dict_frequent.items()\n",
    "    # сортируем по возрастанию вторых элементов кортежей списка\n",
    "    items_sorted = sorted(items_object, key=lambda x: x[1])\n",
    "    # в отсортированном списке максимальное значение будет в конце, \n",
    "    # поэтому возвращаем первое значение (слово) последнего кортежа\n",
    "    return items_sorted[-1][0]\n",
    "    \n",
    "text_example = \"A beginning is the time for taking the most delicate care that the balances are correct. This every sister of the Bene Gesserit knows. To begin your study of the life of Muad'Dib, then take care that you first place him in his time: born in the 57th year of the Padishah Emperor, Shaddam IV. And take the most special care that you locate Muad'Dib in his place: the planet Arrakis. Do not be deceived by the fact that he was born on Caladan and lived his first fifteen years there. Arrakis, the planet known as Dune, is forever his place.\"\n",
    "print(get_most_frequent_word(text_example))\n",
    "\n",
    "text_example = \"Есть урок, который идет не сорок пять минут, а всю жизнь. Этот урок проходит и в классе, и в поле, и дома, и в лесу. Я назвал этот урок седьмым потому, что в школе обычно бывает не больше шести уроков. Не удивляйтесь, если я скажу, что учителем на этом уроке может быть и береза возле вашего дома, и бабушка, и вы сами (В. Песков)\"\n",
    "print(get_most_frequent_word(text_example))"
   ]
  },
  {
   "cell_type": "code",
   "execution_count": null,
   "metadata": {},
   "outputs": [],
   "source": [
    "# Представьте, что вы работаете аналитиком в Рособрнадзоре и анализируете данные о сдаче ЕГЭ \n",
    "# школьниками.\n",
    "# В вашем распоряжении есть список кортежей data. Каждый кортеж в нём состоит из четырёх элементов:\n",
    "# имя человека,\n",
    "# балл за экзамен по русскому языку,\n",
    "# балл за экзамен по математике,\n",
    "# балл за экзамен по информатике.\n",
    "# Напишите функцию get_total_score(), которая принимает на вход список data, добавляет в каждый \n",
    "# кортеж новый элемент — общий балл по всем трём экзаменам, сортирует данные по общему баллу и \n",
    "# возвращает полученный результат. Пример работы программы:\n",
    "\n",
    "data = [\n",
    "    ('Amanda', 37, 78, 67),\n",
    "    ('Patricia', 78, 93, 68),\n",
    "    ('Marcos', 79, 67, 89),\n",
    "    ('Dmitry', 67, 68, 100),\n",
    "    ('Andrey', 100, 78, 76),\n",
    "    ('Victoria', 93, 69, 96),\n",
    "]\n",
    "\n",
    "# print(get_total_score(data))\n",
    "# # [('Amanda', 37, 78, 67, 182), ('Marcos', 79, 67, 89, 235), ('Dmitry', 67, 68, 100, 235), \n",
    "# # ('Patricia', 78, 93, 68, 239), ('Andrey', 100, 78, 76, 254), ('Victoria', 93, 69, 96, 258)]\n",
    "# # В процессе решения постарайтесь воспользоваться встроенной функцией map(), а также \n",
    "# # lambda-функциями.\n",
    "\n",
    "def get_total_score(data):\n",
    "    my_func = lambda x: (*x, round(x[1]+x[2]+x[3]))\n",
    "    new_data = map(my_func, data)\n",
    "    list_data = list(new_data)\n",
    "    list_data.sort(key=lambda x: x[4]) \n",
    "    return list_data\n",
    "\n",
    "print(get_total_score(data)) "
   ]
  },
  {
   "cell_type": "code",
   "execution_count": null,
   "metadata": {},
   "outputs": [
    {
     "name": "stdout",
     "output_type": "stream",
     "text": [
      "['vid001', 'vid002', 'vid003', 'vid004', 'vid005', 'vid006', 'vid007', 'vid008', 'vid009', 'vid010']\n"
     ]
    }
   ],
   "source": [
    "# Дан словарь data, содержащий в себе несколько вложенных структур данных. Некоторые из них \n",
    "# (независимо от вложенности) содержат ключ \"videoID\". Значениями для таких ключей являются \n",
    "# идентификаторы видео. Напишите рекурсивную функцию find_video(), которая извлекает все значения с \n",
    "# ключом \"videoID\". Функция должна принимать на вход словарь data и возвращать список из найденных \n",
    "# идентификаторов видео. Например, при вызове функции для следующего словаря:\n",
    "data = {\n",
    "    \"type\": \"video\",\n",
    "    \"videoID\": \"vid001\",\n",
    "    \"links\": [\n",
    "        {\"type\":\"video\", \"videoID\":\"vid002\", \"links\":[]},\n",
    "        {   \"type\":\"video\",\n",
    "            \"videoID\":\"vid003\",\n",
    "            \"links\": [\n",
    "            {\"type\": \"video\", \"videoID\":\"vid004\"},\n",
    "            {\"type\": \"video\", \"videoID\":\"vid005\"},\n",
    "            ]\n",
    "        },\n",
    "        {\"type\":\"video\", \"videoID\":\"vid006\"},\n",
    "        {   \"type\":\"video\",\n",
    "            \"videoID\":\"vid007\",\n",
    "            \"links\": [\n",
    "            {\"type\":\"video\", \"videoID\":\"vid008\", \"links\": [\n",
    "                {   \"type\":\"video\",\n",
    "                    \"videoID\":\"vid009\",\n",
    "                    \"links\": [{\"type\":\"video\", \"videoID\":\"vid010\"}]\n",
    "                }\n",
    "            ]}\n",
    "        ]},\n",
    "    ]\n",
    "}\n",
    "# мы должны получить результат:\n",
    "# ['vid001', 'vid002', 'vid003', 'vid004', 'vid005', 'vid006', 'vid007', \n",
    "#  'vid008', 'vid009', 'vid010']\n",
    "\n",
    "def find_video(dict_data):\n",
    "    #создаем результирующий список\n",
    "    result = []\n",
    "# проходимся в цикле по ключам словаря. Если ключ 'videoID', то\n",
    "# добавляем значение по этому ключу в список. Если значение по ключу -\n",
    "# - список словарей, то проходимся во всем элементам этого списка и \n",
    "# запускаем функцию find_video для каждого элемента (словаря)\n",
    "    for key in dict_data:\n",
    "        if key == 'videoID':\n",
    "            result.append(dict_data[key])\n",
    "        else:\n",
    "            if type(dict_data[key]) is list:\n",
    "                for elem in dict_data[key]:\n",
    "# все результаты рекурсивных функций заносим в результирующий список:                    \n",
    "                    result += find_video(elem)\n",
    "    return result\n",
    "\n",
    "print(find_video(data))"
   ]
  },
  {
   "cell_type": "code",
   "execution_count": null,
   "metadata": {},
   "outputs": [
    {
     "name": "stdout",
     "output_type": "stream",
     "text": [
      "{'пармезан': 29, 'гауда': 27, 'камамбер': 24, 'бри': 28}\n",
      "{'камамбер': 24}\n"
     ]
    }
   ],
   "source": [
    "# Небольшая частная сыроварня, которая делает поставки в разные рестораны,просит вас \n",
    "# проанализировать их производство с целью его дальнейшего расширения.\n",
    "# Сыроварня предоставила данные о каждом из производимых ей сыров в виде словаря cheese_data. \n",
    "# Ключами словаря являются названия сыров, а значениями — списки, в которых последовательно \n",
    "# указываются следующие параметры сыра:\n",
    "# закупочная цена (рублей за 100 грамм);\n",
    "# максимальный объём производства (килограммов в месяц);\n",
    "# жирность (в процентах);\n",
    "# тип (твёрдый, полутвёрдый, мягкий, полумягкий).\n",
    "\n",
    "cheese_data = {\n",
    "    'чеддер': [370, 5000, 33, 'твердый'],\n",
    "    'пармезан': [510, 4000, 29, 'твердый'],\n",
    "    'гауда': [250, 3700, 27, 'полутвердый'],\n",
    "    'эдам': [220, 10000, 30, 'полутвердый'],\n",
    "    'горгонзола': [320, 3000, 32, 'полумягкий'],\n",
    "    'рокфор': [340, 15000, 31, 'полумягкий'],\n",
    "    'стилтон': [360, 7000, 35, 'полумягкий'],\n",
    "    'камамбер': [250, 8000, 24, 'мягкий'],\n",
    "    'бри': [310, 6500, 28, 'мягкий'],\n",
    "}\n",
    "\n",
    "# На основе этих данных выполните несколько заданий, представленных ниже.\n",
    "# 1. Один из клиентов сыроварни — магазин здорового питания. Им важно, чтобы сыры, которые им \n",
    "# поставляет сыроварня, имели жирность менее n %. Информация о жирности каждого из сыров хранится в \n",
    "# словаре cheese_data. Напишите функцию filter_by_fat(), которая принимает на вход словарь \n",
    "# cheese_data и число n и возвращает словарь, ключами которого являются названия сыров, подходящих \n",
    "# под заданные критерии, а значениями — их жирность.\n",
    "# Пример работы программы:\n",
    "# print(filter_by_fat(cheese_data, n=30))\n",
    "# # {'пармезан': 29, 'гауда': 27, 'камамбер': 24, 'бри': 28}\n",
    "# print(filter_by_fat(cheese_data, n=25))\n",
    "# # {'камамбер': 24}\n",
    "\n",
    "def filter_by_fat(cheese_data, n=30):\n",
    "    # преобразовываем словарь в список кортежей:\n",
    "    cheese_data_tpl = cheese_data.items()\n",
    "    # фильтруем список по значению n\n",
    "    filtered_data = filter(lambda x: x[1][2] < n, cheese_data_tpl)\n",
    "    # преобразовываем список: оставляем название и жирность\n",
    "    map_data = map(lambda x: (x[0], x[1][2]), filtered_data)\n",
    "    return dict(map_data)\n",
    "\n",
    "print(filter_by_fat(cheese_data, n=30))  \n",
    "print(filter_by_fat(cheese_data, n=25))"
   ]
  },
  {
   "cell_type": "code",
   "execution_count": null,
   "metadata": {},
   "outputs": [
    {
     "name": "stdout",
     "output_type": "stream",
     "text": [
      "196100000\n"
     ]
    }
   ],
   "source": [
    "# Владелец сыроварни хочет расширить производство сыра до максимально возможных объёмов.\n",
    "# В словаре cheese_data есть данные о закупочной цене и максимальных объёмах производства каждого \n",
    "# из выпускаемых сыров. Реализуйте функцию count_money(), которая принимает на вход словарь \n",
    "# cheese_data и рассчитывает, сколько денег (в рублях) сможет в месяц зарабатывать сыроварня, если \n",
    "# будет производить максимально возможное количество сыра. Не забудьте учесть, что в словаре \n",
    "# закупочная цена указана за 100 грамм, а максимальный объём производства — в килограммах в месяц.\n",
    "# Пример работы программы:\n",
    "\n",
    "cheese_data = {\n",
    "    'чеддер': [370, 5000, 33, 'твердый'],\n",
    "    'пармезан': [510, 4000, 29, 'твердый'],\n",
    "    'гауда': [250, 3700, 27, 'полутвердый'],\n",
    "    'эдам': [220, 10000, 30, 'полутвердый'],\n",
    "    'горгонзола': [320, 3000, 32, 'полумягкий'],\n",
    "    'рокфор': [340, 15000, 31, 'полумягкий'],\n",
    "    'стилтон': [360, 7000, 35, 'полумягкий'],\n",
    "    'камамбер': [250, 8000, 24, 'мягкий'],\n",
    "    'бри': [310, 6500, 28, 'мягкий'],\n",
    "}\n",
    "\n",
    "# print(count_money(cheese_data))\n",
    "## 196100000\n",
    "\n",
    "def count_money(data):\n",
    "    # создадим объект класса dict_values (список значений словаря)\n",
    "    values_list = data.values()\n",
    "    # создадим список макс. месячной выручки по каждому сыру\n",
    "    cheese_money_list = map(lambda x: x[0]*10 * x[1], values_list)\n",
    "    # находим суммарную выручку сыроварни \n",
    "    count_money = sum(cheese_money_list)\n",
    "    return count_money\n",
    "\n",
    "print(count_money(cheese_data))"
   ]
  },
  {
   "cell_type": "code",
   "execution_count": null,
   "metadata": {},
   "outputs": [
    {
     "data": {
      "text/plain": [
       "['камамбер', 'бри']"
      ]
     },
     "execution_count": 4,
     "metadata": {},
     "output_type": "execute_result"
    }
   ],
   "source": [
    "# Сыроварне необходимо узнать, какие типы сыров пользуются наибольшим спросом у клиентов, чтобы \n",
    "# организовать производство этих сыров согласно срокам их созревания. Напишите функцию \n",
    "# find_cheese_type(), которая по запросу типа сыра формирует список из названий сыров данного типа \n",
    "# и возвращает его. В качестве параметров в функцию передаются словарь cheese_data и строка \n",
    "# cheese_type с искомым типом сыра. При этом порядок необходимо соблюдать, согласно условию: сначала\n",
    "# — словарь, затем — искомый тип сыра.\n",
    "# Пример работы программы:\n",
    "\n",
    "cheese_data = {\n",
    "    'чеддер': [370, 5000, 33, 'твердый'],\n",
    "    'пармезан': [510, 4000, 29, 'твердый'],\n",
    "    'гауда': [250, 3700, 27, 'полутвердый'],\n",
    "    'эдам': [220, 10000, 30, 'полутвердый'],\n",
    "    'горгонзола': [320, 3000, 32, 'полумягкий'],\n",
    "    'рокфор': [340, 15000, 31, 'полумягкий'],\n",
    "    'стилтон': [360, 7000, 35, 'полумягкий'],\n",
    "    'камамбер': [250, 8000, 24, 'мягкий'],\n",
    "    'бри': [310, 6500, 28, 'мягкий'],\n",
    "}\n",
    "\n",
    "# find_cheese_type(cheese_data, cheese_type='мягкий')\n",
    "# ['камамбер', 'бри']\n",
    "# find_cheese_type(cheese_data, cheese_type='полумягкий')\n",
    "# ['горгонзола', 'рокфор', 'стилтон']\n",
    "\n",
    "def find_cheese_type(data, cheese_type):\n",
    "    # преобразовываем словарь в список кортежей\n",
    "    data_lst_tpl = data.items()\n",
    "    # отфильтровываем кортежи списка по типу сыру\n",
    "    filter_func = lambda x: x[1][3] == cheese_type\n",
    "    filtered_data = filter(filter_func, data_lst_tpl)\n",
    "    # оставляем в списке только названия сыров\n",
    "    cheese_list = map(lambda x: x[0], filtered_data)\n",
    "    return list(cheese_list)\n",
    "\n",
    "find_cheese_type(cheese_data, cheese_type='мягкий')\n",
    "# find_cheese_type(cheese_data, cheese_type='полумягкий')"
   ]
  },
  {
   "cell_type": "code",
   "execution_count": null,
   "metadata": {},
   "outputs": [
    {
     "name": "stdout",
     "output_type": "stream",
     "text": [
      "['эдам', 'гауда', 'камамбер', 'бри', 'горгонзола', 'рокфор', 'стилтон', 'чеддер', 'пармезан']\n"
     ]
    }
   ],
   "source": [
    "# Владельцу сыроварни необходимо понимать, какие сыры приносят ему наибольшую выручку.\n",
    "# Напишите функцию sort_cheese(), которая позволит отсортировать все сыры по возрастанию их \n",
    "# стоимости (от самых дешёвых к самым дорогим) за 100 грамм продукта. На вход функции подаётся \n",
    "# словарь cheese_data. Функция должна возвращать список названий сыров в порядке возрастания цены.\n",
    "# Пример работы программы:\n",
    "\n",
    "cheese_data = {\n",
    "    'чеддер': [370, 5000, 33, 'твердый'],\n",
    "    'пармезан': [510, 4000, 29, 'твердый'],\n",
    "    'гауда': [250, 3700, 27, 'полутвердый'],\n",
    "    'эдам': [220, 10000, 30, 'полутвердый'],\n",
    "    'горгонзола': [320, 3000, 32, 'полумягкий'],\n",
    "    'рокфор': [340, 15000, 31, 'полумягкий'],\n",
    "    'стилтон': [360, 7000, 35, 'полумягкий'],\n",
    "    'камамбер': [250, 8000, 24, 'мягкий'],\n",
    "    'бри': [310, 6500, 28, 'мягкий'],\n",
    "}\n",
    "\n",
    "# print(sort_cheese(cheese_data))\n",
    "# # ['эдам', 'гауда', 'камамбер', 'бри', 'горгонзола', 'рокфор', 'стилтон', 'чеддер', 'пармезан']\n",
    "\n",
    "def sort_cheese(data):\n",
    "    # создаем объект dict_items\n",
    "    data_list_tpl = data.items()\n",
    "    # преобразуем его в список кортежей\n",
    "    list_tpl = list(data_list_tpl)\n",
    "#     сортируем этот список кортежей по цене (в качестве ключа функции \n",
    "# sort указываем 1-й элемент 2-го элемента\n",
    "    list_tpl.sort(key=lambda x: x[1][0])\n",
    "    # в отсортированном списке кортежей оставляем только первые элементы\n",
    "    # (названия сыров)\n",
    "    result = map(lambda x: x[0], list_tpl)\n",
    "    return list(result)\n",
    "\n",
    "print(sort_cheese(cheese_data))"
   ]
  },
  {
   "cell_type": "code",
   "execution_count": null,
   "metadata": {},
   "outputs": [
    {
     "name": "stdout",
     "output_type": "stream",
     "text": [
      "Вы продублировали ингредиент молоко коровье в заказе 3 раз(а)\n",
      "Вы продублировали ингредиент молоко овечье в заказе 2 раз(а)\n",
      "Вы продублировали ингредиент бактерии в заказе 2 раз(а)\n",
      "Вы продублировали ингредиент молоко коровье в заказе 3 раз(а)\n",
      "Вы продублировали ингредиент соль в заказе 3 раз(а)\n",
      "Вы продублировали ингредиент молоко коровье в заказе 3 раз(а)\n",
      "Вы продублировали ингредиент бактерии в заказе 2 раз(а)\n",
      "Вы продублировали ингредиент молоко овечье в заказе 2 раз(а)\n",
      "Вы продублировали ингредиент соль в заказе 3 раз(а)\n",
      "Вы продублировали ингредиент соль в заказе 3 раз(а)\n"
     ]
    }
   ],
   "source": [
    "# При планировании закупок ингредиентов для производства сыра необходимо убедиться, что один и тот\n",
    "# же ингредиент не указан несколько раз. Все данные для закупки хранятся в списке ingredients. Вам \n",
    "# необходимо проверить, нет ли в нём повторяющихся ингредиентов. Для проверки уникальности \n",
    "# ингредиентов напишите функцию purchase(). На вход функции подаётся список с ингредиентами. В \n",
    "# результате работы функции на экран выводится фраза в зависимости от данных, хранящихся в списке:\n",
    "# Если все ингредиенты разные, выводится строка \"Ваш заказ оформлен верно\".\n",
    "# Если ингредиент дублируется, выводится строка \"Вы продублировали ингредиент \n",
    "# {название ингредиента} в заказе {количество дублей} раз(а)\".\n",
    "\n",
    "# Примеры работы программы:\n",
    "\n",
    "# ingredients = ['кислота уксусная', 'кислота лимонная', 'закваска', 'кислота молочная', \n",
    "#               'пряность', 'бактерии', 'аннато', 'кальций', 'калий', 'специя', 'молоко коровье', \n",
    "#                'молоко овечье', 'фермент', 'соль', 'сливки', 'грибки', 'ароматизатор', \n",
    "#                'молоко козье', 'дрожжи', 'каротин']\n",
    "\n",
    "# purchase(ingredients)\n",
    "# # Ваш заказ оформлен верно\n",
    "\n",
    "# ingredients = ['молоко коровье', 'молоко овечье', 'бактерии', 'молоко козье', 'сливки', \n",
    "#                'фермент','закваска', 'молоко коровье', 'соль', 'молоко коровье', 'бактерии', \n",
    "#                'молоко овечье', 'кислота лимонная', 'грибки', 'соль', 'дрожжи', \n",
    "#                'кислота уксусная', 'кальций', 'калий', 'каротин', 'аннато', 'специя', 'пряность',\n",
    "#                'ароматизатор', 'соль', 'кислота молочная']\n",
    "\n",
    "# purchase(ingredients)\n",
    "# # Вы продублировали ингредиент бактерии в заказе 2 раз(а)\n",
    "# # Вы продублировали ингредиент молоко коровье в заказе 3 раз(а)\n",
    "# # Вы продублировали ингредиент молоко овечье в заказе 2 раз(а)\n",
    "# # Вы продублировали ингредиент соль в заказе 3 раз(а)\n",
    "# Обратите внимание, что функция purchase() ничего не возвращает, а только выводит результат на \n",
    "# экран. Функция purchase() должна выводить элементы в том порядке, в котором они первоначально \n",
    "# встречаются в списке ingredients.\n",
    "\n",
    "def purchase(lst):\n",
    "    # преобразовываем список ингридиентов в множество\n",
    "    lst_to_set = set(lst)\n",
    "    # т.к. в множестве содержаться только уникальные элементы, поэтому\n",
    "    # если число ингридиентов множество и списка совпадают, следовательно,\n",
    "    # повторов в списке нет\n",
    "    if len(lst_to_set) == len(lst):\n",
    "        print(f'Ваш заказ оформлен верно') \n",
    "    else:\n",
    "        for elem in lst:\n",
    "            if lst.count(elem) > 1:\n",
    "                print(f'Вы продублировали ингредиент {elem} в заказе {lst.count(elem)} раз(а)')\n",
    "                lst.remove(elem)\n",
    "\n",
    "ingredients = ['молоко коровье', 'молоко овечье', 'бактерии', 'молоко козье', 'сливки', \n",
    "               'фермент','закваска', 'молоко коровье', 'соль', 'молоко коровье', 'бактерии', \n",
    "               'молоко овечье', 'кислота лимонная', 'грибки', 'соль', 'дрожжи', \n",
    "               'кислота уксусная', 'кальций', 'калий', 'каротин', 'аннато', 'специя', 'пряность',\n",
    "               'ароматизатор', 'соль', 'кислота молочная']          \n",
    "\n",
    "purchase(ingredients)"
   ]
  },
  {
   "cell_type": "code",
   "execution_count": null,
   "metadata": {},
   "outputs": [
    {
     "name": "stdout",
     "output_type": "stream",
     "text": [
      "{'молоко коровье': 3, 'молоко овечье': 2, 'бактерии': 2, 'соль': 3}\n"
     ]
    }
   ],
   "source": [
    "# задача выше (вариант решения для случая сохранения ингредиентов в том же порядке)\n",
    "\n",
    "def purchase(lst):\n",
    "    ingredients_dict = {} #создаем пустой словарь\n",
    "    for elem in lst:\n",
    "        # добавляем в словарь ингредиенты с количеством вхождений в\n",
    "        # список, только уникальных\n",
    "        if elem not in ingredients_dict:\n",
    "            ingredients_dict[elem] = lst.count(elem)\n",
    "    # преобразуем словарь в список кортежей\n",
    "    tpl_list = ingredients_dict.items()\n",
    "    # если ингредиент не уникальный - оставляем его       \n",
    "    filter_func = lambda x: x[1] > 1\n",
    "    filtered_list = filter(filter_func, tpl_list)\n",
    "    # если список пуст, то значит он состоит из уникальных элементов\n",
    "    if not filtered_list:\n",
    "        print(f'Ваш заказ оформлен верно')\n",
    "    else:\n",
    "            \n",
    "     \n",
    "ingredients = ['молоко коровье', 'молоко овечье', 'бактерии', 'молоко козье', 'сливки', \n",
    "               'фермент','закваска', 'молоко коровье', 'соль', 'молоко коровье', 'бактерии', \n",
    "               'молоко овечье', 'кислота лимонная', 'грибки', 'соль', 'дрожжи', \n",
    "               'кислота уксусная', 'кальций', 'калий', 'каротин', 'аннато', 'специя', 'пряность',\n",
    "               'ароматизатор', 'соль', 'кислота молочная']  \n",
    "\n",
    "print(purchase(ingredients))"
   ]
  },
  {
   "cell_type": "code",
   "execution_count": null,
   "metadata": {},
   "outputs": [
    {
     "name": "stdout",
     "output_type": "stream",
     "text": [
      "[42, 52, 14]\n"
     ]
    }
   ],
   "source": [
    "# Задание №1\n",
    "# Найти пересечение без дубликатов\n",
    "# Компания: «Авито»\n",
    "# Уровень: Лёгкий\n",
    "\n",
    "# Пользователь с клавиатуры (через функцию input()) вводит через запятую и пробел две \n",
    "# последовательности чисел (некоторые идентификаторы товаров/услуг, просмотренных клиентом 'A' и \n",
    "# клиентом 'B' на платформе «Авито»).\n",
    "# Необходимо конвертировать каждый ввод пользователя в отдельный список, состоящий из целых чисел, \n",
    "# а также составить новый список, состоящий из элементов пересечения двух исходных. Дубликаты \n",
    "# необходимо удалить, а результирующий список — вывести на экран.\n",
    "# Важно! Если пересечение пустое, то на экран должен выводиться пустой список.\n",
    "# Если ввод пользователя невозможно конвертировать в список из целых чисел, возникает ошибка. \n",
    "# Необходимо отлавливать эту ошибку и выводить на экран фразу Некорректный ввод.\n",
    "# Для поиска пересечений в списках напишите функцию pure_intersection(), которая будет возвращать \n",
    "# список с уникальными элементами пересечения.\n",
    "# Пример №1:\n",
    "# Ввод:\n",
    "# 108, 138, 42, 52, 14\n",
    "# 109, 13, 52, 32, 42, 14, 109\n",
    "# Вывод:\n",
    "# [42, 52, 14]\n",
    "\n",
    "# Пример №2:\n",
    "# Ввод:\n",
    "# 108, 138, 42, 52, 14\n",
    "# 189, 202, 249, 24, 15, 3\n",
    "# Вывод:\n",
    "# []\n",
    "\n",
    "# Пример №3:\n",
    "# Ввод:\n",
    "# 108, 138, 42, 52, четырнадцать\n",
    "# 189, 202, 249, 24, 15, 3\n",
    "# Вывод:\n",
    "# Некорректный ввод\n",
    "# Подсказка:\n",
    "# Для определения пересечения преобразуйте списки во множества и воспользуйтесь методом \n",
    "# intersection().\n",
    "\n",
    "input_string1 = input('Введите 1-ую последовательность идентификаторов: ')\n",
    "input_string2 = input('Введите 2-ую последовательность идентификаторов: ')\n",
    "\n",
    "def pure_intersection(string_1, string_2):\n",
    "#создаем списки, состоящие из введенных с клавиатуры элементов\n",
    "    list_string1 = input_string1.split(', ')\n",
    "    list_string2 = input_string2.split(', ')\n",
    "#преобразуем каждый элемент списка в целое число\n",
    "    try:\n",
    "        list_int_string1 = list(map(int, list_string1))\n",
    "        list_int_string2 = list(map(int, list_string2))\n",
    "    except ValueError:\n",
    "        print('Некорректный ввод')\n",
    "# чтобы оставить в списках только уникальные элементы - конвертируем\n",
    "# их в множества    \n",
    "    set_string1 = set(list_int_string1)   \n",
    "    set_string2 = set(list_int_string2)\n",
    "# находим пересечение множеств\n",
    "    set_intersection = set_string1.intersection(set_string2)\n",
    "# преобразуем полученное пересечение в список        \n",
    "    list_intersection = list(set_intersection)\n",
    "    if list_intersection:\n",
    "        return list_intersection\n",
    "    else:\n",
    "        return []\n",
    "    \n",
    "print(pure_intersection(input_string1, input_string2))"
   ]
  },
  {
   "cell_type": "code",
   "execution_count": null,
   "metadata": {},
   "outputs": [
    {
     "name": "stdout",
     "output_type": "stream",
     "text": [
      "minimum: -37.5\n",
      "maximum: 25.002\n"
     ]
    },
    {
     "data": {
      "text/plain": [
       "(-37.5, 25.002)"
      ]
     },
     "execution_count": 14,
     "metadata": {},
     "output_type": "execute_result"
    }
   ],
   "source": [
    "# Задание №2\n",
    "# Найти минимум и максимум\n",
    "# Компания: «Авито»\n",
    "# Уровень: Лёгкий\n",
    "\n",
    "# Пользователь подаёт на вход программе действительные числа через пробел с клавиатуры (через \n",
    "# функцию input()).\n",
    "# Он привык пользоваться Excel, поэтому отделяет дробную часть числа запятой, а не точкой. Кроме \n",
    "# того, он может случайно ввести число «словами» (например, не \"5\", а «пять») — в этом случае \n",
    "# слово надо игнорировать.\n",
    "# Ваша задача — вывести минимум и максимум последовательности. Гарантируется, что пользователем \n",
    "# будет введено хотя бы одно число.\n",
    "# Для нахождения минимума и максимума напишите функцию find_min_max, которая будет возвращать два \n",
    "# числа.\n",
    "# Пример:\n",
    "# Ввод:\n",
    "# -2,56 25,002 восемь 19,13 13 -37,5\n",
    "# Вывод:\n",
    "# Minimum: -37.5\n",
    "# Maximim: 25.002\n",
    "\n",
    "# Подсказка №1:\n",
    "# Для проверки того, состоит ли строка s только из букв, можно воспользоваться методом s.isalpha().\n",
    "\n",
    "# Подсказка №2:\n",
    "# Для поиска минимума и максимума в списке можно воспользоваться встроенными функциями \n",
    "# min() и max().\n",
    "\n",
    "input_string = input('Введите число: ')\n",
    "\n",
    "def find_min_max(numbers):\n",
    "# меняем все запятые в переменной input_string на точки    \n",
    "    new_string = input_string.replace(',', '.')\n",
    "# разбиваем строку на элементы и создаем список\n",
    "    list_numbers = new_string.split()\n",
    "# оставим в полученном списке элементы, состоящие только из цифр\n",
    "    filter_func = lambda s: not s.isalpha()\n",
    "    filtered_list = filter(filter_func, list_numbers)\n",
    "# преобразуем все элементы объекта filtered_list в класс float\n",
    "    new_list = list(map(float, filtered_list))\n",
    "# находим максимум и минимум среди элементов списка\n",
    "    minimum = min(new_list)       \n",
    "    maximum = max(new_list)\n",
    "    print(f'minimum: {minimum}')\n",
    "    print(f'maximum: {maximum}')\n",
    "    return minimum, maximum\n",
    "\n",
    "find_min_max(input_string)     "
   ]
  },
  {
   "cell_type": "code",
   "execution_count": null,
   "metadata": {},
   "outputs": [
    {
     "name": "stdout",
     "output_type": "stream",
     "text": [
      "Некорректный ввод\n"
     ]
    }
   ],
   "source": [
    "# Задание №3\n",
    "# Найти медиану\n",
    "# Компания: «Авито»\n",
    "# Уровень: Лёгкий\n",
    "\n",
    "# Медиана, как и среднее, является одной из важнейших характеристик для числовых данных в \n",
    "# статистике.\n",
    "# Медиана — это число, которое находится в середине упорядоченной по возрастанию числовой \n",
    "# последовательности.\n",
    "# Например, в последовательности чисел 1, 5, 2, 3, 6 медианой является число 3, так как если \n",
    "# упорядочить числа по возрастанию (1, 2, 3, 5, 6), центральным элементом в последовательности \n",
    "# будет именно 3.\n",
    "# Примечание. Если в выборке чётное число элементов, то за медиану принимается среднее между \n",
    "# центральными элементами (после упорядочивания).\n",
    "# Например, в последовательности чисел 100, 5, 2, 4, 3, 6 медианой является число 4.5, так как, \n",
    "# если упорядочить числа по возрастанию (2, 3, 4, 5, 6, 100), то центральным элементом в \n",
    "# последовательности будет среднее арифметическое между 4 и 5 ( (4+5)/2=4.5 ).\n",
    "# Пользователь с клавиатуры (через функцию input()) вводит через запятую и пробел неупорядоченную \n",
    "# последовательность чисел.\n",
    "# Необходимо конвертировать ввод пользователя в список действительных чисел и вывести на экран \n",
    "# медиану этой числовой последовательности.\n",
    "# Для поиска медианы в списке напишите функцию find_median(), которая будет возвращать одно число \n",
    "# — медианное значение. Результат работы функции нужно вывести на экран.\n",
    "# Если переданная в функцию последовательность окажется пустой (пользователь ничего не ввёл) или \n",
    "# пользователь ввёл числа некорректно (ввод нельзя преобразовать в числа), на экран должна быть \n",
    "# выведена фраза Некорректный ввод.\n",
    "\n",
    "# Пример №1:\n",
    "# Ввод:\n",
    "# 1, 5, 2, 3, 6\n",
    "\n",
    "# Вывод:\n",
    "# Median: 3.0\n",
    "# Ввод:\n",
    "# 100, 5, 2, 4, 3, 6\n",
    "\n",
    "# Вывод:\n",
    "# Median: 4.5\n",
    "# Ввод:\n",
    "\n",
    "# Вывод:\n",
    "# Некорректный ввод\n",
    "# Ввод:\n",
    "# десять, 10, пять, 7, семь\n",
    "\n",
    "# Вывод:\n",
    "# Некорректный ввод\n",
    "\n",
    "input_string = input('Введите последовательность чисел: ')\n",
    "\n",
    "def find_median(num_string):\n",
    "# если пользователь не ввел ни одного числа, то создаем ошибку    \n",
    "    if not num_string:\n",
    "        return 'Некорректный ввод'\n",
    "# преобразуем введенную строку чисел в список\n",
    "    list_string = num_string.split(', ')\n",
    "# преобразовываем каждый элемент списка в число\n",
    "    try:\n",
    "        list_numbers = list(map(float, list_string))\n",
    "    except ValueError:\n",
    "        print('Некорректный ввод')\n",
    "# отсортируем список чисел по возрастанию\n",
    "    list_numbers.sort()\n",
    "    # Если количество элементов списка нечетное\n",
    "    if len(list_numbers) % 2 != 0:\n",
    "# Находим индекс медианы. Разделив кол-во элементов без остатка пополам,\n",
    "# получаем порядковый номер числа левее медианы. Т.к элементы списка \n",
    "# нумеруются с 0, порядковый номер числа левее будет индексом медианы    \n",
    "        index = len(list_numbers) // 2\n",
    "# по индексу извлекаем медиану из списка    \n",
    "        mediane = list_numbers[index]\n",
    "# если количество элементов четное\n",
    "    else:\n",
    "# находим индексы чисел, расположенных посередине    \n",
    "        index_1 = len(list_numbers)//2 - 1\n",
    "        index_2 = index_1 + 1\n",
    "# по индексам извлекаем 2 центральных числа и находим медиану    \n",
    "        num_1 = list_numbers[index_1]\n",
    "        num_2 = list_numbers[index_2]\n",
    "        mediane = (num_1 + num_2)/2\n",
    "    return mediane\n",
    "\n",
    "print(find_median(input_string))             "
   ]
  },
  {
   "cell_type": "code",
   "execution_count": 12,
   "metadata": {},
   "outputs": [
    {
     "name": "stdout",
     "output_type": "stream",
     "text": [
      "133758\n"
     ]
    }
   ],
   "source": [
    "# Задание №4\n",
    "# Преобразовать строку в число\n",
    "# Компания: «СБЕР»\n",
    "# Уровень: Средний\n",
    "\n",
    "# Пользователь с клавиатуры (через функцию input()) вводит строку — описание числа словами на \n",
    "# русском языке.\n",
    "# Напишите функцию transform_string_to_integer(), которая принимает на вход введённую пользователем \n",
    "# строку, конвертирует слова в число и возвращает число, которое описано в строке s.\n",
    "# Примечания:\n",
    "# Минимальное число — ноль (0) включительно. Максимальное число — один миллион (1000000) \n",
    "# включительно.\n",
    "# Гарантируется, что на вход подаются строки с описанием числа, проверять это не нужно.\n",
    "\n",
    "# Пример №1:\n",
    "# Ввод:\n",
    "# один\n",
    "# Вывод:\n",
    "# 1\n",
    "\n",
    "# Пример №2:\n",
    "# Ввод:\n",
    "# двадцать\n",
    "# Вывод:\n",
    "# 20\n",
    "\n",
    "# Пример №3:\n",
    "# Ввод:\n",
    "# двести сорок шесть\n",
    "# Вывод:\n",
    "# 246\n",
    "\n",
    "# Пример №4:\n",
    "# Ввод:\n",
    "# семьсот восемьдесят три тысячи девятьсот девятнадцать\n",
    "# Вывод:\n",
    "# 783919\n",
    "\n",
    "# Подсказка №1:\n",
    "\n",
    "# При решении задачи вам может пригодиться следующий словарь:\n",
    "number_word_dict = {\n",
    "    \"ты\": 1000, \"м\": 1000000,\n",
    "    \"сто\": 100, \"двес\": 200, \"трис\": 300, \"четырес\": 400, \"пятьс\": 500, \"шестьс\": 600, \n",
    "    \"семьс\": 700, \"восемьс\": 800, \"девятьс\": 900, \"одинн\": 11, \"двен\": 12, \"трин\": 13, \n",
    "    \"четырн\": 14, \"пятн\": 15, \"шестн\": 16, \"семн\": 17, \"восемн\": 18, \"девятн\": 19,\n",
    "    \"двад\": 20, \"трид\": 30, \"сор\": 40, \"пятьд\": 50, \"шестьд\": 60, \"семьд\": 70, \"восемьд\": 80, \n",
    "    \"девяно\": 90, \"дес\": 10, \"н\": 0, \"о\": 1, \"дв\": 2, \"т\": 3, \"ч\": 4, \"п\": 5, \"ш\": 6, \"с\": 7, \n",
    "    \"в\": 8, \"д\": 9, }\n",
    "\n",
    "# Подсказка №2:\n",
    "# При решении задачи вам может пригодиться метод строк s.startswith(word), который определяет, \n",
    "# начинается ли строка s со строки word. Подробнее о нём вы можете узнать в документации.\n",
    "\n",
    "input_string = input('Введите число словами: ')\n",
    " \n",
    "def transform_string_to_integer(s):\n",
    "    # Рабиваем введенную строку на список слов\n",
    "    words = s.split()\n",
    "    number = 0 #задаем накопительную переменную для чисел до 1000\n",
    "    thousands = 0 #задаем накопительную переменную для тысяч\n",
    "    # проходимся циклом по каждому слову списка\n",
    "    for word in words:\n",
    "    # в цикле перебираем ключи словаря number_word_dict, чтобы найти \n",
    "    # соответсвие начала слова с ключом. Для удобства предварительно\n",
    "    # преобразуем словарь в объект список кортежей\n",
    "        for key, value in number_word_dict.items():\n",
    "            if word.startswith(key):\n",
    "                if key == 'ты':\n",
    "                    thousands = number #присваиваем переменной thousands\n",
    "                    #накопленное число number, а number обунуляем\n",
    "                    number = 0\n",
    "                else:\n",
    "                    number += value #увеличиваем number на значение\n",
    "                break #чтобы значение не переписалось останавливаем цикл\n",
    "    # складываем получиенное число с тысячами\n",
    "    number += thousands*1000\n",
    "    return number\n",
    "              \n",
    "print(transform_string_to_integer(input_string))   \n",
    "  "
   ]
  },
  {
   "cell_type": "code",
   "execution_count": 5,
   "metadata": {},
   "outputs": [
    {
     "name": "stdout",
     "output_type": "stream",
     "text": [
      "5! = 2^3 * 3 * 5 \n"
     ]
    }
   ],
   "source": [
    "# Задание №5 (бонусная, не оценивается)\n",
    "# Разложить факториал на простые множители\n",
    "# Компания: «СБЕР»\n",
    "# Уровень: Сложный\n",
    "\n",
    "# Пользователь с клавиатуры (через функцию input()) вводит некоторое целое число n.\n",
    "# Напишите функцию decompose_factorial(), которая будет принимать на вход введённое пользователем \n",
    "# число n, а затем вычислять факториал этого числа и выполнять разложение факториала на простые \n",
    "# множители.\n",
    "# Напомним, что факториал числа  n  ( n! ) — это произведение всех натуральных чисел от  1  до  n\n",
    "# включительно.\n",
    "# Например, факториал числа  3  будет равен:  3!=1∗2∗3=6 .\n",
    "# Простое число — число, которое делится (нацело) только на себя и на 1. Например,  13  — простое \n",
    "# число, так как оно делится только на себя (на  13 ) и на  1 , а  14  не является простым числом, \n",
    "# так как оно делится на  7  и на  2 .\n",
    "# Подробнее о простых числах можно почитать здесь.\n",
    "# Простые множители — это простые числа (не считая 1), на которые число делится без остатка.\n",
    "# Например, для числа  10  простыми множителями являются числа  5  и  2 . Для числа  28  \n",
    "# множителями являются числа  7  и  4 , но простыми множителями будут числа  7  и  2 , так как  \n",
    "# 4  — это  2∗2 , а число  28  представляется в виде  28=7∗22 .\n",
    "# В результате своей работы функция должна возвращать строку вида (приведён пример для n=12):\n",
    "\n",
    "# 12! = 2^10 * 3^5 * 5^2 * 7 * 11\n",
    "\n",
    "# Здесь число слева от ^ — множитель, число справа от ^ — его степень. При этом если множитель \n",
    "# встречается один раз, знак степени не выводится. Вывод множителей должен производиться в порядке \n",
    "# их возрастания.\n",
    "\n",
    "# Пример №1:\n",
    "# Ввод:\n",
    "# 5\n",
    "# Вывод:\n",
    "# 5! = 2^3 * 3 * 5\n",
    "\n",
    "# Пример №2:\n",
    "# Ввод:\n",
    "# 22\n",
    "# Вывод:\n",
    "# 22! = 2^19 * 3^9 * 5^4 * 7^3 * 11^2 * 13 * 17 * 19\n",
    "\n",
    "# Пример №3:\n",
    "# Ввод:\n",
    "# 25\n",
    "# Вывод:\n",
    "# 25! = 2^22 * 3^10 * 5^6 * 7^3 * 11^2 * 13 * 17 * 19 * 23\n",
    "\n",
    "# Подсказка №1:\n",
    "# Функцию для вычисления факториала мы уже реализовывали, когда говорили о рекурсии в Python. Вы \n",
    "# можете воспользоваться нашим вариантом функции\n",
    "\n",
    "# def factorial(n):\n",
    "#     if n == 1 or n == 0:\n",
    "#         return 1\n",
    "#     return n * factorial(n-1)\n",
    "# factorial(5)\n",
    "# или использовать реализацию из встроенной библиотеки math:\n",
    "\n",
    "# from math import factorial\n",
    "# factorial(5)\n",
    "\n",
    "# Подсказка №2:\n",
    "# Алгоритм нахождения простых множителей числа вы можете найти здесь.\n",
    "\n",
    "n = int(input('Введите число: '))\n",
    "\n",
    "def decompose_factorial(number):\n",
    "# напишем внутреннюю функцию для вычисления факториала\n",
    "    def factorial(n):\n",
    "        if n == 1 or n == 0:\n",
    "            return 1\n",
    "        return n * factorial(n-1)\n",
    "    fn = factorial(number) #вычислим факториал введенного числа\n",
    "# напишем внутреннюю функцию разложения числа на простые множители    \n",
    "    def prime_factor(n):\n",
    "        lst = [] #создаем список в который будем заносить множители\n",
    "    # начальный множитель/делитель равен 2\n",
    "        d = 2\n",
    "    # составляем список простых множителей факториала числа n\n",
    "        while d * d <= n:\n",
    "            if n % d == 0:\n",
    "                lst.append(d)\n",
    "                n //= d\n",
    "            else:\n",
    "                d += 1\n",
    "        if n > 1:\n",
    "            lst.append(n)   \n",
    "        return lst\n",
    "    # запускаем функцию разложения на множители для нашего фактриала\n",
    "    num_list = prime_factor(fn)         \n",
    "    # создаем словарь в который будем заносить множители из списка с\n",
    "    # количеством вхождений в последовательность множителей       \n",
    "    count_dict = {}\n",
    "    for num in num_list:\n",
    "        if str(num) not in count_dict:\n",
    "            count_dict[str(num)] = 1\n",
    "        else:\n",
    "            count_dict[str(num)] +=1\n",
    "    # для удобства преобразуем словарь в список кортежей из которого \n",
    "    # будем извлекать множители с их количествами вхождений и записывать\n",
    "    # их в требуемом виде в зависимости от того повторяется ли множитель\n",
    "    # в последовательности или нет        \n",
    "    tpl = count_dict.items()\n",
    "    result = ''\n",
    "    for key, value in tpl:\n",
    "        if value > 1:\n",
    "            result += key + '^' + str(value) + ' ' + '*' + ' '\n",
    "        else:\n",
    "            result += key + ' ' + '*' + ' '\n",
    "    result = result[:-2]  #уберем символ \"*\" в конце строки\n",
    "    return str(number) + '!' + ' ' + '=' + ' ' + result\n",
    "\n",
    "print(decompose_factorial(n))                        "
   ]
  },
  {
   "cell_type": "code",
   "execution_count": 4,
   "metadata": {},
   "outputs": [
    {
     "name": "stdout",
     "output_type": "stream",
     "text": [
      "zaba\n",
      "zbb\n",
      "zc\n",
      "zc\n"
     ]
    }
   ],
   "source": [
    "# Задание №6 (бонусная, не оценивается)\n",
    "# Заменить дублирующиеся буквы\n",
    "# Компания: «СБЕР»\n",
    "# Уровень: Сложный\n",
    "\n",
    "# Пользователь с клавиатуры (через функцию input()) вводит строку, состоящую из символов латинского \n",
    "# алфавита.\n",
    "# Необходимо последовательно заменять две одинаковые буквы во введённой строке на следующую по \n",
    "# алфавиту букву (важно: заменяем по 2 одинаковых буквы за одну итерацию, не более). Операция \n",
    "# замены должна повторяться до тех пор, пока в строке не останутся только уникальные символы.\n",
    "# Несколько важных моментов:\n",
    "# буквы не обязаны быть смежными (смежные — стоящие рядом; в строке 'abc' буквы a и b, а также \n",
    "# b и c являются смежными, в то время как a и c — нет);\n",
    "# zz заменяем на a;\n",
    "# вводимая строка состоит из букв латинского алфавита в нижнем регистре.\n",
    "# Напишите функцию replace_duplicates(), которая принимает на вход произвольную строку s, значение \n",
    "# которой вводится с клавиатуры. Функция должна последовательно производить описанную операцию и \n",
    "# возвращать строку с оставшимися буквами в любом порядке.\n",
    "\n",
    "# Пример:\n",
    "\n",
    "# input:\n",
    "# zzzab\n",
    "\n",
    "# step 1: zaba\n",
    "# step 2: zbb\n",
    "# step 3: zc\n",
    "\n",
    "# output:\n",
    "# cz\n",
    "\n",
    "# input:\n",
    "# hhakafh\n",
    "\n",
    "# step 1: haakfi\n",
    "# step 2: hkfib\n",
    "\n",
    "# output:\n",
    "# hkfib\n",
    "# Подсказка:\n",
    "\n",
    "# При решении задачи вам может понадобиться латинский алфавит. Вы можете получить его из встроенной \n",
    "# в Python библиотеки string:\n",
    "\n",
    "import string\n",
    "alphabet = string.ascii_lowercase\n",
    "\n",
    "s = input('Введите строку: ')\n",
    "\n",
    "def replace_duplicates(string):\n",
    "    # сравниваем длину строки с длиной полученного из нее множества. \n",
    "    # Если длины равны, что в строке остались только уникальные элементы.\n",
    "    # Задачу будем решать с помощью рекурсии. Это условие и будет выходом\n",
    "    # из нее.\n",
    "    if len(string) == len(set(string)):\n",
    "        return string\n",
    "    # через цикл проверяем каждый символ множества на количество вождений\n",
    "    # его в сроку. Если элемент множества встречается в строке больше \n",
    "    # одного раза, значит будем удалять 2 таких элемента из строки\n",
    "    for i in set(string):\n",
    "        if string.count(i) > 1:\n",
    "            # находим индекс первого и последнего одинаковых элемента\n",
    "            first_ind = string.find(i)\n",
    "            last_ind = string.rfind(i)\n",
    "            # удаляем эти элементы из строки\n",
    "            string = string[:first_ind] + string[first_ind+1:last_ind] + string[last_ind+1:]\n",
    "            #в алфавите находим по индексу букву следующей за удаленной\n",
    "            index_i = alphabet.find(i) #индекс удаленной буквы\n",
    "            if index_i == 25: #25 - индекс последней буквы в алфавите\n",
    "                ind_symbol = 0 #индекс буквы следующей за удаленной\n",
    "            else:\n",
    "                ind_symbol = index_i + 1\n",
    "            new_symbol = alphabet[ind_symbol]\n",
    "            # добавляем новую букву в строку\n",
    "            string = string + new_symbol\n",
    "            print(string)\n",
    "            break\n",
    "    return replace_duplicates(string) #снова запускаем функцию для\n",
    "# полученной строки\n",
    "\n",
    "print(replace_duplicates(s))                    "
   ]
  }
 ],
 "metadata": {
  "kernelspec": {
   "display_name": "Python 3.9.10 64-bit",
   "language": "python",
   "name": "python3"
  },
  "language_info": {
   "codemirror_mode": {
    "name": "ipython",
    "version": 3
   },
   "file_extension": ".py",
   "mimetype": "text/x-python",
   "name": "python",
   "nbconvert_exporter": "python",
   "pygments_lexer": "ipython3",
   "version": "3.9.10"
  },
  "orig_nbformat": 4,
  "vscode": {
   "interpreter": {
    "hash": "a7fd31236aa68ab527ad4b64cdd8790438b846cd8842fdc21c9a4077bae45533"
   }
  }
 },
 "nbformat": 4,
 "nbformat_minor": 2
}
