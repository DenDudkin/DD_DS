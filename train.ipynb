{
 "cells": [
  {
   "cell_type": "code",
   "execution_count": 5,
   "metadata": {},
   "outputs": [
    {
     "name": "stdout",
     "output_type": "stream",
     "text": [
      "strong\n"
     ]
    }
   ],
   "source": [
    "# У вас есть заготовка функции — def get_wind_class(speed):\n",
    "# Вам нужно вместо \"???\" написать цикл, который возвращает из функции класс ветра в зависимости от его характера:\n",
    "# от 1 до 4 м/с - \"weak [1]\"\n",
    "# от 5-10 м/c - \"moderate [2]\"\n",
    "# от 11-18 м/c - \"strong [3]\"\n",
    "# от 19 м/c - \"hurricane [4]\"\n",
    "# В последней строке мы просим программу напечатать результат (в зависимости от цифры в скобках) — \n",
    "def get_wind_class(speed):    # Объявление функции\n",
    "    if 1 <= speed <= 4:\n",
    "        return 'week'\n",
    "    elif 5 <= speed <= 10:\n",
    "        return 'moderate'\n",
    "    elif 11 <= speed <= 18:\n",
    "        return 'strong'\n",
    "    return 'hurricane'\n",
    "print(get_wind_class(13))  # Печатаем результат выполнения\n"
   ]
  },
  {
   "cell_type": "code",
   "execution_count": 9,
   "metadata": {},
   "outputs": [
    {
     "name": "stdout",
     "output_type": "stream",
     "text": [
      "True\n"
     ]
    }
   ],
   "source": [
    "# Допишите функцию check_user так, чтобы она по логину пользователя\n",
    "# проверяла, существует он или нет,\n",
    "# после чего с помощью вложенного условия проверяла\n",
    "# правильность пароля этого пользователя.\n",
    "# Функция должна возвращать только True или False.\n",
    "# Чтобы вернуть True, напишите \"return True\";\n",
    "# чтобы вернуть False, напишите \"return False\".\n",
    "\n",
    "user_database = {\n",
    "    'user': 'password',\n",
    "    'iseedeadpeople': 'greedisgood',\n",
    "    'hesoyam': 'tgm'\n",
    "}\n",
    "\n",
    "def check_user(username, password):\n",
    "    if username in user_database:\n",
    "        if password == user_database[username]:\n",
    "            return True\n",
    "    return False\n",
    "\n",
    "print(check_user('hesoyam', 'tgm'))    "
   ]
  },
  {
   "cell_type": "code",
   "execution_count": 20,
   "metadata": {},
   "outputs": [
    {
     "name": "stdout",
     "output_type": "stream",
     "text": [
      "False\n"
     ]
    }
   ],
   "source": [
    "# Запишите условие, которое является истинным, когда только одно из чисел А, В и С меньше 45.\n",
    "A = 11\n",
    "B = 87\n",
    "C = 32\n",
    "\n",
    "print((A < 45 and B >= 45 and C >= 45) or \\\n",
    "    (B < 45 and A >= 45 and C >= 45) or \\\n",
    "        (C < 45 and A >= 45 and B >= 45))"
   ]
  },
  {
   "cell_type": "code",
   "execution_count": 34,
   "metadata": {},
   "outputs": [
    {
     "name": "stdout",
     "output_type": "stream",
     "text": [
      "A принадлежит интервалу\n"
     ]
    }
   ],
   "source": [
    "# Запишите логическое выражение, которое определяет, что число А не принадлежит \n",
    "# интервалу от -10 до -1 или интервалу от 2 до 15.\n",
    "\n",
    "A = int(input('enter A:'))\n",
    "if not(-10 < A < -1 or 2 < A < 15):\n",
    "    print('A не принадлежит интервалу')\n",
    "else:\n",
    "    print('A принадлежит интервалу')    \n",
    "\n"
   ]
  },
  {
   "cell_type": "code",
   "execution_count": 43,
   "metadata": {},
   "outputs": [
    {
     "name": "stdout",
     "output_type": "stream",
     "text": [
      "число N содержит цифру 5\n"
     ]
    }
   ],
   "source": [
    "# Дано двузначное число. Определите, входит ли в него цифра 5. Попробуйте решить задачу с использованием \n",
    "# целочисленного деления и деления с остатком.\n",
    "\n",
    "N = int(input('enter number:'))\n",
    "\n",
    "if N in range(50,60):\n",
    "    print('число N содержит цифру 5')\n",
    "elif N % 5 == 0 and N % 2 != 0:\n",
    "    print('число N содержит цифру 5')\n",
    "else:\n",
    "    print('число не содержит цифру 5')        \n"
   ]
  },
  {
   "cell_type": "code",
   "execution_count": 45,
   "metadata": {},
   "outputs": [
    {
     "name": "stdout",
     "output_type": "stream",
     "text": [
      "True\n"
     ]
    }
   ],
   "source": [
    "# Проверьте, все ли элементы в списке являются уникальными.\n",
    "\n",
    "list_1 = [1, 2, 3, 4, 5, 6]\n",
    "print(len(list_1) == len(set(list_1)))"
   ]
  },
  {
   "cell_type": "code",
   "execution_count": 48,
   "metadata": {},
   "outputs": [
    {
     "name": "stdout",
     "output_type": "stream",
     "text": [
      "False\n"
     ]
    }
   ],
   "source": [
    "# Дано натуральное восьмизначное число. Выясните, является ли оно палиндромом \n",
    "# (читается одинаково слева направо и справа налево).\n",
    "\n",
    "N = 12344331\n",
    "\n",
    "print(str(N) == str(N)[::-1])"
   ]
  },
  {
   "cell_type": "code",
   "execution_count": 2,
   "metadata": {},
   "outputs": [
    {
     "name": "stdout",
     "output_type": "stream",
     "text": [
      "текущее значение: 120\n",
      "текущее значение: 158.5\n",
      "текущее значение: 199.0\n",
      "текущее значение: 279.0\n",
      "общий доход семьи: 279.0\n"
     ]
    }
   ],
   "source": [
    "# Условие задачи. Дан список доходов членов семьи Быковых (в тысячах рублей).\n",
    "# Необходимо найти общий доход семьи Быковых.\n",
    "\n",
    "incomes = [120, 38.5, 40.5, 80]\n",
    "S = 0\n",
    "for income in incomes:\n",
    "    S += income\n",
    "    print(f'текущее значение: {S}')\n",
    "print(f'общий доход семьи: {S}')    \n",
    "    \n"
   ]
  },
  {
   "cell_type": "code",
   "execution_count": 6,
   "metadata": {},
   "outputs": [
    {
     "name": "stdout",
     "output_type": "stream",
     "text": [
      "current_P: 98\n",
      "new_P: 98\n",
      "current_P: 24\n",
      "new_P: 2352\n",
      "current_P: 23\n",
      "new_P: 54096\n",
      "current_P: 12\n",
      "new_P: 649152\n",
      "current_P: 3\n",
      "new_P: 1947456\n",
      "Final P = 1947456\n"
     ]
    }
   ],
   "source": [
    "lst = [98, 24, 23, 12, 3]\n",
    "P = 1\n",
    "for element in lst:\n",
    "    print('current_P:', element)\n",
    "    P *= element\n",
    "    print('new_P:', P)\n",
    "print(f'Final P = {P}')    "
   ]
  },
  {
   "cell_type": "code",
   "execution_count": 7,
   "metadata": {},
   "outputs": [
    {
     "name": "stdout",
     "output_type": "stream",
     "text": [
      "15\n"
     ]
    }
   ],
   "source": [
    "# Найти сумму всех натуральных чисел от 1 до N включительно.\n",
    "S = 0\n",
    "N = 5\n",
    "for number in range(1, N + 1):\n",
    "    S += number\n",
    "print(S)    "
   ]
  },
  {
   "cell_type": "code",
   "execution_count": 8,
   "metadata": {},
   "outputs": [
    {
     "name": "stdout",
     "output_type": "stream",
     "text": [
      "P = 120\n"
     ]
    }
   ],
   "source": [
    "# Попробуйте теперь самостоятельно подсчитать произведение всех чисел от 1 до N включительно.\n",
    "\n",
    "P = 1\n",
    "N = 5\n",
    "\n",
    "for i in range(1, N + 1):\n",
    "    P *= i\n",
    "print(f'P = {P}')    \n"
   ]
  },
  {
   "cell_type": "code",
   "execution_count": 9,
   "metadata": {},
   "outputs": [
    {
     "name": "stdout",
     "output_type": "stream",
     "text": [
      "*\n",
      "**\n",
      "***\n",
      "****\n",
      "*****\n"
     ]
    }
   ],
   "source": [
    "\n",
    "Atrium = '*'\n",
    "n = 5\n",
    "for i in range(1, n + 1):\n",
    "    print(Atrium * i)\n",
    "    \n",
    "    "
   ]
  },
  {
   "cell_type": "code",
   "execution_count": 3,
   "metadata": {},
   "outputs": [
    {
     "name": "stdout",
     "output_type": "stream",
     "text": [
      "1 - car - 10\n",
      "2 - car - 42.4\n",
      "3 - truck - 240.1\n",
      "4 - truck - 101.5\n",
      "5 - car - 98\n",
      "6 - car - 0.4\n",
      "7 - car - 0.3\n",
      "8 - car - 15\n"
     ]
    }
   ],
   "source": [
    "# Условие задачи. Представим, что мы пишем программу для компании, занимающейся грузоперевозками.\n",
    "#В нашем распоряжении есть список масс товаров, предназначенных для перевозки (в килограммах).\n",
    "#Согласно нашим данным, товары, которые весят больше 100 килограммов, необходимо перевозить на \n",
    "# грузовой машине, а товары меньшей массы можно # перевести на легковой.\n",
    "#→ Необходимо написать алгоритм, который распределял бы товары по типам машин.\n",
    "#Пример списка товаров (грузов):\n",
    "\n",
    "weight_of_products= [10, 42.4, 240.1, 101.5, 98, 0.4, 0.3, 15]\n",
    "\n",
    "max_weight = 100\n",
    "product_number = 0\n",
    "for weight in weight_of_products:\n",
    "    product_number += 1\n",
    "    if weight > max_weight:\n",
    "        print(f'{product_number} - truck - {weight}')\n",
    "    else:\n",
    "        print(f'{product_number} - car - {weight}')\n",
    "        \n",
    "   \n",
    "            \n",
    "\n"
   ]
  },
  {
   "cell_type": "code",
   "execution_count": 4,
   "metadata": {},
   "outputs": [
    {
     "name": "stdout",
     "output_type": "stream",
     "text": [
      "Product 1 - car - weight: 10\n",
      "Product 2 - car - weight: 42.4\n",
      "Product 3 - in truck - weight: 240.1\n",
      "Product 4 - in truck - weight: 101.5\n",
      "Product 5 - car - weight: 98\n",
      "Product 6 - car - weight: 0.4\n",
      "Product 7 - car - weight: 0.3\n",
      "Product 8 - car - weight: 15\n"
     ]
    }
   ],
   "source": [
    "weight_of_products= [10, 42.4, 240.1, 101.5, 98, 0.4, 0.3, 15]\n",
    "\n",
    "max_weight = 100\n",
    "N = len(weight_of_products)\n",
    "\n",
    "for i in range(N):\n",
    "    if weight_of_products[i] > max_weight:\n",
    "        print(f'Product {i+1} - in truck - weight: {weight_of_products[i]}')\n",
    "    else:\n",
    "        print(f'Product {i+1} - car - weight: {weight_of_products[i]}')    \n"
   ]
  },
  {
   "cell_type": "code",
   "execution_count": 5,
   "metadata": {},
   "outputs": [
    {
     "name": "stdout",
     "output_type": "stream",
     "text": [
      "['Red Square', 'Swallow Nest', 'Unavailable', 'Unavailable', 'Unavailable', 'Hermitage']\n"
     ]
    }
   ],
   "source": [
    "#Условие задачи. Задача «на злобу дня». Мы разрабатываем новый функционал приложения для туристического \n",
    "# агентства «Ковёр-самолёт». В нашем распоряжении есть список мест places, которые пользователь хотел бы \n",
    "# посетить.\n",
    "\n",
    "places = [\n",
    "    'Red Square',\n",
    "    'Swallow Nest',\n",
    "    'Niagara Falls',\n",
    "    'Grand Canyon',\n",
    "    'Louvre',\n",
    "    'Hermitage'\n",
    "]\n",
    "#Также есть словарь location, ключи которого — места, которые пользователь хочет посетить, а значения — \n",
    "# названия стран, где находятся эти места.\n",
    "\n",
    "location = {\n",
    "    'Red Square': 'Russia',\n",
    "    'Swallow Nest': 'Russia',\n",
    "    'Niagara Falls': 'USA',\n",
    "    'Grand Canyon': 'USA',\n",
    "    'Louvre': 'France',\n",
    "    'Hermitage': 'Russia'\n",
    "}\n",
    "#По эпидемиологическим причинам пользователь не может посетить места, которые находятся вне территории \n",
    "# России. # Наша задача — заменить заграничные места в списке places на значение 'Unavailable'.\n",
    "\n",
    "N = len(places)\n",
    "for i in range(N):\n",
    "    if location[places[i]] != 'Russia':\n",
    "        places[i] = 'Unavailable'\n",
    "print(places)         "
   ]
  },
  {
   "cell_type": "code",
   "execution_count": 6,
   "metadata": {},
   "outputs": [
    {
     "name": "stdout",
     "output_type": "stream",
     "text": [
      "17\n"
     ]
    }
   ],
   "source": [
    "my_list = list(range(0, 100, 3))\n",
    "count = 0\n",
    "for number in my_list:\n",
    "    if number % 2 == 0:\n",
    "        count += 1\n",
    "print(count)        "
   ]
  },
  {
   "cell_type": "code",
   "execution_count": 7,
   "metadata": {},
   "outputs": [
    {
     "name": "stdout",
     "output_type": "stream",
     "text": [
      "3\n"
     ]
    }
   ],
   "source": [
    "my_list = [True, 1, -10, 'hello', False, 'string_1', 123, 2.5, [1, 2], 'another']\n",
    "\n",
    "count = 0\n",
    "\n",
    "for e in my_list:\n",
    "    if type(e) == str:\n",
    "        count += 1\n",
    "print(count)        "
   ]
  },
  {
   "cell_type": "code",
   "execution_count": 8,
   "metadata": {},
   "outputs": [
    {
     "name": "stdout",
     "output_type": "stream",
     "text": [
      "['b', 'c', 'd', 'e']\n",
      "['c', 'd', 'e']\n",
      "['d', 'e']\n",
      "['d', 'e']\n"
     ]
    }
   ],
   "source": [
    "lst=['a', 'b', 'c', 'd', 'e']\n",
    "\n",
    "while len(lst) > 2:\n",
    "    lst.pop(0)\n",
    "    print(lst)\n",
    "print(lst)\n",
    "    "
   ]
  },
  {
   "cell_type": "code",
   "execution_count": 9,
   "metadata": {},
   "outputs": [
    {
     "name": "stdout",
     "output_type": "stream",
     "text": [
      "17\n"
     ]
    }
   ],
   "source": [
    "#Пусть в нашем распоряжении есть два числа x = 21 и y = 55. Мы хотим посчитать, сколько раз надо \n",
    "#прибавить к x число 2, чтобы x стало больше или равно y.\n",
    "\n",
    "x = 21\n",
    "y = 55\n",
    "count = 0\n",
    "\n",
    "while x < y:\n",
    "    x += 2\n",
    "    count += 1\n",
    "print(count)    "
   ]
  },
  {
   "cell_type": "code",
   "execution_count": 10,
   "metadata": {},
   "outputs": [
    {
     "name": "stdout",
     "output_type": "stream",
     "text": [
      "67\n",
      "134\n",
      "201\n",
      "268\n",
      "335\n",
      "402\n",
      "Overweight 2 kg\n"
     ]
    }
   ],
   "source": [
    "#Условие задачи. Пассажирский лифт имеет ограничение на перевозку — не более 400 кг единовременно. \n",
    "#Пусть входящие в лифт люди имеют одинаковый вес (weight).\n",
    "\n",
    "#Необходимо написать программу, которая должна следить за изменением нагрузки на лифт, сравнивать её с \n",
    "#грузоподъёмностью и в случае перевеса выдавать предупреждение 'Overweight N kg'). Например, при перевесе \n",
    "#в 15 кг должно быть выведено сообщение 'Overweight 15 kg').\n",
    "\n",
    "#Для данного примера вес заходящих людей зададим как weight = 67).\n",
    "\n",
    "weight = 67 #вес одного человека\n",
    "max_weight = 400\n",
    "sum_weight = 0 #суммарный вес заходящих в лифт\n",
    "\n",
    "while sum_weight <= max_weight:\n",
    "    sum_weight += weight\n",
    "    print(sum_weight)\n",
    "print(f'Overweight {sum_weight - max_weight} kg')    \n",
    "    \n",
    "    "
   ]
  },
  {
   "cell_type": "code",
   "execution_count": 17,
   "metadata": {},
   "outputs": [
    {
     "name": "stdout",
     "output_type": "stream",
     "text": [
      "3.3\n",
      "6.6\n",
      "9.899999999999999\n",
      "13.2\n",
      "overvolume = 3.200\n"
     ]
    }
   ],
   "source": [
    "#Сосуд вмещает в себя ровно 10 литров жидкости. Каждый раз в него вливается 0.0033 кубических метра \n",
    "# жидкости. \n",
    "# Понятно, что в какой-то момент сосуд наполнится до краёв и жидкость начнёт выливаться из сосуда.\n",
    "#С помощью цикла while опишите данный процесс и найдите, сколько литров жидкости выльется из сосуда.\n",
    "#Учтите, что в 1 кубический метр равен 1 000 литров (0.0033 * 1000 = 3.3).\n",
    "\n",
    "max_volume = 10\n",
    "add_volume = 3.3\n",
    "curent_volume = 0\n",
    "\n",
    "while curent_volume <= max_volume:\n",
    "    curent_volume += add_volume\n",
    "    print(curent_volume)\n",
    "print(f'overvolume = {curent_volume - max_volume:.3f}')\n",
    "    \n"
   ]
  },
  {
   "cell_type": "code",
   "execution_count": 22,
   "metadata": {},
   "outputs": [
    {
     "name": "stdout",
     "output_type": "stream",
     "text": [
      "31\n"
     ]
    }
   ],
   "source": [
    "#Напишите цикл while, который находит максимальное натуральное число, квадрат которого меньше 1000.\n",
    "\n",
    "n = 1 #задаем первое натуральное число\n",
    "\n",
    "while n **2 < 1000:\n",
    "    n += 1\n",
    "print(n - 1)    "
   ]
  },
  {
   "cell_type": "code",
   "execution_count": 24,
   "metadata": {},
   "outputs": [
    {
     "name": "stdout",
     "output_type": "stream",
     "text": [
      "login is wrong\n",
      "login is wrong\n",
      "password is wrong!\n",
      "Welcome!!!\n"
     ]
    }
   ],
   "source": [
    "#Условие задачи. Представьте себя администратором тайного интернет-сообщества «Три Слепые Мыши» с \n",
    "# ограниченным членством. У каждого участника сообщества есть свой позывной и пароль. Позывные и \n",
    "# пароли представлены в словаре secret_passwords. Ключи данного словаря — позывные, а значения — пароли.\n",
    "\n",
    "secret_passwords = {\n",
    "    'Enot': 'ulybaka',\n",
    "    'Agent12': '1password1',\n",
    "    'MouseLulu': 'myshkanaruhka'\n",
    "}\n",
    "#Необходимо создать бесконечный цикл, который будет проверять, что пользователь, посетивший \n",
    "# интернет-сообщество, является его членом. Пользователь вводит свои позывной и пароль с клавиатуры.\n",
    "\n",
    "while True:\n",
    "    user = input('enter your name:')\n",
    "    if user in secret_passwords:\n",
    "        password = input('enter password:')\n",
    "        if password == secret_passwords[user]:\n",
    "            print('Welcome!!!')\n",
    "            break\n",
    "        else:\n",
    "            print('password is wrong!')\n",
    "    else:\n",
    "        print('login is wrong')\n",
    "                     \n",
    "    "
   ]
  },
  {
   "cell_type": "code",
   "execution_count": 27,
   "metadata": {},
   "outputs": [
    {
     "name": "stdout",
     "output_type": "stream",
     "text": [
      "31\n"
     ]
    }
   ],
   "source": [
    "#Напишите бесконечный цикл while с условием выхода внутри цикла, который находит максимальное натуральное \n",
    "# число, квадрат # которого # меньше 1000.\n",
    "\n",
    "n = 1\n",
    "\n",
    "while True:\n",
    "    if n ** 2 >= 1000:\n",
    "        break\n",
    "    n += 1\n",
    "print(n-1)    \n",
    "            "
   ]
  },
  {
   "cell_type": "code",
   "execution_count": 26,
   "metadata": {},
   "outputs": [
    {
     "name": "stdout",
     "output_type": "stream",
     "text": [
      "Required number 31\n"
     ]
    }
   ],
   "source": [
    "n = 1\n",
    "while True:\n",
    "    if n**2 >= 1000:\n",
    "        print(\"Required number\", n - 1) # искомое число\n",
    "        break\n",
    "    n += 1\n"
   ]
  },
  {
   "cell_type": "code",
   "execution_count": 29,
   "metadata": {},
   "outputs": [
    {
     "name": "stdout",
     "output_type": "stream",
     "text": [
      "5040\n"
     ]
    }
   ],
   "source": [
    "#Напишите цикл while, который вычисляет произведение натуральных чисел (1*2*3*4*...). Цикл должен \n",
    "# выполняться до тех пор, пока значение произведения не превысит 1 000. В ответ запишите полученное \n",
    "# после цикла произведение.\n",
    "\n",
    "n = 1\n",
    "P = 1 #поизведение чисел\n",
    "while P <= 1000:\n",
    "    P *= n\n",
    "    n += 1\n",
    "print(P)      \n"
   ]
  },
  {
   "cell_type": "code",
   "execution_count": 32,
   "metadata": {},
   "outputs": [
    {
     "name": "stdout",
     "output_type": "stream",
     "text": [
      "5040\n"
     ]
    }
   ],
   "source": [
    "n = 1\n",
    "P = 1 #поизведение чисел\n",
    "\n",
    "while True:\n",
    "    P *= n\n",
    "    if P > 1000:\n",
    "        break\n",
    "    n += 1\n",
    "print(P)    \n",
    "    \n"
   ]
  },
  {
   "cell_type": "code",
   "execution_count": 39,
   "metadata": {},
   "outputs": [
    {
     "name": "stdout",
     "output_type": "stream",
     "text": [
      "n = 2\n",
      "count = 1\n",
      "n = 3\n",
      "count = 2\n",
      "n = 4\n",
      "count = 3\n",
      "n = 5\n",
      "count = 4\n",
      "n = 6\n",
      "count = 5\n",
      "n = 7\n",
      "count = 6\n"
     ]
    }
   ],
   "source": [
    "#Напишите программу, которая возводит число 3 в n-ю степень (3, 9, 27 …), начиная с n = 1, пока результат \n",
    "# будет менее 1000. На какой итерации остановится ваш цикл (до начала выполнения цикла количество итераций \n",
    "# равно 0)?\n",
    "\n",
    "count = 0\n",
    "n = 1\n",
    "\n",
    "while (3 ** n) < 1000:\n",
    "    n += 1\n",
    "    count += 1\n",
    "    print('n =',n)  \n",
    "    print('count =',count)\n",
    "    "
   ]
  },
  {
   "cell_type": "code",
   "execution_count": 54,
   "metadata": {},
   "outputs": [
    {
     "name": "stdout",
     "output_type": "stream",
     "text": [
      "1080.0\n",
      "1166.4\n",
      "1259.7120000000002\n",
      "1360.4889600000004\n",
      "1469.3280768000004\n",
      "1586.8743229440006\n",
      "1713.8242687795207\n",
      "1850.9302102818824\n",
      "1999.0046271044332\n",
      "2158.924997272788\n",
      "2331.638997054611\n",
      "2518.17011681898\n",
      "2719.6237261644987\n",
      "2937.193624257659\n",
      "3172.169114198272\n",
      "15\n"
     ]
    }
   ],
   "source": [
    "#Олег положил тысячу рублей в банк под 8% годовых. Через сколько лет у него на счету будет не менее \n",
    "# трёх тысяч рублей? Выведите на экран это число и запишите его в ответ.\n",
    "\n",
    "deposit = 1000\n",
    "years = 0\n",
    "while True:\n",
    "    deposit = deposit * 1.08\n",
    "    years += 1\n",
    "    print(deposit)\n",
    "    if deposit >= 3000:\n",
    "        break\n",
    "print(years)    "
   ]
  },
  {
   "cell_type": "code",
   "execution_count": 53,
   "metadata": {},
   "outputs": [
    {
     "name": "stdout",
     "output_type": "stream",
     "text": [
      "1080.0\n",
      "1166.4\n",
      "1259.7120000000002\n",
      "1360.4889600000004\n",
      "1469.3280768000004\n",
      "1586.8743229440006\n",
      "1713.8242687795207\n",
      "1850.9302102818824\n",
      "1999.0046271044332\n",
      "2158.924997272788\n",
      "2331.638997054611\n",
      "2518.17011681898\n",
      "2719.6237261644987\n",
      "2937.193624257659\n",
      "3172.169114198272\n",
      "15\n"
     ]
    }
   ],
   "source": [
    "deposit = 1000\n",
    "years = 0\n",
    "\n",
    "while deposit < 3000:\n",
    "    deposit = deposit * 1.08\n",
    "    print(deposit)\n",
    "    years += 1\n",
    "print(years)    "
   ]
  },
  {
   "cell_type": "code",
   "execution_count": 57,
   "metadata": {},
   "outputs": [
    {
     "name": "stdout",
     "output_type": "stream",
     "text": [
      "[1, 2]\n",
      "1\n",
      "2\n",
      "[3, 4]\n",
      "3\n",
      "4\n",
      "[5, 6]\n",
      "5\n",
      "6\n"
     ]
    }
   ],
   "source": [
    "matrix = [\n",
    "    [1, 2], \n",
    "    [3, 4], \n",
    "    [5, 6]\n",
    "]\n",
    "\n",
    "N = len(matrix)\n",
    "M = len(matrix[0])\n",
    "\n",
    "for i in range(N):\n",
    "    print(matrix[i])\n",
    "    for j in range(M):\n",
    "        print(matrix[i][j])"
   ]
  },
  {
   "cell_type": "code",
   "execution_count": 59,
   "metadata": {},
   "outputs": [
    {
     "name": "stdout",
     "output_type": "stream",
     "text": [
      "Alarm is set:9:0\n",
      "Alarm is set:9:15\n",
      "Alarm is set:9:30\n",
      "Alarm is set:9:45\n",
      "Alarm is set:11:0\n",
      "Alarm is set:11:15\n",
      "Alarm is set:11:30\n",
      "Alarm is set:11:45\n",
      "Alarm is set:13:0\n",
      "Alarm is set:13:15\n",
      "Alarm is set:13:30\n",
      "Alarm is set:13:45\n",
      "Alarm is set:15:0\n",
      "Alarm is set:15:15\n",
      "Alarm is set:15:30\n",
      "Alarm is set:15:45\n",
      "Alarm is set:17:0\n",
      "Alarm is set:17:15\n",
      "Alarm is set:17:30\n",
      "Alarm is set:17:45\n",
      "Alarm is set:19:0\n",
      "Alarm is set:19:15\n",
      "Alarm is set:19:30\n",
      "Alarm is set:19:45\n",
      "Alarm is set:21:0\n",
      "Alarm is set:21:15\n",
      "Alarm is set:21:30\n",
      "Alarm is set:21:45\n",
      "Alarm is set:23:0\n",
      "Alarm is set:23:15\n",
      "Alarm is set:23:30\n",
      "Alarm is set:23:45\n"
     ]
    }
   ],
   "source": [
    "#Пусть пользователь задаёт будильники на каждые два часа, начиная с 9 часов утра. Причём будильники \n",
    "# должны звонить четырежды в указанный час (интервал 15 минут), например в 11:00, 11:15, 11:30 и 11:45.\n",
    "\n",
    "#Напишите вложенный цикл, который будет выводить на экран время, в которое прозвенят будильники.\n",
    "\n",
    "hours = list(range(9, 24, 2))\n",
    "minutes = list(range(0, 60, 15))\n",
    "\n",
    "for hour in hours:\n",
    "    for minute in minutes:\n",
    "        print(f'Alarm is set:{hour}:{minute}')"
   ]
  },
  {
   "cell_type": "code",
   "execution_count": 63,
   "metadata": {},
   "outputs": [
    {
     "name": "stdout",
     "output_type": "stream",
     "text": [
      "text\n",
      "morning\n",
      "notepad\n",
      "television\n",
      "ornament\n",
      "5\n"
     ]
    }
   ],
   "source": [
    "#Дан список строк str_list = ['text', 'morning', 'notepad', 'television', 'ornament']. \n",
    "# Необходимо подсчитать, сколько всего раз во всех строках списка встречается буква 'e'.\n",
    "str_list = ['text', 'morning', 'notepad', 'television', 'ornament']\n",
    "count = 0\n",
    "for word in str_list:\n",
    "    print(word)\n",
    "    count += word.count('e')\n",
    "print(count)    "
   ]
  },
  {
   "cell_type": "code",
   "execution_count": 64,
   "metadata": {},
   "outputs": [
    {
     "name": "stdout",
     "output_type": "stream",
     "text": [
      "text\n",
      "t\n",
      "e\n",
      "x\n",
      "t\n",
      "morning\n",
      "m\n",
      "o\n",
      "r\n",
      "n\n",
      "i\n",
      "n\n",
      "g\n",
      "notepad\n",
      "n\n",
      "o\n",
      "t\n",
      "e\n",
      "p\n",
      "a\n",
      "d\n",
      "television\n",
      "t\n",
      "e\n",
      "l\n",
      "e\n",
      "v\n",
      "i\n",
      "s\n",
      "i\n",
      "o\n",
      "n\n",
      "ornament\n",
      "o\n",
      "r\n",
      "n\n",
      "a\n",
      "m\n",
      "e\n",
      "n\n",
      "t\n",
      "5\n"
     ]
    }
   ],
   "source": [
    "str_list = ['text', 'morning', 'notepad', 'television', 'ornament']\n",
    "count = 0\n",
    "for word in str_list:\n",
    "    print(word)\n",
    "    for symbol in word:\n",
    "        print(symbol)\n",
    "        if symbol == 'e':\n",
    "            count += 1\n",
    "print(count)            "
   ]
  },
  {
   "cell_type": "code",
   "execution_count": 67,
   "metadata": {},
   "outputs": [
    {
     "name": "stdout",
     "output_type": "stream",
     "text": [
      "afbaad\n",
      "a\n",
      "f\n",
      "b\n",
      "a\n",
      "a\n",
      "d\n",
      "\n",
      "faaf\n",
      "f\n",
      "a\n",
      "a\n",
      "f\n",
      "\n",
      "afaga\n",
      "a\n",
      "f\n",
      "a\n",
      "g\n",
      "a\n",
      "\n",
      "agag\n",
      "a\n",
      "g\n",
      "a\n",
      "g\n",
      "\n",
      "\n",
      "10\n"
     ]
    }
   ],
   "source": [
    "# Дан список строк text_list. Посчитайте, сколько раз во всех строках списка встречается буква 'a'.\n",
    "\n",
    "text_list = [\n",
    "    'afbaad',\n",
    "    'faaf',\n",
    "    'afaga',\n",
    "    'agag'\n",
    "]\n",
    "#В работе кода используйте вложенные списки: внешний список — по элементам списка text_list, \n",
    "# внутренний — по символам в строках.\n",
    "\n",
    "count = 0\n",
    "\n",
    "for text in text_list:\n",
    "    print(text)\n",
    "    for symbol in text:\n",
    "        print(symbol)\n",
    "        if symbol == 'a':\n",
    "            count += 1\n",
    "    print()        \n",
    "print()\n",
    "print(count)            \n",
    "            "
   ]
  },
  {
   "cell_type": "code",
   "execution_count": 68,
   "metadata": {},
   "outputs": [
    {
     "name": "stdout",
     "output_type": "stream",
     "text": [
      "10\n"
     ]
    }
   ],
   "source": [
    "text_list = [\n",
    "    'afbaad',\n",
    "    'faaf',\n",
    "    'afaga',\n",
    "    'agag'\n",
    "]\n",
    "\n",
    "count = 0\n",
    "\n",
    "for text in text_list:\n",
    "    count += text.count('a')\n",
    "print(count)    "
   ]
  },
  {
   "cell_type": "code",
   "execution_count": 3,
   "metadata": {},
   "outputs": [
    {
     "name": "stdout",
     "output_type": "stream",
     "text": [
      "1\n",
      "2\n",
      "4\n",
      "[1, 2, 4]\n"
     ]
    }
   ],
   "source": [
    "random_matrix = [\n",
    "    [9, 2, 1],\n",
    "    [2, 5, 3],\n",
    "    [4, 8, 5]\n",
    "]\n",
    "\n",
    "min_values = []\n",
    "for row in random_matrix:\n",
    "    min_value = row[0]\n",
    "    for elem in row:\n",
    "        if elem < min_value:\n",
    "            min_value = elem\n",
    "    print(min_value)\n",
    "    min_values.append(min_value)\n",
    "print(min_values)    \n",
    "            \n",
    "    \n",
    "    "
   ]
  },
  {
   "cell_type": "code",
   "execution_count": 4,
   "metadata": {},
   "outputs": [
    {
     "name": "stdout",
     "output_type": "stream",
     "text": [
      "[9]\n",
      "[9, 5]\n",
      "[9, 5, 8]\n",
      "[9, 5, 8]\n"
     ]
    }
   ],
   "source": [
    "#Перепишите алгоритм из примера №3 так, чтобы он искал максимумы в строках таблицы random_matrix.\n",
    "\n",
    "random_matrix = [\n",
    "    [9, 2, 1],\n",
    "    [2, 5, 3],\n",
    "    [4, 8, 5]\n",
    "]\n",
    "\n",
    "max_values = []\n",
    "\n",
    "for row in random_matrix:\n",
    "    max_value = row[0]\n",
    "    for elem in row:\n",
    "        if elem > max_value:\n",
    "            max_value = elem\n",
    "    max_values.append(max_value)\n",
    "    print(max_values)\n",
    "print(max_values)            \n",
    "            "
   ]
  },
  {
   "cell_type": "code",
   "execution_count": 23,
   "metadata": {},
   "outputs": [
    {
     "name": "stdout",
     "output_type": "stream",
     "text": [
      "sum_math 56\n",
      "sum_inf 90\n",
      "sum_rus 80\n",
      "sum_all: 56\n",
      "sum_all: 146\n",
      "sum_all: 226\n",
      "\n",
      "sum_math 136\n",
      "sum_inf 176\n",
      "sum_rus 172\n",
      "sum_all: 306\n",
      "sum_all: 392\n",
      "sum_all: 484\n",
      "\n",
      "sum_math 227\n",
      "sum_inf 252\n",
      "sum_rus 261\n",
      "sum_all: 575\n",
      "sum_all: 651\n",
      "sum_all: 740\n",
      "\n",
      "sum_math 318\n",
      "sum_inf 294\n",
      "sum_rus 321\n",
      "sum_all: 831\n",
      "sum_all: 873\n",
      "sum_all: 933\n",
      "\n",
      "sum_math 383\n",
      "sum_inf 324\n",
      "sum_rus 411\n",
      "sum_all: 998\n",
      "sum_all: 1028\n",
      "sum_all: 1118\n",
      "\n",
      "Средний балл по математике: 76.6\n",
      "Средний балл по информатике: 64.8\n",
      "Средний балл по русскому: 82.2\n",
      "\n",
      "Общий балл студентов по всем экзаменам: 74.5\n"
     ]
    }
   ],
   "source": [
    "#Условие задачи. Нам предоставлены данные о баллах пяти студентов по трём экзаменам. Данные находятся \n",
    "# во вложенном списке student_scores.\n",
    "\n",
    "student_scores = [\n",
    "    [56, 90, 80],\n",
    "    [80, 86, 92],\n",
    "    [91, 76, 89],\n",
    "    [91, 42, 60],\n",
    "    [65, 30, 90]\n",
    "]\n",
    "#Каждая строка таблицы соответствует номеру студента, а каждый из трёх столбцов соответствует номеру \n",
    "# экзамена (первый — математика, второй — информатика, третий — русский язык).\n",
    "\n",
    "#Необходимо найти средний балл студентов по каждому из экзаменов и общий средний балл по всем экзаменам.\n",
    "\n",
    "N = len(student_scores)\n",
    "M = len(student_scores[0])\n",
    "\n",
    "sum_math = 0\n",
    "sum_inf = 0\n",
    "sum_rus = 0\n",
    "sum_all = 0\n",
    "\n",
    "for i in range(N):\n",
    "    sum_math += student_scores[i][0]\n",
    "    sum_inf += student_scores[i][1]\n",
    "    sum_rus += student_scores[i][2]\n",
    "    print('sum_math',sum_math)\n",
    "    print('sum_inf',sum_inf)\n",
    "    print('sum_rus',sum_rus)\n",
    "    for j in range(M):\n",
    "        sum_all += student_scores[i][j]\n",
    "        print('sum_all:',sum_all)\n",
    "    print()\n",
    "        \n",
    "\n",
    "print(f'Средний балл по математике: {sum_math / N}')\n",
    "print(f'Средний балл по информатике: {sum_inf / N}')\n",
    "print(f'Средний балл по русскому: {sum_rus / N}')\n",
    "print()\n",
    "print(f'Общий балл студентов по всем экзаменам: {sum_all / (N * M):.1f}')\n",
    "    "
   ]
  },
  {
   "cell_type": "code",
   "execution_count": 21,
   "metadata": {},
   "outputs": [
    {
     "name": "stdout",
     "output_type": "stream",
     "text": [
      "15\n",
      "3\n"
     ]
    }
   ],
   "source": [
    "table = [\n",
    "    [1, 3, 6],\n",
    "    [4, 6, 8],\n",
    "    [10, 33, 53]\n",
    "]\n",
    "S = 0\n",
    "count = 0\n",
    "for row in table:\n",
    "    count += 1\n",
    "    S += row[0]\n",
    "print(S)\n",
    "print(count)    "
   ]
  },
  {
   "cell_type": "code",
   "execution_count": 20,
   "metadata": {},
   "outputs": [
    {
     "name": "stdout",
     "output_type": "stream",
     "text": [
      "15\n",
      "9\n"
     ]
    }
   ],
   "source": [
    "table = [\n",
    "    [1, 3, 6],\n",
    "    [4, 6, 8],\n",
    "    [10, 33, 53]\n",
    "]\n",
    "\n",
    "N = len(table)\n",
    "M = len(table[0])\n",
    "S = 0\n",
    "count = 0\n",
    "for i in range(N):\n",
    "    for j in range(M):\n",
    "        if j == 0:\n",
    "            S += table[i][0]\n",
    "        count += 1    \n",
    "print(S) \n",
    "print(count)    \n",
    "           "
   ]
  },
  {
   "cell_type": "code",
   "execution_count": 18,
   "metadata": {},
   "outputs": [
    {
     "name": "stdout",
     "output_type": "stream",
     "text": [
      "15\n"
     ]
    }
   ],
   "source": [
    "table = [\n",
    "    [1, 3, 6],\n",
    "    [4, 6, 8],\n",
    "    [10, 33, 53]\n",
    "]\n",
    "\n",
    "print(table[0][0] + table[1][0] + table[2][0])"
   ]
  },
  {
   "cell_type": "code",
   "execution_count": 23,
   "metadata": {},
   "outputs": [
    {
     "name": "stdout",
     "output_type": "stream",
     "text": [
      "True\n",
      "False\n"
     ]
    }
   ],
   "source": [
    "test_matrix1 = [\n",
    "    [1, 2, 3],\n",
    "    [7, -1, 2],\n",
    "    [123, 2, -1]\n",
    "]\n",
    "test_matrix2 = [\n",
    "    [1, 2, 3],\n",
    "    [7, -1, 2],\n",
    "    [123, 2, -1],\n",
    "    [123, 5, 1]\n",
    "]\n",
    "\n",
    "N = len(test_matrix1)\n",
    "M = len(test_matrix1[0])\n",
    "print(N == M)\n",
    "\n",
    "N = len(test_matrix2)\n",
    "M = len(test_matrix2[0])\n",
    "print(N == M)"
   ]
  },
  {
   "cell_type": "code",
   "execution_count": 25,
   "metadata": {},
   "outputs": [
    {
     "name": "stdout",
     "output_type": "stream",
     "text": [
      "False\n"
     ]
    }
   ],
   "source": [
    "test_matrix1 = [\n",
    "    [1, 2, 3],\n",
    "    [7, -1, 2],\n",
    "    [123, 2, -1]\n",
    "]\n",
    "test_matrix2 = [\n",
    "    [1, 2, 3],\n",
    "    [7, -1, 2],\n",
    "    [123, 2, -1],\n",
    "    [123, 5, 1]\n",
    "]\n",
    "\n",
    "num_lines = len(test_matrix2)\n",
    "count = 0\n",
    "\n",
    "for line in test_matrix2:\n",
    "    if len(line) == num_lines:\n",
    "        count +=1\n",
    "print(num_lines == count)        "
   ]
  },
  {
   "cell_type": "code",
   "execution_count": 27,
   "metadata": {},
   "outputs": [
    {
     "name": "stdout",
     "output_type": "stream",
     "text": [
      "Day 1 : -5\n",
      "Day 2 : 2\n",
      "Day 3 : 4\n",
      "Day 4 : 8\n",
      "Day 5 : 12\n",
      "Day 6 : -7\n",
      "Day 7 : 5\n"
     ]
    }
   ],
   "source": [
    "#Условие задачи. У нас есть список ежедневной динамики числа пользователей приложения.\n",
    "\n",
    "#Если элемент списка положительный, то число новых пользователей больше числа ушедших пользователей \n",
    "# (прирост).\n",
    "#Если элемент списка отрицательный, то число ушедших пользователей больше числа новых (отток).\n",
    "\n",
    "#Мы бы хотели вывести этот список на экран поэлементно в виде {номер дня}: {динамика}. Например, \n",
    "# для первого дня вывод должен быть \"Day 1: -5\".\n",
    "user_dynamics = [-5, 2, 4, 8, 12, -7, 5]\n",
    "\n",
    "number_day = 1\n",
    "\n",
    "for dynamic in user_dynamics:\n",
    "    print(f'Day {number_day} : {dynamic}')\n",
    "    number_day += 1\n"
   ]
  },
  {
   "cell_type": "code",
   "execution_count": 28,
   "metadata": {},
   "outputs": [
    {
     "name": "stdout",
     "output_type": "stream",
     "text": [
      "Day 1 : -5\n",
      "Day 2 : 2\n",
      "Day 3 : 4\n",
      "Day 4 : 8\n",
      "Day 5 : 12\n",
      "Day 6 : -7\n",
      "Day 7 : 5\n"
     ]
    }
   ],
   "source": [
    "user_dynamics = [-5, 2, 4, 8, 12, -7, 5]\n",
    "\n",
    "N = len(user_dynamics)\n",
    "\n",
    "for i in range(N):\n",
    "    print(f'Day {i+1} : {user_dynamics[i]}')"
   ]
  },
  {
   "cell_type": "code",
   "execution_count": 29,
   "metadata": {},
   "outputs": [
    {
     "name": "stdout",
     "output_type": "stream",
     "text": [
      "Day 1 : -5\n",
      "Day 2 : 2\n",
      "Day 3 : 4\n",
      "Day 4 : 8\n",
      "Day 5 : 12\n",
      "Day 6 : -7\n",
      "Day 7 : 5\n"
     ]
    }
   ],
   "source": [
    "user_dynamics = [-5, 2, 4, 8, 12, -7, 5]\n",
    "\n",
    "for i, dynamic in enumerate(user_dynamics):\n",
    "    print(f'Day {i+1} : {dynamic}')"
   ]
  },
  {
   "cell_type": "code",
   "execution_count": 31,
   "metadata": {},
   "outputs": [
    {
     "name": "stdout",
     "output_type": "stream",
     "text": [
      "1\n",
      "-5\n",
      "6\n",
      "-7\n"
     ]
    }
   ],
   "source": [
    "user_dynamics = [-5, 2, 4, 8, 12, -7, 5]\n",
    "\n",
    "number_negative = None\n",
    "for i, dynamic in enumerate(user_dynamics):\n",
    "    if dynamic < 0:\n",
    "        number_negative = i + 1\n",
    "        print(number_negative)\n",
    "        print(dynamic)        \n",
    "    "
   ]
  },
  {
   "cell_type": "code",
   "execution_count": 32,
   "metadata": {},
   "outputs": [
    {
     "name": "stdout",
     "output_type": "stream",
     "text": [
      "Churn value:  -5\n",
      "Number day:  1\n",
      "Churn value:  -7\n",
      "Number day:  6\n"
     ]
    }
   ],
   "source": [
    "user_dynamics = [-5, 2, 4, 8, 12, -7, 5]\n",
    "number_negative = None #объявляем переменную, в которой будем хранить номер последнего дня оттока, изначально она пустая (None)\n",
    "N = len(user_dynamics) #вычисляем длину списка\n",
    "#создаём цикл по элементам последовательности от 0 до N (не включая N)\n",
    "for i in range(N): # i — индекс текущего элемента\n",
    "    #проверяем условие оттока — текущий элемент отрицательный\n",
    "    if user_dynamics[i] < 0: #если условие истинно,\n",
    "        number_negative = i+1  #перезаписываем значение номера дня\n",
    "        print(\"Churn value: \", user_dynamics[i]) # выводим количество ушедших в этот день пользователей\n",
    "        print(\"Number day: \", number_negative) # выводим номер дня"
   ]
  },
  {
   "cell_type": "code",
   "execution_count": 35,
   "metadata": {},
   "outputs": [
    {
     "name": "stdout",
     "output_type": "stream",
     "text": [
      "['Blood Moon Sword']\n",
      "['Blood Moon Sword', 'Sunset-colored sword']\n",
      "['Blood Moon Sword', 'Sunset-colored sword', 'Bow of Stars']\n",
      "list is full\n"
     ]
    }
   ],
   "source": [
    "to_inventory = ['Blood Moon Sword', 'Sunset-colored sword', 'Bow of Stars', 'Gain Stone']\n",
    "inventory = []\n",
    "\n",
    "for item in to_inventory:\n",
    "    if len(inventory) == 3:\n",
    "        print('list is full')\n",
    "        break\n",
    "    else:\n",
    "        inventory.append(item)\n",
    "        print(inventory)\n",
    "        "
   ]
  },
  {
   "cell_type": "code",
   "execution_count": 1,
   "metadata": {},
   "outputs": [
    {
     "name": "stdout",
     "output_type": "stream",
     "text": [
      "n is not degree of 3\n"
     ]
    }
   ],
   "source": [
    "#Условие задачи. В теории шифрования очень активно используются степени числа. Берётся число и несколько \n",
    "# раз возводится в некоторую степень. Для дешифрации нужно определить, какое число было задано изначально.\n",
    "\n",
    "#Например, изначально задано простое число 3, его возвели в степень 4 и получили число 81.\n",
    "\n",
    "#Необходимо написать программу, которая проверяет, что число n является степенью числа 3.\n",
    "\n",
    "n = 82\n",
    "while True:\n",
    "    if n % 3 == 0:\n",
    "        n /= 3\n",
    "        if n == 1:\n",
    "            print('n is degree of 3')\n",
    "            break\n",
    "    else:\n",
    "        print('n is not degree of 3')\n",
    "        break\n",
    "        \n",
    "        "
   ]
  },
  {
   "cell_type": "code",
   "execution_count": 4,
   "metadata": {},
   "outputs": [
    {
     "name": "stdout",
     "output_type": "stream",
     "text": [
      "Syracuse hypothesis holds\n"
     ]
    }
   ],
   "source": [
    "#Допишите программу, которая проверяет гипотезу Сиракуз. Гипотеза Сиракуз заключается в том, что \n",
    "# любое натуральное число можно свести к 1, если повторять над ним следующие действия:\n",
    "\n",
    "#если число чётное, разделить его пополам, т. е. n = n // 2;\n",
    "#если нечётное — умножить на 3, прибавить 1 и результат разделить на 2, т. е. n = (n * 3 + 1) // 2.\n",
    "\n",
    "n = 19 #задаём число\n",
    "#создаём бесконечный цикл\n",
    "while True:\n",
    "    if n % 2 == 0:\n",
    "        n //= 2\n",
    "    else:\n",
    "        n = (n * 3 + 1) // 2    \n",
    "    if n == 1: #если результат равен 1,\n",
    "        print('Syracuse hypothesis holds') #выводим утвердительное сообщение\n",
    "        break\n",
    "    \n",
    "      \n",
    "        \n",
    "        \n",
    "            \n",
    "\n",
    "            "
   ]
  },
  {
   "cell_type": "code",
   "execution_count": 3,
   "metadata": {},
   "outputs": [
    {
     "name": "stdout",
     "output_type": "stream",
     "text": [
      "Syracuse hypothesis holds\n"
     ]
    }
   ],
   "source": [
    "n = 19\n",
    "while True:\n",
    "    #проверяем условие, что число чётное\n",
    "    if n % 2 == 0: #если число чётное,\n",
    "        n = n // 2 #делим число на 2\n",
    "    else: #если число нечётное,\n",
    "        n = (n*3 + 1) // 2 #умножаем число на 3, прибавляем к нему 1 и делим на 2\n",
    "    if n == 1: #если результат равен 1,\n",
    "        print('Syracuse hypothesis holds') #выводим утвердительное сообщение\n",
    "        break #выходим из цикла\n"
   ]
  },
  {
   "cell_type": "code",
   "execution_count": 12,
   "metadata": {},
   "outputs": [
    {
     "name": "stdout",
     "output_type": "stream",
     "text": [
      "send message: 103303\n",
      "send message: 100423\n"
     ]
    }
   ],
   "source": [
    "client_status = {\n",
    "    103303: 'yes', \n",
    "    103044: 'no',\n",
    "    100423: 'yes',\n",
    "    103032: 'no',\n",
    "    103902: 'no'\n",
    "}\n",
    "\n",
    "for user_id in client_status:\n",
    "    if client_status[user_id] == 'no':\n",
    "        continue\n",
    "    else:\n",
    "        print(f'send message: {user_id}')\n",
    "    \n",
    "    \n",
    "    "
   ]
  },
  {
   "cell_type": "code",
   "execution_count": 17,
   "metadata": {},
   "outputs": [
    {
     "name": "stdout",
     "output_type": "stream",
     "text": [
      "4\n"
     ]
    }
   ],
   "source": [
    "#Дан словарь my_dict. Его значения могут быть как строками (тип str), так и числами (типы int и float). \n",
    "#Посчитайте, сколько значений в словаре my_dict являются числами. Используйте в своём коде оператор continue.\n",
    "\n",
    "my_dict = {'a': 15, 'b': 10.5, 'c': '15', 'd': 50, 'e': 15, 'f': '15'}\n",
    "\n",
    "count = 0\n",
    "\n",
    "for key in my_dict:\n",
    "    if type(my_dict[key]) is str:\n",
    "        continue\n",
    "    else:\n",
    "        count += 1\n",
    "    \n",
    "print(count)         "
   ]
  },
  {
   "cell_type": "code",
   "execution_count": 22,
   "metadata": {},
   "outputs": [
    {
     "name": "stdout",
     "output_type": "stream",
     "text": [
      "therabbit-holewentstraightonlikeatunnelforsomeway,andthendippedsuddenlydown,sosuddenlythatalicehadnotamomenttothinkaboutstoppingherselfbeforeshefoundherselffallingdownaverydeepwell.eitherthewellwasverydeep,orshefellveryslowly,forshehadplentyoftimeasshewentdowntolookaboutherandtowonderwhatwasgoingtohappennext.first,shetriedtolookdownandmakeoutwhatshewascomingto,butitwastoodarktoseeanything;thenshelookedatthesidesofthewell,andnoticedthattheywerefilledwithcupboardsandbook-shelves;hereandthereshesawmapsandpictureshunguponpegs.shetookdownajarfromoneoftheshelvesasshepassed;itwaslabelled`orangemarmalade',buttohergreatdisappointmentitwasempty:shedidnotliketodropthejarforfearofkillingsomebody,somanagedtoputitintooneofthecupboardsasshefellpastit.`well!'thoughtalicetoherself,`aftersuchafallasthis,ishallthinknothingoftumblingdownstairs!howbravethey'llallthinkmeathome!why,iwouldn'tsayanythingaboutit,evenififelloffthetopofthehouse!'(whichwasverylikelytrue.)\n",
      "{'t': 88, 'h': 63, 'e': 112, 'r': 39, 'a': 70, 'b': 15, 'i': 47, '-': 2, 'o': 80, 'l': 55, 'w': 31, 'n': 57, 's': 60, 'g': 17, 'k': 14, 'u': 22, 'f': 28, 'm': 17, 'y': 18, ',': 13, 'd': 43, 'p': 23, 'c': 9, 'v': 8, '.': 5, 'x': 1, ';': 3, 'j': 2, '`': 3, \"'\": 5, ':': 1, '!': 4, '(': 1, ')': 1}\n"
     ]
    }
   ],
   "source": [
    "#Условие задачи. Подсчитать количество вхождений каждого символа в заданном тексте. В результате работы \n",
    "# программы должен быть сформирован словарь, ключи которого — символы текста, а значения — количество \n",
    "# вхождений символа в тексте.\n",
    "\n",
    "text = \"\"\"\n",
    "The rabbit-hole went straight on like a tunnel for some way, and then dipped suddenly down, so suddenly that Alice had not a moment to think about stopping herself before she found herself falling down a very deep well.\n",
    "\n",
    "Either the well was very deep, or she fell very slowly, for she had plenty of time as she went down to look about her and to wonder what was going to happen next. First, she tried to look down and make out what she was coming to, but it was too dark to see anything; then she looked at the sides of the well, and noticed that they were filled with cupboards and book-shelves; here and there she saw maps and pictures hung upon pegs. She took down a jar from one of the shelves as she passed; it was labelled `ORANGE MARMALADE', but to her great disappointment it was empty: she did not like to drop the jar for fear of killing somebody, so managed to put it into one of the cupboards as she fell past it.\n",
    "\n",
    "`Well!' thought Alice to herself, `after such a fall as this, I shall think nothing of tumbling down stairs! How brave they'll all think me at home! Why, I wouldn't say anything about it, even if I fell off the top of the house!' (Which was very likely true.)\n",
    "\"\"\"\n",
    "\n",
    "text = text.lower()\n",
    "text = text.replace('\\n', '')\n",
    "text = text.replace(' ', '')\n",
    "print(text)\n",
    "\n",
    "dict_count = {}\n",
    "for symbol in text:\n",
    "    if symbol in dict_count:\n",
    "        dict_count[symbol] += 1\n",
    "    else:\n",
    "         dict_count[symbol] = 1\n",
    "print(dict_count)           "
   ]
  },
  {
   "cell_type": "code",
   "execution_count": 4,
   "metadata": {},
   "outputs": [
    {
     "name": "stdout",
     "output_type": "stream",
     "text": [
      "shesellsseashellsontheseashore;theshellsthatshesellsareseashellsiamsure.soifshesellsseashellsontheseashore,iamsurethattheshellsareseashoreshells.\n",
      "{'s': 33, 'h': 18, 'e': 29, 'l': 18, 'a': 12, 'o': 6, 'n': 2, 't': 8, 'r': 7, ';': 1, 'i': 3, 'm': 2, 'u': 2, '.': 2, 'f': 1, ',': 1}\n"
     ]
    }
   ],
   "source": [
    "#Попробуйте посчитать частоту каждого символа в следующем тексте:\n",
    "\n",
    "text = \"\"\"\n",
    "She sells sea shells on the sea shore;\n",
    "The shells that she sells are sea shells I am sure.\n",
    "So if she sells sea shells on the sea shore,\n",
    "I am sure that the shells are sea shore shells.\n",
    "\"\"\"\n",
    "#Как и в примере №4, предварительно очистите текст от символов переноса строки и пробелов, приведите \n",
    "# текст к нижнему регистру.\n",
    "\n",
    "#В результате работы вашей программы у вас должен получиться словарь, ключами которого являются символы, \n",
    "# а значениями — их частота (количество повторений в тексте).\n",
    "\n",
    "text = text.lower()\n",
    "text = text.replace('\\n', '')\n",
    "text = text.replace(' ','')\n",
    "print(text)\n",
    "\n",
    "count_dict = {}\n",
    "\n",
    "for symbol in text:\n",
    "    if symbol not in count_dict:\n",
    "        count_dict[symbol] = 1\n",
    "    else:\n",
    "        count_dict[symbol] += 1\n",
    "print(count_dict)        \n",
    "        \n",
    "            \n"
   ]
  },
  {
   "cell_type": "code",
   "execution_count": 7,
   "metadata": {},
   "outputs": [
    {
     "name": "stdout",
     "output_type": "stream",
     "text": [
      " she sells sea shells on the sea shore the shells that she sells are sea shells i am sure so if she sells sea shells on the sea shore i am sure that the shells are sea shore shells \n",
      "['she', 'sells', 'sea', 'shells', 'on', 'the', 'sea', 'shore', 'the', 'shells', 'that', 'she', 'sells', 'are', 'sea', 'shells', 'i', 'am', 'sure', 'so', 'if', 'she', 'sells', 'sea', 'shells', 'on', 'the', 'sea', 'shore', 'i', 'am', 'sure', 'that', 'the', 'shells', 'are', 'sea', 'shore', 'shells']\n",
      "{'she': 3, 'sells': 3, 'sea': 6, 'shells': 6, 'on': 2, 'the': 4, 'shore': 3, 'that': 2, 'are': 2, 'i': 2, 'am': 2, 'sure': 2, 'so': 1, 'if': 1}\n"
     ]
    }
   ],
   "source": [
    "#Условие задачи. Подсчитать количество вхождений каждого слова в заданном тексте. В результате работы \n",
    "# программы должен быть сформирован словарь, ключи которого — слова текста, а значения — количество \n",
    "# вхождений слов в тексте.\n",
    "\n",
    "text = \"\"\"\n",
    "She sells sea shells on the sea shore;\n",
    "The shells that she sells are sea shells I am sure.\n",
    "So if she sells sea shells on the sea shore,\n",
    "I am sure that the shells are sea shore shells.\n",
    "\"\"\"\n",
    "text = text.lower()\n",
    "text = text.replace('\\n',' ')\n",
    "text = text.replace(';','')\n",
    "text = text.replace('.','')\n",
    "text = text.replace(',','')\n",
    "print(text)\n",
    "\n",
    "word_list = text.split()\n",
    "print(word_list)\n",
    "\n",
    "count_dict = {}\n",
    "\n",
    "for word in word_list:\n",
    "    if word not in count_dict:\n",
    "        count_dict[word] = 1\n",
    "    else:\n",
    "         count_dict[word] += 1\n",
    "print(count_dict)            "
   ]
  },
  {
   "cell_type": "code",
   "execution_count": 25,
   "metadata": {},
   "outputs": [
    {
     "name": "stdout",
     "output_type": "stream",
     "text": [
      "yes\n"
     ]
    }
   ],
   "source": [
    "#С помощью цикла for проверьте, есть ли в полученном списке повторяющиеся числа. Для этого пройдитесь в \n",
    "# цикле по элементам полученного списка и на каждом шаге проверьте, сколько раз текущий элемент \n",
    "# встречается в списке.\n",
    "\n",
    "#Если хотя бы один из элементов встречается больше одного раза, выведите на экран строку 'yes' и прекратите \n",
    "# выполнение цикла.\n",
    "\n",
    "import numpy as np\n",
    "\n",
    "my_list = list(np.random.randint(10, size = 10))\n",
    "new_list = []\n",
    "\n",
    "for elem in my_list:\n",
    "    if elem not in new_list:\n",
    "        new_list.append(elem)\n",
    "    else:\n",
    "        print('yes')\n",
    "        break    \n"
   ]
  },
  {
   "cell_type": "code",
   "execution_count": 41,
   "metadata": {},
   "outputs": [
    {
     "name": "stdout",
     "output_type": "stream",
     "text": [
      "[96, 63, 21, 6, 60, 58, 55, 73, 47, 1]\n",
      "96\n",
      "63\n",
      "21\n",
      "6\n",
      "60\n",
      "58\n",
      "55\n",
      "73\n",
      "47\n",
      "1\n"
     ]
    }
   ],
   "source": [
    "import numpy as np\n",
    "\n",
    "my_list = list(np.random.randint(100, size = 10))\n",
    "print(my_list)\n",
    "\n",
    "for elem in my_list:\n",
    "    print(elem)\n",
    "    if my_list.count(elem) > 1:\n",
    "        print('yes')\n",
    "        break\n",
    "    \n",
    "        "
   ]
  },
  {
   "cell_type": "code",
   "execution_count": 17,
   "metadata": {},
   "outputs": [
    {
     "name": "stdout",
     "output_type": "stream",
     "text": [
      "[6]\n",
      "[6, 5]\n",
      "[6, 5, 1]\n",
      "[6, 5, 1, 9]\n",
      "[6, 5, 1, 9, 5]\n",
      "[6, 5, 1, 9, 5, 9]\n",
      "[6, 5, 1, 9, 5, 9, 1]\n",
      "[6, 5, 1, 9, 5, 9, 1, 8]\n",
      "[6, 5, 1, 9, 5, 9, 1, 8, 8]\n",
      "[6, 5, 1, 9, 5, 9, 1, 8, 8, 2]\n",
      "\n",
      "[6, 5, 1, 9, 5, 9, 1, 8, 8, 2]\n"
     ]
    }
   ],
   "source": [
    "my_list = []\n",
    "for i in range(10):\n",
    "    my_list.append(np.random.randint(10))\n",
    "    print(my_list)\n",
    "print()\n",
    "print(my_list)    "
   ]
  },
  {
   "cell_type": "code",
   "execution_count": 43,
   "metadata": {},
   "outputs": [
    {
     "name": "stdout",
     "output_type": "stream",
     "text": [
      "[1, 7, 1, 6, 4, 6, 0, 5, 8, 8]\n",
      "1\n",
      "8\n",
      "9\n",
      "15\n"
     ]
    }
   ],
   "source": [
    "#Задайте список my_list, содержащий целые числа, с помощью модуля random, как и в предыдущей задаче.\n",
    "\n",
    "#Используя инструкцию while, разработайте программу, которая вычисляет сумму элементов списка, пока она \n",
    "# не превысит число 10.\n",
    "\n",
    "#В результате работы программы выведите значение полученной суммы (обратите внимание: так как числа в \n",
    "# списке my_list являются случайными, то значение суммы при каждом запуске программы может быть разным).\n",
    "\n",
    "import numpy as np\n",
    "\n",
    "my_list = list(np.random.randint(10, size=10))\n",
    "S = 0 #сумма элементов списка\n",
    "i = 0 #индекс первого элемента списка\n",
    "print(my_list)\n",
    "\n",
    "while S <= 10:\n",
    "    S += my_list[i]\n",
    "    i += 1\n",
    "    print(S)\n",
    "     "
   ]
  },
  {
   "cell_type": "code",
   "execution_count": 44,
   "metadata": {},
   "outputs": [
    {
     "name": "stdout",
     "output_type": "stream",
     "text": [
      "420\n",
      "340\n",
      "260\n",
      "180\n",
      "100\n",
      "20\n",
      "-60\n",
      "\n",
      "7\n"
     ]
    }
   ],
   "source": [
    "#Вы играете в компьютерную игру, дошли до схватки с финальным боссом, но вот незадача: ваш компьютер \n",
    "# «заглючил», и вы не можете управлять вашим персонажем. Босс атакует и каждую секунду наносит один \n",
    "# удар, который отнимает у персонажа 80 единиц здоровья. На схватку с боссом ваш персонаж вышел с 500 \n",
    "# единицами здоровья.\n",
    "\n",
    "#Создайте цикл, позволяющий понять, через сколько секунд босс убьёт вашего персонажа.\n",
    "\n",
    "#Для решения задачи задайте переменную current_health для сохранения текущего уровня здоровья и изменяйте \n",
    "# её по ходу цикла, переменную attack = 80 для хранения значения атаки Босса, а также переменную \n",
    "# seconds_num для хранения времени схватки (в секундах).\n",
    "\n",
    "#В результате работы вашей программы в переменной seconds_num должно быть сохранено количество секунд, \n",
    "# в течение которых будет длиться схватка.\n",
    "\n",
    "current_health = 500\n",
    "attack = 80\n",
    "second_num = 0\n",
    "\n",
    "while current_health >= 0:\n",
    "    current_health -= attack\n",
    "    second_num += 1\n",
    "    print(current_health)\n",
    "print()\n",
    "print(second_num)    "
   ]
  },
  {
   "cell_type": "code",
   "execution_count": 46,
   "metadata": {},
   "outputs": [
    {
     "name": "stdout",
     "output_type": "stream",
     "text": [
      "[[0, 'Hel'], [1, 'my'], [2, 'nam'], [3, 'is'], [4, 'Eze'], [5, 'I'], [6, 'lik'], [7, 'kni']]\n"
     ]
    }
   ],
   "source": [
    "#Дан следующий список, состоящий из строк:\n",
    "\n",
    "#str_list = ['Hello', 'my', 'name', 'is', 'Ezeikel', 'I', 'like', 'knitting'] \n",
    "\n",
    "#Создайте новый список cut_str_list = [].\n",
    "\n",
    "#В цикле добавляйте в список cut_str_list списки, состоящие из порядкового номера строки из списка \n",
    "# str_list (номер в рамках данной задачи начинается от 0) и трёх первых символов из каждой строки. \n",
    "# Если длина строки меньше трёх символов, то добавляется вся строка целиком.\n",
    "\n",
    "#Пример нового списка: lst = ['Backend', 'Mi']: [[0, 'Bac'], [1, 'Mi']].\n",
    "\n",
    "#В результате работы вашей программы в переменной cut_str_list должен храниться результирующий вложенный \n",
    "# список.\n",
    "\n",
    "str_list = ['Hello', 'my', 'name', 'is', 'Ezeikel', 'I', 'like', 'knitting']\n",
    "cut_str_list = []\n",
    "\n",
    "for i, word in enumerate(str_list):\n",
    "    cut_str_list.append([i, word[:3]])\n",
    "print(cut_str_list)    \n",
    "    \n",
    " "
   ]
  },
  {
   "cell_type": "code",
   "execution_count": 47,
   "metadata": {},
   "outputs": [
    {
     "name": "stdout",
     "output_type": "stream",
     "text": [
      "{'a': 3, 'robot': 1, 'may': 1, 'not': 1, 'injure': 1, 'human': 2, 'being': 2, 'or': 1, 'through': 1, 'inaction': 1, 'allow': 1, 'to': 2, 'come': 1, 'harm': 1}\n"
     ]
    }
   ],
   "source": [
    "#Дано предложение:\n",
    "\n",
    "#sentence = 'A roboT MAY Not injure a humAn BEING or, tHROugh INACtion, allow a human BEING to come to harm'\n",
    "\n",
    "#Выполните следующие действия:\n",
    "\n",
    "#Приведите все символы в предложении к нижнему регистру.\n",
    "#Исключите знаки препинания (запятые).\n",
    "#Разделите строку по пробелам и создайте список слов, которые входят в предложение.\n",
    "#Подсчитайте количество повторений каждого слова. \n",
    "#Для подсчёта символов используйте словарь word_dict. Ключами словаря будут являться слова, а значениями — \n",
    "# число вхождений этих слов в предложение.\n",
    "\n",
    "#В результате работы вашей программы в переменной word_dict должен храниться результирующий словарь.\n",
    "\n",
    "sentence = 'A roboT MAY Not injure a humAn BEING or, tHROugh INACtion, allow a human BEING to come to harm'\n",
    "\n",
    "sentence = sentence.lower()\n",
    "sentence = sentence.replace(',', '')\n",
    "sentence_list = sentence.split()\n",
    "word_dict = {}\n",
    "\n",
    "for word in sentence_list:\n",
    "    if word not in word_dict:\n",
    "        word_dict[word] = 1\n",
    "    else:\n",
    "         word_dict[word] += 1\n",
    "print(word_dict)            "
   ]
  },
  {
   "cell_type": "code",
   "execution_count": 48,
   "metadata": {},
   "outputs": [
    {
     "name": "stdout",
     "output_type": "stream",
     "text": [
      "{'text': 2}\n",
      "{'text': 2, 'morning': 0}\n",
      "{'text': 2, 'morning': 0, 'notepad': 1}\n",
      "{'text': 2, 'morning': 0, 'notepad': 1, 'television': 1}\n",
      "{'text': 2, 'morning': 0, 'notepad': 1, 'television': 1, 'ornament': 1}\n"
     ]
    }
   ],
   "source": [
    "#Дан список из строк:\n",
    "\n",
    "#str_list = ['text', 'morning', 'notepad', 'television', 'ornament']\n",
    "\n",
    "#Подсчитайте количество вхождений символа 't' в каждую из строк этого списка.\n",
    "\n",
    "#Для подсчёта используйте словарь word_dict: в качестве ключа запишите в него строку, в качестве значения \n",
    "# — число вхождений буквы 't' в эту строку.\n",
    "\n",
    "#Пример работы программы для списка lst = ['letter', 'hello']:\n",
    "\n",
    "# {'letter': 2, 'hello': 0}.\n",
    "\n",
    "#В результате работы вашей программы в переменной word_dict должен храниться результирующий словарь.\n",
    "\n",
    "#Для тренировки используйте вложенные циклы: внешний цикл по элементам списка, внутренний цикл по символам \n",
    "# в текущей строке.\n",
    "\n",
    "str_list = ['text', 'morning', 'notepad', 'television', 'ornament']\n",
    "\n",
    "word_dict = {}\n",
    "\n",
    "for word in str_list:\n",
    "    word_dict[word] = word.count('t')\n",
    "    print(word_dict)\n",
    "        \n",
    "       "
   ]
  },
  {
   "cell_type": "code",
   "execution_count": 51,
   "metadata": {},
   "outputs": [
    {
     "name": "stdout",
     "output_type": "stream",
     "text": [
      "text\n",
      "{'text': 1}\n",
      "{'text': 1}\n",
      "{'text': 1}\n",
      "{'text': 2}\n",
      "\n",
      "morning\n",
      "{'text': 2, 'morning': 0}\n",
      "{'text': 2, 'morning': 0}\n",
      "{'text': 2, 'morning': 0}\n",
      "{'text': 2, 'morning': 0}\n",
      "{'text': 2, 'morning': 0}\n",
      "{'text': 2, 'morning': 0}\n",
      "{'text': 2, 'morning': 0}\n",
      "\n",
      "notepad\n",
      "{'text': 2, 'morning': 0, 'notepad': 0}\n",
      "{'text': 2, 'morning': 0, 'notepad': 0}\n",
      "{'text': 2, 'morning': 0, 'notepad': 1}\n",
      "{'text': 2, 'morning': 0, 'notepad': 1}\n",
      "{'text': 2, 'morning': 0, 'notepad': 1}\n",
      "{'text': 2, 'morning': 0, 'notepad': 1}\n",
      "{'text': 2, 'morning': 0, 'notepad': 1}\n",
      "\n",
      "television\n",
      "{'text': 2, 'morning': 0, 'notepad': 1, 'television': 1}\n",
      "{'text': 2, 'morning': 0, 'notepad': 1, 'television': 1}\n",
      "{'text': 2, 'morning': 0, 'notepad': 1, 'television': 1}\n",
      "{'text': 2, 'morning': 0, 'notepad': 1, 'television': 1}\n",
      "{'text': 2, 'morning': 0, 'notepad': 1, 'television': 1}\n",
      "{'text': 2, 'morning': 0, 'notepad': 1, 'television': 1}\n",
      "{'text': 2, 'morning': 0, 'notepad': 1, 'television': 1}\n",
      "{'text': 2, 'morning': 0, 'notepad': 1, 'television': 1}\n",
      "{'text': 2, 'morning': 0, 'notepad': 1, 'television': 1}\n",
      "{'text': 2, 'morning': 0, 'notepad': 1, 'television': 1}\n",
      "\n",
      "ornament\n",
      "{'text': 2, 'morning': 0, 'notepad': 1, 'television': 1, 'ornament': 0}\n",
      "{'text': 2, 'morning': 0, 'notepad': 1, 'television': 1, 'ornament': 0}\n",
      "{'text': 2, 'morning': 0, 'notepad': 1, 'television': 1, 'ornament': 0}\n",
      "{'text': 2, 'morning': 0, 'notepad': 1, 'television': 1, 'ornament': 0}\n",
      "{'text': 2, 'morning': 0, 'notepad': 1, 'television': 1, 'ornament': 0}\n",
      "{'text': 2, 'morning': 0, 'notepad': 1, 'television': 1, 'ornament': 0}\n",
      "{'text': 2, 'morning': 0, 'notepad': 1, 'television': 1, 'ornament': 0}\n",
      "{'text': 2, 'morning': 0, 'notepad': 1, 'television': 1, 'ornament': 1}\n",
      "\n"
     ]
    }
   ],
   "source": [
    "str_list = ['text', 'morning', 'notepad', 'television', 'ornament']\n",
    "\n",
    "word_dict = {}\n",
    "count = 0\n",
    "\n",
    "for word in str_list:\n",
    "    print(word)\n",
    "    word_dict[word] = 0\n",
    "    for symbol in word:\n",
    "        if symbol == 't':\n",
    "            word_dict[word] += 1\n",
    "        print(word_dict)\n",
    "    print()        \n",
    "            \n",
    "        "
   ]
  },
  {
   "cell_type": "code",
   "execution_count": 58,
   "metadata": {},
   "outputs": [
    {
     "name": "stdout",
     "output_type": "stream",
     "text": [
      "1\n",
      "2\n",
      "3\n"
     ]
    }
   ],
   "source": [
    "a = [1,2,3,4,5]\n",
    "for i in a:\n",
    "    if i > 3:\n",
    "        break\n",
    "    print(i)\n",
    "    "
   ]
  },
  {
   "cell_type": "code",
   "execution_count": 4,
   "metadata": {},
   "outputs": [
    {
     "name": "stdout",
     "output_type": "stream",
     "text": [
      "Hours: 1\n",
      "Minutes left: 30\n",
      "None\n"
     ]
    }
   ],
   "source": [
    "def print_hours(minutes):\n",
    "    # // — это оператор целочисленного деления\n",
    "    hours = minutes // 60\n",
    "    # % — это оператор получения остатка от деления\n",
    "    left_minutes = minutes % 60\n",
    "    print(\"Hours:\", hours)\n",
    "    print(\"Minutes left:\", left_minutes)\n",
    "    \n",
    "print(print_hours(90))"
   ]
  },
  {
   "cell_type": "code",
   "execution_count": 10,
   "metadata": {},
   "outputs": [
    {
     "name": "stdout",
     "output_type": "stream",
     "text": [
      "11.11111111111111\n"
     ]
    }
   ],
   "source": [
    "#Попробуйте добавить в новую функцию get_time из примера выше проверку скорости на равенство нулю. \n",
    "# Если скорость равна нулю, верните ValueError с сообщением \"Speed cannot be equal to 0!\".\n",
    "\n",
    "#Вы можете проверить своё решение, вызвав функцию get_time:\n",
    "\n",
    "#get_time(100, 0)\n",
    "# Вы молодец, если на экране появилось:\n",
    "# ValueError: Speed cannot be equal to 0!\n",
    "\n",
    "def get_time(distance, speed):\n",
    "    \n",
    "    if distance < 0 or speed < 0:\n",
    "        raise ValueError(\"Distance or speed cannot be below 0!\")\n",
    "    if speed == 0:\n",
    "        raise ValueError('Speed cannot be equal to 0!')\n",
    "    \n",
    "    result = distance / speed\n",
    "    return result\n",
    "\n",
    "time = get_time(100, 9)\n",
    "print(time)"
   ]
  },
  {
   "cell_type": "code",
   "execution_count": 50,
   "metadata": {},
   "outputs": [
    {
     "ename": "TypeError",
     "evalue": "root() got multiple values for argument 'n'",
     "output_type": "error",
     "traceback": [
      "\u001b[1;31m---------------------------------------------------------------------------\u001b[0m",
      "\u001b[1;31mTypeError\u001b[0m                                 Traceback (most recent call last)",
      "\u001b[1;32md:\\Data Science\\IDE\\train.ipynb Cell 71'\u001b[0m in \u001b[0;36m<cell line: 9>\u001b[1;34m()\u001b[0m\n\u001b[0;32m      <a href='vscode-notebook-cell:/d%3A/Data%20Science/IDE/train.ipynb#ch0000070?line=5'>6</a>\u001b[0m     result \u001b[39m=\u001b[39m value \u001b[39m*\u001b[39m\u001b[39m*\u001b[39m (\u001b[39m1\u001b[39m\u001b[39m/\u001b[39mn)\n\u001b[0;32m      <a href='vscode-notebook-cell:/d%3A/Data%20Science/IDE/train.ipynb#ch0000070?line=6'>7</a>\u001b[0m     \u001b[39mreturn\u001b[39;00m result\n\u001b[1;32m----> <a href='vscode-notebook-cell:/d%3A/Data%20Science/IDE/train.ipynb#ch0000070?line=8'>9</a>\u001b[0m \u001b[39mprint\u001b[39m(root(\u001b[39m81\u001b[39;49m,\u001b[39m27\u001b[39;49m,n\u001b[39m=\u001b[39;49m\u001b[39m2\u001b[39;49m))\n",
      "\u001b[1;31mTypeError\u001b[0m: root() got multiple values for argument 'n'"
     ]
    }
   ],
   "source": [
    "#Модифицируйте функцию root так, чтобы передавать степень корня было необязательно. Если степень корня \n",
    "# не передана, функция должна возвращать значение квадратного корня.\n",
    "#Проверьте своё решение, вызвав функцию root:\n",
    "\n",
    "def root(value, n=2):\n",
    "    result = value ** (1/n)\n",
    "    return result\n",
    "\n",
    "print(root(81,27,n=2))"
   ]
  },
  {
   "cell_type": "code",
   "execution_count": 7,
   "metadata": {},
   "outputs": [
    {
     "ename": "ValueError",
     "evalue": "Invalid Mark!",
     "output_type": "error",
     "traceback": [
      "\u001b[1;31m---------------------------------------------------------------------------\u001b[0m",
      "\u001b[1;31mValueError\u001b[0m                                Traceback (most recent call last)",
      "\u001b[1;32md:\\Data Science\\IDE\\train.ipynb Cell 10'\u001b[0m in \u001b[0;36m<cell line: 16>\u001b[1;34m()\u001b[0m\n\u001b[0;32m     <a href='vscode-notebook-cell:/d%3A/Data%20Science/IDE/train.ipynb#ch0000009?line=12'>13</a>\u001b[0m     journal[name] \u001b[39m=\u001b[39m mark\n\u001b[0;32m     <a href='vscode-notebook-cell:/d%3A/Data%20Science/IDE/train.ipynb#ch0000009?line=13'>14</a>\u001b[0m     \u001b[39mreturn\u001b[39;00m journal\n\u001b[1;32m---> <a href='vscode-notebook-cell:/d%3A/Data%20Science/IDE/train.ipynb#ch0000009?line=15'>16</a>\u001b[0m \u001b[39mprint\u001b[39m(add_mark(\u001b[39m'\u001b[39;49m\u001b[39mIvanov\u001b[39;49m\u001b[39m'\u001b[39;49m, \u001b[39m6\u001b[39;49m))\n",
      "\u001b[1;32md:\\Data Science\\IDE\\train.ipynb Cell 10'\u001b[0m in \u001b[0;36madd_mark\u001b[1;34m(name, mark, journal)\u001b[0m\n\u001b[0;32m      <a href='vscode-notebook-cell:/d%3A/Data%20Science/IDE/train.ipynb#ch0000009?line=7'>8</a>\u001b[0m \u001b[39mdef\u001b[39;00m \u001b[39madd_mark\u001b[39m(name, mark, journal\u001b[39m=\u001b[39m\u001b[39mNone\u001b[39;00m):\n\u001b[0;32m      <a href='vscode-notebook-cell:/d%3A/Data%20Science/IDE/train.ipynb#ch0000009?line=8'>9</a>\u001b[0m     \u001b[39mif\u001b[39;00m mark \u001b[39m<\u001b[39m \u001b[39m2\u001b[39m \u001b[39mor\u001b[39;00m mark \u001b[39m>\u001b[39m \u001b[39m5\u001b[39m:\n\u001b[1;32m---> <a href='vscode-notebook-cell:/d%3A/Data%20Science/IDE/train.ipynb#ch0000009?line=9'>10</a>\u001b[0m         \u001b[39mraise\u001b[39;00m \u001b[39mValueError\u001b[39;00m(\u001b[39m\"\u001b[39m\u001b[39mInvalid Mark!\u001b[39m\u001b[39m\"\u001b[39m)\n\u001b[0;32m     <a href='vscode-notebook-cell:/d%3A/Data%20Science/IDE/train.ipynb#ch0000009?line=10'>11</a>\u001b[0m     \u001b[39mif\u001b[39;00m journal \u001b[39mis\u001b[39;00m \u001b[39mNone\u001b[39;00m:\n\u001b[0;32m     <a href='vscode-notebook-cell:/d%3A/Data%20Science/IDE/train.ipynb#ch0000009?line=11'>12</a>\u001b[0m         journal \u001b[39m=\u001b[39m {}\n",
      "\u001b[1;31mValueError\u001b[0m: Invalid Mark!"
     ]
    }
   ],
   "source": [
    "#Дана функция add_mark:\n",
    "#Дополните её код таким образом, чтобы возникала ошибка ValueError с текстом \"Invalid Mark!\" при попытке \n",
    "# поставить оценку не из списка: 2, 3, 4 или 5.\n",
    "#Пример:\n",
    "#add_mark('Ivanov', 6)\n",
    "# ValueError: Invalid Mark!\n",
    "\n",
    "def add_mark(name, mark, journal=None):\n",
    "    if mark < 2 or mark > 5:\n",
    "        raise ValueError(\"Invalid Mark!\")\n",
    "    if journal is None:\n",
    "        journal = {}\n",
    "    journal[name] = mark\n",
    "    return journal\n",
    "\n",
    "print(add_mark('Ivanov', 6))"
   ]
  },
  {
   "cell_type": "code",
   "execution_count": 9,
   "metadata": {},
   "outputs": [
    {
     "name": "stdout",
     "output_type": "stream",
     "text": [
      "Shopping list: bread, butter, eggs\n"
     ]
    }
   ],
   "source": [
    "print(\"Shopping list:\", end=' ')\n",
    "print(\"bread\", \"butter\", \"eggs\", sep=', ')"
   ]
  },
  {
   "cell_type": "code",
   "execution_count": 23,
   "metadata": {},
   "outputs": [
    {
     "name": "stdout",
     "output_type": "stream",
     "text": [
      "4 5 6 4 3\n",
      "<class 'tuple'>\n",
      "средняя оценка 5 равна:4.4\n",
      "4.4\n"
     ]
    }
   ],
   "source": [
    "def mean(name, *args):\n",
    "    result = sum(args) / len(args)\n",
    "    print(*args)\n",
    "    print(type(args))\n",
    "    print(f'средняя оценка {name} равна:{result}')\n",
    "    return result\n",
    "\n",
    "print(mean(5, 4, 5, 6, 4, 3))\n"
   ]
  },
  {
   "cell_type": "code",
   "execution_count": 36,
   "metadata": {},
   "outputs": [
    {
     "name": "stdout",
     "output_type": "stream",
     "text": [
      "Ivanov: 4.666666666666667\n",
      "Petrov: 4.25\n"
     ]
    }
   ],
   "source": [
    "def mean_mark(name, *marks):\n",
    "    result = sum(marks) / len(marks)\n",
    "    # Не возвращаем результат, а печатаем его\n",
    "    print(name+':', result)\n",
    "\n",
    "list_1 = [4, 5, 5, 5, 4, 5]\n",
    "\n",
    "mean_mark(\"Ivanov\", *list_1)\n",
    "mean_mark(\"Petrov\", 5, 3, 5, 4)"
   ]
  },
  {
   "cell_type": "code",
   "execution_count": 30,
   "metadata": {},
   "outputs": [
    {
     "name": "stdout",
     "output_type": "stream",
     "text": [
      "Ivanov: 4.75\n"
     ]
    }
   ],
   "source": [
    "def mean_mark_wrong(*marks, name):\n",
    "    result = sum(marks) / len(marks)\n",
    "    print(name+':', result)\n",
    " \n",
    "mean_mark_wrong(5, 5, 5, 4, name = \"Ivanov\")"
   ]
  },
  {
   "cell_type": "code",
   "execution_count": 31,
   "metadata": {},
   "outputs": [
    {
     "name": "stdout",
     "output_type": "stream",
     "text": [
      "150\n"
     ]
    }
   ],
   "source": [
    "#Напишите функцию mult, которая считает произведение переданных в неё чисел через запятую.\n",
    "\n",
    "#Особое указание: посчитайте результат с использованием цикла for.\n",
    "\n",
    "#После создания функции воспользуйтесь следующим кодом для самопроверки:\n",
    "\n",
    "def mult(*numbers):\n",
    "    P = 1\n",
    "    for number in numbers:\n",
    "        P *= number\n",
    "    return P    \n",
    "\n",
    "print(mult(3,5,10))\n",
    "# Должно быть напечатано:\n",
    "# 150"
   ]
  },
  {
   "cell_type": "code",
   "execution_count": 39,
   "metadata": {},
   "outputs": [
    {
     "name": "stdout",
     "output_type": "stream",
     "text": [
      "Python, SQL, Machine Learning, Statistics\n"
     ]
    }
   ],
   "source": [
    "langs = ['Python', 'SQL', 'Machine Learning', 'Statistics']\n",
    "\n",
    "print(*langs, sep=(', '))"
   ]
  },
  {
   "cell_type": "code",
   "execution_count": 42,
   "metadata": {},
   "outputs": [
    {
     "name": "stdout",
     "output_type": "stream",
     "text": [
      "Kuznetsov: 4.454545454545454\n"
     ]
    }
   ],
   "source": [
    "#Создайте список оценок студента:\n",
    "#Передайте в функцию mean_mark, которая была создана в начале данного подраздела юнита, этот список, \n",
    "# а также фамилию студента Kuznetsov с помощью оператора распаковки.\n",
    "#Функция mean_mark продублирована:\n",
    "#Пример:\n",
    "# Должно быть напечатано:\n",
    "# Kuznetsov: 4.454545454545454\n",
    "\n",
    "marks = [4,5,5,5,5,3,4,4,5,4,5]\n",
    "\n",
    "def mean_mark(name, *marks):\n",
    "    result = sum(marks) / len(marks)\n",
    "    # Не возвращаем результат, а печатаем его\n",
    "    print(name+':', result)\n",
    "\n",
    "mean_mark('Kuznetsov', *marks)    "
   ]
  },
  {
   "cell_type": "code",
   "execution_count": 49,
   "metadata": {},
   "outputs": [
    {
     "name": "stdout",
     "output_type": "stream",
     "text": [
      "Wekend schedule: Wednesday - Maths, Thursday - SQL, Friday - Statistics, "
     ]
    }
   ],
   "source": [
    "def schedule(**kwargs):\n",
    "    print('Wekend schedule:', end=(' '))\n",
    "    for key in kwargs:\n",
    "        print(key, kwargs[key], sep=(' - '), end=(', '))\n",
    "    \n",
    " \n",
    "lessons = {\n",
    "    'Wednesday': 'Maths',\n",
    "    'Thursday': 'SQL',\n",
    "    'Friday': 'Statistics'\n",
    "}\n",
    "schedule(**lessons)\n",
    "schedule(monday='Python', tuesday='SQL', friday='ML')"
   ]
  },
  {
   "cell_type": "code",
   "execution_count": 57,
   "metadata": {},
   "outputs": [
    {
     "name": "stdout",
     "output_type": "stream",
     "text": [
      "(81, 43)\n",
      "1\n"
     ]
    }
   ],
   "source": [
    "def print_all(*number, key=1):\n",
    "    print(number)\n",
    "    print(key)\n",
    "\n",
    "print_all(81, 43)    "
   ]
  },
  {
   "cell_type": "code",
   "execution_count": 58,
   "metadata": {},
   "outputs": [
    {
     "name": "stdout",
     "output_type": "stream",
     "text": [
      "1, 4, 6, 8; 12, 45, 56, 190, 111; Python, Functions; "
     ]
    }
   ],
   "source": [
    "list1 = [1,4,6,8]\n",
    "list2 = [12, 45, 56, 190, 111]\n",
    "list3 = ['Python', 'Functions']\n",
    "\n",
    "how = {'sep':', ', 'end':'; '}\n",
    "print(*list1, **how)\n",
    "print(*list2, **how)\n",
    "print(*list3, **how)\n"
   ]
  },
  {
   "cell_type": "code",
   "execution_count": 3,
   "metadata": {},
   "outputs": [
    {
     "name": "stdout",
     "output_type": "stream",
     "text": [
      "4.0\n",
      "4.0\n"
     ]
    }
   ],
   "source": [
    "root = lambda num: num ** (1/2)\n",
    "\n",
    "print(root(16))\n",
    "\n",
    "root = lambda num, n=2: num ** (1/n)\n",
    "\n",
    "print(root(16))"
   ]
  },
  {
   "cell_type": "code",
   "execution_count": 5,
   "metadata": {},
   "outputs": [
    {
     "name": "stdout",
     "output_type": "stream",
     "text": [
      "odd\n"
     ]
    }
   ],
   "source": [
    "is_even = lambda num: 'is even' if num % 2 == 0 \\\n",
    "    else 'odd'\n",
    "    \n",
    "print(is_even(3))    "
   ]
  },
  {
   "cell_type": "code",
   "execution_count": 12,
   "metadata": {},
   "outputs": [
    {
     "name": "stdout",
     "output_type": "stream",
     "text": [
      "((1, 5, 6, 7), {'name': 'Ivan', 'age': 25})\n"
     ]
    }
   ],
   "source": [
    "full_func = lambda *args, **kwargs: (args, kwargs)\n",
    "\n",
    "print(full_func(1,5,6,7,name='Ivan', age=25))"
   ]
  },
  {
   "cell_type": "code",
   "execution_count": 15,
   "metadata": {},
   "outputs": [
    {
     "name": "stdout",
     "output_type": "stream",
     "text": [
      "['German', 'Ivan', 'Kim', 'Margarita', 'Simon']\n",
      "['Kim', 'Ivan', 'Simon', 'German', 'Margarita']\n"
     ]
    }
   ],
   "source": [
    "names = ['Ivan', 'Kim', 'German', 'Margarita', 'Simon']\n",
    "\n",
    "names.sort()\n",
    "print(names)\n",
    "\n",
    "names.sort(key = lambda name: len(name))\n",
    "print(names)\n"
   ]
  },
  {
   "cell_type": "code",
   "execution_count": 5,
   "metadata": {},
   "outputs": [
    {
     "name": "stdout",
     "output_type": "stream",
     "text": [
      "['cc', 'aaa', 'bbb', 'aaaaa', 'ababa']\n"
     ]
    }
   ],
   "source": [
    "new_list = ['bbb', 'ababa','aaa', 'aaaaa',  'cc']\n",
    "def get_length(name):\n",
    "    return len(name), name\n",
    "\n",
    "new_list.sort(key=get_length)\n",
    "print(new_list)    \n"
   ]
  },
  {
   "cell_type": "code",
   "execution_count": 6,
   "metadata": {},
   "outputs": [
    {
     "name": "stdout",
     "output_type": "stream",
     "text": [
      "['cc', 'aaa', 'bbb', 'aaaaa', 'ababa']\n"
     ]
    }
   ],
   "source": [
    "new_list = ['bbb', 'ababa','aaa', 'aaaaa',  'cc']\n",
    "\n",
    "new_list.sort(key=lambda name: (len(name), name))\n",
    "print(new_list)"
   ]
  },
  {
   "cell_type": "code",
   "execution_count": 7,
   "metadata": {},
   "outputs": [
    {
     "name": "stdout",
     "output_type": "stream",
     "text": [
      "5.0\n",
      "9.055385138137417\n"
     ]
    }
   ],
   "source": [
    "hyp = lambda a, b: (a**2 + b**2) **(1/2)\n",
    "print(hyp(3,4))\n",
    "print(hyp(1,9))"
   ]
  },
  {
   "cell_type": "code",
   "execution_count": 11,
   "metadata": {},
   "outputs": [
    {
     "name": "stdout",
     "output_type": "stream",
     "text": [
      "[(1, 2), (3, 4), (10, 10)]\n"
     ]
    }
   ],
   "source": [
    "#Напишите функцию sort_sides, которая сортирует переданный в неё список.\n",
    "#Входной список состоит из кортежей с парами чисел — длинами катетов прямоугольных треугольников.\n",
    "#Функция должна возвращать список, отсортированный по возрастанию длин гипотенуз треугольников.\n",
    "#Примечание: вам пригодится lambda-функция из предыдущего задания. При этом вам потребуется заменить \n",
    "# lambda от 2 аргументов на lambda от одного аргумента и обращаться к элементам кортежа уже при вычислении \n",
    "# гипотенузы.\n",
    "#Пример работы функции:\n",
    "#print(sort_sides([(3,4), (1,2), (10,10)]))\n",
    "# [(1, 2), (3, 4), (10, 10)]\n",
    "\n",
    "def sort_sides(list_in):\n",
    "    list_in.sort(key=lambda hyp: (hyp[0]**2 + hyp[1]**2) ** (1/2))\n",
    "    return list_in\n",
    "\n",
    "print(sort_sides([(3,4), (1,2), (10,10)]))\n",
    " \n",
    "         "
   ]
  },
  {
   "cell_type": "code",
   "execution_count": 16,
   "metadata": {},
   "outputs": [
    {
     "name": "stdout",
     "output_type": "stream",
     "text": [
      "None\n"
     ]
    }
   ],
   "source": [
    "#Напишите функцию get_less, которая принимает на вход через запятую список, состоящий из чисел, и ещё одно число. \n",
    "#Функция должна вернуть первое найденное число из списка, которое меньше переданного во втором аргументе. \n",
    "# Если такого числа нет, необходимо вернуть None.\n",
    "#Пример:\n",
    "l = [1, 5, 8,  10]\n",
    "#print(get_less(l, 8))\n",
    "# 1\n",
    "#print(get_less(l, 0))\n",
    "# None\n",
    "\n",
    "def get_less(list_in, num):\n",
    "    for number in list_in:\n",
    "        if number < num:\n",
    "            return number\n",
    "\n",
    "print(get_less(l, 0))        \n",
    "    "
   ]
  },
  {
   "cell_type": "code",
   "execution_count": 17,
   "metadata": {},
   "outputs": [
    {
     "name": "stdout",
     "output_type": "stream",
     "text": [
      "(31, 1, 2019)\n"
     ]
    }
   ],
   "source": [
    "#Напишите функцию split_date(date), которая принимает на вход строку, задающую дату, в формате ддммгггг \n",
    "# без разделителей. Функция должна вернуть кортеж из чисел (int): день, месяц, год.\n",
    "#Примечание. Здесь вам пригодятся срезы строк.\n",
    "#Пример:\n",
    "#print(split_date(\"31012019\"))\n",
    "# (31, 1, 2019)\n",
    "\n",
    "def split_date(date):\n",
    "    day = int(date[:2])\n",
    "    monht = int(date[2:4])\n",
    "    year = int(date[4:])\n",
    "    return day, monht, year\n",
    "\n",
    "print(split_date(\"31012019\")) \n",
    "    "
   ]
  },
  {
   "cell_type": "code",
   "execution_count": 18,
   "metadata": {},
   "outputs": [
    {
     "name": "stdout",
     "output_type": "stream",
     "text": [
      "False\n",
      "False\n",
      "True\n"
     ]
    }
   ],
   "source": [
    "#Напишите функцию is_prime(num), которая проверяет, является ли число простым.\n",
    "#Функция должна вернуть True, если число простое, иначе — False.\n",
    "#Примечание. Простым называют число, которое делится только на 1 или на само себя. Число 1 простым не \n",
    "# является.\n",
    "#Пример:\n",
    "#print(is_prime(1))\n",
    "#print(is_prime(10))\n",
    "#print(is_prime(13))\n",
    "# False\n",
    "# False\n",
    "# True\n",
    "\n",
    "def is_prime(num):\n",
    "    if num == 1:\n",
    "        return False\n",
    "    for i in range(2, num):\n",
    "        if num % i == 0:\n",
    "            return False\n",
    "    return True\n",
    "\n",
    "print(is_prime(1))\n",
    "print(is_prime(10))\n",
    "print(is_prime(13))    "
   ]
  },
  {
   "cell_type": "code",
   "execution_count": 19,
   "metadata": {},
   "outputs": [
    {
     "name": "stdout",
     "output_type": "stream",
     "text": [
      "10.0\n",
      "3.0\n"
     ]
    }
   ],
   "source": [
    "#Напишите функцию between_min_max(...), которая принимает на вход числа через запятую.\n",
    "#Функция возвращает среднее арифметическое между максимальным и минимальным значением этих чисел, \n",
    "# то есть (max + min)/2.\n",
    "#Пример:\n",
    "#print(between_min_max(10))\n",
    "#print(between_min_max(1,2,3,4,5))\n",
    "# 10.0\n",
    "# 3.0\n",
    "\n",
    "def between_min_max(*numbers):\n",
    "    max_num = max(numbers)\n",
    "    min_num = min(numbers)\n",
    "    return (max_num + min_num) / 2\n",
    "\n",
    "print(between_min_max(10))\n",
    "print(between_min_max(1,2,3,4,5))"
   ]
  },
  {
   "cell_type": "code",
   "execution_count": 20,
   "metadata": {},
   "outputs": [
    {
     "name": "stdout",
     "output_type": "stream",
     "text": [
      "Mike\n",
      "Tom\n",
      "Jerry\n"
     ]
    }
   ],
   "source": [
    "#Напишите функцию best_student(...), которая принимает на вход в виде именованных аргументов имена \n",
    "# студентов и их номера в рейтинге (нагляднее в примере).\n",
    "#Необходимо вернуть имя студента с минимальным номером по рейтингу.\n",
    "#Пример:\n",
    "#print(best_student(Tom=12, Mike=3))\n",
    "#print(best_student(Tom=12))\n",
    "#print(best_student(Tom=12, Jerry=1, Jane=2))\n",
    "# Mike\n",
    "# Tom\n",
    "# Jerry\n",
    "\n",
    "def best_student(**names):\n",
    "    min_rat = min(names.values())\n",
    "    for name in names:\n",
    "        if names[name] == min_rat:\n",
    "            return name\n",
    "\n",
    "print(best_student(Tom=12, Mike=3))\n",
    "print(best_student(Tom=12))\n",
    "print(best_student(Tom=12, Jerry=1, Jane=2))        \n",
    "    "
   ]
  },
  {
   "cell_type": "code",
   "execution_count": 2,
   "metadata": {},
   "outputs": [
    {
     "name": "stdout",
     "output_type": "stream",
     "text": [
      "no\n",
      "yes\n"
     ]
    }
   ],
   "source": [
    "#Напишите lambda-функцию is_palindrom, которая принимает на вход одну строку и проверяет, является ли \n",
    "# она палиндромом, то есть читается ли она слева-направо и справа-налево одинаково.\n",
    "#Функция возвращает 'yes', если строка является палиндромом, иначе — 'no'.\n",
    "#Примечание. Не пытайтесь схитрить — в тест включена проверка на то, что функция действительно является \n",
    "# lambda.\n",
    "#Пример:\n",
    "#print(is_palindrom('1234'))\n",
    "#print(is_palindrom('12321'))\n",
    "\n",
    "is_palindrom = lambda num: 'yes' if num == num[::-1] \\\n",
    "    else 'no'\n",
    "\n",
    "print(is_palindrom('1234'))\n",
    "print(is_palindrom('12321'))    "
   ]
  },
  {
   "cell_type": "code",
   "execution_count": 3,
   "metadata": {},
   "outputs": [
    {
     "name": "stdout",
     "output_type": "stream",
     "text": [
      "60\n"
     ]
    }
   ],
   "source": [
    "#Напишите lambda-функцию area, которая принимает на вход два числа — стороны прямоугольника — через \n",
    "# запятую и возвращает площадь прямоугольника.\n",
    "#Пример:\n",
    "#print(area(12,5))\n",
    "# 60\n",
    "\n",
    "area = lambda a, b: a * b\n",
    "\n",
    "print(area(12,5))"
   ]
  },
  {
   "cell_type": "code",
   "execution_count": 4,
   "metadata": {},
   "outputs": [
    {
     "name": "stdout",
     "output_type": "stream",
     "text": [
      "3.0\n"
     ]
    }
   ],
   "source": [
    "#Перепишите функцию between_min_max из задания 7.12 в lambda-функцию. Функция принимает на вход числа \n",
    "# через запятую и возвращает одно число — среднее между максимумом и минимумом этих чисел.\n",
    "#Пример:\n",
    "#print(between_min_max(1,2,3,4,5))\n",
    "# 3.0\n",
    "\n",
    "between_min_max = lambda *nums: (max(nums) + min(nums)) / 2\n",
    "\n",
    "print(between_min_max(1,2,3,4,5))"
   ]
  },
  {
   "cell_type": "code",
   "execution_count": 7,
   "metadata": {},
   "outputs": [
    {
     "name": "stdout",
     "output_type": "stream",
     "text": [
      "['abc', 'Acc']\n"
     ]
    }
   ],
   "source": [
    "#Напишите функцию sort_ignore_case, которая принимает на вход список и сортирует его без учёта регистра \n",
    "# по алфавиту.\n",
    "#Функция возвращает отсортированный список.\n",
    "#Пример:\n",
    "#print(sort_ignore_case(['Acc', 'abc']))\n",
    "# ['abc', 'Acc']\n",
    "\n",
    "def sort_ignore_case(list_in):\n",
    "    list_in.sort(key=lambda x: x.lower())\n",
    "    return list_in\n",
    "\n",
    "print(sort_ignore_case(['Acc', 'abc']))\n",
    "    "
   ]
  },
  {
   "cell_type": "code",
   "execution_count": 36,
   "metadata": {},
   "outputs": [
    {
     "name": "stdout",
     "output_type": "stream",
     "text": [
      "85.0\n",
      "8500\n",
      "11.764705882352942\n"
     ]
    }
   ],
   "source": [
    "#Напишите функцию exchange(usd, rub, rate), которая может принимать на вход сумму в долларах (usd), сумму \n",
    "# в рублях (rub) и обменный курс (rate). Обменный курс показывает, сколько стоит один доллар. Например, \n",
    "# курс 85.46 означает, что один доллар стоит 85 рублей и 46 копеек.\n",
    "#В функцию должно одновременно передавать два аргумента. Если передано менее двух аргументов, должна \n",
    "# возникнуть ошибка ValueError('Not enough arguments'). Если же передано три аргумента, должна возникнуть \n",
    "# ошибка: ValueError('Too many arguments').\n",
    "#Функция должна находить третий аргумент по двум переданным. Например, если переданы суммы в разных валютах, \n",
    "# должен возвращаться обменный курс. Если известны сумма в рублях и курс, должна быть получена эквивалентная\n",
    "# сумма в долларах, аналогично — если передана сумма в долларах и обменный курс.\n",
    "#Пример:\n",
    "#print(exchange(usd=100, rub=8500))\n",
    "#print(exchange(usd=100, rate=85))\n",
    "#print(exchange(rub=1000, rate=85))\n",
    "# 85.0\n",
    "# 8500\n",
    "# 11.764705882352942\n",
    "#print(exchange(rub=1000, rate=85, usd=90))\n",
    "# ValueError: Too many arguments\n",
    "#print(exchange(rub=1000))\n",
    "# ValueError: Not enough arguments\n",
    "\n",
    "def exchange(usd=None, rub=None, rate=None):\n",
    "    \n",
    "    if (usd and rub and rate) is not None:\n",
    "        raise ValueError('Too many arguments')       \n",
    "    if (usd and rub) is not None:\n",
    "        return rub / usd\n",
    "    elif (rub and rate) is not None:\n",
    "        return rub / rate\n",
    "    elif (usd and rate) is not None:\n",
    "        return usd * rate\n",
    "    else:\n",
    "        raise ValueError('Not enough arguments')\n",
    "\n",
    " \n",
    "print(exchange(usd=100, rub=8500))\n",
    "print(exchange(usd=100, rate=85))\n",
    "print(exchange(rub=1000, rate=85))\n",
    "# 85.0\n",
    "# 8500\n",
    "# 11.764705882352942\n",
    "#print(exchange(rub=1000, rate=85, usd=90))\n",
    "# ValueError: Too many arguments\n",
    "#print(exchange())\n",
    "# ValueError: Not enough arguments           "
   ]
  },
  {
   "cell_type": "code",
   "execution_count": 7,
   "metadata": {},
   "outputs": [
    {
     "name": "stdout",
     "output_type": "stream",
     "text": [
      "корень 2 степени из 16 равен: 4.0\n"
     ]
    }
   ],
   "source": [
    "def print_root(value, n=2):\n",
    "    def root(value, n=2):\n",
    "        result = value ** (1/n)\n",
    "        return result\n",
    "    rez = root(value, n=2)\n",
    "    print(f'корень {n} степени из {value} равен: {rez}')\n",
    "\n",
    "print_root(16) \n",
    "  "
   ]
  },
  {
   "cell_type": "code",
   "execution_count": 36,
   "metadata": {},
   "outputs": [
    {
     "name": "stdout",
     "output_type": "stream",
     "text": [
      "1\n"
     ]
    }
   ],
   "source": [
    "def outer_function():\n",
    "    # Создадим переменную, относящуюся к внешней функции\n",
    "    enclosing_counter = 0\n",
    "    # Внутренняя функция\n",
    "    def inner_function():\n",
    "        nonlocal enclosing_counter\n",
    "        enclosing_counter += 1\n",
    "        # Напечатаем значение enclosing_counter\n",
    "        print(enclosing_counter)\n",
    "    # Запустим внутреннюю функцию из внешней\n",
    "    inner_function()\n",
    " \n",
    "# Запустим внешнюю функцию\n",
    "out1 = outer_function()\n"
   ]
  },
  {
   "cell_type": "code",
   "execution_count": 34,
   "metadata": {},
   "outputs": [
    {
     "name": "stdout",
     "output_type": "stream",
     "text": [
      "1\n",
      "2\n",
      "3\n",
      "1\n"
     ]
    }
   ],
   "source": [
    "def counter():\n",
    "    # Начальное значение счётчика — 0\n",
    "    number = 0\n",
    "    # Функция add будет каждый раз прибавлять\n",
    "    # к счётчику 1 при запуске\n",
    "    def add():\n",
    "        # Сообщаем, что number берём из\n",
    "        # внешней функции\n",
    "        nonlocal number\n",
    "        # Увеличиваем значение счётчика на 1   \n",
    "        number += 1\n",
    "        # Возвращаем текущее число запусков счётчика\n",
    "        return number\n",
    "    # Возвращаем не результат вычислений,\n",
    "    # а непосредственно саму функцию add\n",
    "    # без круглых скобок!\n",
    "    return add\n",
    "\n",
    "counter1 = counter()\n",
    "print(counter1())\n",
    "print(counter1())\n",
    "print(counter1())\n",
    "print(counter()())"
   ]
  },
  {
   "cell_type": "code",
   "execution_count": 38,
   "metadata": {},
   "outputs": [
    {
     "name": "stdout",
     "output_type": "stream",
     "text": [
      "25\n",
      "125\n",
      "144\n"
     ]
    }
   ],
   "source": [
    "#Напишите функцию-копилку с названием saver(), которая не принимает никаких аргументов. Она должна \n",
    "# возвращать внутреннюю функцию adder(), которая принимает на вход одно число и возвращает сумму в копилке \n",
    "# после прибавления числа.\n",
    "#Изначально в новой копилке хранится 0.\n",
    "#Пример работы функции:\n",
    "#pig = saver()\n",
    "#print(pig(25))\n",
    "#print(pig(100))\n",
    "#print(pig(19))\n",
    "# 25\n",
    "# 125\n",
    "# 144\n",
    "\n",
    "def saver():\n",
    "    S = 0\n",
    "    def adder(number):\n",
    "        nonlocal S\n",
    "        S += number\n",
    "        return S\n",
    "    return adder\n",
    "\n",
    "pig = saver()\n",
    "print(pig(25))\n",
    "print(pig(100))\n",
    "print(pig(19))"
   ]
  },
  {
   "cell_type": "code",
   "execution_count": 44,
   "metadata": {},
   "outputs": [
    {
     "name": "stdout",
     "output_type": "stream",
     "text": [
      "[10, 21, 24, 12]\n",
      "[21, 24, 12]\n",
      "[24, 12]\n",
      "[12]\n",
      "[]\n",
      "60480\n"
     ]
    }
   ],
   "source": [
    "#Напишите рекурсивную функцию multiply_lst(), которая перемножает элементы заданного списка между собой\n",
    "\n",
    "def multiply_lst(list_in):\n",
    "    print(list_in)\n",
    "    if len(list_in) == 0:\n",
    "        return 1\n",
    "    return list_in[0] * multiply_lst(list_in[1:])\n",
    "\n",
    "my_lst = [10, 21, 24, 12]\n",
    "print(multiply_lst(my_lst))"
   ]
  },
  {
   "cell_type": "code",
   "execution_count": 3,
   "metadata": {},
   "outputs": [
    {
     "name": "stdout",
     "output_type": "stream",
     "text": [
      "0\n",
      "5\n",
      "13\n"
     ]
    }
   ],
   "source": [
    "#Числа Фибоначчи — пример последовательности, которую можно получить рекурсивно. Вот первые числа этой \n",
    "# последовательности: 0, 1, 1, 2, 3, 5, 8, 13 …\n",
    "#Как уже отмечалось, последовательность Фибоначчи имеет важное значение в комбинаторике и аналитике.\n",
    "#Как вы могли заметить, каждый -ый элемент — это сумма  и  элементов.\n",
    "#Можно записать рекурсивное выражение для расчёта -ого числа из последовательности Фибоначчи:\n",
    "#Напишите рекурсивную функцию fib(n), которая считает -ое число Фибоначчи. Будем считать, что \n",
    "# fib(0) = 0 и fib(1) = 1.\n",
    "#Пример работы функции:\n",
    "#print(fib(0))\n",
    "#print(fib(2))\n",
    "#print(fib(6))\n",
    "# 0\n",
    "# 1\n",
    "# 8\n",
    "\n",
    "def fib(n):\n",
    "    if n == 0:\n",
    "        return 0\n",
    "    if n == 1:\n",
    "        return 1\n",
    "    return fib(n-1) + fib(n-2)\n",
    "print(fib(0))\n",
    "print(fib(5))\n",
    "print(fib(7))"
   ]
  },
  {
   "cell_type": "code",
   "execution_count": 4,
   "metadata": {},
   "outputs": [
    {
     "name": "stdout",
     "output_type": "stream",
     "text": [
      "1\n",
      "625\n"
     ]
    }
   ],
   "source": [
    "#Напишите рекурсивную функцию power(val, n), которая возводит число в заданную целую натуральную степень \n",
    "# (или в степень 0).\n",
    "#Использовать встроенный оператор ** для возведения в степень запрещено. Пользуйтесь только умножением *. \n",
    "# Например, 2 ** 4 = (((2 * 2) * 2) * 2) = 16.\n",
    "#В качестве первого аргумента функция принимает число, в качестве второго — желаемую степень.\n",
    "#Примечание: в качестве базовых случаев для рекурсии возьмите условие, что любое число в степени 0 — 1, \n",
    "# любое число в степени 1 — это же число.\n",
    "#Пример работы функции:\n",
    "#print(power(25,0))\n",
    "#print(power(-5,4))\n",
    "# 1\n",
    "# 625\n",
    "\n",
    "def power(val, n):\n",
    "    if n == 0:\n",
    "        return 1\n",
    "    if n == 1:\n",
    "        return val\n",
    "    return val * power(val, n - 1)\n",
    "\n",
    "print(power(25,0))\n",
    "print(power(-5,4))"
   ]
  },
  {
   "cell_type": "code",
   "execution_count": 1,
   "metadata": {},
   "outputs": [
    {
     "name": "stdout",
     "output_type": "stream",
     "text": [
      "True\n",
      "False\n",
      "True\n"
     ]
    }
   ],
   "source": [
    "#Напишите функцию is_leap(year), которая принимает на вход год и возвращает True, если год високосный, \n",
    "# иначе — False.\n",
    "#Условие для проверки на високосность: год делится на 400 или год делится на 4, но не на 100. Подробнее \n",
    "# об этом можно узнать здесь.\n",
    "#Пример работы функции:\n",
    "#print(is_leap(2000))\n",
    "#print(is_leap(1900))\n",
    "#print(is_leap(2020))\n",
    "# True\n",
    "# False\n",
    "# True\n",
    "\n",
    "def is_leap(year):\n",
    "    if year % 400 == 0 or year % 4 == 0 and year % 100 != 0:\n",
    "        return True\n",
    "    return False\n",
    "\n",
    "print(is_leap(2000))\n",
    "print(is_leap(1900))\n",
    "print(is_leap(2020))"
   ]
  },
  {
   "cell_type": "code",
   "execution_count": 4,
   "metadata": {},
   "outputs": [
    {
     "name": "stdout",
     "output_type": "stream",
     "text": [
      "True\n",
      "True\n",
      "False\n",
      "False\n",
      "False\n"
     ]
    }
   ],
   "source": [
    "#При разработке пользовательского интерфейса и программ, взаимодействующих с человеком, очень важна \n",
    "# проверка # корректности введённых пользователем данных. Такую проверку в сообществе программистов принято \n",
    "# называть \n",
    "# «проверкой на дурака». Некорректно введённые данные могут «сломать» вашу программу, если она не была \n",
    "# подготовлена для их обработки.\n",
    "#Напишите функцию check_date(day, month, year), которая проверяет корректность даты рождения по следующим \n",
    "# условиям:\n",
    "#Все аргументы должны быть целыми числами (проверить с помощью type(day) is int).\n",
    "#Годом рождения не может быть год до 1900 и год после 2022.\n",
    "#Номер месяца не может быть больше 12 и меньше 1.\n",
    "#Номер дня не может быть больше 31 и меньше 1.\n",
    "#В сентябре, апреле, июне и ноябре 30 дней.\n",
    "#Если год является високосным, то в феврале (второймесяц) должно быть 29 дней, в противном случае — 28.\n",
    "#Если дата корректна, вернуть True, если же хотя бы одно из представленных условий не было выполнено — \n",
    "# False. \n",
    "#Примечание: использовать встроенные модули для работы с датами нельзя.\n",
    "#Функция check_date должна содержать в себе функцию is_leap из предыдущего задания. В теле внешней функции \n",
    "# вызывайте внутреннюю, чтобы проверить, является ли год високосным.\n",
    "#Пример работы функции:\n",
    "#print(check_date(18,9,1999))\n",
    "#print(check_date(29,2,2000))\n",
    "#print(check_date(29,2,2021))\n",
    "#print(check_date(13,13,2021))\n",
    "#print(check_date(13.5,12,2021))\n",
    "# True\n",
    "# True\n",
    "# False\n",
    "# False\n",
    "# False\n",
    "\n",
    "def check_date(day, month, year):\n",
    "    if type(day) is not int or type(month) is not int or type(year) is not int:\n",
    "        return False\n",
    "    if year < 1900 or year > 2022:\n",
    "        return False\n",
    "    if month < 1 or month > 12:\n",
    "        return False\n",
    "    if day < 1 or day > 31:\n",
    "        return False\n",
    "    if month in [9, 4, 6, 11] and day > 30:\n",
    "        return False\n",
    "    def is_leap(year):\n",
    "        if year % 400 == 0 or year % 4 == 0 and year % 100 != 0:\n",
    "            return True\n",
    "        return False\n",
    "    if month == 2:\n",
    "        if not is_leap(year) and day > 28:\n",
    "            return False\n",
    "        elif is_leap(year) and day > 29:\n",
    "            return False\n",
    "    return True\n",
    "\n",
    "print(check_date(18,9,1999))\n",
    "print(check_date(29,2,2000))\n",
    "print(check_date(29,2,2021))\n",
    "print(check_date(13,13,2021))\n",
    "print(check_date(13.5,12,2021))    \n",
    "        \n",
    "        \n",
    "        \n",
    "    "
   ]
  },
  {
   "cell_type": "code",
   "execution_count": 22,
   "metadata": {},
   "outputs": [
    {
     "name": "stdout",
     "output_type": "stream",
     "text": [
      "[('Petrova', 'Maria', 'Ivanovna', 13, 3, 2003), ('Ivanov', 'Sergej', None, 24, 9, 1995), ('Smith', 'John', None, 13, 2, 2003)]\n"
     ]
    }
   ],
   "source": [
    "#Представьте, что вы пишете приложение, предусматривающее регистрацию пользователей. Давайте реализуем \n",
    "# небольшой функционал регистрации. Не забудем также про «проверку на дурака».\n",
    "#Напишите функцию register(surname, name, date, middle_name, registry).\n",
    "#Функция имеет следующие аргументы:\n",
    "#surname — фамилия;\n",
    "#name — имя;\n",
    "#date — дата рождения (в виде кортежа из трёх чисел — день, месяц, год);\n",
    "#middle_name — отчество ;\n",
    "#registry — список, в который необходимо добавить полученные аргументы в виде кортежа в следующем порядке: \n",
    "# фамилия, имя, отчество, день, месяц, год рождения.\n",
    "#Функция должна возвращать список, в который добавила запись. \n",
    "#Указание: сделайте отчество аргументом по умолчанию со значением None, так как отчество может быть не у \n",
    "# всех регистрирующихся.\n",
    "#Также сделайте так, чтобы пустой список создавался в том случае, если он не был передан извне. Таким \n",
    "# образом, по умолчанию registry имеет значение None, и если при вызове функции список не был передан, он \n",
    "# создаётся в теле функции.\n",
    "#Наконец, проверьте дату на корректность. Если дата неправильная, верните ошибку ValueError(\"Invalid Date!\") \n",
    "# Для этого вам пригодится функция check_date из предыдущего задания.\n",
    "#Пример работы функции:\n",
    "#reg = register('Petrova', 'Maria', (13, 3, 2003), 'Ivanovna')\n",
    "#reg = register('Ivanov', 'Sergej', (24, 9, 1995), registry=reg)\n",
    "#reg = register('Smith', 'John', (13, 2, 2003), registry=reg)\n",
    "#print(reg)\n",
    "# [('Petrova', 'Maria', 'Ivanovna', 13, 3, 2003), ('Ivanov', 'Sergej', None, 24, 9, 1995), \n",
    "# ('Smith', 'John', None, 13, 2, 2003)]\n",
    "#reg = register('Ivanov', 'Sergej', (24, 13, 1995))\n",
    "# ValueError: Invalid Date!\n",
    "\n",
    "def register(surname, name, date, middle_name=None, registry=None):\n",
    "    if registry is None:\n",
    "        registry = []\n",
    "    if check_date(*date) is False:\n",
    "        raise ValueError(\"Invalid Date!\")\n",
    "    registry.append((surname, name, middle_name, date[0], date[1], date[2])) \n",
    "    return registry\n",
    "\n",
    "reg = register('Petrova', 'Maria', (13, 3, 2003), 'Ivanovna')\n",
    "reg = register('Ivanov', 'Sergej', (24, 9, 1995), registry=reg)\n",
    "reg = register('Smith', 'John', (13, 2, 2003), registry=reg)\n",
    "print(reg)        \n",
    "\n",
    "    \n",
    "    "
   ]
  },
  {
   "cell_type": "code",
   "execution_count": 33,
   "metadata": {},
   "outputs": [
    {
     "ename": "SyntaxError",
     "evalue": "invalid syntax (3051494039.py, line 7)",
     "output_type": "error",
     "traceback": [
      "\u001b[1;36m  Input \u001b[1;32mIn [33]\u001b[1;36m\u001b[0m\n\u001b[1;33m    except StopIteration('list is empty')\u001b[0m\n\u001b[1;37m                                          ^\u001b[0m\n\u001b[1;31mSyntaxError\u001b[0m\u001b[1;31m:\u001b[0m invalid syntax\n"
     ]
    }
   ],
   "source": [
    "new_list = [12, 14, 16]\n",
    "print(new_list)\n",
    "iter_list = iter(new_list)\n",
    "while True:\n",
    "    try:\n",
    "        print(next(iter_list))\n",
    "    except StopIteration:\n",
    "        print('list is empty') \n",
    "    \n"
   ]
  }
 ],
 "metadata": {
  "interpreter": {
   "hash": "a7fd31236aa68ab527ad4b64cdd8790438b846cd8842fdc21c9a4077bae45533"
  },
  "kernelspec": {
   "display_name": "Python 3.9.10 64-bit",
   "language": "python",
   "name": "python3"
  },
  "language_info": {
   "codemirror_mode": {
    "name": "ipython",
    "version": 3
   },
   "file_extension": ".py",
   "mimetype": "text/x-python",
   "name": "python",
   "nbconvert_exporter": "python",
   "pygments_lexer": "ipython3",
   "version": "3.9.10"
  },
  "orig_nbformat": 4
 },
 "nbformat": 4,
 "nbformat_minor": 2
}
